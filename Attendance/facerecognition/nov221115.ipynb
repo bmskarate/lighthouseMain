{
 "cells": [
  {
   "cell_type": "code",
   "execution_count": 5,
   "metadata": {},
   "outputs": [],
   "source": [
    "# pip install dlib"
   ]
  },
  {
   "cell_type": "code",
   "execution_count": 2,
   "metadata": {},
   "outputs": [],
   "source": [
    "# pip install cmake"
   ]
  },
  {
   "cell_type": "code",
   "execution_count": 1,
   "metadata": {},
   "outputs": [],
   "source": [
    "# pip install face_recognition"
   ]
  },
  {
   "cell_type": "code",
   "execution_count": 6,
   "metadata": {},
   "outputs": [],
   "source": [
    "# pip install opencv-python"
   ]
  },
  {
   "cell_type": "code",
   "execution_count": 3,
   "metadata": {},
   "outputs": [],
   "source": [
    "import face_recognition"
   ]
  },
  {
   "cell_type": "code",
   "execution_count": 2,
   "metadata": {},
   "outputs": [],
   "source": [
    "import cv2"
   ]
  },
  {
   "cell_type": "code",
   "execution_count": 10,
   "metadata": {},
   "outputs": [],
   "source": [
    "imgsrc = 'images/'\n",
    "img = cv2.imread(imgsrc + 'louisrossi.png')\n",
    "rgb_img = cv2.cvtColor(img, cv2.COLOR_BGR2RGB)\n",
    "img_encoding = face_recognition.face_encodings(rgb_img)[0]"
   ]
  },
  {
   "cell_type": "code",
   "execution_count": 11,
   "metadata": {},
   "outputs": [],
   "source": [
    "img2 = cv2.imread(imgsrc + 'messi.png')\n",
    "rgb_img2 = cv2.cvtColor(img2, cv2.COLOR_BGR2RGB)\n",
    "img_encoding2 = face_recognition.face_encodings(rgb_img2)[0]"
   ]
  },
  {
   "cell_type": "code",
   "execution_count": 12,
   "metadata": {},
   "outputs": [],
   "source": [
    "img3 = cv2.imread(imgsrc + 'ryanreynolds.png')\n",
    "rgb_img3 = cv2.cvtColor(img3, cv2.COLOR_BGR2RGB)\n",
    "img_encoding3 = face_recognition.face_encodings(rgb_img3)[0]"
   ]
  },
  {
   "cell_type": "code",
   "execution_count": 13,
   "metadata": {},
   "outputs": [],
   "source": [
    "img4 = cv2.imread(imgsrc + 'elonmusk.png')\n",
    "rgb_img4 = cv2.cvtColor(img4, cv2.COLOR_BGR2RGB)\n",
    "img_encoding4 = face_recognition.face_encodings(rgb_img4)[0]"
   ]
  },
  {
   "cell_type": "code",
   "execution_count": 16,
   "metadata": {},
   "outputs": [],
   "source": [
    "img5 = cv2.imread(imgsrc + 'jeffbezos.png')\n",
    "rgb_img5 = cv2.cvtColor(img5, cv2.COLOR_BGR2RGB)\n",
    "img_encoding5 = face_recognition.face_encodings(rgb_img5)[0]"
   ]
  },
  {
   "cell_type": "code",
   "execution_count": 17,
   "metadata": {},
   "outputs": [
    {
     "name": "stdout",
     "output_type": "stream",
     "text": [
      "Result:  [False]\n"
     ]
    }
   ],
   "source": [
    "# comparison louis/messi\n",
    "result = face_recognition.compare_faces([img_encoding], img_encoding2)\n",
    "print(\"Result: \", result)"
   ]
  },
  {
   "cell_type": "code",
   "execution_count": 18,
   "metadata": {},
   "outputs": [
    {
     "name": "stdout",
     "output_type": "stream",
     "text": [
      "Result:  [False]\n"
     ]
    }
   ],
   "source": [
    "# comparison jeffbezos/ryanreynolds\n",
    "result = face_recognition.compare_faces([img_encoding5], img_encoding3)\n",
    "print(\"Result: \", result)"
   ]
  },
  {
   "cell_type": "code",
   "execution_count": 20,
   "metadata": {},
   "outputs": [],
   "source": [
    "messitestimg = cv2.imread('messi2.png')\n",
    "rgb_messitestimg = cv2.cvtColor(messitestimg, cv2.COLOR_BGR2RGB)\n",
    "messi_encoding = face_recognition.face_encodings(rgb_messitestimg)[0]"
   ]
  },
  {
   "cell_type": "code",
   "execution_count": 21,
   "metadata": {},
   "outputs": [
    {
     "name": "stdout",
     "output_type": "stream",
     "text": [
      "Result:  [True]\n"
     ]
    }
   ],
   "source": [
    "# comparison messi with messi\n",
    "result = face_recognition.compare_faces([img_encoding2], messi_encoding)\n",
    "print(\"Result: \", result) "
   ]
  },
  {
   "cell_type": "code",
   "execution_count": 4,
   "metadata": {},
   "outputs": [
    {
     "data": {
      "text/plain": [
       "48"
      ]
     },
     "execution_count": 4,
     "metadata": {},
     "output_type": "execute_result"
    }
   ],
   "source": [
    "cv2.imshow('image', img)\n",
    "cv2.imshow('image2', img2)\n",
    "cv2.waitKey(0)"
   ]
  },
  {
   "cell_type": "code",
   "execution_count": null,
   "metadata": {},
   "outputs": [],
   "source": []
  }
 ],
 "metadata": {
  "interpreter": {
   "hash": "555fd3b3cc969dfddc2664a34f541b3b945cbcb8e856ed2f111c8fdb9364be0c"
  },
  "kernelspec": {
   "display_name": "Python 3.8.12 64-bit ('attendance': conda)",
   "language": "python",
   "name": "python3"
  },
  "language_info": {
   "codemirror_mode": {
    "name": "ipython",
    "version": 3
   },
   "file_extension": ".py",
   "mimetype": "text/x-python",
   "name": "python",
   "nbconvert_exporter": "python",
   "pygments_lexer": "ipython3",
   "version": "3.8.12"
  },
  "orig_nbformat": 4
 },
 "nbformat": 4,
 "nbformat_minor": 2
}

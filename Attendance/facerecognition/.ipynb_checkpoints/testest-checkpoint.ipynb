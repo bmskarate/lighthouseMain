{
 "cells": [
  {
   "cell_type": "code",
   "execution_count": 1,
   "id": "ed67fb66",
   "metadata": {},
   "outputs": [],
   "source": [
    "# pip install opencv-python\n",
    "# pip install face_recognition"
   ]
  },
  {
   "cell_type": "code",
   "execution_count": 2,
   "id": "259baffc",
   "metadata": {},
   "outputs": [],
   "source": [
    "import cv2"
   ]
  },
  {
   "cell_type": "code",
   "execution_count": 13,
   "id": "271ea3bc",
   "metadata": {},
   "outputs": [],
   "source": [
    "img_folder = 'images/'\n",
    "img = cv2.imread('louisrossi.png')"
   ]
  },
  {
   "cell_type": "code",
   "execution_count": null,
   "id": "b7d9db64",
   "metadata": {},
   "outputs": [],
   "source": [
    "cv2.imshow('img', img)\n",
    "cv2.waitKey(0)"
   ]
  },
  {
   "cell_type": "code",
   "execution_count": null,
   "id": "93a18856",
   "metadata": {},
   "outputs": [],
   "source": []
  },
  {
   "cell_type": "code",
   "execution_count": null,
   "id": "3287fa62",
   "metadata": {},
   "outputs": [],
   "source": []
  }
 ],
 "metadata": {
  "kernelspec": {
   "display_name": "Python 3.6.13 64-bit ('attendance': conda)",
   "language": "python",
   "name": "python3613jvsc74a57bd0555fd3b3cc969dfddc2664a34f541b3b945cbcb8e856ed2f111c8fdb9364be0c"
  },
  "language_info": {
   "codemirror_mode": {
    "name": "ipython",
    "version": 3
   },
   "file_extension": ".py",
   "mimetype": "text/x-python",
   "name": "python",
   "nbconvert_exporter": "python",
   "pygments_lexer": "ipython3",
   "version": "3.6.13"
  }
 },
 "nbformat": 4,
 "nbformat_minor": 5
}

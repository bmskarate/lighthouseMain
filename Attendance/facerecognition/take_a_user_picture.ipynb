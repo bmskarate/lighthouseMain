{
 "cells": [
  {
   "cell_type": "code",
   "execution_count": 1,
   "metadata": {},
   "outputs": [],
   "source": [
    "#This function is adapted from user derricw's answer on from Stack Overflow\n",
    "#https://stackoverflow.com/questions/34588464/python-how-to-capture-image-from-webcam-on-click-using-opencv/34588758#34588758\n",
    "\n",
    "#The function takes in a file name and then takes a picture of the user while\n",
    "#displaying a camera. Once the photo is taken (by pressing the space bar) the\n",
    "#photo is saved as the file name given as a parameter of the function. The\n",
    "#escape key closes the camera window. If the escape key is pressed before the\n",
    "#picture is taken then no new file is created.\n",
    "\n",
    "import cv2\n",
    "\n",
    "def take_a_user_picture(file_name):\n",
    "    \n",
    "    #This line opens the primary camera \"0\" on the device to take a picture\n",
    "    cam = cv2.VideoCapture(0)\n",
    "    cv2.startWindowThread()\n",
    "    cv2.namedWindow(\"Input Photo\")\n",
    "    img_counter = 0\n",
    "\n",
    "    while True:\n",
    "        \n",
    "        #Each photo taken with the .read() function returns a threshold value\n",
    "        #'retval' or 'ret' and the frame itself. The threshold value here is\n",
    "        #the optimal value of pixel intensity that determines if the pixel\n",
    "        #intensity will be itself or a set value (i.e. 0 {black on grayscale}\n",
    "        #to 255 {white on grayscale}).\n",
    "        ret, frame = cam.read()\n",
    "        \n",
    "        #Displays the webcam feed on the screen\n",
    "        cv2.imshow(\"Input Photo\", frame)\n",
    "        if not ret:\n",
    "            break\n",
    "        k = cv2.waitKey(1)\n",
    "\n",
    "        if k%256 == 27:\n",
    "            # ESC pressed\n",
    "            #K in multiples of 27 means the escape key was pressed\n",
    "            break\n",
    "        elif k%256 == 32:\n",
    "            # SPACE pressed\n",
    "            #K in multiples of 32 means the space bar was pressed\n",
    "            img_name = \"image_data/user_images/{}\".format(file_name)\n",
    "            cv2.imwrite(img_name, frame)\n",
    "            img_counter += 1\n",
    "            break\n",
    "    #Closes the camera and window\n",
    "    cam.release()\n",
    "    cv2.destroyAllWindows()"
   ]
  },
  {
   "cell_type": "code",
   "execution_count": null,
   "metadata": {},
   "outputs": [],
   "source": []
  }
 ],
 "metadata": {
  "interpreter": {
   "hash": "555fd3b3cc969dfddc2664a34f541b3b945cbcb8e856ed2f111c8fdb9364be0c"
  },
  "kernelspec": {
   "display_name": "Python 3.6.13 64-bit ('attendance': conda)",
   "language": "python",
   "name": "python3"
  },
  "language_info": {
   "codemirror_mode": {
    "name": "ipython",
    "version": 3
   },
   "file_extension": ".py",
   "mimetype": "text/x-python",
   "name": "python",
   "nbconvert_exporter": "python",
   "pygments_lexer": "ipython3",
   "version": "3.6.13"
  },
  "orig_nbformat": 4
 },
 "nbformat": 4,
 "nbformat_minor": 2
}

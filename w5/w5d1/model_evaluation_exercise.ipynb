{
 "cells": [
  {
   "cell_type": "markdown",
   "metadata": {},
   "source": [
    "# Model Evaluation Exercise\n",
    "\n",
    "## Regression evaluation"
   ]
  },
  {
   "cell_type": "code",
   "execution_count": 1,
   "metadata": {
    "ExecuteTime": {
     "end_time": "2020-04-27T07:41:07.040365Z",
     "start_time": "2020-04-27T07:41:07.036332Z"
    }
   },
   "outputs": [],
   "source": [
    "# import numpy\n",
    "import numpy as np"
   ]
  },
  {
   "cell_type": "code",
   "execution_count": 2,
   "metadata": {},
   "outputs": [
    {
     "name": "stdout",
     "output_type": "stream",
     "text": [
      "(1000, 10)\n",
      "(1000,)\n"
     ]
    }
   ],
   "source": [
    "from sklearn.datasets import make_regression\n",
    "\n",
    "X,y = make_regression(n_features=10, n_samples=1000, noise=10)\n",
    "\n",
    "print(X.shape)\n",
    "print(y.shape)"
   ]
  },
  {
   "cell_type": "code",
   "execution_count": 3,
   "metadata": {},
   "outputs": [],
   "source": [
    "from sklearn.linear_model import LinearRegression, Ridge"
   ]
  },
  {
   "cell_type": "code",
   "execution_count": 4,
   "metadata": {
    "ExecuteTime": {
     "end_time": "2020-04-27T07:41:07.456392Z",
     "start_time": "2020-04-27T07:41:07.444403Z"
    }
   },
   "outputs": [],
   "source": [
    "# creating linear regression\n",
    "lr = LinearRegression()\n",
    "lr.fit(X,y)\n",
    "y_lr = lr.predict(X)"
   ]
  },
  {
   "cell_type": "code",
   "execution_count": 5,
   "metadata": {},
   "outputs": [],
   "source": [
    "# creating ridge regression\n",
    "rr = Ridge(alpha=0.1)\n",
    "rr.fit(X,y)\n",
    "y_rr = rr.predict(X)"
   ]
  },
  {
   "cell_type": "markdown",
   "metadata": {},
   "source": [
    "_________________________\n",
    "## Mean Absolute Error (MAE)\n",
    "\n",
    "\n",
    "**Write the definition to the mean absolute error (MAE) below and how to interpret it?**\n",
    "> *The MAE refers too....*"
   ]
  },
  {
   "cell_type": "markdown",
   "metadata": {},
   "source": [
    "* import **mean_absolute_error** from sklearn"
   ]
  },
  {
   "cell_type": "code",
   "execution_count": 6,
   "metadata": {
    "ExecuteTime": {
     "end_time": "2020-04-27T07:41:08.798377Z",
     "start_time": "2020-04-27T07:41:07.948605Z"
    }
   },
   "outputs": [],
   "source": [
    "from sklearn.metrics import mean_absolute_error"
   ]
  },
  {
   "cell_type": "markdown",
   "metadata": {},
   "source": [
    "* compute MAE"
   ]
  },
  {
   "cell_type": "code",
   "execution_count": 7,
   "metadata": {
    "ExecuteTime": {
     "end_time": "2020-04-27T07:41:08.844975Z",
     "start_time": "2020-04-27T07:41:08.840746Z"
    }
   },
   "outputs": [
    {
     "name": "stdout",
     "output_type": "stream",
     "text": [
      "7.642085514488937\n",
      "7.6421227271627\n"
     ]
    }
   ],
   "source": [
    "MAE_lr = mean_absolute_error(y, y_lr)\n",
    "MAE_rr = mean_absolute_error(y, y_rr)\n",
    "\n",
    "print(MAE_lr) # Linear regression\n",
    "print(MAE_rr) # ridge regression"
   ]
  },
  {
   "cell_type": "markdown",
   "metadata": {},
   "source": [
    "* According to MAE, what is the better model?"
   ]
  },
  {
   "cell_type": "code",
   "execution_count": 8,
   "metadata": {
    "ExecuteTime": {
     "end_time": "2020-04-27T07:41:08.919038Z",
     "start_time": "2020-04-27T07:41:08.909238Z"
    }
   },
   "outputs": [
    {
     "data": {
      "text/plain": [
       "-3.721267376377568e-05"
      ]
     },
     "execution_count": 8,
     "metadata": {},
     "output_type": "execute_result"
    }
   ],
   "source": [
    "MAE_lr - MAE_rr # They're not far off..."
   ]
  },
  {
   "cell_type": "markdown",
   "metadata": {},
   "source": [
    "____________________________________\n",
    "## R2 - Coefficient of Determination\n",
    "\n",
    "**Write the definition to the R2 score below and how to interpret it?**\n",
    "> *The R2 refers too....*"
   ]
  },
  {
   "cell_type": "markdown",
   "metadata": {},
   "source": [
    "* import **r2_score** from sklearn"
   ]
  },
  {
   "cell_type": "code",
   "execution_count": 9,
   "metadata": {
    "ExecuteTime": {
     "end_time": "2020-04-27T07:41:09.361905Z",
     "start_time": "2020-04-27T07:41:09.357486Z"
    }
   },
   "outputs": [],
   "source": [
    "from sklearn.metrics import r2_score"
   ]
  },
  {
   "cell_type": "markdown",
   "metadata": {},
   "source": [
    "* compute R2"
   ]
  },
  {
   "cell_type": "code",
   "execution_count": 10,
   "metadata": {
    "ExecuteTime": {
     "end_time": "2020-04-27T07:41:09.700385Z",
     "start_time": "2020-04-27T07:41:09.692404Z"
    }
   },
   "outputs": [
    {
     "name": "stdout",
     "output_type": "stream",
     "text": [
      "0.9963629469980768\n",
      "0.9963629369006468\n"
     ]
    }
   ],
   "source": [
    "R2_lr = r2_score(y, y_lr, multioutput='variance_weighted')\n",
    "R2_rr = r2_score(y, y_rr, multioutput='variance_weighted')\n",
    "print(R2_lr)\n",
    "print(R2_rr)"
   ]
  },
  {
   "cell_type": "markdown",
   "metadata": {},
   "source": [
    "* According to R2, what is the better model?"
   ]
  },
  {
   "cell_type": "code",
   "execution_count": 11,
   "metadata": {
    "ExecuteTime": {
     "end_time": "2020-04-27T07:41:10.024072Z",
     "start_time": "2020-04-27T07:41:10.020277Z"
    }
   },
   "outputs": [
    {
     "data": {
      "text/plain": [
       "1.0097430003241925e-08"
      ]
     },
     "execution_count": 11,
     "metadata": {},
     "output_type": "execute_result"
    }
   ],
   "source": [
    "R2_lr - R2_rr"
   ]
  },
  {
   "cell_type": "markdown",
   "metadata": {},
   "source": [
    "* (Stretch) use predictions from linear regression and compute adjusted R2"
   ]
  },
  {
   "cell_type": "code",
   "execution_count": null,
   "metadata": {
    "ExecuteTime": {
     "end_time": "2020-04-27T07:41:10.384626Z",
     "start_time": "2020-04-27T07:41:10.369223Z"
    }
   },
   "outputs": [],
   "source": []
  },
  {
   "cell_type": "markdown",
   "metadata": {},
   "source": [
    "________________________________\n",
    "## Classification evaluation"
   ]
  },
  {
   "cell_type": "code",
   "execution_count": 12,
   "metadata": {
    "ExecuteTime": {
     "end_time": "2020-04-27T07:41:11.344672Z",
     "start_time": "2020-04-27T07:41:11.339435Z"
    }
   },
   "outputs": [
    {
     "name": "stdout",
     "output_type": "stream",
     "text": [
      "(1000, 10)\n",
      "(1000,)\n"
     ]
    }
   ],
   "source": [
    "from sklearn.datasets import make_classification\n",
    "\n",
    "X,y = make_classification(n_features=10, n_samples=1000, n_classes=2)\n",
    "\n",
    "print(X.shape)\n",
    "print(y.shape)"
   ]
  },
  {
   "cell_type": "code",
   "execution_count": 13,
   "metadata": {},
   "outputs": [],
   "source": [
    "from sklearn.linear_model import LogisticRegression, RidgeClassifier"
   ]
  },
  {
   "cell_type": "code",
   "execution_count": 14,
   "metadata": {},
   "outputs": [],
   "source": [
    "# creating linear regression\n",
    "lr = LogisticRegression()\n",
    "lr.fit(X,y)\n",
    "y_lr = lr.predict(X)"
   ]
  },
  {
   "cell_type": "code",
   "execution_count": 15,
   "metadata": {},
   "outputs": [
    {
     "data": {
      "text/plain": [
       "(1000,)"
      ]
     },
     "execution_count": 15,
     "metadata": {},
     "output_type": "execute_result"
    }
   ],
   "source": [
    "y_lr.shape"
   ]
  },
  {
   "cell_type": "code",
   "execution_count": 16,
   "metadata": {},
   "outputs": [],
   "source": [
    "# creating ridge regression\n",
    "rr = RidgeClassifier(alpha=0.1)\n",
    "rr.fit(X,y)\n",
    "y_rr = rr.predict(X)"
   ]
  },
  {
   "cell_type": "code",
   "execution_count": null,
   "metadata": {},
   "outputs": [],
   "source": []
  },
  {
   "cell_type": "markdown",
   "metadata": {},
   "source": [
    "## Precision score\n",
    "\n",
    "**Write the definition to the Precision score below and how to interpret it?**\n",
    "> *The Precision score refers too....*"
   ]
  },
  {
   "cell_type": "markdown",
   "metadata": {},
   "source": [
    "* import **precision_score** from sklearn"
   ]
  },
  {
   "cell_type": "code",
   "execution_count": 17,
   "metadata": {
    "ExecuteTime": {
     "end_time": "2020-04-27T07:41:12.147881Z",
     "start_time": "2020-04-27T07:41:12.143399Z"
    }
   },
   "outputs": [],
   "source": [
    "from sklearn.metrics import precision_score"
   ]
  },
  {
   "cell_type": "markdown",
   "metadata": {},
   "source": [
    "* compute precision"
   ]
  },
  {
   "cell_type": "code",
   "execution_count": 18,
   "metadata": {
    "ExecuteTime": {
     "end_time": "2020-04-27T07:41:12.631435Z",
     "start_time": "2020-04-27T07:41:12.625996Z"
    }
   },
   "outputs": [],
   "source": [
    "PREC_lr = precision_score(y, y_lr, average='macro')\n",
    "PREC_rr = precision_score(y, y_rr, average='macro')"
   ]
  },
  {
   "cell_type": "markdown",
   "metadata": {},
   "source": [
    "* print precision"
   ]
  },
  {
   "cell_type": "code",
   "execution_count": 19,
   "metadata": {
    "ExecuteTime": {
     "end_time": "2020-04-27T07:41:13.071881Z",
     "start_time": "2020-04-27T07:41:13.064584Z"
    }
   },
   "outputs": [
    {
     "name": "stdout",
     "output_type": "stream",
     "text": [
      "0.9673159055521532 0.9699945083797314\n"
     ]
    }
   ],
   "source": [
    "print(PREC_lr, PREC_rr)"
   ]
  },
  {
   "cell_type": "markdown",
   "metadata": {},
   "source": [
    "## Recall score\n",
    "\n",
    "**Write the definition to the Recall score below and how to interpret it?**\n",
    "> *The Recall score refers too....*"
   ]
  },
  {
   "cell_type": "markdown",
   "metadata": {},
   "source": [
    "* import **recal_score** from sklearn"
   ]
  },
  {
   "cell_type": "code",
   "execution_count": 20,
   "metadata": {
    "ExecuteTime": {
     "end_time": "2020-04-27T07:41:13.908070Z",
     "start_time": "2020-04-27T07:41:13.903483Z"
    }
   },
   "outputs": [],
   "source": [
    "from sklearn.metrics import recall_score"
   ]
  },
  {
   "cell_type": "markdown",
   "metadata": {},
   "source": [
    "* compute recall"
   ]
  },
  {
   "cell_type": "code",
   "execution_count": 21,
   "metadata": {
    "ExecuteTime": {
     "end_time": "2020-04-27T07:41:14.264301Z",
     "start_time": "2020-04-27T07:41:14.258735Z"
    }
   },
   "outputs": [],
   "source": [
    "recall_lr = recall_score(y, y_lr, average='macro')\n",
    "recall_rr = recall_score(y, y_rr, average='macro')"
   ]
  },
  {
   "cell_type": "markdown",
   "metadata": {},
   "source": [
    "* print recall"
   ]
  },
  {
   "cell_type": "code",
   "execution_count": 22,
   "metadata": {
    "ExecuteTime": {
     "end_time": "2020-04-27T07:41:14.590250Z",
     "start_time": "2020-04-27T07:41:14.586420Z"
    }
   },
   "outputs": [
    {
     "name": "stdout",
     "output_type": "stream",
     "text": [
      "0.967\n",
      "0.969\n"
     ]
    }
   ],
   "source": [
    "print(recall_lr)\n",
    "print(recall_rr)"
   ]
  },
  {
   "cell_type": "markdown",
   "metadata": {},
   "source": [
    "## ROC curve\n",
    "\n",
    "**What is the ROC curve? How do you interpret it?**\n",
    "> *The ROC curve refers too....*"
   ]
  },
  {
   "cell_type": "markdown",
   "metadata": {},
   "source": [
    "* import **roc_curve** from sklearn"
   ]
  },
  {
   "cell_type": "code",
   "execution_count": 23,
   "metadata": {
    "ExecuteTime": {
     "end_time": "2020-04-27T07:41:15.347036Z",
     "start_time": "2020-04-27T07:41:15.343389Z"
    }
   },
   "outputs": [],
   "source": [
    "from sklearn.metrics import roc_curve"
   ]
  },
  {
   "cell_type": "markdown",
   "metadata": {},
   "source": [
    "* compute and store ROC curve values in fpr, tpr, thresholds variables"
   ]
  },
  {
   "cell_type": "code",
   "execution_count": 24,
   "metadata": {},
   "outputs": [
    {
     "data": {
      "text/plain": [
       "(1000,)"
      ]
     },
     "execution_count": 24,
     "metadata": {},
     "output_type": "execute_result"
    }
   ],
   "source": [
    "y.shape"
   ]
  },
  {
   "cell_type": "code",
   "execution_count": 37,
   "metadata": {
    "ExecuteTime": {
     "end_time": "2020-04-27T07:41:15.801469Z",
     "start_time": "2020-04-27T07:41:15.796150Z"
    }
   },
   "outputs": [],
   "source": [
    "import numpy as np\n",
    "from sklearn import metrics\n",
    "fpr_lr, tpr_lr, thresholds_lr = metrics.roc_curve(y, y_lr, pos_label=1)\n",
    "fpr_rr, tpr_rr, thresholds_rr = metrics.roc_curve(y, y_rr, pos_label=1)"
   ]
  },
  {
   "cell_type": "code",
   "execution_count": 38,
   "metadata": {},
   "outputs": [
    {
     "name": "stdout",
     "output_type": "stream",
     "text": [
      "[0.   0.02 1.  ]\n",
      "[0.    0.954 1.   ]\n",
      "[2 1 0]\n",
      "[0.    0.008 1.   ]\n",
      "[0.    0.946 1.   ]\n",
      "[2 1 0]\n"
     ]
    }
   ],
   "source": [
    "print(fpr_lr)\n",
    "print(tpr_lr)\n",
    "print(thresholds_lr)\n",
    "print(fpr_rr)\n",
    "print(tpr_rr)\n",
    "print(thresholds_rr)"
   ]
  },
  {
   "cell_type": "markdown",
   "metadata": {},
   "source": [
    "* import matplotlib "
   ]
  },
  {
   "cell_type": "code",
   "execution_count": 41,
   "metadata": {
    "ExecuteTime": {
     "end_time": "2020-04-27T07:41:16.378369Z",
     "start_time": "2020-04-27T07:41:16.115532Z"
    }
   },
   "outputs": [],
   "source": [
    "import matplotlib.pyplot as plt"
   ]
  },
  {
   "cell_type": "markdown",
   "metadata": {},
   "source": [
    "* plot ROC"
   ]
  },
  {
   "cell_type": "code",
   "execution_count": 42,
   "metadata": {
    "ExecuteTime": {
     "end_time": "2020-04-27T07:41:16.834163Z",
     "start_time": "2020-04-27T07:41:16.480665Z"
    }
   },
   "outputs": [
    {
     "data": {
      "image/png": "[encoded data removed]",
      "text/plain": [
       "<Figure size 432x288 with 1 Axes>"
      ]
     },
     "metadata": {
      "needs_background": "light"
     },
     "output_type": "display_data"
    }
   ],
   "source": [
    "from sklearn import datasets, metrics, model_selection, svm\n",
    "# X, y = datasets.make_classification(random_state=0)\n",
    "X_train, X_test, y_train, y_test = model_selection.train_test_split(X, \n",
    "                                                                    y, \n",
    "                                                                    random_state=0)\n",
    "clf = svm.SVC(random_state=0)\n",
    "clf.fit(X_train, y_train)\n",
    "# SVC(random_state=0)\n",
    "metrics.plot_roc_curve(clf, X_test, y_test) \n",
    "plt.show()"
   ]
  },
  {
   "cell_type": "markdown",
   "metadata": {},
   "source": [
    "## Log-Loss score\n",
    "**What is the Log-Loss score? How do you interpret it?**\n",
    "> *The Log-Loss score refers too...*"
   ]
  },
  {
   "cell_type": "markdown",
   "metadata": {},
   "source": [
    "* import **log_loss** from sklearn"
   ]
  },
  {
   "cell_type": "code",
   "execution_count": 43,
   "metadata": {
    "ExecuteTime": {
     "end_time": "2020-04-27T07:41:17.071277Z",
     "start_time": "2020-04-27T07:41:17.063336Z"
    }
   },
   "outputs": [],
   "source": [
    "from sklearn.metrics import log_loss"
   ]
  },
  {
   "cell_type": "markdown",
   "metadata": {},
   "source": [
    "* compute log_loss"
   ]
  },
  {
   "cell_type": "code",
   "execution_count": 45,
   "metadata": {
    "ExecuteTime": {
     "end_time": "2020-04-27T07:41:18.251211Z",
     "start_time": "2020-04-27T07:41:18.244484Z"
    }
   },
   "outputs": [],
   "source": [
    "lloss_lr = log_loss(y, y_lr)\n",
    "lloss_rr = log_loss(y, y_rr)"
   ]
  },
  {
   "cell_type": "markdown",
   "metadata": {},
   "source": [
    "* print log_loss"
   ]
  },
  {
   "cell_type": "code",
   "execution_count": 46,
   "metadata": {
    "ExecuteTime": {
     "end_time": "2020-04-27T07:41:18.588367Z",
     "start_time": "2020-04-27T07:41:18.579532Z"
    }
   },
   "outputs": [
    {
     "name": "stdout",
     "output_type": "stream",
     "text": [
      "1.1397876170063552\n",
      "1.0707052666319528\n"
     ]
    }
   ],
   "source": [
    "print(lloss_lr)\n",
    "print(lloss_rr)"
   ]
  },
  {
   "cell_type": "markdown",
   "metadata": {},
   "source": [
    "#### Q: According to metrics above, which one is the better model?"
   ]
  },
  {
   "cell_type": "code",
   "execution_count": 47,
   "metadata": {},
   "outputs": [
    {
     "data": {
      "text/plain": [
       "0.06908235037440247"
      ]
     },
     "execution_count": 47,
     "metadata": {},
     "output_type": "execute_result"
    }
   ],
   "source": [
    "lloss_lr - lloss_rr # pretty close, but LR"
   ]
  },
  {
   "cell_type": "markdown",
   "metadata": {},
   "source": [
    "# stretch, plotting log_loss"
   ]
  },
  {
   "cell_type": "code",
   "execution_count": 52,
   "metadata": {},
   "outputs": [
    {
     "data": {
      "image/png": "[encoded data removed]",
      "text/plain": [
       "<Figure size 432x288 with 1 Axes>"
      ]
     },
     "metadata": {
      "needs_background": "light"
     },
     "output_type": "display_data"
    }
   ],
   "source": [
    "# plot impact of logloss for single forecasts\n",
    "from sklearn.metrics import log_loss\n",
    "from matplotlib import pyplot\n",
    "from numpy import array\n",
    "# predictions as 0 to 1 in 0.01 increments\n",
    "yhat = [x*0.01 for x in range(0, 101)]\n",
    "# evaluate predictions for a 0 true value\n",
    "losses_0 = [log_loss([0], [x], labels=[0,1]) for x in yhat]\n",
    "# evaluate predictions for a 1 true value\n",
    "losses_1 = [log_loss([1], [x], labels=[0,1]) for x in yhat]\n",
    "# plot input to loss\n",
    "pyplot.plot(yhat, losses_0, label='true=0')\n",
    "pyplot.plot(yhat, losses_1, label='true=1')\n",
    "pyplot.legend()\n",
    "pyplot.show()"
   ]
  },
  {
   "cell_type": "code",
   "execution_count": 53,
   "metadata": {},
   "outputs": [
    {
     "data": {
      "image/png": "[encoded data removed]",
      "text/plain": [
       "<Figure size 432x288 with 1 Axes>"
      ]
     },
     "metadata": {
      "needs_background": "light"
     },
     "output_type": "display_data"
    }
   ],
   "source": [
    "# plot impact of logloss with balanced datasets\n",
    "from sklearn.metrics import log_loss\n",
    "from matplotlib import pyplot\n",
    "from numpy import array\n",
    "# define a balanced dataset\n",
    "testy = [0 for x in range(50)] + [1 for x in range(50)]\n",
    "# loss for predicting different fixed probability values\n",
    "predictions = [0.0, 0.1, 0.2, 0.3, 0.4, 0.5, 0.6, 0.7, 0.8, 0.9, 1.0]\n",
    "losses = [log_loss(testy, [y for x in range(len(testy))]) for y in predictions]\n",
    "# plot predictions vs loss\n",
    "pyplot.plot(predictions, losses)\n",
    "pyplot.show()"
   ]
  },
  {
   "cell_type": "code",
   "execution_count": 54,
   "metadata": {},
   "outputs": [
    {
     "data": {
      "image/png": "[encoded data removed]",
      "text/plain": [
       "<Figure size 432x288 with 1 Axes>"
      ]
     },
     "metadata": {
      "needs_background": "light"
     },
     "output_type": "display_data"
    }
   ],
   "source": [
    "# plot impact of logloss with imbalanced datasets\n",
    "from sklearn.metrics import log_loss\n",
    "from matplotlib import pyplot\n",
    "from numpy import array\n",
    "# define an imbalanced dataset\n",
    "testy = [0 for x in range(100)] + [1 for x in range(10)]\n",
    "# loss for predicting different fixed probability values\n",
    "predictions = [0.0, 0.1, 0.2, 0.3, 0.4, 0.5, 0.6, 0.7, 0.8, 0.9, 1.0]\n",
    "losses = [log_loss(testy, [y for x in range(len(testy))]) for y in predictions]\n",
    "# plot predictions vs loss\n",
    "pyplot.plot(predictions, losses)\n",
    "pyplot.show()"
   ]
  },
  {
   "cell_type": "markdown",
   "metadata": {},
   "source": [
    "# brier score (stretch)"
   ]
  },
  {
   "cell_type": "code",
   "execution_count": 56,
   "metadata": {},
   "outputs": [
    {
     "data": {
      "image/png": "[encoded data removed]",
      "text/plain": [
       "<Figure size 432x288 with 1 Axes>"
      ]
     },
     "metadata": {
      "needs_background": "light"
     },
     "output_type": "display_data"
    }
   ],
   "source": [
    "# plot impact of brier for single forecasts\n",
    "from sklearn.metrics import brier_score_loss\n",
    "from matplotlib import pyplot\n",
    "from numpy import array\n",
    "# predictions as 0 to 1 in 0.01 increments\n",
    "yhat = [x*0.01 for x in range(0, 101)]\n",
    "# evaluate predictions for a 1 true value\n",
    "losses = [brier_score_loss([1], [x], pos_label=[1]) for x in yhat]\n",
    "# plot input to loss\n",
    "pyplot.plot(yhat, losses)\n",
    "pyplot.show()"
   ]
  },
  {
   "cell_type": "code",
   "execution_count": 57,
   "metadata": {},
   "outputs": [
    {
     "data": {
      "image/png": "[encoded data removed]",
      "text/plain": [
       "<Figure size 432x288 with 1 Axes>"
      ]
     },
     "metadata": {
      "needs_background": "light"
     },
     "output_type": "display_data"
    }
   ],
   "source": [
    "# plot impact of brier score with balanced datasets\n",
    "from sklearn.metrics import brier_score_loss\n",
    "from matplotlib import pyplot\n",
    "from numpy import array\n",
    "# define a balanced dataset\n",
    "testy = [0 for x in range(50)] + [1 for x in range(50)]\n",
    "# brier score for predicting different fixed probability values\n",
    "predictions = [0.0, 0.1, 0.2, 0.3, 0.4, 0.5, 0.6, 0.7, 0.8, 0.9, 1.0]\n",
    "losses = [brier_score_loss(testy, [y for x in range(len(testy))]) for y in predictions]\n",
    "# plot predictions vs loss\n",
    "pyplot.plot(predictions, losses)\n",
    "pyplot.show()"
   ]
  },
  {
   "cell_type": "code",
   "execution_count": 58,
   "metadata": {},
   "outputs": [
    {
     "data": {
      "image/png": "[encoded data removed]",
      "text/plain": [
       "<Figure size 432x288 with 1 Axes>"
      ]
     },
     "metadata": {
      "needs_background": "light"
     },
     "output_type": "display_data"
    }
   ],
   "source": [
    "# plot impact of brier score with imbalanced datasets\n",
    "from sklearn.metrics import brier_score_loss\n",
    "from matplotlib import pyplot\n",
    "from numpy import array\n",
    "# define an imbalanced dataset\n",
    "testy = [0 for x in range(100)] + [1 for x in range(10)]\n",
    "# brier score for predicting different fixed probability values\n",
    "predictions = [0.0, 0.1, 0.2, 0.3, 0.4, 0.5, 0.6, 0.7, 0.8, 0.9, 1.0]\n",
    "losses = [brier_score_loss(testy, [y for x in range(len(testy))]) for y in predictions]\n",
    "# plot predictions vs loss\n",
    "pyplot.plot(predictions, losses)\n",
    "pyplot.show()"
   ]
  },
  {
   "cell_type": "code",
   "execution_count": 59,
   "metadata": {},
   "outputs": [
    {
     "data": {
      "image/png": "[encoded data removed]",
      "text/plain": [
       "<Figure size 432x288 with 1 Axes>"
      ]
     },
     "metadata": {
      "needs_background": "light"
     },
     "output_type": "display_data"
    }
   ],
   "source": [
    "# roc curve\n",
    "from sklearn.datasets import make_classification\n",
    "from sklearn.linear_model import LogisticRegression\n",
    "from sklearn.model_selection import train_test_split\n",
    "from sklearn.metrics import roc_curve\n",
    "from matplotlib import pyplot\n",
    "# generate 2 class dataset\n",
    "X, y = make_classification(n_samples=1000, n_classes=2, random_state=1)\n",
    "# split into train/test sets\n",
    "trainX, testX, trainy, testy = train_test_split(X, y, test_size=0.5, random_state=2)\n",
    "# fit a model\n",
    "model = LogisticRegression()\n",
    "model.fit(trainX, trainy)\n",
    "# predict probabilities\n",
    "probs = model.predict_proba(testX)\n",
    "# keep probabilities for the positive outcome only\n",
    "probs = probs[:, 1]\n",
    "# calculate roc curve\n",
    "fpr, tpr, thresholds = roc_curve(testy, probs)\n",
    "# plot no skill\n",
    "pyplot.plot([0, 1], [0, 1], linestyle='--')\n",
    "# plot the roc curve for the model\n",
    "pyplot.plot(fpr, tpr)\n",
    "# show the plot\n",
    "pyplot.show()"
   ]
  },
  {
   "cell_type": "code",
   "execution_count": 61,
   "metadata": {},
   "outputs": [
    {
     "name": "stdout",
     "output_type": "stream",
     "text": [
      "0.9028205128205128\n"
     ]
    }
   ],
   "source": [
    "# roc auc\n",
    "from sklearn.datasets import make_classification\n",
    "from sklearn.linear_model import LogisticRegression\n",
    "from sklearn.model_selection import train_test_split\n",
    "from sklearn.metrics import roc_auc_score\n",
    "from matplotlib import pyplot\n",
    "# generate 2 class dataset\n",
    "X, y = make_classification(n_samples=1000, n_classes=2, random_state=1)\n",
    "# split into train/test sets\n",
    "trainX, testX, trainy, testy = train_test_split(X, y, test_size=0.5, random_state=2)\n",
    "# fit a model\n",
    "model = LogisticRegression()\n",
    "model.fit(trainX, trainy)\n",
    "# predict probabilities\n",
    "probs = model.predict_proba(testX)\n",
    "# keep probabilities for the positive outcome only\n",
    "probs = probs[:, 1]\n",
    "# calculate roc auc\n",
    "auc = roc_auc_score(testy, probs)\n",
    "print(auc)"
   ]
  },
  {
   "cell_type": "code",
   "execution_count": null,
   "metadata": {},
   "outputs": [],
   "source": []
  }
 ],
 "metadata": {
  "kernelspec": {
   "display_name": "Python 3",
   "language": "python",
   "name": "python3"
  },
  "language_info": {
   "codemirror_mode": {
    "name": "ipython",
    "version": 3
   },
   "file_extension": ".py",
   "mimetype": "text/x-python",
   "name": "python",
   "nbconvert_exporter": "python",
   "pygments_lexer": "ipython3",
   "version": "3.8.8"
  },
  "toc": {
   "base_numbering": 1,
   "nav_menu": {},
   "number_sections": true,
   "sideBar": true,
   "skip_h1_title": false,
   "title_cell": "Table of Contents",
   "title_sidebar": "Contents",
   "toc_cell": false,
   "toc_position": {},
   "toc_section_display": true,
   "toc_window_display": false
  },
  "varInspector": {
   "cols": {
    "lenName": 16,
    "lenType": 16,
    "lenVar": 40
   },
   "kernels_config": {
    "python": {
     "delete_cmd_postfix": "",
     "delete_cmd_prefix": "del ",
     "library": "var_list.py",
     "varRefreshCmd": "print(var_dic_list())"
    },
    "r": {
     "delete_cmd_postfix": ") ",
     "delete_cmd_prefix": "rm(",
     "library": "var_list.r",
     "varRefreshCmd": "cat(var_dic_list()) "
    }
   },
   "types_to_exclude": [
    "module",
    "function",
    "builtin_function_or_method",
    "instance",
    "_Feature"
   ],
   "window_display": false
  }
 },
 "nbformat": 4,
 "nbformat_minor": 4
}

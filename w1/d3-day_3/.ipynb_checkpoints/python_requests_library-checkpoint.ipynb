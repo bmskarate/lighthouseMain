{
 "cells": [
  {
   "cell_type": "markdown",
   "id": "93664485",
   "metadata": {},
   "source": [
    "## Learn to\n",
    "#### make requests (http)\n",
    "#### Customize (look)\n",
    "#### Inspect\n",
    "#### Make requests (auth)\n",
    "#### Configure"
   ]
  },
  {
   "cell_type": "code",
   "execution_count": null,
   "id": "8eaf37e2",
   "metadata": {},
   "outputs": [],
   "source": [
    "# pip install requests if you haven't already in shell"
   ]
  },
  {
   "cell_type": "code",
   "execution_count": null,
   "id": "8c513b79",
   "metadata": {},
   "outputs": [],
   "source": [
    "import requests"
   ]
  },
  {
   "cell_type": "markdown",
   "id": "a6cfbc16",
   "metadata": {},
   "source": [
    "### the GET request"
   ]
  },
  {
   "cell_type": "code",
   "execution_count": null,
   "id": "8bf60e04",
   "metadata": {},
   "outputs": [],
   "source": [
    ">>> requests.get('https://api.github.com')\n",
    "# <Response [200]>"
   ]
  },
  {
   "cell_type": "markdown",
   "id": "e76e91f1",
   "metadata": {},
   "source": [
    "### The response"
   ]
  },
  {
   "cell_type": "code",
   "execution_count": null,
   "id": "22232e99",
   "metadata": {},
   "outputs": [],
   "source": [
    ">>> response = requests.get('https://api.github.com')"
   ]
  },
  {
   "cell_type": "markdown",
   "id": "669ddd8a",
   "metadata": {},
   "source": [
    "### Status codes"
   ]
  },
  {
   "cell_type": "code",
   "execution_count": null,
   "id": "90a62d15",
   "metadata": {},
   "outputs": [],
   "source": [
    ">>> response.status_code\n",
    "# 200"
   ]
  },
  {
   "cell_type": "code",
   "execution_count": null,
   "id": "03705a47",
   "metadata": {},
   "outputs": [],
   "source": [
    "if response.status_code == 200:\n",
    "    print('Success!')\n",
    "elif response.status_code == 404: # :(\n",
    "    print('Not Found.')"
   ]
  },
  {
   "cell_type": "code",
   "execution_count": null,
   "id": "cc85fe27",
   "metadata": {},
   "outputs": [],
   "source": [
    "import requests\n",
    "from requests.exceptions import HTTPError\n",
    "\n",
    "for url in ['https://api.github.com', 'https://api.github.com/invalid']:\n",
    "    try:\n",
    "        response = requests.get(url)\n",
    "\n",
    "        # If the response was successful, no Exception will be raised\n",
    "        response.raise_for_status()\n",
    "    except HTTPError as http_err:\n",
    "        print(f'HTTP error occurred: {http_err}')  # Python 3.6\n",
    "    except Exception as err:\n",
    "        print(f'Other error occurred: {err}')  # Python 3.6\n",
    "    else:\n",
    "        print('Success!')"
   ]
  },
  {
   "cell_type": "markdown",
   "id": "c31fcfa7",
   "metadata": {},
   "source": [
    "### Content"
   ]
  },
  {
   "cell_type": "code",
   "execution_count": null,
   "id": "fbf48a31",
   "metadata": {},
   "outputs": [],
   "source": [
    ">>> response = requests.get('https://api.github.com')\n",
    ">>> response.content\n",
    "# huge output with .content that shows bytes"
   ]
  },
  {
   "cell_type": "code",
   "execution_count": null,
   "id": "bad5ac8d",
   "metadata": {},
   "outputs": [],
   "source": [
    "response.text #UTF-8 string character encoding"
   ]
  },
  {
   "cell_type": "code",
   "execution_count": null,
   "id": "8a8df38c",
   "metadata": {},
   "outputs": [],
   "source": [
    ">>> response.encoding = 'utf-8' # Optional: requests infers this internally\n",
    ">>> response.text"
   ]
  },
  {
   "cell_type": "code",
   "execution_count": null,
   "id": "1a4556d4",
   "metadata": {},
   "outputs": [],
   "source": [
    "response.json() # PRETTY!"
   ]
  },
  {
   "cell_type": "markdown",
   "id": "54a66b1e",
   "metadata": {},
   "source": [
    "## Headers"
   ]
  },
  {
   "cell_type": "code",
   "execution_count": null,
   "id": "4b1eeb8d",
   "metadata": {},
   "outputs": [],
   "source": [
    "response.headers"
   ]
  },
  {
   "cell_type": "code",
   "execution_count": null,
   "id": "a25ed44e",
   "metadata": {},
   "outputs": [],
   "source": [
    ">>> response.headers['Content-Type']\n",
    "'application/json; charset=utf-8'"
   ]
  },
  {
   "cell_type": "code",
   "execution_count": null,
   "id": "9dd00333",
   "metadata": {},
   "outputs": [],
   "source": [
    ">>> response.headers['content-type'] # don't worry about capitalization. Not case-sensitive\n",
    "'application/json; charset=utf-8'"
   ]
  },
  {
   "cell_type": "markdown",
   "id": "d922345f",
   "metadata": {},
   "source": [
    "## Query string parameters"
   ]
  },
  {
   "cell_type": "code",
   "execution_count": null,
   "id": "7dd843cc",
   "metadata": {},
   "outputs": [],
   "source": [
    "import requests\n",
    "\n",
    "# Search GitHub's repositories for requests\n",
    "response = requests.get(\n",
    "    'https://api.github.com/search/repositories',\n",
    "    params={'q': 'requests+language:python'},\n",
    ")\n",
    "\n",
    "# Inspect some attributes of the `requests` repository\n",
    "json_response = response.json()\n",
    "repository = json_response['items'][0]\n",
    "print(f'Repository name: {repository[\"name\"]}')  # Python 3.6+\n",
    "print(f'Repository description: {repository[\"description\"]}')  # Python 3.6+"
   ]
  },
  {
   "cell_type": "code",
   "execution_count": null,
   "id": "22e9f640",
   "metadata": {},
   "outputs": [],
   "source": [
    ">>> requests.get(\n",
    "...     'https://api.github.com/search/repositories',\n",
    "...     params=[('q', 'requests+language:python')],\n",
    "... )\n",
    "# <Response [200]>  TUPLES"
   ]
  },
  {
   "cell_type": "code",
   "execution_count": null,
   "id": "7b8fa71d",
   "metadata": {},
   "outputs": [],
   "source": [
    ">>> requests.get(\n",
    "...     'https://api.github.com/search/repositories',\n",
    "...     params=b'q=requests+language:python',\n",
    "... )\n",
    "# <Response [200]>   BYTES"
   ]
  },
  {
   "cell_type": "markdown",
   "id": "b81c9c5f",
   "metadata": {},
   "source": [
    "## Request headers"
   ]
  },
  {
   "cell_type": "code",
   "execution_count": null,
   "id": "3720c2ba",
   "metadata": {},
   "outputs": [],
   "source": [
    "import requests\n",
    "\n",
    "response = requests.get(\n",
    "    'https://api.github.com/search/repositories',\n",
    "    params={'q': 'requests+language:python'},\n",
    "    headers={'Accept': 'application/vnd.github.v3.text-match+json'},\n",
    ")\n",
    "\n",
    "# View the new `text-matches` array which provides information\n",
    "# about your search term within the results\n",
    "json_response = response.json()\n",
    "repository = json_response['items'][0]\n",
    "print(f'Text matches: {repository[\"text_matches\"]}')"
   ]
  },
  {
   "cell_type": "markdown",
   "id": "d3fdc510",
   "metadata": {},
   "source": [
    "## Other HTTP methods"
   ]
  },
  {
   "cell_type": "code",
   "execution_count": null,
   "id": "e368bfe0",
   "metadata": {},
   "outputs": [],
   "source": [
    ">>> requests.post('https://httpbin.org/post', data={'key':'value'})\n",
    ">>> requests.put('https://httpbin.org/put', data={'key':'value'})\n",
    ">>> requests.delete('https://httpbin.org/delete')\n",
    ">>> requests.head('https://httpbin.org/get')\n",
    ">>> requests.patch('https://httpbin.org/patch', data={'key':'value'})\n",
    ">>> requests.options('https://httpbin.org/get')"
   ]
  },
  {
   "cell_type": "code",
   "execution_count": null,
   "id": "7fc526ed",
   "metadata": {},
   "outputs": [],
   "source": [
    ">>> response = requests.head('https://httpbin.org/get')\n",
    ">>> response.headers['Content-Type']\n",
    "# 'application/json'\n",
    "\n",
    ">>> response = requests.delete('https://httpbin.org/delete')\n",
    ">>> json_response = response.json()\n",
    ">>> json_response['args']\n",
    "# {}"
   ]
  },
  {
   "cell_type": "markdown",
   "id": "bd7e7e66",
   "metadata": {},
   "source": [
    "## Message body"
   ]
  },
  {
   "cell_type": "code",
   "execution_count": null,
   "id": "93acdec7",
   "metadata": {},
   "outputs": [],
   "source": [
    ">>> requests.post('https://httpbin.org/post', data={'key':'value'}) # DICT\n",
    "# <Response [200]>"
   ]
  },
  {
   "cell_type": "code",
   "execution_count": null,
   "id": "1052d3fa",
   "metadata": {},
   "outputs": [],
   "source": [
    ">>> requests.post('https://httpbin.org/post', data=[('key', 'value')]) # TUPLES\n",
    "# <Response [200]>"
   ]
  },
  {
   "cell_type": "code",
   "execution_count": null,
   "id": "ee0d71ad",
   "metadata": {},
   "outputs": [],
   "source": [
    ">>> response = requests.post('https://httpbin.org/post', json={'key':'value'}) # JSON\n",
    ">>> json_response = response.json()\n",
    ">>> json_response['data']\n",
    "# '{\"key\": \"value\"}'\n",
    ">>> json_response['headers']['Content-Type']\n",
    "# 'application/json'"
   ]
  },
  {
   "cell_type": "markdown",
   "id": "f8ae241f",
   "metadata": {},
   "source": [
    "## Inspect your request"
   ]
  },
  {
   "cell_type": "code",
   "execution_count": null,
   "id": "ae9a6d59",
   "metadata": {},
   "outputs": [],
   "source": [
    ">>> response = requests.post('https://httpbin.org/post', json={'key':'value'})\n",
    ">>> response.request.headers['Content-Type']\n",
    "# 'application/json'\n",
    ">>> response.request.url\n",
    "# 'https://httpbin.org/post'\n",
    ">>> response.request.body\n",
    "# b'{\"key\": \"value\"}'"
   ]
  },
  {
   "cell_type": "markdown",
   "id": "e58bd092",
   "metadata": {},
   "source": [
    "## Authentication"
   ]
  },
  {
   "cell_type": "code",
   "execution_count": null,
   "id": "f3147b75",
   "metadata": {},
   "outputs": [],
   "source": [
    ">>> from getpass import getpass\n",
    ">>> requests.get('https://api.github.com/user', auth=('username', getpass()))\n",
    "# <Response [200]> Put in username ... output is a password field!"
   ]
  },
  {
   "cell_type": "code",
   "execution_count": null,
   "id": "7468e270",
   "metadata": {},
   "outputs": [],
   "source": [
    ">>> requests.get('https://api.github.com/user')\n",
    "# <Response [401]>"
   ]
  },
  {
   "cell_type": "code",
   "execution_count": null,
   "id": "b7df7d01",
   "metadata": {},
   "outputs": [],
   "source": [
    ">>> from requests.auth import HTTPBasicAuth\n",
    ">>> from getpass import getpass\n",
    ">>> requests.get(\n",
    "...     'https://api.github.com/user',\n",
    "...     auth=HTTPBasicAuth('username', getpass())\n",
    "... )\n",
    "# <Response [200]>"
   ]
  },
  {
   "cell_type": "code",
   "execution_count": null,
   "id": "0af4ef3c",
   "metadata": {},
   "outputs": [],
   "source": [
    "import requests # Let's supply our own authentication mechanism\n",
    "from requests.auth import AuthBase\n",
    "\n",
    "class TokenAuth(AuthBase):\n",
    "    \"\"\"Implements a custom authentication scheme.\"\"\"\n",
    "\n",
    "    def __init__(self, token):\n",
    "        self.token = token\n",
    "\n",
    "    def __call__(self, r):\n",
    "        \"\"\"Attach an API token to a custom auth header.\"\"\"\n",
    "        r.headers['X-TokenAuth'] = f'{self.token}'  # Python 3.6+\n",
    "        return r\n",
    "\n",
    "\n",
    "requests.get('https://httpbin.org/get', auth=TokenAuth('12345abcde-token'))\n",
    "# Here, your custom TokenAuth mechanism receives a token, then includes that token in the X-TokenAuth header of your request."
   ]
  },
  {
   "cell_type": "markdown",
   "id": "1a80bcd3",
   "metadata": {},
   "source": [
    "## SSL Certificate Verification"
   ]
  },
  {
   "cell_type": "code",
   "execution_count": null,
   "id": "f7c211bc",
   "metadata": {},
   "outputs": [],
   "source": [
    ">>> requests.get('https://api.github.com', verify=False)\n",
    "# If you want to disable SSL Certificate verification, you pass False to the verify parameter of the request function:\n",
    "\n",
    "# InsecureRequestWarning: Unverified HTTPS request is being made. Adding certificate verification is strongly advised. See: https://urllib3.readthedocs.io/en/latest/advanced-usage.html#ssl-warnings\n",
    "#   InsecureRequestWarning)\n",
    "# <Response [200]>"
   ]
  },
  {
   "cell_type": "markdown",
   "id": "8e6adb83",
   "metadata": {},
   "source": [
    "## Performance"
   ]
  },
  {
   "cell_type": "code",
   "execution_count": null,
   "id": "0cccce99",
   "metadata": {},
   "outputs": [],
   "source": [
    ">>> requests.get('https://api.github.com', timeout=1) # timeouts after 1 second\n",
    "# <Response [200]>\n",
    ">>> requests.get('https://api.github.com', timeout=3.05)\n",
    "# <Response [200]>"
   ]
  },
  {
   "cell_type": "code",
   "execution_count": null,
   "id": "c7b1950d",
   "metadata": {},
   "outputs": [],
   "source": [
    ">>> requests.get('https://api.github.com', timeout=(2, 5))\n",
    "# if requestIf the request establishes a connection within \n",
    "# 2 seconds and receives data within 5 seconds of the connection being established, \n",
    "# then the response will be returned as it was before. \n",
    "# If the request times out, then the function will raise a Timeout exception:\n",
    "# <Response [200]>"
   ]
  },
  {
   "cell_type": "code",
   "execution_count": null,
   "id": "32e509fa",
   "metadata": {},
   "outputs": [],
   "source": [
    "import requests\n",
    "from requests.exceptions import Timeout\n",
    "\n",
    "try:\n",
    "    response = requests.get('https://api.github.com', timeout=1)\n",
    "except Timeout:\n",
    "    print('The request timed out')\n",
    "else:\n",
    "    print('The request did not time out')"
   ]
  },
  {
   "cell_type": "markdown",
   "id": "bf7888f6",
   "metadata": {},
   "source": [
    "## Session object"
   ]
  },
  {
   "cell_type": "code",
   "execution_count": null,
   "id": "1913bd99",
   "metadata": {},
   "outputs": [],
   "source": [
    "# if you want to use the same authentication across multiple requests, \n",
    "# you could use a session\n",
    "import requests\n",
    "from getpass import getpass\n",
    "\n",
    "# By using a context manager, you can ensure the resources used by\n",
    "# the session will be released after use\n",
    "with requests.Session() as session:\n",
    "    session.auth = ('username', getpass())\n",
    "\n",
    "    # Instead of requests.get(), you'll use session.get()\n",
    "    response = session.get('https://api.github.com/user')\n",
    "\n",
    "# You can inspect the response just like you did before\n",
    "print(response.headers)\n",
    "print(response.json())"
   ]
  },
  {
   "cell_type": "code",
   "execution_count": null,
   "id": "b16e5da1",
   "metadata": {},
   "outputs": [],
   "source": [
    "import requests\n",
    "from requests.adapters import HTTPAdapter\n",
    "from requests.exceptions import ConnectionError\n",
    "\n",
    "github_adapter = HTTPAdapter(max_retries=3) # MAX RETRIES\n",
    "\n",
    "session = requests.Session()\n",
    "\n",
    "# Use `github_adapter` for all requests to endpoints that start with this URL\n",
    "session.mount('https://api.github.com', github_adapter)\n",
    "\n",
    "try:\n",
    "    session.get('https://api.github.com')\n",
    "except ConnectionError as ce:\n",
    "    print(ce)"
   ]
  },
  {
   "cell_type": "code",
   "execution_count": null,
   "id": "66c95431",
   "metadata": {},
   "outputs": [],
   "source": []
  }
 ],
 "metadata": {
  "kernelspec": {
   "display_name": "Python 3 (ipykernel)",
   "language": "python",
   "name": "python3"
  },
  "language_info": {
   "codemirror_mode": {
    "name": "ipython",
    "version": 3
   },
   "file_extension": ".py",
   "mimetype": "text/x-python",
   "name": "python",
   "nbconvert_exporter": "python",
   "pygments_lexer": "ipython3",
   "version": "3.8.11"
  }
 },
 "nbformat": 4,
 "nbformat_minor": 5
}

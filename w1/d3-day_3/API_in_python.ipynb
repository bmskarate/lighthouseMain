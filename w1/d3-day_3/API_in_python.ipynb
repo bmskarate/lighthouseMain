{
 "cells": [
  {
   "cell_type": "code",
   "execution_count": 2,
   "id": "f59cf5da",
   "metadata": {},
   "outputs": [],
   "source": [
    "import requests as re\n",
    "import os # os is used to access the values of environmental variables"
   ]
  },
  {
   "cell_type": "code",
   "execution_count": 2,
   "id": "88a8187d",
   "metadata": {},
   "outputs": [],
   "source": [
    "# note do NOT store API keys here or any passwords etc."
   ]
  },
  {
   "cell_type": "markdown",
   "id": "599196b6",
   "metadata": {},
   "source": [
    "## You need to open jupyter notebook from the terminal in which the environmental variables were created!"
   ]
  },
  {
   "cell_type": "code",
   "execution_count": 3,
   "id": "a6d0902c",
   "metadata": {},
   "outputs": [],
   "source": [
    "client_id = os.environ[\"FOURSQUARE_CLIENT_ID\"]\n",
    "client_secret = os.environ[\"FOURSQUARE_CLIENT_SECRET\"]"
   ]
  },
  {
   "cell_type": "code",
   "execution_count": 5,
   "id": "868c818d",
   "metadata": {},
   "outputs": [],
   "source": [
    "location = \"Toronto,Canada\"\n",
    "v = \"20200731\" # API version"
   ]
  },
  {
   "cell_type": "code",
   "execution_count": 6,
   "id": "53440089",
   "metadata": {},
   "outputs": [],
   "source": [
    "# URL for API\n",
    "url = \"https://api.foursquare.com/v2/venues/search?near=\n",
    "\"+location+\"&client_id=\"+client_id+\"&client_secret=\"+client_secret+\"&v=\"+v"
   ]
  },
  {
   "cell_type": "code",
   "execution_count": 7,
   "id": "ae550ace",
   "metadata": {},
   "outputs": [],
   "source": [
    "# request for Foursquare\n",
    "res = re.get(url)"
   ]
  },
  {
   "cell_type": "code",
   "execution_count": 8,
   "id": "e1dcc641",
   "metadata": {},
   "outputs": [
    {
     "name": "stdout",
     "output_type": "stream",
     "text": [
      "<Response [200]>\n"
     ]
    }
   ],
   "source": [
    "print(res)"
   ]
  },
  {
   "cell_type": "code",
   "execution_count": 10,
   "id": "96c0404f",
   "metadata": {},
   "outputs": [
    {
     "name": "stdout",
     "output_type": "stream",
     "text": [
      "{'meta': {'code': 200, 'requestId': '61420425d21f5f3066b2c184'}, 'response': {'venues': [{'id': '543df619498ea4de49c416da', 'name': 'FedEx Office', 'location': {'address': '5981 Steeles Ave E', 'lat': 43.70042688876462, 'lng': -79.41739797592162, 'labeledLatLngs': [{'label': 'display', 'lat': 43.70042688876462, 'lng': -79.41739797592162}], 'postalCode': 'M1V 5P7', 'cc': 'CA', 'city': 'Scarborough', 'state': 'ON', 'country': 'Canada', 'formattedAddress': ['5981 Steeles Ave E', 'Scarborough ON M1V 5P7', 'Canada']}, 'categories': [{'id': '52f2ab2ebcbc57f1066b8b1f', 'name': 'Shipping Store', 'pluralName': 'Shipping Stores', 'shortName': 'Shipping Store', 'icon': {'prefix': 'https://ss3.4sqi.net/img/categories_v2/shops/default_', 'suffix': '.png'}, 'primary': True}], 'referralId': 'v-1631716389', 'hasPerk': False}, {'id': '4dcec14dd164679b8d07c1c4', 'name': 'Robert Bateman Parkette', 'location': {'address': '281 Chaplin Crescent', 'lat': 43.70113951308646, 'lng': -79.41447047214669, 'labeledLatLngs': [{'label': 'display', 'lat': 43.70113951308646, 'lng': -79.41447047214669}], 'cc': 'CA', 'city': 'Toronto', 'state': 'ON', 'country': 'Canada', 'formattedAddress': ['281 Chaplin Crescent', 'Toronto ON', 'Canada']}, 'categories': [{'id': '4bf58dd8d48988d163941735', 'name': 'Park', 'pluralName': 'Parks', 'shortName': 'Park', 'icon': {'prefix': 'https://ss3.4sqi.net/img/categories_v2/parks_outdoors/park_', 'suffix': '.png'}, 'primary': True}], 'referralId': 'v-1631716389', 'hasPerk': False}, {'id': '5f5f87eab388ec13dead9644', 'name': 'PLANTA Cocina', 'location': {'address': '10 Temperance St FL 1', 'lat': 43.65106, 'lng': -79.37935, 'labeledLatLngs': [{'label': 'display', 'lat': 43.65106, 'lng': -79.37935}], 'postalCode': 'M5H 1Y4', 'cc': 'CA', 'neighborhood': 'Forest Hill south', 'city': 'Toronto', 'state': 'ON', 'country': 'Canada', 'formattedAddress': ['10 Temperance St FL 1', 'Toronto ON M5H 1Y4', 'Canada']}, 'categories': [{'id': '4bf58dd8d48988d1d3941735', 'name': 'Vegetarian / Vegan Restaurant', 'pluralName': 'Vegetarian / Vegan Restaurants', 'shortName': 'Vegetarian / Vegan', 'icon': {'prefix': 'https://ss3.4sqi.net/img/categories_v2/food/vegetarian_', 'suffix': '.png'}, 'primary': True}], 'referralId': 'v-1631716389', 'hasPerk': False}, {'id': '56945a9b498e68264351398a', 'name': 'Klein Schloss', 'location': {'address': '800 Spadina Road', 'lat': 43.70226354491046, 'lng': -79.41889896341144, 'labeledLatLngs': [{'label': 'display', 'lat': 43.70226354491046, 'lng': -79.41889896341144}], 'postalCode': 'M5P 3N2', 'cc': 'CA', 'city': 'Toronto', 'state': 'ON', 'country': 'Canada', 'formattedAddress': ['800 Spadina Road', 'Toronto ON M5P 3N2', 'Canada']}, 'categories': [{'id': '4d954b06a243a5684965b473', 'name': 'Residential Building (Apartment / Condo)', 'pluralName': 'Residential Buildings (Apartments / Condos)', 'shortName': 'Residential', 'icon': {'prefix': 'https://ss3.4sqi.net/img/categories_v2/building/apartment_', 'suffix': '.png'}, 'primary': True}], 'referralId': 'v-1631716389', 'hasPerk': False}, {'id': '58b7fba0fc5a5f1dcd622bb5', 'name': 'Inertia Engineering', 'location': {'address': '34 Kern Rd #3', 'lat': 43.70001078138574, 'lng': -79.41663950699876, 'labeledLatLngs': [{'label': 'display', 'lat': 43.70001078138574, 'lng': -79.41663950699876}], 'postalCode': 'M3B 1T1', 'cc': 'CA', 'city': 'Toronto', 'state': 'ON', 'country': 'Canada', 'formattedAddress': ['34 Kern Rd #3', 'Toronto ON M3B 1T1', 'Canada']}, 'categories': [{'id': '4bf58dd8d48988d19e941735', 'name': 'College Engineering Building', 'pluralName': 'College Engineering Buildings', 'shortName': 'Engineering', 'icon': {'prefix': 'https://ss3.4sqi.net/img/categories_v2/education/collegeacademicbuildings_engineering_', 'suffix': '.png'}, 'primary': True}], 'referralId': 'v-1631716389', 'hasPerk': False}, {'id': '5c2d51d3e4c459002c06ce58', 'name': 'Sultan Lawyers - Workplace Solutions', 'location': {'address': '212 Adelaide Street West, Suite 300', 'lat': 43.70015385781358, 'lng': -79.41700100898743, 'labeledLatLngs': [{'label': 'display', 'lat': 43.70015385781358, 'lng': -79.41700100898743}], 'postalCode': 'M5H 1W7', 'cc': 'CA', 'city': 'Toronto', 'state': 'ON', 'country': 'Canada', 'formattedAddress': ['212 Adelaide Street West, Suite 300', 'Toronto ON M5H 1W7', 'Canada']}, 'categories': [{'id': '52f2ab2ebcbc57f1066b8b3f', 'name': 'Lawyer', 'pluralName': 'Lawyers', 'shortName': 'Lawyer', 'icon': {'prefix': 'https://ss3.4sqi.net/img/categories_v2/education/lawschool_', 'suffix': '.png'}, 'primary': True}], 'referralId': 'v-1631716389', 'hasPerk': False}, {'id': '4beb7e0eb3352d7fec9f56d2', 'name': 'Divana', 'location': {'address': '380 Eglinton Ave W', 'crossStreet': 'Spadina', 'lat': 43.702513, 'lng': -79.418577, 'labeledLatLngs': [{'label': 'display', 'lat': 43.702513, 'lng': -79.418577}], 'postalCode': 'M5N 1A2', 'cc': 'CA', 'city': 'Toronto', 'state': 'ON', 'country': 'Canada', 'formattedAddress': ['380 Eglinton Ave W (Spadina)', 'Toronto ON M5N 1A2', 'Canada']}, 'categories': [{'id': '4bf58dd8d48988d111951735', 'name': 'Jewelry Store', 'pluralName': 'Jewelry Stores', 'shortName': 'Jewelry', 'icon': {'prefix': 'https://ss3.4sqi.net/img/categories_v2/shops/jewelry_', 'suffix': '.png'}, 'primary': True}], 'referralId': 'v-1631716389', 'hasPerk': False}, {'id': '54afb282498e8c2f9d17e632', 'name': 'Richard Cho Law Office', 'location': {'address': '4950 Yonge StreetSuite 2200', 'lat': 43.70100087003319, 'lng': -79.41471576690674, 'labeledLatLngs': [{'label': 'display', 'lat': 43.70100087003319, 'lng': -79.41471576690674}], 'postalCode': 'M2N 6K1', 'cc': 'CA', 'city': 'Toronto', 'state': 'ON', 'country': 'Canada', 'formattedAddress': ['4950 Yonge StreetSuite 2200', 'Toronto ON M2N 6K1', 'Canada']}, 'categories': [{'id': '52f2ab2ebcbc57f1066b8b3f', 'name': 'Lawyer', 'pluralName': 'Lawyers', 'shortName': 'Lawyer', 'icon': {'prefix': 'https://ss3.4sqi.net/img/categories_v2/education/lawschool_', 'suffix': '.png'}, 'primary': True}], 'referralId': 'v-1631716389', 'hasPerk': False}, {'id': '5c9ca38301bc5a0039dceb2f', 'name': 'Hazelton Real Estate', 'location': {'address': '158 Davenport Rd.', 'lat': 43.700969844159154, 'lng': -79.41615343093872, 'labeledLatLngs': [{'label': 'display', 'lat': 43.700969844159154, 'lng': -79.41615343093872}], 'postalCode': 'M5R 1J2', 'cc': 'CA', 'city': 'Toronto', 'state': 'ON', 'country': 'Canada', 'formattedAddress': ['158 Davenport Rd.', 'Toronto ON M5R 1J2', 'Canada']}, 'categories': [{'id': '5032885091d4c4b30a586d66', 'name': 'Real Estate Office', 'pluralName': 'Real Estate Offices', 'shortName': 'Real Estate', 'icon': {'prefix': 'https://ss3.4sqi.net/img/categories_v2/shops/realestate_', 'suffix': '.png'}, 'primary': True}], 'referralId': 'v-1631716389', 'hasPerk': False}, {'id': '4b4241cff964a52024d025e3', 'name': 'Mr. Lube', 'location': {'address': '793 Spadina Rd', 'crossStreet': 'Eglinton Ave W', 'lat': 43.702309, 'lng': -79.419003, 'labeledLatLngs': [{'label': 'display', 'lat': 43.702309, 'lng': -79.419003}], 'postalCode': 'M5P 2X5', 'cc': 'CA', 'city': 'Toronto', 'state': 'ON', 'country': 'Canada', 'formattedAddress': ['793 Spadina Rd (Eglinton Ave W)', 'Toronto ON M5P 2X5', 'Canada']}, 'categories': [{'id': '4bf58dd8d48988d124951735', 'name': 'Automotive Shop', 'pluralName': 'Automotive Shops', 'shortName': 'Automotive', 'icon': {'prefix': 'https://ss3.4sqi.net/img/categories_v2/shops/automotive_', 'suffix': '.png'}, 'primary': True}], 'referralId': 'v-1631716389', 'hasPerk': False}, {'id': '55b8b9ef498ef500d2afa2c5', 'name': 'Dentures Direct', 'location': {'address': '6 Dixon Road @ Scarlet Road', 'lat': 43.70120253782304, 'lng': -79.41686153411865, 'labeledLatLngs': [{'label': 'display', 'lat': 43.70120253782304, 'lng': -79.41686153411865}], 'postalCode': 'M9P 2K9', 'cc': 'CA', 'city': 'Toronto', 'state': 'ON', 'country': 'Canada', 'formattedAddress': ['6 Dixon Road @ Scarlet Road', 'Toronto ON M9P 2K9', 'Canada']}, 'categories': [{'id': '4bf58dd8d48988d178941735', 'name': \"Dentist's Office\", 'pluralName': \"Dentist's Offices\", 'shortName': \"Dentist's Office\", 'icon': {'prefix': 'https://ss3.4sqi.net/img/categories_v2/building/medical_dentist_', 'suffix': '.png'}, 'primary': True}], 'referralId': 'v-1631716389', 'hasPerk': False}, {'id': '5694586e498e8f4f72572f58', 'name': '800 spadina road', 'location': {'address': '800 Spadina Road', 'lat': 43.702347, 'lng': -79.418989, 'labeledLatLngs': [{'label': 'display', 'lat': 43.702347, 'lng': -79.418989}], 'postalCode': 'M5P 3N2', 'cc': 'CA', 'city': 'Toronto', 'state': 'ON', 'country': 'Canada', 'formattedAddress': ['800 Spadina Road', 'Toronto ON M5P 3N2', 'Canada']}, 'categories': [{'id': '4d954b06a243a5684965b473', 'name': 'Residential Building (Apartment / Condo)', 'pluralName': 'Residential Buildings (Apartments / Condos)', 'shortName': 'Residential', 'icon': {'prefix': 'https://ss3.4sqi.net/img/categories_v2/building/apartment_', 'suffix': '.png'}, 'primary': True}], 'referralId': 'v-1631716389', 'hasPerk': False}, {'id': '5bfd17c3b25fee0039ed2f75', 'name': 'Tour To Niagara Falls', 'location': {'address': '100 King Street West', 'lat': 43.70041137568109, 'lng': -79.41715121269226, 'labeledLatLngs': [{'label': 'display', 'lat': 43.70041137568109, 'lng': -79.41715121269226}], 'postalCode': 'M5H 1A1', 'cc': 'CA', 'city': 'Toronto', 'state': 'ON', 'country': 'Canada', 'formattedAddress': ['100 King Street West', 'Toronto ON M5H 1A1', 'Canada']}, 'categories': [{'id': '4f4530164b9074f6e4fb00ff', 'name': 'Tourist Information Center', 'pluralName': 'Tourist Information Centers', 'shortName': 'Tourist Information', 'icon': {'prefix': 'https://ss3.4sqi.net/img/categories_v2/travel/touristinformation_', 'suffix': '.png'}, 'primary': True}], 'referralId': 'v-1631716389', 'hasPerk': False}, {'id': '5b1a20000d8a0f002c26cbc1', 'name': 'La Luce Ristorante', 'location': {'address': '4377 Steeles Ave W', 'lat': 43.70048894105855, 'lng': -79.41780030727386, 'labeledLatLngs': [{'label': 'display', 'lat': 43.70048894105855, 'lng': -79.41780030727386}], 'postalCode': 'M3N 1V7', 'cc': 'CA', 'city': 'Toronto', 'state': 'ON', 'country': 'Canada', 'formattedAddress': ['4377 Steeles Ave W', 'Toronto ON M3N 1V7', 'Canada']}, 'categories': [{'id': '4bf58dd8d48988d110941735', 'name': 'Italian Restaurant', 'pluralName': 'Italian Restaurants', 'shortName': 'Italian', 'icon': {'prefix': 'https://ss3.4sqi.net/img/categories_v2/food/italian_', 'suffix': '.png'}, 'primary': True}], 'referralId': 'v-1631716389', 'hasPerk': False}, {'id': '4e8ce69eb63445c4a4fe5649', 'name': 'The Eglinton Way', 'location': {'lat': 43.70256768522876, 'lng': -79.41805411238548, 'labeledLatLngs': [{'label': 'display', 'lat': 43.70256768522876, 'lng': -79.41805411238548}], 'cc': 'CA', 'city': 'Toronto', 'state': 'ON', 'country': 'Canada', 'formattedAddress': ['Toronto ON', 'Canada']}, 'categories': [{'id': '4bf58dd8d48988d15a941735', 'name': 'Garden', 'pluralName': 'Gardens', 'shortName': 'Garden', 'icon': {'prefix': 'https://ss3.4sqi.net/img/categories_v2/parks_outdoors/garden_', 'suffix': '.png'}, 'primary': True}], 'referralId': 'v-1631716389', 'hasPerk': False}, {'id': '4ca269765720b1f7a6f128ef', 'name': 'The Sanctuary', 'location': {'lat': 43.702867, 'lng': -79.417497, 'labeledLatLngs': [{'label': 'display', 'lat': 43.702867, 'lng': -79.417497}], 'cc': 'CA', 'city': 'Toronto', 'state': 'ON', 'country': 'Canada', 'formattedAddress': ['Toronto ON', 'Canada']}, 'categories': [{'id': '4bf58dd8d48988d130941735', 'name': 'Building', 'pluralName': 'Buildings', 'shortName': 'Building', 'icon': {'prefix': 'https://ss3.4sqi.net/img/categories_v2/building/default_', 'suffix': '.png'}, 'primary': True}], 'referralId': 'v-1631716389', 'hasPerk': False}, {'id': '4e014552b61c90045004a0ac', 'name': 'mona club house', 'location': {'address': '697 eglinton', 'lat': 43.6990698, 'lng': -79.4184436, 'labeledLatLngs': [{'label': 'display', 'lat': 43.6990698, 'lng': -79.4184436}], 'cc': 'CA', 'city': 'Toronto', 'state': 'ON', 'country': 'Canada', 'formattedAddress': ['697 eglinton', 'Toronto ON', 'Canada']}, 'categories': [], 'referralId': 'v-1631716389', 'hasPerk': False}, {'id': '4d727dbc0d0ca143dabea983', 'name': 'Toronto EMS Station 18', 'location': {'address': '643 Eglinton Avenue West', 'lat': 43.70266166754684, 'lng': -79.41721867495772, 'labeledLatLngs': [{'label': 'display', 'lat': 43.70266166754684, 'lng': -79.41721867495772}], 'postalCode': 'M5N 1C5', 'cc': 'CA', 'city': 'Toronto', 'state': 'ON', 'country': 'Canada', 'formattedAddress': ['643 Eglinton Avenue West', 'Toronto ON M5N 1C5', 'Canada']}, 'categories': [{'id': '4bf58dd8d48988d104941735', 'name': 'Medical Center', 'pluralName': 'Medical Centers', 'shortName': 'Medical', 'icon': {'prefix': 'https://ss3.4sqi.net/img/categories_v2/building/medical_', 'suffix': '.png'}, 'primary': True}], 'referralId': 'v-1631716389', 'hasPerk': False}, {'id': '519e3ca5498eb3ec82050270', 'name': 'Prince charlles terrace', 'location': {'lat': 43.70164, 'lng': -79.41605, 'labeledLatLngs': [{'label': 'display', 'lat': 43.70164, 'lng': -79.41605}], 'cc': 'CA', 'city': 'Toronto', 'state': 'ON', 'country': 'Canada', 'formattedAddress': ['Toronto ON', 'Canada']}, 'categories': [{'id': '4bf58dd8d48988d130941735', 'name': 'Building', 'pluralName': 'Buildings', 'shortName': 'Building', 'icon': {'prefix': 'https://ss3.4sqi.net/img/categories_v2/building/default_', 'suffix': '.png'}, 'primary': True}], 'referralId': 'v-1631716389', 'hasPerk': False}, {'id': '6122fd86d627613afbc60fc6', 'name': 'CRAVE WINGS', 'location': {'address': '557 Eglinton Ave W', 'lat': 43.703154, 'lng': -79.414618, 'labeledLatLngs': [{'label': 'display', 'lat': 43.703154, 'lng': -79.414618}], 'postalCode': 'M5N 1B5', 'cc': 'CA', 'city': 'Toronto', 'state': 'ON', 'country': 'Canada', 'formattedAddress': ['557 Eglinton Ave W', 'Toronto ON M5N 1B5', 'Canada']}, 'categories': [{'id': '4bf58dd8d48988d14c941735', 'name': 'Wings Joint', 'pluralName': 'Wings Joints', 'shortName': 'Wings', 'icon': {'prefix': 'https://ss3.4sqi.net/img/categories_v2/food/wings_', 'suffix': '.png'}, 'primary': True}], 'referralId': 'v-1631716389', 'hasPerk': False}, {'id': '4cbe0e2197bc721e4b557d67', 'name': \"Haber's Pharmacy\", 'location': {'address': '1582 Bathurst St.', 'lat': 43.700444076291646, 'lng': -79.41707027409693, 'labeledLatLngs': [{'label': 'display', 'lat': 43.700444076291646, 'lng': -79.41707027409693}], 'cc': 'CA', 'city': 'Toronto', 'state': 'ON', 'country': 'Canada', 'formattedAddress': ['1582 Bathurst St.', 'Toronto ON', 'Canada']}, 'categories': [], 'referralId': 'v-1631716389', 'hasPerk': False}, {'id': '4bcd145568f976b0bde26383', 'name': '555 Russell Hill Rd', 'location': {'lat': 43.702294, 'lng': -79.415364, 'labeledLatLngs': [{'label': 'display', 'lat': 43.702294, 'lng': -79.415364}], 'cc': 'CA', 'country': 'Canada', 'formattedAddress': ['Canada']}, 'categories': [], 'referralId': 'v-1631716389', 'hasPerk': False}, {'id': '4c892ed1f53b236a29feaca6', 'name': 'Somerville Construction', 'location': {'address': '533 Eglinton Ave West', 'lat': 43.703089, 'lng': -79.414274, 'labeledLatLngs': [{'label': 'display', 'lat': 43.703089, 'lng': -79.414274}], 'postalCode': 'M5N', 'cc': 'CA', 'city': 'Toronto Division', 'state': 'ON', 'country': 'Canada', 'formattedAddress': ['533 Eglinton Ave West', 'Toronto Division ON M5N', 'Canada']}, 'categories': [], 'referralId': 'v-1631716389', 'hasPerk': False}, {'id': '4bc9eec3fb84c9b60cee1b3e', 'name': 'Atlas Boxing Gym', 'location': {'address': '840 St. Clair Ave. W.', 'lat': 43.701746811923, 'lng': -79.41344262326314, 'labeledLatLngs': [{'label': 'display', 'lat': 43.701746811923, 'lng': -79.41344262326314}], 'cc': 'CA', 'city': 'Toronto', 'state': 'ON', 'country': 'Canada', 'formattedAddress': ['840 St. Clair Ave. W.', 'Toronto ON', 'Canada']}, 'categories': [], 'referralId': 'v-1631716389', 'hasPerk': False}, {'id': '4c40c4b1ce54e21e340c0a1a', 'name': 'Ryatta Group', 'location': {'lat': 43.702261, 'lng': -79.414962, 'labeledLatLngs': [{'label': 'display', 'lat': 43.702261, 'lng': -79.414962}], 'postalCode': 'M5P 2T2', 'cc': 'CA', 'city': 'Toronto', 'state': 'ON', 'country': 'Canada', 'formattedAddress': ['Toronto ON M5P 2T2', 'Canada']}, 'categories': [{'id': '4bf58dd8d48988d125941735', 'name': 'Tech Startup', 'pluralName': 'Tech Startups', 'shortName': 'Tech Startup', 'icon': {'prefix': 'https://ss3.4sqi.net/img/categories_v2/shops/technology_', 'suffix': '.png'}, 'primary': True}], 'referralId': 'v-1631716389', 'hasPerk': False}, {'id': '4dff78481f6e4f313a7746af', 'name': \"Sky's The Limit Youth Organization\", 'location': {'lat': 43.70271429691867, 'lng': -79.41766937240473, 'labeledLatLngs': [{'label': 'display', 'lat': 43.70271429691867, 'lng': -79.41766937240473}], 'cc': 'CA', 'city': 'Toronto', 'state': 'ON', 'country': 'Canada', 'formattedAddress': ['Toronto ON', 'Canada']}, 'categories': [{'id': '4bf58dd8d48988d124941735', 'name': 'Office', 'pluralName': 'Offices', 'shortName': 'Office', 'icon': {'prefix': 'https://ss3.4sqi.net/img/categories_v2/building/default_', 'suffix': '.png'}, 'primary': True}], 'referralId': 'v-1631716389', 'hasPerk': False}, {'id': '4d4cb62a9ee137041bc07a8b', 'name': 'Wheeltrans', 'location': {'lat': 43.702279, 'lng': -79.416242, 'labeledLatLngs': [{'label': 'display', 'lat': 43.702279, 'lng': -79.416242}], 'cc': 'CA', 'country': 'Canada', 'formattedAddress': ['Canada']}, 'categories': [], 'referralId': 'v-1631716389', 'hasPerk': False}, {'id': '4e5d68051495d25a3a095621', 'name': '28 Tarlton Road', 'location': {'address': '28 Tarlton Road', 'lat': 43.702363, 'lng': -79.412918, 'labeledLatLngs': [{'label': 'display', 'lat': 43.702363, 'lng': -79.412918}], 'cc': 'CA', 'city': 'Toronto', 'state': 'ON', 'country': 'Canada', 'formattedAddress': ['28 Tarlton Road', 'Toronto ON', 'Canada']}, 'categories': [], 'referralId': 'v-1631716389', 'hasPerk': False}, {'id': '4c796957566db60ca2dd440e', 'name': \"Sully's Boxing Gym\", 'location': {'lat': 43.701801758665745, 'lng': -79.41347434614993, 'labeledLatLngs': [{'label': 'display', 'lat': 43.701801758665745, 'lng': -79.41347434614993}], 'cc': 'CA', 'country': 'Canada', 'formattedAddress': ['Canada']}, 'categories': [{'id': '4bf58dd8d48988d175941735', 'name': 'Gym / Fitness Center', 'pluralName': 'Gyms or Fitness Centers', 'shortName': 'Gym / Fitness', 'icon': {'prefix': 'https://ss3.4sqi.net/img/categories_v2/building/gym_', 'suffix': '.png'}, 'primary': True}], 'referralId': 'v-1631716389', 'hasPerk': False}, {'id': '4f9d2f4de4b08ea039ff2e13', 'name': 'Metro Neqspaper Box', 'location': {'crossStreet': 'Bathurst And Eglinton', 'lat': 43.699632849281414, 'lng': -79.41758143161238, 'labeledLatLngs': [{'label': 'display', 'lat': 43.699632849281414, 'lng': -79.41758143161238}], 'cc': 'CA', 'country': 'Canada', 'formattedAddress': ['Bathurst And Eglinton', 'Canada']}, 'categories': [{'id': '4bf58dd8d48988d1f1931735', 'name': 'General Entertainment', 'pluralName': 'General Entertainment', 'shortName': 'Entertainment', 'icon': {'prefix': 'https://ss3.4sqi.net/img/categories_v2/arts_entertainment/default_', 'suffix': '.png'}, 'primary': True}], 'referralId': 'v-1631716389', 'hasPerk': False}], 'confident': False, 'geocode': {'what': '', 'where': 'toronto canada', 'feature': {'cc': 'CA', 'name': 'Toronto', 'displayName': 'Toronto, ON, Canada', 'matchedName': 'Toronto, ON, Canada', 'highlightedName': '<b>Toronto</b>, ON, <b>Canada</b>', 'woeType': 7, 'slug': 'toronto', 'id': 'geonameid:6167865', 'longId': '72057594044095801', 'geometry': {'center': {'lat': 43.70011, 'lng': -79.4163}, 'bounds': {'ne': {'lat': 43.855547992182615, 'lng': -79.1040939249301}, 'sw': {'lat': 43.58464308210616, 'lng': -79.64745469478004}}}}, 'parents': []}}}\n"
     ]
    }
   ],
   "source": [
    "print(res.json()) # huge output and messy but we successfully accessed it."
   ]
  },
  {
   "cell_type": "markdown",
   "id": "5b80fbd7",
   "metadata": {},
   "source": [
    "[Big list of API wrappers](https://github.com/realpython/list-of-python-api-wrappers)"
   ]
  },
  {
   "cell_type": "code",
   "execution_count": null,
   "id": "d644c77e",
   "metadata": {},
   "outputs": [],
   "source": []
  }
 ],
 "metadata": {
  "kernelspec": {
   "display_name": "Python 3",
   "language": "python",
   "name": "python3"
  },
  "language_info": {
   "codemirror_mode": {
    "name": "ipython",
    "version": 3
   },
   "file_extension": ".py",
   "mimetype": "text/x-python",
   "name": "python",
   "nbconvert_exporter": "python",
   "pygments_lexer": "ipython3",
   "version": "3.8.8"
  }
 },
 "nbformat": 4,
 "nbformat_minor": 5
}

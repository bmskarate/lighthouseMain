{
 "cells": [
  {
   "cell_type": "markdown",
   "metadata": {},
   "source": [
    "## Movies\n",
    "In this part of mini-project, we need to have our API-KEY ready because this API won't work without it.\n",
    "\n",
    "We encourage you to look for correct endpoints in [the documentation](https://developers.themoviedb.org/3/account). We can also play around with requests there before copying them to Python."
   ]
  },
  {
   "cell_type": "markdown",
   "metadata": {},
   "source": [
    "### Movie API TOKEN and KEY environmental variables"
   ]
  },
  {
   "cell_type": "code",
   "execution_count": 10,
   "metadata": {},
   "outputs": [],
   "source": [
    "# movie_API_token and movie_API_key\n",
    "# URL https://www.themoviedb.org/settings/api\n",
    "# %env MY_VAR=MY_VALUE ;)"
   ]
  },
  {
   "cell_type": "markdown",
   "metadata": {},
   "source": [
    "# Demo"
   ]
  },
  {
   "cell_type": "code",
   "execution_count": 11,
   "metadata": {},
   "outputs": [],
   "source": [
    "import os\n",
    "import requests as re\n",
    "import json\n",
    "import pandas as pd\n",
    "base = \"https://api.themoviedb.org/3\"\n",
    "url = \"/search/movie\"\n",
    "\n",
    "query = 'titanic'\n",
    "api_key = os.environ[\"movie_API_key\"]\n",
    "params = f'?query={query}&api_key={api_key}'"
   ]
  },
  {
   "cell_type": "code",
   "execution_count": null,
   "metadata": {},
   "outputs": [],
   "source": [
    "res = re.get(base+url+params)"
   ]
  },
  {
   "cell_type": "code",
   "execution_count": null,
   "metadata": {},
   "outputs": [],
   "source": [
    "res.status_code"
   ]
  },
  {
   "cell_type": "code",
   "execution_count": null,
   "metadata": {},
   "outputs": [],
   "source": [
    "res.json()"
   ]
  },
  {
   "cell_type": "markdown",
   "metadata": {},
   "source": [
    "# Task\n",
    "Search for you favorite movie and return the information about the movie:\n",
    "- name\n",
    "- release date\n",
    "- runtime\n",
    "- revenue\n",
    "- length of the overview\n",
    "- number of votes\n",
    "- voting average"
   ]
  },
  {
   "cell_type": "code",
   "execution_count": null,
   "metadata": {},
   "outputs": [],
   "source": [
    "base = \"https://api.themoviedb.org/3\"\n",
    "url = \"/search/movie\"\n",
    "\n",
    "query_spirited_away = 'spirited-away'\n",
    "api_key = os.environ[\"movie_API_key\"]\n",
    "params = f'?query={query_spirited_away}&api_key={api_key}'\n",
    "res_SA = re.get(base+url+params)\n",
    "spirited_away = res_SA.json()\n",
    "spirited_away"
   ]
  },
  {
   "cell_type": "code",
   "execution_count": null,
   "metadata": {},
   "outputs": [],
   "source": [
    "# name\n",
    "print(spirited_away[\"results\"][0][\"original_title\"])\n",
    "print(spirited_away[\"results\"][1][\"original_title\"])\n",
    "# release date\n",
    "print(spirited_away[\"results\"][0][\"release_date\"], \"is the release date\")\n",
    "# runtime\n",
    "    # no runtime\n",
    "# revenue\n",
    "\n",
    "# length of the overview\n",
    "print(len(spirited_away[\"results\"][1][\"overview\"]), \"is length of the overview\")\n",
    "# number of votes\n",
    "print(spirited_away[\"results\"][1][\"vote_count\"], \"vote count\")\n",
    "# voting average\n",
    "print(spirited_away[\"results\"][1][\"vote_average\"], \"voting rank!\")"
   ]
  },
  {
   "cell_type": "markdown",
   "metadata": {},
   "source": [
    "## Task\n",
    "Search for you favorite actor/actress and return the information about him/her:\n",
    "- name\n",
    "- date of birth\n",
    "- place of birth\n",
    "- length of the biography"
   ]
  },
  {
   "cell_type": "code",
   "execution_count": 12,
   "metadata": {},
   "outputs": [
    {
     "name": "stdout",
     "output_type": "stream",
     "text": [
      "{'page': 1, 'results': [{'adult': False, 'gender': 2, 'id': 287, 'known_for': [{'adult': False, 'backdrop_path': '/rr7E0NoGKxvbkb89eR1GwfoYjpA.jpg', 'genre_ids': [18], 'id': 550, 'media_type': 'movie', 'original_language': 'en', 'original_title': 'Fight Club', 'overview': 'A ticking-time-bomb insomniac and a slippery soap salesman channel primal male aggression into a shocking new form of therapy. Their concept catches on, with underground \"fight clubs\" forming in every town, until an eccentric gets in the way and ignites an out-of-control spiral toward oblivion.', 'poster_path': '/a26cQPRhJPX6GbWfQbvZdrrp9j9.jpg', 'release_date': '1999-10-15', 'title': 'Fight Club', 'video': False, 'vote_average': 8.4, 'vote_count': 22390}, {'adult': False, 'backdrop_path': '/u3tkHXc5wzRFfRXyjGsAlfCIJuh.jpg', 'genre_ids': [18, 28, 53, 10752], 'id': 16869, 'media_type': 'movie', 'original_language': 'en', 'original_title': 'Inglourious Basterds', 'overview': 'In Nazi-occupied France during World War II, a group of Jewish-American soldiers known as \"The Basterds\" are chosen specifically to spread fear throughout the Third Reich by scalping and brutally killing Nazis. The Basterds, lead by Lt. Aldo Raine soon cross paths with a French-Jewish teenage girl who runs a movie theater in Paris which is targeted by the soldiers.', 'poster_path': '/7sfbEnaARXDDhKm0CZ7D7uc2sbo.jpg', 'release_date': '2009-08-19', 'title': 'Inglourious Basterds', 'video': False, 'vote_average': 8.2, 'vote_count': 17441}, {'adult': False, 'backdrop_path': '/i5H7zusQGsysGQ8i6P361Vnr0n2.jpg', 'genre_ids': [80, 9648, 53], 'id': 807, 'media_type': 'movie', 'original_language': 'en', 'original_title': 'Se7en', 'overview': 'Two homicide detectives are on a desperate hunt for a serial killer whose crimes are based on the \"seven deadly sins\" in this dark and haunting film that takes viewers from the tortured remains of one victim to the next. The seasoned Det. Sommerset researches each sin in an effort to get inside the killer\\'s mind, while his novice partner, Mills, scoffs at his efforts to unravel the case.', 'poster_path': '/69Sns8WoET6CfaYlIkHbla4l7nC.jpg', 'release_date': '1995-09-22', 'title': 'Se7en', 'video': False, 'vote_average': 8.3, 'vote_count': 15719}], 'known_for_department': 'Acting', 'name': 'Brad Pitt', 'popularity': 22.547, 'profile_path': '/ajNaPmXVVMJFg9GWmu6MJzTaXdV.jpg'}, {'adult': False, 'gender': 0, 'id': 3163480, 'known_for': [], 'known_for_department': 'Acting', 'name': 'Brad Pitt', 'popularity': 0.6, 'profile_path': None}, {'adult': False, 'gender': 2, 'id': 2765075, 'known_for': [{'adult': False, 'backdrop_path': '/40Y3VwGGNJ43PkDenjHEo7pbDo4.jpg', 'genre_ids': [27], 'id': 739345, 'media_type': 'movie', 'original_language': 'en', 'original_title': 'Halloween Homecoming', 'overview': 'A group of teenagers, led by Wesley Castle, throw a party in the house where Michael Myers murdered his sister many years ago.', 'poster_path': '/tSzw1SAb6rg9FhZtleVeuZiKLS4.jpg', 'release_date': '2019-10-05', 'title': 'Halloween Homecoming', 'video': False, 'vote_average': 0, 'vote_count': 0}], 'known_for_department': 'Acting', 'name': 'James McGarvey', 'popularity': 0.6, 'profile_path': None}], 'total_pages': 1, 'total_results': 3}\n"
     ]
    }
   ],
   "source": [
    "def brad_pitt():\n",
    "    base = \"https://api.themoviedb.org/3\"\n",
    "    url = \"/search/person\"\n",
    "    query_actor = 'brad-pitt'\n",
    "    api_key = os.environ[\"movie_API_key\"]\n",
    "    params = f'?query={query_actor}&api_key={api_key}&birthday' # birthday added properly?\n",
    "    res_actor = re.get(base+url+params)\n",
    "    brad_pitt = res_actor.json()\n",
    "    print(brad_pitt)\n",
    "brad_pitt()"
   ]
  },
  {
   "cell_type": "code",
   "execution_count": null,
   "metadata": {},
   "outputs": [],
   "source": [
    "from pandas import json_normalize\n",
    "brad_pitt.json_normalize()"
   ]
  },
  {
   "cell_type": "code",
   "execution_count": null,
   "metadata": {},
   "outputs": [],
   "source": [
    "re.get(base+url+params)"
   ]
  },
  {
   "cell_type": "code",
   "execution_count": null,
   "metadata": {},
   "outputs": [],
   "source": []
  },
  {
   "cell_type": "code",
   "execution_count": null,
   "metadata": {},
   "outputs": [],
   "source": []
  },
  {
   "cell_type": "markdown",
   "metadata": {},
   "source": [
    "## Task\n",
    "Search for you favorite tv-show and return the information about it:\n",
    "- name\n",
    "- first air date\n",
    "- number of seasons\n",
    "- number of episodes\n",
    "- genres"
   ]
  },
  {
   "cell_type": "code",
   "execution_count": null,
   "metadata": {},
   "outputs": [],
   "source": []
  },
  {
   "cell_type": "code",
   "execution_count": null,
   "metadata": {},
   "outputs": [],
   "source": []
  },
  {
   "cell_type": "code",
   "execution_count": null,
   "metadata": {},
   "outputs": [],
   "source": []
  },
  {
   "cell_type": "markdown",
   "metadata": {},
   "source": [
    "## Task \n",
    "Find top 5 trending:\n",
    "- movies\n",
    "- tv-shows\n",
    "- people"
   ]
  },
  {
   "cell_type": "code",
   "execution_count": null,
   "metadata": {},
   "outputs": [],
   "source": []
  },
  {
   "cell_type": "code",
   "execution_count": null,
   "metadata": {},
   "outputs": [],
   "source": []
  }
 ],
 "metadata": {
  "kernelspec": {
   "display_name": "Python 3",
   "language": "python",
   "name": "python3"
  },
  "language_info": {
   "codemirror_mode": {
    "name": "ipython",
    "version": 3
   },
   "file_extension": ".py",
   "mimetype": "text/x-python",
   "name": "python",
   "nbconvert_exporter": "python",
   "pygments_lexer": "ipython3",
   "version": "3.8.8"
  }
 },
 "nbformat": 4,
 "nbformat_minor": 4
}

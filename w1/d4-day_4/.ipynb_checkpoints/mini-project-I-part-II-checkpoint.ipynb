{
 "cells": [
  {
   "cell_type": "markdown",
   "metadata": {},
   "source": [
    "## Movies\n",
    "In this part of mini-project, we need to have our API-KEY ready because this API won't work without it.\n",
    "\n",
    "We encourage you to look for correct endpoints in [the documentation](https://developers.themoviedb.org/3/account). We can also play around with requests there before copying them to Python."
   ]
  },
  {
   "cell_type": "markdown",
   "metadata": {},
   "source": [
    "### Movie API TOKEN and KEY environmental variables"
   ]
  },
  {
   "cell_type": "code",
   "execution_count": 9,
   "metadata": {},
   "outputs": [],
   "source": [
    "# movie_API_token and movie_API_key\n",
    "# URL https://www.themoviedb.org/settings/api\n",
    "# %env MY_VAR=MY_VALUE ;)"
   ]
  },
  {
   "cell_type": "markdown",
   "metadata": {},
   "source": [
    "# Demo"
   ]
  },
  {
   "cell_type": "code",
   "execution_count": 7,
   "metadata": {},
   "outputs": [],
   "source": [
    "import os\n",
    "import requests as re\n",
    "import json\n",
    "import pandas as pd\n",
    "base = \"https://api.themoviedb.org/3\"\n",
    "url = \"/search/movie\"\n",
    "\n",
    "query = 'titanic'\n",
    "api_key = os.environ[\"movie_API_key\"]\n",
    "params = f'?query={query}&api_key={api_key}'"
   ]
  },
  {
   "cell_type": "code",
   "execution_count": 16,
   "metadata": {},
   "outputs": [],
   "source": [
    "res = re.get(base+url+params)"
   ]
  },
  {
   "cell_type": "code",
   "execution_count": 12,
   "metadata": {},
   "outputs": [
    {
     "data": {
      "text/plain": [
       "200"
      ]
     },
     "execution_count": 12,
     "metadata": {},
     "output_type": "execute_result"
    }
   ],
   "source": [
    "res.status_code"
   ]
  },
  {
   "cell_type": "code",
   "execution_count": 13,
   "metadata": {},
   "outputs": [
    {
     "data": {
      "text/plain": [
       "{'page': 1,\n",
       " 'results': [{'adult': False,\n",
       "   'backdrop_path': '/6VmFqApQRyZZzmiGOQq2C92jyvH.jpg',\n",
       "   'genre_ids': [18, 10749],\n",
       "   'id': 597,\n",
       "   'original_language': 'en',\n",
       "   'original_title': 'Titanic',\n",
       "   'overview': \"101-year-old Rose DeWitt Bukater tells the story of her life aboard the Titanic, 84 years later. A young Rose boards the ship with her mother and fiancé. Meanwhile, Jack Dawson and Fabrizio De Rossi win third-class tickets aboard the ship. Rose tells the whole story from Titanic's departure through to its death—on its first and last voyage—on April 15, 1912.\",\n",
       "   'popularity': 73.138,\n",
       "   'poster_path': '/9xjZS2rlVxm8SFx8kPC3aIGCOYQ.jpg',\n",
       "   'release_date': '1997-11-18',\n",
       "   'title': 'Titanic',\n",
       "   'video': False,\n",
       "   'vote_average': 7.9,\n",
       "   'vote_count': 19751},\n",
       "  {'adult': False,\n",
       "   'backdrop_path': '/e9XRikkyth0GtG8RkU3XNm0oMsA.jpg',\n",
       "   'genre_ids': [28, 12, 53],\n",
       "   'id': 44918,\n",
       "   'original_language': 'en',\n",
       "   'original_title': 'Titanic II',\n",
       "   'overview': 'On the 100th anniversary of the original voyage, a modern luxury liner christened \"Titanic 2,\" follows the path of its namesake. But when a tsunami hurls an ice berg into the new ship\\'s path, the passengers and crew must fight to avoid a similar fate.',\n",
       "   'popularity': 38.61,\n",
       "   'poster_path': '/3m12UeP1DMfhYZyvpLftaJGsyp3.jpg',\n",
       "   'release_date': '2010-08-07',\n",
       "   'title': 'Titanic II',\n",
       "   'video': False,\n",
       "   'vote_average': 4.9,\n",
       "   'vote_count': 264},\n",
       "  {'adult': False,\n",
       "   'backdrop_path': '/3oShsRvAyZiQQ5lP2hszWN9Ri0b.jpg',\n",
       "   'genre_ids': [28, 18, 10749],\n",
       "   'id': 16535,\n",
       "   'original_language': 'en',\n",
       "   'original_title': 'Titanic',\n",
       "   'overview': 'Unhappily married, Julia Sturges decides to go to America with her two children on the unsinkable Titanic. Her husband, Richard also arranges passage on the luxury liner so as to have custody of their two children. All this fades to insignificance once the ship hits an iceberg.',\n",
       "   'popularity': 11.071,\n",
       "   'poster_path': '/22Fh4UoxP6ejL2IFws76TJ8oYlj.jpg',\n",
       "   'release_date': '1953-04-11',\n",
       "   'title': 'Titanic',\n",
       "   'video': False,\n",
       "   'vote_average': 6.4,\n",
       "   'vote_count': 77},\n",
       "  {'adult': False,\n",
       "   'backdrop_path': '/82tRA7Vdf7TwdyJYILUh6FuY88L.jpg',\n",
       "   'genre_ids': [99],\n",
       "   'id': 198901,\n",
       "   'original_language': 'en',\n",
       "   'original_title': 'Titanic: 100 Years On',\n",
       "   'overview': 'The \"unsinkable\" floating palace set sail from Southampton on 10th April 1912 on her maiden voyage to New York. An iceberg ended this monumental journey 5 days later. Only 705 of the passengers and crew survived. This program features an exclusive look at the Sea City Museum Titanic Exhibit in Southampton, interviews from both survivors and the cast of the blockbuster film.',\n",
       "   'popularity': 18.421,\n",
       "   'poster_path': '/uAaXfaJpKjmsA3F1KgowcRJPKPM.jpg',\n",
       "   'release_date': '2012-06-01',\n",
       "   'title': 'Titanic: 100 Years On',\n",
       "   'video': False,\n",
       "   'vote_average': 6.9,\n",
       "   'vote_count': 18},\n",
       "  {'adult': False,\n",
       "   'backdrop_path': None,\n",
       "   'genre_ids': [35, 27],\n",
       "   'id': 4240,\n",
       "   'original_language': 'en',\n",
       "   'original_title': 'Titanic 2000',\n",
       "   'overview': 'The luxury liner Titanic 2000 has set sail on its maiden voyage, and one of the passengers is the vampire Vladamina. Vladamina is searching for a woman she can turn into a vampire queen, and frustrated rock groupie Shari looks to be a perfect target. As various people get seduced and/or killed as the liner continues on its doomed voyage, Shari must chose between eternity as a living dead sex slave or a frigid grave at the bottom of the ocean.',\n",
       "   'popularity': 10.328,\n",
       "   'poster_path': '/91p8xU2nykmw8psADIJOlBLdlXK.jpg',\n",
       "   'release_date': '1999-01-01',\n",
       "   'title': 'Titanic 2000',\n",
       "   'video': False,\n",
       "   'vote_average': 3.4,\n",
       "   'vote_count': 8},\n",
       "  {'adult': False,\n",
       "   'backdrop_path': '/edHgXEtPbyVIQ7xKb1cvJJqTVhA.jpg',\n",
       "   'genre_ids': [28, 18, 36],\n",
       "   'id': 11021,\n",
       "   'original_language': 'de',\n",
       "   'original_title': 'Titanic',\n",
       "   'overview': \"This little-known German film retells the true story of the British ocean liner that met a tragic fate. Ernst Fritz Fürbringer plays the president of the White Star Line, who unwisely pressed the Titanic's captain (Otto Wernicke) to make the swiftest possible crossing to New York. Interestingly, director Herbert Selpin was arrested by the Gestapo during this film's production, and German censors banned the film for its scenes of panic and terror.\",\n",
       "   'popularity': 7.147,\n",
       "   'poster_path': '/Al7oIXQ4dZAofBTZWm6OiXS3MEa.jpg',\n",
       "   'release_date': '1943-11-10',\n",
       "   'title': 'Titanic',\n",
       "   'video': False,\n",
       "   'vote_average': 6,\n",
       "   'vote_count': 42},\n",
       "  {'adult': False,\n",
       "   'backdrop_path': '/q3b8Vi2W6j72aXKggiVoDnEyDgU.jpg',\n",
       "   'genre_ids': [12],\n",
       "   'id': 24575,\n",
       "   'original_language': 'en',\n",
       "   'original_title': 'Raise the Titanic',\n",
       "   'overview': 'To obtain a supply of a rare mineral, a ship raising operation is conducted for the only known source, the Titanic.',\n",
       "   'popularity': 10.982,\n",
       "   'poster_path': '/beYNLj44FOdV47tomXuJyPkvCKl.jpg',\n",
       "   'release_date': '1980-08-01',\n",
       "   'title': 'Raise the Titanic',\n",
       "   'video': False,\n",
       "   'vote_average': 5.5,\n",
       "   'vote_count': 57},\n",
       "  {'adult': False,\n",
       "   'backdrop_path': '/sdtfwZulErbQ7y9RVbaOuWVouD6.jpg',\n",
       "   'genre_ids': [36, 18, 53],\n",
       "   'id': 86938,\n",
       "   'original_language': 'en',\n",
       "   'original_title': 'S.O.S. Titanic',\n",
       "   'overview': 'The Titanic disaster is depicted as seen through the eyes of one couple in each of the three classes on board.',\n",
       "   'popularity': 4.603,\n",
       "   'poster_path': '/wy5ut2GVpPaNxxXFRdkIywjRpeO.jpg',\n",
       "   'release_date': '1979-09-23',\n",
       "   'title': 'S.O.S. Titanic',\n",
       "   'video': False,\n",
       "   'vote_average': 6.2,\n",
       "   'vote_count': 24},\n",
       "  {'adult': False,\n",
       "   'backdrop_path': None,\n",
       "   'genre_ids': [99, 36],\n",
       "   'id': 530108,\n",
       "   'original_language': 'en',\n",
       "   'original_title': 'The Unsinkable Titanic',\n",
       "   'overview': 'On April 10, 1912, the RMS Titanic embarked on its maiden voyage, sailing from Southampton, England, to New York City. One of the largest and most luxurious passenger liners at the time, the Titanic was also equipped with watertight compartments, which led many to consider the ship unsinkable; an anonymous deckhand famously claimed that “God himself could not sink this ship.” On April 14, however, the ship struck an iceberg, and early the next day it sank. Some 1,500 people perished.',\n",
       "   'popularity': 6.263,\n",
       "   'poster_path': '/m3py1JoOPM3s3RTRv965tMC8Fqy.jpg',\n",
       "   'release_date': '2008-11-03',\n",
       "   'title': 'The Unsinkable Titanic',\n",
       "   'video': False,\n",
       "   'vote_average': 9,\n",
       "   'vote_count': 1},\n",
       "  {'adult': False,\n",
       "   'backdrop_path': '/4Sddw1BFQFHOIQZ3DY7QS0mGnVe.jpg',\n",
       "   'genre_ids': [16, 10751],\n",
       "   'id': 71235,\n",
       "   'original_language': 'it',\n",
       "   'original_title': 'Titanic: La leggenda continua',\n",
       "   'overview': 'An animated retelling of the worst passenger ship disaster in history. In this version, love blossoms between the upper-class Sir William and the blue-collar Angelica, who is hoping to find romance in America. At the same time, there are also a number of animal passengers, including talking dogs, cats and mice, who are also looking forward to arriving in the New World.',\n",
       "   'popularity': 5.05,\n",
       "   'poster_path': '/s1PHRSlos2hIFrtA8Ze0JybJTGb.jpg',\n",
       "   'release_date': '2000-09-15',\n",
       "   'title': 'Titanic: The Legend Goes On...',\n",
       "   'video': False,\n",
       "   'vote_average': 2.1,\n",
       "   'vote_count': 44},\n",
       "  {'adult': False,\n",
       "   'backdrop_path': '/xSssW53a2s2euCdyI4aEpzyZfb1.jpg',\n",
       "   'genre_ids': [878, 28, 12, 35],\n",
       "   'id': 467839,\n",
       "   'original_language': 'en',\n",
       "   'original_title': 'Aliens vs. Titanic',\n",
       "   'overview': 'Offering only the finest amenities, the ‘TITAN 1C’ space-cruiser is considered the most luxurious star-liner ever built. Future spring-breakers on board are excited to be touring through space with some of the world’s elite. However, a sudden meteor storm smashes into the hull, and a deadly biological alien life form is let loose on the ship.  Seeking a suitable host, the retrovirus successfully merges with some the passengers, transforming them into seemingly invincible predators with the “touch of death”. As the ship is destroyed, the surviving passengers crash on a remote planet, and they learn that one of them is “infected”. They must quickly band together before it has a chance to slaughter them all.',\n",
       "   'popularity': 4.659,\n",
       "   'poster_path': '/blREOd05hyvbiA3Qc6BqCJ7unvC.jpg',\n",
       "   'release_date': '2017-09-18',\n",
       "   'title': 'Aliens vs. Titanic',\n",
       "   'video': False,\n",
       "   'vote_average': 4.9,\n",
       "   'vote_count': 12},\n",
       "  {'adult': False,\n",
       "   'backdrop_path': '/hDfaa3Nj3K3SkXBr8eALYfPT5pF.jpg',\n",
       "   'genre_ids': [99],\n",
       "   'id': 428950,\n",
       "   'original_language': 'en',\n",
       "   'original_title': 'Drain the Titanic',\n",
       "   'overview': \"Computer-generated imagery and other visualization techniques reveal how it would look if all the water was removed from RMS Titanic's final resting place.\",\n",
       "   'popularity': 4.4,\n",
       "   'poster_path': '/68Fppsnpc3OmQK8kIustffrxHbq.jpg',\n",
       "   'release_date': '2016-05-05',\n",
       "   'title': 'Drain the Titanic',\n",
       "   'video': False,\n",
       "   'vote_average': 7.3,\n",
       "   'vote_count': 10},\n",
       "  {'adult': False,\n",
       "   'backdrop_path': None,\n",
       "   'genre_ids': [10770, 99],\n",
       "   'id': 463397,\n",
       "   'original_language': 'en',\n",
       "   'original_title': 'Nazi Titanic',\n",
       "   'overview': 'During a bizarre chapter of WWII, Nazi propaganda minister Joseph Goebbels decided to make a movie based on the sinking of the Titanic. This epic film was so large in scale that the Nazis were forced to divert men, material and ships from the war effort in order to complete it. Titanic was filmed aboard cruise ship SS Cap Arcona in the Baltic Sea. The movie’s director Herbert Selpin was arrested by the Gestapo over comments he made about the ship’s crew and he was questioned by Goebbels. Selpin was found dead the next day in his cell. The Gestapo’s verdict was suicide. Titanic never received the impressive premiere that Goebbels intended, being first shown in Nazi-occupied Paris in 1943. We reveal this little known but fascinating story by looking at the making of the film, as well as the fate of the German ship Cap Arcona.',\n",
       "   'popularity': 2.21,\n",
       "   'poster_path': '/pmCnVAP0dQumyDMgCnzEgnpMt1g.jpg',\n",
       "   'release_date': '2012-04-14',\n",
       "   'title': 'Nazi Titanic',\n",
       "   'video': False,\n",
       "   'vote_average': 7,\n",
       "   'vote_count': 3},\n",
       "  {'adult': False,\n",
       "   'backdrop_path': None,\n",
       "   'genre_ids': [99],\n",
       "   'id': 421657,\n",
       "   'original_language': 'en',\n",
       "   'original_title': 'Inside the Titanic',\n",
       "   'overview': 'An ambitious factual drama that reveals moment by moment exactly how the Titanic sank, telling the untold stories of the engineers and stokers who battled the icy water.',\n",
       "   'popularity': 2.463,\n",
       "   'poster_path': '/jDHeorRWLuzyXSUGVX47OSdWvVM.jpg',\n",
       "   'release_date': '2012-03-22',\n",
       "   'title': 'Inside the Titanic',\n",
       "   'video': False,\n",
       "   'vote_average': 7.5,\n",
       "   'vote_count': 2},\n",
       "  {'adult': False,\n",
       "   'backdrop_path': '/mEoU71g0SjTDEiMTyRj1bV2EfIp.jpg',\n",
       "   'genre_ids': [99],\n",
       "   'id': 213362,\n",
       "   'original_language': 'en',\n",
       "   'original_title': 'Reflections on Titanic',\n",
       "   'overview': \"An enthralling and fast-paced four-part documentary feature that covers the making of one of the last major Hollywood epics; Titanic. Cast and crew speak on setting the sinking of the ship against a classic romance. The feature also examines casting and the young couple headlining the film, DiCaprio's and Winslet's on-set friendship and their differing acting styles, the expansive sets and filming locations, the authenticity of the recreated ship, James Cameron's work and dedication, and budgeting. And many more aspects of the film are overviewed.\",\n",
       "   'popularity': 3.19,\n",
       "   'poster_path': None,\n",
       "   'release_date': '2012-09-10',\n",
       "   'title': 'Reflections on Titanic',\n",
       "   'video': False,\n",
       "   'vote_average': 7.3,\n",
       "   'vote_count': 18},\n",
       "  {'adult': False,\n",
       "   'backdrop_path': None,\n",
       "   'genre_ids': [16, 10751],\n",
       "   'id': 44310,\n",
       "   'original_language': 'it',\n",
       "   'original_title': 'La leggenda del Titanic',\n",
       "   'overview': 'Old Grandpa mouse tells to his grandchildren the \"real\" story of the Titanic disaster, including evil sharks, a giant octopus, and an evil whaling scheme.',\n",
       "   'popularity': 1.993,\n",
       "   'poster_path': '/72ITKkdanAMTeXczHPSPTT2lvf6.jpg',\n",
       "   'release_date': '1999-01-01',\n",
       "   'title': 'The Legend of the Titanic',\n",
       "   'video': False,\n",
       "   'vote_average': 3.2,\n",
       "   'vote_count': 30},\n",
       "  {'adult': False,\n",
       "   'backdrop_path': '/v6kUC2dsDwSfhwCWdAgldXB7Knu.jpg',\n",
       "   'genre_ids': [99, 18, 10770],\n",
       "   'id': 102370,\n",
       "   'original_language': 'en',\n",
       "   'original_title': 'Saving the Titanic',\n",
       "   'overview': \"In the hours after the Titanic struck an iceberg 100 years ago, a team of shipbuilders and engineers raced against time to save the stricken vessel.  Based on eye-witness accounts, this film reveals what went on below decks in the hours before the Titanic sank, telling the previously relatively unheralded stories of engineers who fought courageously to hold back the power of the sea and keep the power systems running, even when they learned that all was lost.  Most of these men died but their actions bought enough time to save many lives.  This drama-documentary tells a poignant story of self-sacrifice by the Titanic's engineers, stokers and firemen in the face of impending death.\",\n",
       "   'popularity': 1.996,\n",
       "   'poster_path': '/gei8kg0KouyPJKUmxDwTNSnBUTV.jpg',\n",
       "   'release_date': '2012-04-15',\n",
       "   'title': 'Saving the Titanic',\n",
       "   'video': False,\n",
       "   'vote_average': 7.3,\n",
       "   'vote_count': 7},\n",
       "  {'adult': False,\n",
       "   'backdrop_path': None,\n",
       "   'genre_ids': [],\n",
       "   'id': 760524,\n",
       "   'original_language': 'en',\n",
       "   'original_title': 'Titanic',\n",
       "   'overview': '\"Titanic\" is a Punjabi feature film. It is family movie. \"Titanic\" is based on a young boy\\'s life whose dreams are so high. He wants to join Indian Navy. Unfortunately his life completely changed due to week financial conditions at home. He starts his work at low level driving of Autoriksha. He works so hard and he faces many obstacles in this work. At the end he accepted that his vehicle is submarine for him.',\n",
       "   'popularity': 1.461,\n",
       "   'poster_path': None,\n",
       "   'release_date': '2018-12-21',\n",
       "   'title': 'Titanic',\n",
       "   'video': False,\n",
       "   'vote_average': 0,\n",
       "   'vote_count': 0},\n",
       "  {'adult': False,\n",
       "   'backdrop_path': '/yFD05fZjJKgZ4t7LGJB2ILPdZ2X.jpg',\n",
       "   'genre_ids': [36],\n",
       "   'id': 287347,\n",
       "   'original_language': 'en',\n",
       "   'original_title': 'Titanic: The Aftermath',\n",
       "   'overview': 'Explores what happened after the Titanic sank: the lives the disaster affected and the changes it brought to sea travel.',\n",
       "   'popularity': 1.873,\n",
       "   'poster_path': '/3LqoUNnbHAolDXI2pLPEXko9wFt.jpg',\n",
       "   'release_date': '2012-04-01',\n",
       "   'title': 'Titanic: The Aftermath',\n",
       "   'video': False,\n",
       "   'vote_average': 0,\n",
       "   'vote_count': 0},\n",
       "  {'adult': False,\n",
       "   'backdrop_path': None,\n",
       "   'genre_ids': [18],\n",
       "   'id': 83036,\n",
       "   'original_language': 'en',\n",
       "   'original_title': 'Titanic Town',\n",
       "   'overview': 'Belfast 1972: The politically naive Bernie is trying to bring up a normal family in less than normal surroundings. Her best friend is accidentally shot dead by the IRA, and her neighbours are constantly raided by the army. In this climate of fear she stands up and condemns the murders. Criticising both factions, her call for a ceasefire is interpreted as an attack against the IRA, and as her peace movement takes momentum, she and her family are placed in the frontline.',\n",
       "   'popularity': 1.741,\n",
       "   'poster_path': '/8gl2aeimAngsRHqZQwUKyp93Bdx.jpg',\n",
       "   'release_date': '1998-08-08',\n",
       "   'title': 'Titanic Town',\n",
       "   'video': False,\n",
       "   'vote_average': 1,\n",
       "   'vote_count': 1}],\n",
       " 'total_pages': 7,\n",
       " 'total_results': 133}"
      ]
     },
     "execution_count": 13,
     "metadata": {},
     "output_type": "execute_result"
    }
   ],
   "source": [
    "res.json()"
   ]
  },
  {
   "cell_type": "markdown",
   "metadata": {},
   "source": [
    "# Task\n",
    "Search for you favorite movie and return the information about the movie:\n",
    "- name\n",
    "- release date\n",
    "- runtime\n",
    "- revenue\n",
    "- length of the overview\n",
    "- number of votes\n",
    "- voting average"
   ]
  },
  {
   "cell_type": "code",
   "execution_count": 20,
   "metadata": {},
   "outputs": [
    {
     "data": {
      "text/plain": [
       "{'page': 1,\n",
       " 'results': [{'adult': False,\n",
       "   'backdrop_path': None,\n",
       "   'genre_ids': [16, 99],\n",
       "   'id': 698296,\n",
       "   'original_language': 'en',\n",
       "   'original_title': \"The Art of 'Spirited Away'\",\n",
       "   'overview': 'The people that brought the film Sen to Chihiro no kamikakushi (2001) (a.k.a. \"Spirited Away\") to the US explain how it was converted into English, with some minor confusion between languages, and how well it did in both Japan and America.',\n",
       "   'popularity': 1.084,\n",
       "   'poster_path': '/x1iaVnI4mTaETwAKTLyIAKFwQSJ.jpg',\n",
       "   'release_date': '2003-04-15',\n",
       "   'title': \"The Art of 'Spirited Away'\",\n",
       "   'video': False,\n",
       "   'vote_average': 8,\n",
       "   'vote_count': 2},\n",
       "  {'adult': False,\n",
       "   'backdrop_path': '/bf9shWfUKyEB5oB7awJeKIoCehl.jpg',\n",
       "   'genre_ids': [16, 10751, 14],\n",
       "   'id': 129,\n",
       "   'original_language': 'ja',\n",
       "   'original_title': '千と千尋の神隠し',\n",
       "   'overview': 'A young girl, Chihiro, becomes trapped in a strange new world of spirits. When her parents undergo a mysterious transformation, she must call upon the courage she never knew she had to free her family.',\n",
       "   'popularity': 60.877,\n",
       "   'poster_path': '/39wmItIWsg5sZMyRUHLkWBcuVCM.jpg',\n",
       "   'release_date': '2001-07-20',\n",
       "   'title': 'Spirited Away',\n",
       "   'video': False,\n",
       "   'vote_average': 8.5,\n",
       "   'vote_count': 11796}],\n",
       " 'total_pages': 1,\n",
       " 'total_results': 2}"
      ]
     },
     "execution_count": 20,
     "metadata": {},
     "output_type": "execute_result"
    }
   ],
   "source": [
    "base = \"https://api.themoviedb.org/3\"\n",
    "url = \"/search/movie\"\n",
    "\n",
    "query_spirited_away = 'spirited-away'\n",
    "api_key = os.environ[\"movie_API_key\"]\n",
    "params = f'?query={query_spirited_away}&api_key={api_key}'\n",
    "res_SA = re.get(base+url+params)\n",
    "spirited_away = res_SA.json()\n",
    "spirited_away"
   ]
  },
  {
   "cell_type": "code",
   "execution_count": 39,
   "metadata": {},
   "outputs": [
    {
     "name": "stdout",
     "output_type": "stream",
     "text": [
      "The Art of 'Spirited Away'\n",
      "千と千尋の神隠し\n",
      "2003-04-15 is the release date\n",
      "201 is length of the overview\n",
      "11796 vote count\n",
      "8.5 voting rank!\n"
     ]
    }
   ],
   "source": [
    "# name\n",
    "print(spirited_away[\"results\"][0][\"original_title\"])\n",
    "print(spirited_away[\"results\"][1][\"original_title\"])\n",
    "# release date\n",
    "print(spirited_away[\"results\"][0][\"release_date\"], \"is the release date\")\n",
    "# runtime\n",
    "    # no runtime\n",
    "# revenue\n",
    "\n",
    "# length of the overview\n",
    "print(len(spirited_away[\"results\"][1][\"overview\"]), \"is length of the overview\")\n",
    "# number of votes\n",
    "print(spirited_away[\"results\"][1][\"vote_count\"], \"vote count\")\n",
    "# voting average\n",
    "print(spirited_away[\"results\"][1][\"vote_average\"], \"voting rank!\")"
   ]
  },
  {
   "cell_type": "markdown",
   "metadata": {},
   "source": [
    "## Task\n",
    "Search for you favorite actor/actress and return the information about him/her:\n",
    "- name\n",
    "- date of birth\n",
    "- place of birth\n",
    "- length of the biography"
   ]
  },
  {
   "cell_type": "code",
   "execution_count": 106,
   "metadata": {},
   "outputs": [],
   "source": [
    "def brad_pitt():\n",
    "    base = \"https://api.themoviedb.org/3\"\n",
    "    url = \"/search/person\"\n",
    "    query_actor = 'brad-pitt'\n",
    "    api_key = os.environ[\"movie_API_key\"]\n",
    "    params = f'?query={query_actor}&api_key={api_key}&birthday'\n",
    "    res_actor = re.get(base+url+params)\n",
    "    brad_pitt = res_actor.json()\n",
    "    print(brad_pitt)"
   ]
  },
  {
   "cell_type": "code",
   "execution_count": 107,
   "metadata": {},
   "outputs": [
    {
     "name": "stdout",
     "output_type": "stream",
     "text": [
      "{'page': 1, 'results': [{'adult': False, 'gender': 2, 'id': 287, 'known_for': [{'adult': False, 'backdrop_path': '/rr7E0NoGKxvbkb89eR1GwfoYjpA.jpg', 'genre_ids': [18], 'id': 550, 'media_type': 'movie', 'original_language': 'en', 'original_title': 'Fight Club', 'overview': 'A ticking-time-bomb insomniac and a slippery soap salesman channel primal male aggression into a shocking new form of therapy. Their concept catches on, with underground \"fight clubs\" forming in every town, until an eccentric gets in the way and ignites an out-of-control spiral toward oblivion.', 'poster_path': '/a26cQPRhJPX6GbWfQbvZdrrp9j9.jpg', 'release_date': '1999-10-15', 'title': 'Fight Club', 'video': False, 'vote_average': 8.4, 'vote_count': 22390}, {'adult': False, 'backdrop_path': '/u3tkHXc5wzRFfRXyjGsAlfCIJuh.jpg', 'genre_ids': [18, 28, 53, 10752], 'id': 16869, 'media_type': 'movie', 'original_language': 'en', 'original_title': 'Inglourious Basterds', 'overview': 'In Nazi-occupied France during World War II, a group of Jewish-American soldiers known as \"The Basterds\" are chosen specifically to spread fear throughout the Third Reich by scalping and brutally killing Nazis. The Basterds, lead by Lt. Aldo Raine soon cross paths with a French-Jewish teenage girl who runs a movie theater in Paris which is targeted by the soldiers.', 'poster_path': '/7sfbEnaARXDDhKm0CZ7D7uc2sbo.jpg', 'release_date': '2009-08-19', 'title': 'Inglourious Basterds', 'video': False, 'vote_average': 8.2, 'vote_count': 17441}, {'adult': False, 'backdrop_path': '/i5H7zusQGsysGQ8i6P361Vnr0n2.jpg', 'genre_ids': [80, 9648, 53], 'id': 807, 'media_type': 'movie', 'original_language': 'en', 'original_title': 'Se7en', 'overview': 'Two homicide detectives are on a desperate hunt for a serial killer whose crimes are based on the \"seven deadly sins\" in this dark and haunting film that takes viewers from the tortured remains of one victim to the next. The seasoned Det. Sommerset researches each sin in an effort to get inside the killer\\'s mind, while his novice partner, Mills, scoffs at his efforts to unravel the case.', 'poster_path': '/69Sns8WoET6CfaYlIkHbla4l7nC.jpg', 'release_date': '1995-09-22', 'title': 'Se7en', 'video': False, 'vote_average': 8.3, 'vote_count': 15719}], 'known_for_department': 'Acting', 'name': 'Brad Pitt', 'popularity': 22.547, 'profile_path': '/ajNaPmXVVMJFg9GWmu6MJzTaXdV.jpg'}, {'adult': False, 'gender': 0, 'id': 3163480, 'known_for': [], 'known_for_department': 'Acting', 'name': 'Brad Pitt', 'popularity': 0.6, 'profile_path': None}, {'adult': False, 'gender': 2, 'id': 2765075, 'known_for': [{'adult': False, 'backdrop_path': '/40Y3VwGGNJ43PkDenjHEo7pbDo4.jpg', 'genre_ids': [27], 'id': 739345, 'media_type': 'movie', 'original_language': 'en', 'original_title': 'Halloween Homecoming', 'overview': 'A group of teenagers, led by Wesley Castle, throw a party in the house where Michael Myers murdered his sister many years ago.', 'poster_path': '/tSzw1SAb6rg9FhZtleVeuZiKLS4.jpg', 'release_date': '2019-10-05', 'title': 'Halloween Homecoming', 'video': False, 'vote_average': 0, 'vote_count': 0}], 'known_for_department': 'Acting', 'name': 'James McGarvey', 'popularity': 0.6, 'profile_path': None}], 'total_pages': 1, 'total_results': 3}\n"
     ]
    }
   ],
   "source": [
    "brad_pitt()"
   ]
  },
  {
   "cell_type": "code",
   "execution_count": 96,
   "metadata": {},
   "outputs": [
    {
     "data": {
      "text/plain": [
       "<Response [200]>"
      ]
     },
     "execution_count": 96,
     "metadata": {},
     "output_type": "execute_result"
    }
   ],
   "source": [
    "re.get(base+url+params)"
   ]
  },
  {
   "cell_type": "code",
   "execution_count": null,
   "metadata": {},
   "outputs": [],
   "source": []
  },
  {
   "cell_type": "code",
   "execution_count": null,
   "metadata": {},
   "outputs": [],
   "source": []
  },
  {
   "cell_type": "markdown",
   "metadata": {},
   "source": [
    "## Task\n",
    "Search for you favorite tv-show and return the information about it:\n",
    "- name\n",
    "- first air date\n",
    "- number of seasons\n",
    "- number of episodes\n",
    "- genres"
   ]
  },
  {
   "cell_type": "code",
   "execution_count": null,
   "metadata": {},
   "outputs": [],
   "source": []
  },
  {
   "cell_type": "code",
   "execution_count": null,
   "metadata": {},
   "outputs": [],
   "source": []
  },
  {
   "cell_type": "code",
   "execution_count": null,
   "metadata": {},
   "outputs": [],
   "source": []
  },
  {
   "cell_type": "markdown",
   "metadata": {},
   "source": [
    "## Task \n",
    "Find top 5 trending:\n",
    "- movies\n",
    "- tv-shows\n",
    "- people"
   ]
  },
  {
   "cell_type": "code",
   "execution_count": null,
   "metadata": {},
   "outputs": [],
   "source": []
  },
  {
   "cell_type": "code",
   "execution_count": null,
   "metadata": {},
   "outputs": [],
   "source": []
  }
 ],
 "metadata": {
  "kernelspec": {
   "display_name": "Python 3",
   "language": "python",
   "name": "python3"
  },
  "language_info": {
   "codemirror_mode": {
    "name": "ipython",
    "version": 3
   },
   "file_extension": ".py",
   "mimetype": "text/x-python",
   "name": "python",
   "nbconvert_exporter": "python",
   "pygments_lexer": "ipython3",
   "version": "3.8.8"
  }
 },
 "nbformat": 4,
 "nbformat_minor": 4
}

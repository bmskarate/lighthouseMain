{
 "cells": [
  {
   "cell_type": "markdown",
   "metadata": {
    "slideshow": {
     "slide_type": "slide"
    }
   },
   "source": [
    "# Mini-Project I\n",
    "During this project, we will practice handling of complex lists and dictionaries in Python. Plus, we will learn how to work with API documentation. Don't be afraid to search for the information in the [**documentation**](https://api.tfl.gov.uk/swagger/ui/index.html?url=/swagger/docs/v1#!/AccidentStats/AccidentStats_Get).\n",
    "\n",
    "Let's go to the tasks, we have some parsing to do :)!!"
   ]
  },
  {
   "cell_type": "code",
   "execution_count": null,
   "metadata": {},
   "outputs": [],
   "source": []
  },
  {
   "cell_type": "code",
   "execution_count": 1,
   "metadata": {
    "slideshow": {
     "slide_type": "slide"
    }
   },
   "outputs": [],
   "source": [
    "import requests as re\n",
    "import os\n",
    "import json\n",
    "import pandas as pd"
   ]
  },
  {
   "cell_type": "code",
   "execution_count": null,
   "metadata": {},
   "outputs": [],
   "source": []
  },
  {
   "cell_type": "code",
   "execution_count": null,
   "metadata": {},
   "outputs": [],
   "source": []
  },
  {
   "cell_type": "markdown",
   "metadata": {},
   "source": [
    "## Demo"
   ]
  },
  {
   "cell_type": "code",
   "execution_count": 2,
   "metadata": {},
   "outputs": [],
   "source": [
    "# # os package... Make Environmental Variables in terminal first!\n",
    "# # export foursquare_client_id=\n",
    "# # export foursquare_client_secret=\n",
    "# # DO NOT RUN UNTIL ENVIRONMENTALS ARE SET\n",
    "# app_id = os.environ[\"<your app id name>\"] # env variable in here\n",
    "# app_key = os.environ[\"<your app key name>\"] # env variable in here\n",
    "# url_append = f'?app_id={app_id}&app_key={app_key}' # env variables referenced here.\n",
    "# # os.environ loads the dictionary with environmental variables where os.environ.keys() \n",
    "# # are all variable names"
   ]
  },
  {
   "cell_type": "code",
   "execution_count": 3,
   "metadata": {},
   "outputs": [
    {
     "ename": "NameError",
     "evalue": "name 'url_append' is not defined",
     "output_type": "error",
     "traceback": [
      "\u001b[0;31m---------------------------------------------------------------------------\u001b[0m",
      "\u001b[0;31mNameError\u001b[0m                                 Traceback (most recent call last)",
      "\u001b[0;32m<ipython-input-3-12944eb22a7e>\u001b[0m in \u001b[0;36m<module>\u001b[0;34m\u001b[0m\n\u001b[0;32m----> 1\u001b[0;31m \u001b[0mprint\u001b[0m\u001b[0;34m(\u001b[0m\u001b[0murl_append\u001b[0m\u001b[0;34m)\u001b[0m\u001b[0;34m\u001b[0m\u001b[0;34m\u001b[0m\u001b[0m\n\u001b[0m",
      "\u001b[0;31mNameError\u001b[0m: name 'url_append' is not defined"
     ]
    }
   ],
   "source": [
    "print(url_append)"
   ]
  },
  {
   "cell_type": "code",
   "execution_count": null,
   "metadata": {},
   "outputs": [],
   "source": [
    "# # URL\n",
    "# url = \"https://api.tfl.gov.uk/AirQuality\"\n",
    "# # curl this url in terminal to get a quick view"
   ]
  },
  {
   "cell_type": "code",
   "execution_count": null,
   "metadata": {},
   "outputs": [],
   "source": [
    "# We send the request to the API\n",
    "# NOTE: if you don't have your APP_KEY, run this without the url_append\n",
    "res = requests.get(url+url_append)"
   ]
  },
  {
   "cell_type": "code",
   "execution_count": null,
   "metadata": {},
   "outputs": [],
   "source": [
    "# We can check if the request was successful\n",
    "res.status_code"
   ]
  },
  {
   "cell_type": "code",
   "execution_count": null,
   "metadata": {},
   "outputs": [],
   "source": [
    "# We can export the information that was returned using method .json()\n",
    "res.json()"
   ]
  },
  {
   "cell_type": "code",
   "execution_count": null,
   "metadata": {},
   "outputs": [],
   "source": []
  },
  {
   "cell_type": "markdown",
   "metadata": {},
   "source": [
    "## Task\n",
    "Parse the dictionary and print the AirQuality predictions for tomorrow"
   ]
  },
  {
   "cell_type": "code",
   "execution_count": 7,
   "metadata": {},
   "outputs": [
    {
     "data": {
      "text/plain": [
       "<Response [200]>"
      ]
     },
     "execution_count": 7,
     "metadata": {},
     "output_type": "execute_result"
    }
   ],
   "source": [
    "# this is an OPEN API - no need for keys.\n",
    "re.get(\"https://api.tfl.gov.uk/AirQuality\") # checked, got a good response"
   ]
  },
  {
   "cell_type": "code",
   "execution_count": 8,
   "metadata": {},
   "outputs": [],
   "source": [
    "response = re.get(\"https://api.tfl.gov.uk/AirQuality\") # save response as a variable"
   ]
  },
  {
   "cell_type": "code",
   "execution_count": 15,
   "metadata": {},
   "outputs": [
    {
     "data": {
      "text/plain": [
       "<Response [200]>"
      ]
     },
     "execution_count": 15,
     "metadata": {},
     "output_type": "execute_result"
    }
   ],
   "source": [
    "forecast_dict = response.json() # pretty"
   ]
  },
  {
   "cell_type": "code",
   "execution_count": 10,
   "metadata": {},
   "outputs": [
    {
     "name": "stdout",
     "output_type": "stream",
     "text": [
      "<class 'dict'>\n"
     ]
    }
   ],
   "source": [
    "print(type(forecast_dict))"
   ]
  },
  {
   "cell_type": "code",
   "execution_count": 11,
   "metadata": {},
   "outputs": [
    {
     "name": "stdout",
     "output_type": "stream",
     "text": [
      "$id\n",
      "$type\n",
      "updatePeriod\n",
      "updateFrequency\n",
      "forecastURL\n",
      "disclaimerText\n",
      "currentForecast\n"
     ]
    }
   ],
   "source": [
    "for i in forecast_dict:\n",
    "    print(i)"
   ]
  },
  {
   "cell_type": "code",
   "execution_count": 12,
   "metadata": {},
   "outputs": [
    {
     "data": {
      "text/plain": [
       "{'$id': '3',\n",
       " '$type': 'Tfl.Api.Presentation.Entities.CurrentForecast, Tfl.Api.Presentation.Entities',\n",
       " 'forecastType': 'Future',\n",
       " 'forecastID': '33412',\n",
       " 'forecastBand': 'Low',\n",
       " 'forecastSummary': 'Low air pollution forecast valid from Saturday 18 September to end of Saturday 18 September GMT',\n",
       " 'nO2Band': 'Low',\n",
       " 'o3Band': 'Low',\n",
       " 'pM10Band': 'Low',\n",
       " 'pM25Band': 'Low',\n",
       " 'sO2Band': 'Low',\n",
       " 'forecastText': 'Partly sunny with showers on Saturday.&lt;br/&gt;&lt;br/&gt;A light south or south easterly breeze is expected. This airflow will have travelled over the near continent and at times will have passed over the Paris region. It&#39;s likely to contain some particulates and as a result both PM10 &amp; PM2.5 particulates may increase during the day. It&#39;s not expected currently that particulate concentrations will reach the &#39;moderate&#39; pollution threshold.&lt;br/&gt;&lt;br/&gt;Air pollution is expected to remain &#39;Low&#39; during the forecast period for the following pollutants.&lt;br/&gt;&lt;br/&gt;Nitrogen Dioxide&lt;br/&gt;Sulphur Dioxide&lt;br/&gt;Ozone&lt;br/&gt;PM10 Particulates&lt;br/&gt;PM2.5 Particulates&lt;br/&gt;'}"
      ]
     },
     "execution_count": 12,
     "metadata": {},
     "output_type": "execute_result"
    }
   ],
   "source": [
    "forecast_dict[\"currentForecast\"][1] # parsed. [0] was today, [1] is tomorrow"
   ]
  },
  {
   "cell_type": "code",
   "execution_count": 13,
   "metadata": {},
   "outputs": [
    {
     "data": {
      "text/plain": [
       "'Partly sunny with showers on Saturday.&lt;br/&gt;&lt;br/&gt;A light south or south easterly breeze is expected. This airflow will have travelled over the near continent and at times will have passed over the Paris region. It&#39;s likely to contain some particulates and as a result both PM10 &amp; PM2.5 particulates may increase during the day. It&#39;s not expected currently that particulate concentrations will reach the &#39;moderate&#39; pollution threshold.&lt;br/&gt;&lt;br/&gt;Air pollution is expected to remain &#39;Low&#39; during the forecast period for the following pollutants.&lt;br/&gt;&lt;br/&gt;Nitrogen Dioxide&lt;br/&gt;Sulphur Dioxide&lt;br/&gt;Ozone&lt;br/&gt;PM10 Particulates&lt;br/&gt;PM2.5 Particulates&lt;br/&gt;'"
      ]
     },
     "execution_count": 13,
     "metadata": {},
     "output_type": "execute_result"
    }
   ],
   "source": [
    "forecast_dict[\"currentForecast\"][1][\"forecastText\"] # boom."
   ]
  },
  {
   "cell_type": "code",
   "execution_count": 14,
   "metadata": {},
   "outputs": [
    {
     "data": {
      "text/plain": [
       "{'$id': '1',\n",
       " '$type': 'Tfl.Api.Presentation.Entities.LondonAirForecast, Tfl.Api.Presentation.Entities',\n",
       " 'updatePeriod': 'hourly',\n",
       " 'updateFrequency': '1',\n",
       " 'forecastURL': 'http://londonair.org.uk/forecast',\n",
       " 'disclaimerText': 'This forecast is intended to provide information on expected pollution levels in areas of significant public exposure. It may not apply in very specific locations close to unusually strong or short-lived local sources of pollution.',\n",
       " 'currentForecast': [{'$id': '2',\n",
       "   '$type': 'Tfl.Api.Presentation.Entities.CurrentForecast, Tfl.Api.Presentation.Entities',\n",
       "   'forecastType': 'Current',\n",
       "   'forecastID': '33405',\n",
       "   'forecastBand': 'Low',\n",
       "   'forecastSummary': 'Low air pollution forecast valid from Friday 17 September to end of Friday 17 September GMT',\n",
       "   'nO2Band': 'Low',\n",
       "   'o3Band': 'Low',\n",
       "   'pM10Band': 'Low',\n",
       "   'pM25Band': 'Low',\n",
       "   'sO2Band': 'Low',\n",
       "   'forecastText': 'A breezier day for Friday to give good dispersion of local emissions. For most of the day, the wind will be from the south-west, thereby bringing a &#39;clean&#39; feed of maritime air. A change in wind direction to south-easterly during the evening may import some particulates from the Paris area but this is not expected to be marked.&lt;br/&gt;&lt;br/&gt;Air pollution is expected to remain &#39;Low&#39; during the forecast period for the following pollutants.&lt;br/&gt;&lt;br/&gt;Nitrogen Dioxide&lt;br/&gt;Sulphur Dioxide&lt;br/&gt;Ozone&lt;br/&gt;PM10 Particulates&lt;br/&gt;PM2.5 Particulates&lt;br/&gt;'},\n",
       "  {'$id': '3',\n",
       "   '$type': 'Tfl.Api.Presentation.Entities.CurrentForecast, Tfl.Api.Presentation.Entities',\n",
       "   'forecastType': 'Future',\n",
       "   'forecastID': '33412',\n",
       "   'forecastBand': 'Low',\n",
       "   'forecastSummary': 'Low air pollution forecast valid from Saturday 18 September to end of Saturday 18 September GMT',\n",
       "   'nO2Band': 'Low',\n",
       "   'o3Band': 'Low',\n",
       "   'pM10Band': 'Low',\n",
       "   'pM25Band': 'Low',\n",
       "   'sO2Band': 'Low',\n",
       "   'forecastText': 'Partly sunny with showers on Saturday.&lt;br/&gt;&lt;br/&gt;A light south or south easterly breeze is expected. This airflow will have travelled over the near continent and at times will have passed over the Paris region. It&#39;s likely to contain some particulates and as a result both PM10 &amp; PM2.5 particulates may increase during the day. It&#39;s not expected currently that particulate concentrations will reach the &#39;moderate&#39; pollution threshold.&lt;br/&gt;&lt;br/&gt;Air pollution is expected to remain &#39;Low&#39; during the forecast period for the following pollutants.&lt;br/&gt;&lt;br/&gt;Nitrogen Dioxide&lt;br/&gt;Sulphur Dioxide&lt;br/&gt;Ozone&lt;br/&gt;PM10 Particulates&lt;br/&gt;PM2.5 Particulates&lt;br/&gt;'}]}"
      ]
     },
     "execution_count": 14,
     "metadata": {},
     "output_type": "execute_result"
    }
   ],
   "source": [
    "forecast_dict"
   ]
  },
  {
   "cell_type": "markdown",
   "metadata": {},
   "source": [
    "## Task\n",
    "What are the different modes of transport which are operated by Transfer for London? How many of modes do they have?\n",
    "\n",
    "Print the list with different modes of transport, plus their count. Example output:\n",
    "```\n",
    "[bus, cable-car,.....]\n",
    "Number of different modes of transport is: xyz\n",
    "```\n",
    "\n",
    "We need to search the documentation for correct request."
   ]
  },
  {
   "cell_type": "code",
   "execution_count": 17,
   "metadata": {},
   "outputs": [
    {
     "data": {
      "text/plain": [
       "<Response [200]>"
      ]
     },
     "execution_count": 17,
     "metadata": {},
     "output_type": "execute_result"
    }
   ],
   "source": [
    "url_modes = \"https://api.tfl.gov.uk/Line/Meta/Modes\"\n",
    "response_modes = re.get(url_modes)\n",
    "response_modes"
   ]
  },
  {
   "cell_type": "code",
   "execution_count": 18,
   "metadata": {},
   "outputs": [
    {
     "data": {
      "text/plain": [
       "[{'$type': 'Tfl.Api.Presentation.Entities.Mode, Tfl.Api.Presentation.Entities',\n",
       "  'isTflService': True,\n",
       "  'isFarePaying': True,\n",
       "  'isScheduledService': True,\n",
       "  'modeName': 'bus'},\n",
       " {'$type': 'Tfl.Api.Presentation.Entities.Mode, Tfl.Api.Presentation.Entities',\n",
       "  'isTflService': True,\n",
       "  'isFarePaying': True,\n",
       "  'isScheduledService': True,\n",
       "  'modeName': 'cable-car'},\n",
       " {'$type': 'Tfl.Api.Presentation.Entities.Mode, Tfl.Api.Presentation.Entities',\n",
       "  'isTflService': False,\n",
       "  'isFarePaying': True,\n",
       "  'isScheduledService': True,\n",
       "  'modeName': 'coach'},\n",
       " {'$type': 'Tfl.Api.Presentation.Entities.Mode, Tfl.Api.Presentation.Entities',\n",
       "  'isTflService': False,\n",
       "  'isFarePaying': False,\n",
       "  'isScheduledService': False,\n",
       "  'modeName': 'cycle'},\n",
       " {'$type': 'Tfl.Api.Presentation.Entities.Mode, Tfl.Api.Presentation.Entities',\n",
       "  'isTflService': True,\n",
       "  'isFarePaying': True,\n",
       "  'isScheduledService': False,\n",
       "  'modeName': 'cycle-hire'},\n",
       " {'$type': 'Tfl.Api.Presentation.Entities.Mode, Tfl.Api.Presentation.Entities',\n",
       "  'isTflService': True,\n",
       "  'isFarePaying': True,\n",
       "  'isScheduledService': True,\n",
       "  'modeName': 'dlr'},\n",
       " {'$type': 'Tfl.Api.Presentation.Entities.Mode, Tfl.Api.Presentation.Entities',\n",
       "  'isTflService': False,\n",
       "  'isFarePaying': False,\n",
       "  'isScheduledService': False,\n",
       "  'modeName': 'interchange-keep-sitting'},\n",
       " {'$type': 'Tfl.Api.Presentation.Entities.Mode, Tfl.Api.Presentation.Entities',\n",
       "  'isTflService': False,\n",
       "  'isFarePaying': False,\n",
       "  'isScheduledService': False,\n",
       "  'modeName': 'interchange-secure'},\n",
       " {'$type': 'Tfl.Api.Presentation.Entities.Mode, Tfl.Api.Presentation.Entities',\n",
       "  'isTflService': False,\n",
       "  'isFarePaying': True,\n",
       "  'isScheduledService': True,\n",
       "  'modeName': 'national-rail'},\n",
       " {'$type': 'Tfl.Api.Presentation.Entities.Mode, Tfl.Api.Presentation.Entities',\n",
       "  'isTflService': True,\n",
       "  'isFarePaying': True,\n",
       "  'isScheduledService': True,\n",
       "  'modeName': 'overground'},\n",
       " {'$type': 'Tfl.Api.Presentation.Entities.Mode, Tfl.Api.Presentation.Entities',\n",
       "  'isTflService': True,\n",
       "  'isFarePaying': True,\n",
       "  'isScheduledService': True,\n",
       "  'modeName': 'replacement-bus'},\n",
       " {'$type': 'Tfl.Api.Presentation.Entities.Mode, Tfl.Api.Presentation.Entities',\n",
       "  'isTflService': True,\n",
       "  'isFarePaying': True,\n",
       "  'isScheduledService': True,\n",
       "  'modeName': 'river-bus'},\n",
       " {'$type': 'Tfl.Api.Presentation.Entities.Mode, Tfl.Api.Presentation.Entities',\n",
       "  'isTflService': True,\n",
       "  'isFarePaying': True,\n",
       "  'isScheduledService': True,\n",
       "  'modeName': 'river-tour'},\n",
       " {'$type': 'Tfl.Api.Presentation.Entities.Mode, Tfl.Api.Presentation.Entities',\n",
       "  'isTflService': False,\n",
       "  'isFarePaying': False,\n",
       "  'isScheduledService': False,\n",
       "  'modeName': 'taxi'},\n",
       " {'$type': 'Tfl.Api.Presentation.Entities.Mode, Tfl.Api.Presentation.Entities',\n",
       "  'isTflService': True,\n",
       "  'isFarePaying': True,\n",
       "  'isScheduledService': True,\n",
       "  'modeName': 'tflrail'},\n",
       " {'$type': 'Tfl.Api.Presentation.Entities.Mode, Tfl.Api.Presentation.Entities',\n",
       "  'isTflService': True,\n",
       "  'isFarePaying': True,\n",
       "  'isScheduledService': True,\n",
       "  'modeName': 'tram'},\n",
       " {'$type': 'Tfl.Api.Presentation.Entities.Mode, Tfl.Api.Presentation.Entities',\n",
       "  'isTflService': True,\n",
       "  'isFarePaying': True,\n",
       "  'isScheduledService': True,\n",
       "  'modeName': 'tube'},\n",
       " {'$type': 'Tfl.Api.Presentation.Entities.Mode, Tfl.Api.Presentation.Entities',\n",
       "  'isTflService': False,\n",
       "  'isFarePaying': False,\n",
       "  'isScheduledService': False,\n",
       "  'modeName': 'walking'}]"
      ]
     },
     "execution_count": 18,
     "metadata": {},
     "output_type": "execute_result"
    }
   ],
   "source": [
    "modes_dict = response_modes.json()\n",
    "modes_dict"
   ]
  },
  {
   "cell_type": "code",
   "execution_count": null,
   "metadata": {},
   "outputs": [],
   "source": [
    "mode_list = []\n",
    "for i in modes_dict:\n",
    "    mode_list.append(i[\"modeName\"])\n",
    "print(mode_list,\"\\n\")\n",
    "print(\"There are \", len(mode_list), \" different types of transport\")"
   ]
  },
  {
   "cell_type": "markdown",
   "metadata": {},
   "source": [
    "## Task\n",
    "How many BikePoints in London are operated by Transfor for London? How many docks are in **all** BikePoints? There is the information for empty and full docks for each BikePoint."
   ]
  },
  {
   "cell_type": "markdown",
   "metadata": {},
   "source": [
    "## Imports and Response"
   ]
  },
  {
   "cell_type": "code",
   "execution_count": 2,
   "metadata": {},
   "outputs": [
    {
     "data": {
      "text/plain": [
       "<Response [200]>"
      ]
     },
     "execution_count": 2,
     "metadata": {},
     "output_type": "execute_result"
    }
   ],
   "source": [
    "import requests as re\n",
    "import pandas as pd\n",
    "import json\n",
    "url_bike = \"https://api.tfl.gov.uk/BikePoint\"\n",
    "response_bike = re.get(url_bike)\n",
    "response_bike"
   ]
  },
  {
   "cell_type": "markdown",
   "metadata": {},
   "source": [
    "## Create a JSON"
   ]
  },
  {
   "cell_type": "code",
   "execution_count": 3,
   "metadata": {},
   "outputs": [],
   "source": [
    "b_json = response_bike.json()"
   ]
  },
  {
   "cell_type": "markdown",
   "metadata": {},
   "source": [
    "## How many Bikepoints Total"
   ]
  },
  {
   "cell_type": "code",
   "execution_count": 5,
   "metadata": {},
   "outputs": [
    {
     "data": {
      "text/html": [
       "<div>\n",
       "<style scoped>\n",
       "    .dataframe tbody tr th:only-of-type {\n",
       "        vertical-align: middle;\n",
       "    }\n",
       "\n",
       "    .dataframe tbody tr th {\n",
       "        vertical-align: top;\n",
       "    }\n",
       "\n",
       "    .dataframe thead th {\n",
       "        text-align: right;\n",
       "    }\n",
       "</style>\n",
       "<table border=\"1\" class=\"dataframe\">\n",
       "  <thead>\n",
       "    <tr style=\"text-align: right;\">\n",
       "      <th></th>\n",
       "      <th>$type</th>\n",
       "      <th>id</th>\n",
       "      <th>url</th>\n",
       "      <th>commonName</th>\n",
       "      <th>placeType</th>\n",
       "      <th>additionalProperties</th>\n",
       "      <th>children</th>\n",
       "      <th>childrenUrls</th>\n",
       "      <th>lat</th>\n",
       "      <th>lon</th>\n",
       "    </tr>\n",
       "  </thead>\n",
       "  <tbody>\n",
       "    <tr>\n",
       "      <th>0</th>\n",
       "      <td>Tfl.Api.Presentation.Entities.Place, Tfl.Api.P...</td>\n",
       "      <td>BikePoints_207</td>\n",
       "      <td>/Place/BikePoints_207</td>\n",
       "      <td>Grosvenor Crescent, Belgravia</td>\n",
       "      <td>BikePoint</td>\n",
       "      <td>[{'$type': 'Tfl.Api.Presentation.Entities.Addi...</td>\n",
       "      <td>[]</td>\n",
       "      <td>[]</td>\n",
       "      <td>51.501352</td>\n",
       "      <td>-0.153194</td>\n",
       "    </tr>\n",
       "    <tr>\n",
       "      <th>1</th>\n",
       "      <td>Tfl.Api.Presentation.Entities.Place, Tfl.Api.P...</td>\n",
       "      <td>BikePoints_208</td>\n",
       "      <td>/Place/BikePoints_208</td>\n",
       "      <td>Mallory Street, Marylebone</td>\n",
       "      <td>BikePoint</td>\n",
       "      <td>[{'$type': 'Tfl.Api.Presentation.Entities.Addi...</td>\n",
       "      <td>[]</td>\n",
       "      <td>[]</td>\n",
       "      <td>51.525051</td>\n",
       "      <td>-0.166304</td>\n",
       "    </tr>\n",
       "    <tr>\n",
       "      <th>2</th>\n",
       "      <td>Tfl.Api.Presentation.Entities.Place, Tfl.Api.P...</td>\n",
       "      <td>BikePoints_209</td>\n",
       "      <td>/Place/BikePoints_209</td>\n",
       "      <td>Denyer Street, Knightsbridge</td>\n",
       "      <td>BikePoint</td>\n",
       "      <td>[{'$type': 'Tfl.Api.Presentation.Entities.Addi...</td>\n",
       "      <td>[]</td>\n",
       "      <td>[]</td>\n",
       "      <td>51.493583</td>\n",
       "      <td>-0.165101</td>\n",
       "    </tr>\n",
       "    <tr>\n",
       "      <th>3</th>\n",
       "      <td>Tfl.Api.Presentation.Entities.Place, Tfl.Api.P...</td>\n",
       "      <td>BikePoints_210</td>\n",
       "      <td>/Place/BikePoints_210</td>\n",
       "      <td>Hinde Street, Marylebone</td>\n",
       "      <td>BikePoint</td>\n",
       "      <td>[{'$type': 'Tfl.Api.Presentation.Entities.Addi...</td>\n",
       "      <td>[]</td>\n",
       "      <td>[]</td>\n",
       "      <td>51.516814</td>\n",
       "      <td>-0.151926</td>\n",
       "    </tr>\n",
       "    <tr>\n",
       "      <th>4</th>\n",
       "      <td>Tfl.Api.Presentation.Entities.Place, Tfl.Api.P...</td>\n",
       "      <td>BikePoints_211</td>\n",
       "      <td>/Place/BikePoints_211</td>\n",
       "      <td>Cadogan Place, Knightsbridge</td>\n",
       "      <td>BikePoint</td>\n",
       "      <td>[{'$type': 'Tfl.Api.Presentation.Entities.Addi...</td>\n",
       "      <td>[]</td>\n",
       "      <td>[]</td>\n",
       "      <td>51.494645</td>\n",
       "      <td>-0.158105</td>\n",
       "    </tr>\n",
       "    <tr>\n",
       "      <th>...</th>\n",
       "      <td>...</td>\n",
       "      <td>...</td>\n",
       "      <td>...</td>\n",
       "      <td>...</td>\n",
       "      <td>...</td>\n",
       "      <td>...</td>\n",
       "      <td>...</td>\n",
       "      <td>...</td>\n",
       "      <td>...</td>\n",
       "      <td>...</td>\n",
       "    </tr>\n",
       "    <tr>\n",
       "      <th>781</th>\n",
       "      <td>Tfl.Api.Presentation.Entities.Place, Tfl.Api.P...</td>\n",
       "      <td>BikePoints_820</td>\n",
       "      <td>/Place/BikePoints_820</td>\n",
       "      <td>Victory Place, Walworth</td>\n",
       "      <td>BikePoint</td>\n",
       "      <td>[{'$type': 'Tfl.Api.Presentation.Entities.Addi...</td>\n",
       "      <td>[]</td>\n",
       "      <td>[]</td>\n",
       "      <td>51.492807</td>\n",
       "      <td>-0.091938</td>\n",
       "    </tr>\n",
       "    <tr>\n",
       "      <th>782</th>\n",
       "      <td>Tfl.Api.Presentation.Entities.Place, Tfl.Api.P...</td>\n",
       "      <td>BikePoints_821</td>\n",
       "      <td>/Place/BikePoints_821</td>\n",
       "      <td>Battersea Power Station, Battersea Park</td>\n",
       "      <td>BikePoint</td>\n",
       "      <td>[{'$type': 'Tfl.Api.Presentation.Entities.Addi...</td>\n",
       "      <td>[]</td>\n",
       "      <td>[]</td>\n",
       "      <td>51.483507</td>\n",
       "      <td>-0.147714</td>\n",
       "    </tr>\n",
       "    <tr>\n",
       "      <th>783</th>\n",
       "      <td>Tfl.Api.Presentation.Entities.Place, Tfl.Api.P...</td>\n",
       "      <td>BikePoints_826</td>\n",
       "      <td>/Place/BikePoints_826</td>\n",
       "      <td>Allington Street, Victoria</td>\n",
       "      <td>BikePoint</td>\n",
       "      <td>[{'$type': 'Tfl.Api.Presentation.Entities.Addi...</td>\n",
       "      <td>[]</td>\n",
       "      <td>[]</td>\n",
       "      <td>51.496863</td>\n",
       "      <td>-0.142943</td>\n",
       "    </tr>\n",
       "    <tr>\n",
       "      <th>784</th>\n",
       "      <td>Tfl.Api.Presentation.Entities.Place, Tfl.Api.P...</td>\n",
       "      <td>BikePoints_827</td>\n",
       "      <td>/Place/BikePoints_827</td>\n",
       "      <td>Cranmer Road, Stockwell</td>\n",
       "      <td>BikePoint</td>\n",
       "      <td>[{'$type': 'Tfl.Api.Presentation.Entities.Addi...</td>\n",
       "      <td>[]</td>\n",
       "      <td>[]</td>\n",
       "      <td>51.479601</td>\n",
       "      <td>-0.111471</td>\n",
       "    </tr>\n",
       "    <tr>\n",
       "      <th>785</th>\n",
       "      <td>Tfl.Api.Presentation.Entities.Place, Tfl.Api.P...</td>\n",
       "      <td>BikePoints_163</td>\n",
       "      <td>/Place/BikePoints_163</td>\n",
       "      <td>Sloane Avenue, Knightsbridge</td>\n",
       "      <td>BikePoint</td>\n",
       "      <td>[{'$type': 'Tfl.Api.Presentation.Entities.Addi...</td>\n",
       "      <td>[]</td>\n",
       "      <td>[]</td>\n",
       "      <td>51.493184</td>\n",
       "      <td>-0.167894</td>\n",
       "    </tr>\n",
       "  </tbody>\n",
       "</table>\n",
       "<p>786 rows × 10 columns</p>\n",
       "</div>"
      ],
      "text/plain": [
       "                                                 $type              id  \\\n",
       "0    Tfl.Api.Presentation.Entities.Place, Tfl.Api.P...  BikePoints_207   \n",
       "1    Tfl.Api.Presentation.Entities.Place, Tfl.Api.P...  BikePoints_208   \n",
       "2    Tfl.Api.Presentation.Entities.Place, Tfl.Api.P...  BikePoints_209   \n",
       "3    Tfl.Api.Presentation.Entities.Place, Tfl.Api.P...  BikePoints_210   \n",
       "4    Tfl.Api.Presentation.Entities.Place, Tfl.Api.P...  BikePoints_211   \n",
       "..                                                 ...             ...   \n",
       "781  Tfl.Api.Presentation.Entities.Place, Tfl.Api.P...  BikePoints_820   \n",
       "782  Tfl.Api.Presentation.Entities.Place, Tfl.Api.P...  BikePoints_821   \n",
       "783  Tfl.Api.Presentation.Entities.Place, Tfl.Api.P...  BikePoints_826   \n",
       "784  Tfl.Api.Presentation.Entities.Place, Tfl.Api.P...  BikePoints_827   \n",
       "785  Tfl.Api.Presentation.Entities.Place, Tfl.Api.P...  BikePoints_163   \n",
       "\n",
       "                       url                               commonName  \\\n",
       "0    /Place/BikePoints_207            Grosvenor Crescent, Belgravia   \n",
       "1    /Place/BikePoints_208               Mallory Street, Marylebone   \n",
       "2    /Place/BikePoints_209             Denyer Street, Knightsbridge   \n",
       "3    /Place/BikePoints_210                 Hinde Street, Marylebone   \n",
       "4    /Place/BikePoints_211             Cadogan Place, Knightsbridge   \n",
       "..                     ...                                      ...   \n",
       "781  /Place/BikePoints_820                  Victory Place, Walworth   \n",
       "782  /Place/BikePoints_821  Battersea Power Station, Battersea Park   \n",
       "783  /Place/BikePoints_826               Allington Street, Victoria   \n",
       "784  /Place/BikePoints_827                  Cranmer Road, Stockwell   \n",
       "785  /Place/BikePoints_163             Sloane Avenue, Knightsbridge   \n",
       "\n",
       "     placeType                               additionalProperties children  \\\n",
       "0    BikePoint  [{'$type': 'Tfl.Api.Presentation.Entities.Addi...       []   \n",
       "1    BikePoint  [{'$type': 'Tfl.Api.Presentation.Entities.Addi...       []   \n",
       "2    BikePoint  [{'$type': 'Tfl.Api.Presentation.Entities.Addi...       []   \n",
       "3    BikePoint  [{'$type': 'Tfl.Api.Presentation.Entities.Addi...       []   \n",
       "4    BikePoint  [{'$type': 'Tfl.Api.Presentation.Entities.Addi...       []   \n",
       "..         ...                                                ...      ...   \n",
       "781  BikePoint  [{'$type': 'Tfl.Api.Presentation.Entities.Addi...       []   \n",
       "782  BikePoint  [{'$type': 'Tfl.Api.Presentation.Entities.Addi...       []   \n",
       "783  BikePoint  [{'$type': 'Tfl.Api.Presentation.Entities.Addi...       []   \n",
       "784  BikePoint  [{'$type': 'Tfl.Api.Presentation.Entities.Addi...       []   \n",
       "785  BikePoint  [{'$type': 'Tfl.Api.Presentation.Entities.Addi...       []   \n",
       "\n",
       "    childrenUrls        lat       lon  \n",
       "0             []  51.501352 -0.153194  \n",
       "1             []  51.525051 -0.166304  \n",
       "2             []  51.493583 -0.165101  \n",
       "3             []  51.516814 -0.151926  \n",
       "4             []  51.494645 -0.158105  \n",
       "..           ...        ...       ...  \n",
       "781           []  51.492807 -0.091938  \n",
       "782           []  51.483507 -0.147714  \n",
       "783           []  51.496863 -0.142943  \n",
       "784           []  51.479601 -0.111471  \n",
       "785           []  51.493184 -0.167894  \n",
       "\n",
       "[786 rows x 10 columns]"
      ]
     },
     "execution_count": 5,
     "metadata": {},
     "output_type": "execute_result"
    }
   ],
   "source": [
    "from pandas import json_normalize as norm\n",
    "bike_df = norm(b_json)\n",
    "bike_df\n",
    "# this is ugly.\n",
    "# print(len(bike_df))"
   ]
  },
  {
   "cell_type": "markdown",
   "metadata": {},
   "source": [
    "## How many docks in all Bikepoints?"
   ]
  },
  {
   "cell_type": "code",
   "execution_count": null,
   "metadata": {},
   "outputs": [],
   "source": [
    "Bikes = 0\n",
    "Docks = 0\n",
    "\n",
    "# for i in b_json:\n",
    "#     nbBikes = int(i[\"additionalProperties\"][6][\"value\"])\n",
    "#     nbDocks = int(i[\"additionalProperties\"][8][\"value\"])\n",
    "#     Bikes = Bikes + nbBikes\n",
    "#     Docks = Docks + nbDocks\n",
    "    \n",
    "# print(\"There are {} Bikes.\".format(Bikes))\n",
    "# print(\"There are {} Docks... apparently?\".format(Docks))\n",
    "\n",
    "# print(b_json[0][\"additionalProperties\"])\n",
    "for i in b_json:\n",
    "    for j in (i[\"additionalProperties\"]):\n",
    "        if j[\"key\"] == \"NbBikes\":\n",
    "            Bikes = Bikes + int(j[\"value\"])\n",
    "        if j[\"key\"] == \"NbDocks\":\n",
    "            Docks = Docks + int(j[\"value\"])\n",
    "\n",
    "print(\"{} Bikes and {} Docks. Total {} Bikes and Docks!\".format(Bikes, Docks, Bikes+Docks))\n",
    "            \n"
   ]
  },
  {
   "cell_type": "markdown",
   "metadata": {},
   "source": [
    "## pprint json's"
   ]
  },
  {
   "cell_type": "code",
   "execution_count": null,
   "metadata": {},
   "outputs": [],
   "source": [
    "import pprint # let's print it neater\n",
    "pp = pprint.PrettyPrinter()\n",
    "pp.pprint(bike_dict)"
   ]
  },
  {
   "cell_type": "code",
   "execution_count": null,
   "metadata": {},
   "outputs": [],
   "source": [
    "bike_dict[0][\"additionalProperties\"][8][\"value\"] this is what we want..."
   ]
  },
  {
   "cell_type": "markdown",
   "metadata": {},
   "source": [
    "## Task\n",
    "How many tube and bus lines are in London? Print names of all tube lines."
   ]
  },
  {
   "cell_type": "markdown",
   "metadata": {},
   "source": [
    "### How I did it\n",
    "#### check url for re:, export json, json to pandas, count rows."
   ]
  },
  {
   "cell_type": "code",
   "execution_count": null,
   "metadata": {},
   "outputs": [],
   "source": [
    "# url_lines = \"https://api.tfl.gov.uk/Line/Meta/Modes\"\n",
    "# response_lines = re.get(url_lines)\n",
    "# lines_dict = response_lines.json()\n",
    "# pd_lines = lines_dict\n",
    "# df_lines = json_normalize(pd_lines)\n",
    "# Cheat sheet..."
   ]
  },
  {
   "cell_type": "markdown",
   "metadata": {},
   "source": [
    "#### bus lines"
   ]
  },
  {
   "cell_type": "code",
   "execution_count": null,
   "metadata": {},
   "outputs": [],
   "source": [
    "response_bus = re.get(\"https://api.tfl.gov.uk/Line/Mode/bus\")\n",
    "bus_dict = response_bus.json()\n",
    "from pandas import json_normalize\n",
    "df_bus = json_normalize(bus_dict)\n",
    "df_bus"
   ]
  },
  {
   "cell_type": "markdown",
   "metadata": {},
   "source": [
    "#### tube lines"
   ]
  },
  {
   "cell_type": "code",
   "execution_count": null,
   "metadata": {},
   "outputs": [],
   "source": [
    "response_tube = re.get(\"https://api.tfl.gov.uk/Line/Mode/tube\")\n",
    "tube_dict = response_tube.json()\n",
    "from pandas import json_normalize\n",
    "df_tube = json_normalize(tube_dict)\n",
    "df_tube"
   ]
  },
  {
   "cell_type": "code",
   "execution_count": null,
   "metadata": {},
   "outputs": [],
   "source": [
    "# empty_modes = []\n",
    "# for i in modes_dict:\n",
    "#     empty_modes.append(i.get(\"modeName\")) # json body is dictionary\n",
    "# print(empty_modes)"
   ]
  },
  {
   "cell_type": "code",
   "execution_count": null,
   "metadata": {},
   "outputs": [],
   "source": [
    "from IPython.display import JSON\n",
    "JSON(tube_dict)"
   ]
  },
  {
   "cell_type": "markdown",
   "metadata": {},
   "source": [
    "## Task\n",
    "How many station has `victoria` line?"
   ]
  },
  {
   "cell_type": "code",
   "execution_count": null,
   "metadata": {},
   "outputs": [],
   "source": [
    "response_victoria = re.get(\"https://api.tfl.gov.uk/Line/Victoria/StopPoints\")\n",
    "response_victoria\n",
    "victoria_dict = response_victoria.json()\n",
    "from pandas import json_normalize\n",
    "df_victoria = json_normalize(victoria_dict)\n",
    "df_victoria"
   ]
  },
  {
   "cell_type": "markdown",
   "metadata": {},
   "source": [
    "# Visualizing python json!"
   ]
  },
  {
   "cell_type": "code",
   "execution_count": null,
   "metadata": {},
   "outputs": [],
   "source": [
    "# import pprint\n",
    "# pp = pprint.PrettyPrinter()\n",
    "# pp.pprint(json)"
   ]
  },
  {
   "cell_type": "markdown",
   "metadata": {},
   "source": [
    "## Task\n",
    "Plan the journey from Heathrow Airport to Tower Bridge using Bus and Tube? Which way is faster? Example output:\n",
    "```\n",
    "Planned duration:\n",
    "Bus: x minutes\n",
    "Tube: y minutes\n",
    "```\n",
    "\n",
    "We need to search the documentation for correct requests and parameters we need."
   ]
  },
  {
   "cell_type": "code",
   "execution_count": null,
   "metadata": {},
   "outputs": [],
   "source": [
    "# response_journey = re.get(\"https://api.tfl.gov.uk/Journey/JourneyResults/HeathrowAirport/to/TowerBridge\"\n",
    "# journey_json = response_journey.json()"
   ]
  },
  {
   "cell_type": "code",
   "execution_count": null,
   "metadata": {},
   "outputs": [],
   "source": [
    "# journey_json(searchCriteria[\"bus\"])"
   ]
  },
  {
   "cell_type": "code",
   "execution_count": null,
   "metadata": {},
   "outputs": [],
   "source": [
    "# bus\n",
    "response_journey1 = re.get(\"https://api.tfl.gov.uk/Journey/JourneyResults/51.4700%2C%20-0.4543/to/51.5055%2C%20-0.0754?mode=bus\")\n",
    "response_journey1 # good"
   ]
  },
  {
   "cell_type": "code",
   "execution_count": null,
   "metadata": {},
   "outputs": [],
   "source": [
    "# tube\n",
    "tube_journey = re.get(\"https://api.tfl.gov.uk/Journey/JourneyResults/51.4700%2C%20-0.4543/to/51.5055%2C%20-0.0754?mode=tube\")\n",
    "tube_journey"
   ]
  },
  {
   "cell_type": "code",
   "execution_count": null,
   "metadata": {},
   "outputs": [],
   "source": [
    "# make json and find ['journeys']"
   ]
  },
  {
   "cell_type": "code",
   "execution_count": null,
   "metadata": {},
   "outputs": [],
   "source": []
  },
  {
   "cell_type": "markdown",
   "metadata": {},
   "source": []
  },
  {
   "cell_type": "code",
   "execution_count": null,
   "metadata": {},
   "outputs": [],
   "source": [
    "for m in mode_list: # go through the 18 different types of mode transport\n",
    "    if m.lower() in [\"bus\", \"tube\"]: # they are\n",
    "        r = re.get('https://api.tfl.gov.uk/Journey/JourneyResults/51.4700%2C%20-0.4543/to/51.5055%2C%20-0.0754?mode={}'.format(m))\n",
    "        json = r.json() # out to json format\n",
    "\n",
    "        if r.status_code == 200: # if we get a good response...\n",
    "\n",
    "            journeys = json['journeys']\n",
    "            durations = []\n",
    "            for j in journeys:\n",
    "                durations.append(j.get('duration'))\n",
    "\n",
    "            print(f'{m.capitalize()}: {min(durations)} minutes')\n",
    "\n",
    "        else:\n",
    "            print(f\"{m.capitalize()}: {json['message']}\")"
   ]
  },
  {
   "cell_type": "code",
   "execution_count": null,
   "metadata": {},
   "outputs": [],
   "source": []
  },
  {
   "cell_type": "code",
   "execution_count": null,
   "metadata": {},
   "outputs": [],
   "source": [
    "json['journeys'][0]['duration'] # tube currently called."
   ]
  },
  {
   "cell_type": "code",
   "execution_count": null,
   "metadata": {},
   "outputs": [],
   "source": [
    "name = \"Louis\"\n",
    "lname = \"Rossi\"\n",
    "print(\"hello my name is {}{}\".format(name, lname))"
   ]
  },
  {
   "cell_type": "code",
   "execution_count": null,
   "metadata": {},
   "outputs": [],
   "source": [
    "import pprint\n",
    "pp = pprint.PrettyPrinter()\n",
    "pp.pprint(json)"
   ]
  },
  {
   "cell_type": "code",
   "execution_count": 5,
   "metadata": {},
   "outputs": [
    {
     "ename": "NameError",
     "evalue": "name 'bike_json' is not defined",
     "output_type": "error",
     "traceback": [
      "\u001b[0;31m---------------------------------------------------------------------------\u001b[0m",
      "\u001b[0;31mNameError\u001b[0m                                 Traceback (most recent call last)",
      "\u001b[0;32m<ipython-input-5-74e71838e211>\u001b[0m in \u001b[0;36m<module>\u001b[0;34m\u001b[0m\n\u001b[0;32m----> 1\u001b[0;31m \u001b[0mbike_json\u001b[0m\u001b[0;34m\u001b[0m\u001b[0;34m\u001b[0m\u001b[0m\n\u001b[0m",
      "\u001b[0;31mNameError\u001b[0m: name 'bike_json' is not defined"
     ]
    }
   ],
   "source": [
    "bike_json"
   ]
  },
  {
   "cell_type": "code",
   "execution_count": null,
   "metadata": {},
   "outputs": [],
   "source": []
  }
 ],
 "metadata": {
  "kernelspec": {
   "display_name": "Python 3",
   "language": "python",
   "name": "python3"
  },
  "language_info": {
   "codemirror_mode": {
    "name": "ipython",
    "version": 3
   },
   "file_extension": ".py",
   "mimetype": "text/x-python",
   "name": "python",
   "nbconvert_exporter": "python",
   "pygments_lexer": "ipython3",
   "version": "3.8.8"
  }
 },
 "nbformat": 4,
 "nbformat_minor": 4
}

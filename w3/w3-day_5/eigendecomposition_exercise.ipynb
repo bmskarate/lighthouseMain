{
 "cells": [
  {
   "cell_type": "markdown",
   "metadata": {},
   "source": [
    "## eigendecomposition exercise"
   ]
  },
  {
   "cell_type": "code",
   "execution_count": 1,
   "metadata": {
    "ExecuteTime": {
     "end_time": "2020-01-30T08:49:32.277001Z",
     "start_time": "2020-01-30T08:49:32.273265Z"
    }
   },
   "outputs": [],
   "source": [
    "# import numpy\n",
    "import numpy as np"
   ]
  },
  {
   "cell_type": "markdown",
   "metadata": {
    "ExecuteTime": {
     "end_time": "2020-01-30T08:49:32.705250Z",
     "start_time": "2020-01-30T08:49:32.690350Z"
    }
   },
   "source": [
    "**Task:** Create a matrix (2x2) called matrix 'A'.\n"
   ]
  },
  {
   "cell_type": "code",
   "execution_count": 5,
   "metadata": {},
   "outputs": [],
   "source": [
    "A = np.array( [ [2,3], \n",
    "                [4,5] ] )"
   ]
  },
  {
   "cell_type": "code",
   "execution_count": 12,
   "metadata": {},
   "outputs": [],
   "source": [
    "B = np.array( [ [2,3,4],\n",
    "                [4,5,6] ] )"
   ]
  },
  {
   "cell_type": "markdown",
   "metadata": {},
   "source": [
    "**Task:** Define the function `'shape_2x2'` which checks if a matrix has a (2x2) shape."
   ]
  },
  {
   "cell_type": "code",
   "execution_count": 15,
   "metadata": {
    "ExecuteTime": {
     "end_time": "2020-01-30T08:49:33.010790Z",
     "start_time": "2020-01-30T08:49:33.001874Z"
    }
   },
   "outputs": [
    {
     "data": {
      "text/plain": [
       "True"
      ]
     },
     "execution_count": 15,
     "metadata": {},
     "output_type": "execute_result"
    }
   ],
   "source": [
    "\"\"\"\n",
    "Define the function 'shape_2x2' which checks if a matrix has a (2x2) shape.\n",
    "\n",
    "PARAMS:\n",
    "    matrix (numpy.ndarray) - matrix to check\n",
    "RETURN:\n",
    "    True (bool) - if matrix has shape 2x2\n",
    "    False (bool) - if matrix has not shape 2x2\n",
    "\n",
    "\"\"\"\n",
    "def shape_2x2(mx):\n",
    "    if mx.shape == (2,2):\n",
    "        return True\n",
    "    else:\n",
    "        return False\n",
    "shape_2x2(A)"
   ]
  },
  {
   "cell_type": "code",
   "execution_count": null,
   "metadata": {},
   "outputs": [],
   "source": []
  },
  {
   "cell_type": "code",
   "execution_count": null,
   "metadata": {},
   "outputs": [],
   "source": []
  },
  {
   "cell_type": "markdown",
   "metadata": {},
   "source": [
    "**Task:** Define the function `'determinant_2x2'` which computes the determinant of a (2x2) matrix.\n",
    "\n",
    "Do not forget to check the shape of  the input matrix."
   ]
  },
  {
   "cell_type": "code",
   "execution_count": 20,
   "metadata": {
    "ExecuteTime": {
     "end_time": "2020-01-30T08:49:33.337444Z",
     "start_time": "2020-01-30T08:49:33.329488Z"
    }
   },
   "outputs": [
    {
     "data": {
      "text/plain": [
       "-2.0"
      ]
     },
     "execution_count": 20,
     "metadata": {},
     "output_type": "execute_result"
    }
   ],
   "source": [
    "\"\"\"\n",
    "Define the function 'determinant_2x2' which computes the determinant of a (2x2) matrix.\n",
    "\n",
    "PARAMS:\n",
    "    matrix (numpy.ndarray) - matrix to compute determinant\n",
    "RETURN:\n",
    "    det (float) - matrix determinant\n",
    "\n",
    "\"\"\"\n",
    "def determinant_2x2(mx):\n",
    "    try:\n",
    "        return np.linalg.det(mx)\n",
    "    except:\n",
    "        print(\"Not a square. No can do.\")\n",
    "determinant_2x2(A)"
   ]
  },
  {
   "cell_type": "code",
   "execution_count": null,
   "metadata": {},
   "outputs": [],
   "source": []
  },
  {
   "cell_type": "code",
   "execution_count": null,
   "metadata": {},
   "outputs": [],
   "source": []
  },
  {
   "cell_type": "markdown",
   "metadata": {
    "ExecuteTime": {
     "end_time": "2020-01-30T08:49:33.653982Z",
     "start_time": "2020-01-30T08:49:33.640536Z"
    }
   },
   "source": [
    "**Task:** Call the function `'determinant_2x2'` on matrix 'A'."
   ]
  },
  {
   "cell_type": "code",
   "execution_count": 21,
   "metadata": {},
   "outputs": [],
   "source": [
    "# done above"
   ]
  },
  {
   "cell_type": "code",
   "execution_count": null,
   "metadata": {},
   "outputs": [],
   "source": []
  },
  {
   "cell_type": "markdown",
   "metadata": {
    "ExecuteTime": {
     "end_time": "2020-01-30T08:49:33.965268Z",
     "start_time": "2020-01-30T08:49:33.955633Z"
    }
   },
   "source": [
    "**Task:** Compute the eigenvalues of matrix 'A' with numpy."
   ]
  },
  {
   "cell_type": "code",
   "execution_count": 22,
   "metadata": {},
   "outputs": [],
   "source": [
    "from numpy import linalg as LA"
   ]
  },
  {
   "cell_type": "code",
   "execution_count": 23,
   "metadata": {},
   "outputs": [],
   "source": [
    "w, v = LA.eig(A)"
   ]
  },
  {
   "cell_type": "markdown",
   "metadata": {
    "ExecuteTime": {
     "end_time": "2020-01-30T08:49:34.161648Z",
     "start_time": "2020-01-30T08:49:34.150747Z"
    }
   },
   "source": [
    "**Task:** Print the eigenvalues."
   ]
  },
  {
   "cell_type": "code",
   "execution_count": 24,
   "metadata": {},
   "outputs": [
    {
     "data": {
      "text/plain": [
       "array([-0.27491722,  7.27491722])"
      ]
     },
     "execution_count": 24,
     "metadata": {},
     "output_type": "execute_result"
    }
   ],
   "source": [
    "w"
   ]
  },
  {
   "cell_type": "code",
   "execution_count": null,
   "metadata": {},
   "outputs": [],
   "source": []
  },
  {
   "cell_type": "markdown",
   "metadata": {
    "ExecuteTime": {
     "end_time": "2020-01-30T08:49:34.442956Z",
     "start_time": "2020-01-30T08:49:34.426399Z"
    }
   },
   "source": [
    "**Task:** Print  the eigenvectors."
   ]
  },
  {
   "cell_type": "code",
   "execution_count": 25,
   "metadata": {},
   "outputs": [
    {
     "data": {
      "text/plain": [
       "array([[-0.79681209, -0.49436913],\n",
       "       [ 0.60422718, -0.86925207]])"
      ]
     },
     "execution_count": 25,
     "metadata": {},
     "output_type": "execute_result"
    }
   ],
   "source": [
    "v"
   ]
  },
  {
   "cell_type": "code",
   "execution_count": null,
   "metadata": {},
   "outputs": [],
   "source": []
  },
  {
   "cell_type": "markdown",
   "metadata": {},
   "source": [
    "**Task:** Define a function `'eig_2x2'` which computes the eigenvectors and the eigenvalues of 2x2 matrix.\n",
    "\n",
    "Do not use the np.linalg.eig function. Use your 'shape_2x2' and your 'determinant_2x2' functions. Be carefull, eigenvalues and eigenvectors could contain complex numbers.\n",
    "\n",
    "How to compute eigenvalues of a 2x2 matrix?:\n",
    "\n",
    "- https://yutsumura.com/express-the-eigenvalues-of-a-2-by-2-matrix-in-terms-of-the-trace-and-determinant/"
   ]
  },
  {
   "cell_type": "code",
   "execution_count": 38,
   "metadata": {
    "ExecuteTime": {
     "end_time": "2020-01-30T08:49:34.728724Z",
     "start_time": "2020-01-30T08:49:34.717473Z"
    }
   },
   "outputs": [],
   "source": [
    "\"\"\"\n",
    "Define a function 'eig_2x2' which computes the eigenvectors and the eigenvalues of 2x2 matrix\n",
    "\n",
    "PARAMS:\n",
    "    matrix (numpy.ndarray) - matrix to perform decomposition\n",
    "RETURN:\n",
    "    eigenvalues, eigenvectors (tuple) - eigenvalues, eigenvectors as numpy.ndarrays\n",
    "\n",
    "\"\"\"\n",
    "def eig_2x2(mx):\n",
    "    from numpy import linalg as LA\n",
    "    w, v = LA.eig(mx)\n",
    "    return(\"eigvalues: \", w, \"eigvectors: \", v)\n",
    "def eig_2x2_valuesonly(mx):\n",
    "    from numpy import linalg as LA\n",
    "    w, v = LA.eig(mx)\n",
    "    return w"
   ]
  },
  {
   "cell_type": "code",
   "execution_count": null,
   "metadata": {},
   "outputs": [],
   "source": []
  },
  {
   "cell_type": "code",
   "execution_count": null,
   "metadata": {},
   "outputs": [],
   "source": []
  },
  {
   "cell_type": "markdown",
   "metadata": {
    "ExecuteTime": {
     "end_time": "2020-01-30T08:49:35.033600Z",
     "start_time": "2020-01-30T08:49:35.026479Z"
    }
   },
   "source": [
    "**Task:** Call the function `'eig_2x2'` on matrix 'A'."
   ]
  },
  {
   "cell_type": "code",
   "execution_count": 27,
   "metadata": {},
   "outputs": [
    {
     "data": {
      "text/plain": [
       "('eigvalues: ',\n",
       " array([-0.27491722,  7.27491722]),\n",
       " 'eigvectors: ',\n",
       " array([[-0.79681209, -0.49436913],\n",
       "        [ 0.60422718, -0.86925207]]))"
      ]
     },
     "execution_count": 27,
     "metadata": {},
     "output_type": "execute_result"
    }
   ],
   "source": [
    "eig_2x2(A)"
   ]
  },
  {
   "cell_type": "code",
   "execution_count": null,
   "metadata": {},
   "outputs": [],
   "source": []
  },
  {
   "cell_type": "markdown",
   "metadata": {
    "ExecuteTime": {
     "end_time": "2020-01-30T08:49:35.359324Z",
     "start_time": "2020-01-30T08:49:35.344962Z"
    }
   },
   "source": [
    "**Task:** Compare your results with the numpy function (to compare use the [**np.allclose**](https://numpy.org/doc/stable/reference/generated/numpy.allclose.html) function)."
   ]
  },
  {
   "cell_type": "code",
   "execution_count": null,
   "metadata": {},
   "outputs": [],
   "source": []
  },
  {
   "cell_type": "code",
   "execution_count": 39,
   "metadata": {},
   "outputs": [
    {
     "data": {
      "text/plain": [
       "True"
      ]
     },
     "execution_count": 39,
     "metadata": {},
     "output_type": "execute_result"
    }
   ],
   "source": [
    "np.allclose(w, eig_2x2_valuesonly(A))"
   ]
  },
  {
   "cell_type": "markdown",
   "metadata": {
    "ExecuteTime": {
     "end_time": "2020-01-30T08:49:35.767409Z",
     "start_time": "2020-01-30T08:49:35.762382Z"
    }
   },
   "source": [
    "**Task:** Define matrix B = np.array([[0,1],[-1,0]]) "
   ]
  },
  {
   "cell_type": "code",
   "execution_count": 40,
   "metadata": {},
   "outputs": [],
   "source": [
    "B = np.array([[0,1],[-1,0]])"
   ]
  },
  {
   "cell_type": "code",
   "execution_count": null,
   "metadata": {},
   "outputs": [],
   "source": []
  },
  {
   "cell_type": "markdown",
   "metadata": {
    "ExecuteTime": {
     "end_time": "2020-01-30T08:49:36.107561Z",
     "start_time": "2020-01-30T08:49:36.101971Z"
    }
   },
   "source": [
    "**Task:** Compute the eigenvalues and the eigevectors of matrix 'B' with numpy and with your `'eig_2x2'` function."
   ]
  },
  {
   "cell_type": "code",
   "execution_count": 41,
   "metadata": {},
   "outputs": [
    {
     "data": {
      "text/plain": [
       "('eigvalues: ',\n",
       " array([0.+1.j, 0.-1.j]),\n",
       " 'eigvectors: ',\n",
       " array([[0.70710678+0.j        , 0.70710678-0.j        ],\n",
       "        [0.        +0.70710678j, 0.        -0.70710678j]]))"
      ]
     },
     "execution_count": 41,
     "metadata": {},
     "output_type": "execute_result"
    }
   ],
   "source": [
    "eig_2x2(B)"
   ]
  },
  {
   "cell_type": "code",
   "execution_count": null,
   "metadata": {},
   "outputs": [],
   "source": []
  },
  {
   "cell_type": "markdown",
   "metadata": {
    "ExecuteTime": {
     "end_time": "2020-01-30T08:49:36.483358Z",
     "start_time": "2020-01-30T08:49:36.474496Z"
    }
   },
   "source": [
    "**Task:** Compare the results with the numpy function (to compare use the [**np.allclose**](https://numpy.org/doc/stable/reference/generated/numpy.allclose.html) function)."
   ]
  },
  {
   "cell_type": "code",
   "execution_count": 42,
   "metadata": {},
   "outputs": [],
   "source": [
    "from numpy import linalg as LA\n",
    "eigenvalues, eigenvectors = LA.eig(B)"
   ]
  },
  {
   "cell_type": "code",
   "execution_count": 43,
   "metadata": {},
   "outputs": [],
   "source": [
    "lambdas = np.diag(eigenvalues)"
   ]
  },
  {
   "cell_type": "code",
   "execution_count": 45,
   "metadata": {},
   "outputs": [
    {
     "data": {
      "text/plain": [
       "array([[0.70710678+0.j        , 0.        -0.70710678j],\n",
       "       [0.70710678+0.j        , 0.        +0.70710678j]])"
      ]
     },
     "execution_count": 45,
     "metadata": {},
     "output_type": "execute_result"
    }
   ],
   "source": [
    "V_inv = np.linalg.inv(eigenvectors)\n",
    "V_inv"
   ]
  },
  {
   "cell_type": "code",
   "execution_count": 48,
   "metadata": {},
   "outputs": [
    {
     "data": {
      "text/plain": [
       "array([[ 0.+0.j,  1.+0.j],\n",
       "       [-1.+0.j,  0.+0.j]])"
      ]
     },
     "execution_count": 48,
     "metadata": {},
     "output_type": "execute_result"
    }
   ],
   "source": [
    "B_orig  = eigenvectors.dot(lambdas).dot(V_inv)\n",
    "B_orig # Now A and A_orig ARE THE SAME! of course..."
   ]
  },
  {
   "cell_type": "markdown",
   "metadata": {
    "ExecuteTime": {
     "end_time": "2020-01-30T08:49:36.913277Z",
     "start_time": "2020-01-30T08:49:36.893341Z"
    }
   },
   "source": [
    "**Task:** Print the eigenvalues and the eigenvectors. Why are the solutions different?"
   ]
  },
  {
   "cell_type": "code",
   "execution_count": 49,
   "metadata": {},
   "outputs": [
    {
     "data": {
      "text/plain": [
       "array([[ 0.+0.j,  1.+0.j],\n",
       "       [-1.+0.j,  0.+0.j]])"
      ]
     },
     "execution_count": 49,
     "metadata": {},
     "output_type": "execute_result"
    }
   ],
   "source": [
    "B_orig"
   ]
  },
  {
   "cell_type": "code",
   "execution_count": 50,
   "metadata": {},
   "outputs": [
    {
     "data": {
      "text/plain": [
       "array([[ 0,  1],\n",
       "       [-1,  0]])"
      ]
     },
     "execution_count": 50,
     "metadata": {},
     "output_type": "execute_result"
    }
   ],
   "source": [
    "B"
   ]
  },
  {
   "cell_type": "code",
   "execution_count": null,
   "metadata": {},
   "outputs": [],
   "source": []
  }
 ],
 "metadata": {
  "kernelspec": {
   "display_name": "Python 3",
   "language": "python",
   "name": "python3"
  },
  "language_info": {
   "codemirror_mode": {
    "name": "ipython",
    "version": 3
   },
   "file_extension": ".py",
   "mimetype": "text/x-python",
   "name": "python",
   "nbconvert_exporter": "python",
   "pygments_lexer": "ipython3",
   "version": "3.8.8"
  },
  "toc": {
   "base_numbering": 1,
   "nav_menu": {},
   "number_sections": true,
   "sideBar": true,
   "skip_h1_title": false,
   "title_cell": "Table of Contents",
   "title_sidebar": "Contents",
   "toc_cell": false,
   "toc_position": {},
   "toc_section_display": true,
   "toc_window_display": false
  },
  "varInspector": {
   "cols": {
    "lenName": 16,
    "lenType": 16,
    "lenVar": 40
   },
   "kernels_config": {
    "python": {
     "delete_cmd_postfix": "",
     "delete_cmd_prefix": "del ",
     "library": "var_list.py",
     "varRefreshCmd": "print(var_dic_list())"
    },
    "r": {
     "delete_cmd_postfix": ") ",
     "delete_cmd_prefix": "rm(",
     "library": "var_list.r",
     "varRefreshCmd": "cat(var_dic_list()) "
    }
   },
   "types_to_exclude": [
    "module",
    "function",
    "builtin_function_or_method",
    "instance",
    "_Feature"
   ],
   "window_display": false
  }
 },
 "nbformat": 4,
 "nbformat_minor": 4
}

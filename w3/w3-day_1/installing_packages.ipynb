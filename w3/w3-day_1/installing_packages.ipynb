{
 "cells": [
  {
   "cell_type": "code",
   "execution_count": 2,
   "id": "0faeaf9b",
   "metadata": {},
   "outputs": [
    {
     "name": "stdout",
     "output_type": "stream",
     "text": [
      "Collecting package metadata (current_repodata.json): done\n",
      "Solving environment: done\n",
      "\n",
      "\n",
      "==> WARNING: A newer version of conda exists. <==\n",
      "  current version: 4.10.1\n",
      "  latest version: 4.10.3\n",
      "\n",
      "Please update conda by running\n",
      "\n",
      "    $ conda update -n base -c defaults conda\n",
      "\n",
      "\n",
      "\n",
      "## Package Plan ##\n",
      "\n",
      "  environment location: /Users/louisrossi/opt/anaconda3/envs/base2\n",
      "\n",
      "  added / updated specs:\n",
      "    - pandas\n",
      "\n",
      "\n",
      "The following packages will be downloaded:\n",
      "\n",
      "    package                    |            build\n",
      "    ---------------------------|-----------------\n",
      "    bottleneck-1.3.2           |   py39he3068b8_1         111 KB\n",
      "    intel-openmp-2021.3.0      |    hecd8cb5_3375         950 KB\n",
      "    mkl-2021.3.0               |     hecd8cb5_517       100.4 MB\n",
      "    mkl-service-2.4.0          |   py39h9ed2024_0          45 KB\n",
      "    mkl_fft-1.3.0              |   py39h4a7008c_2         167 KB\n",
      "    mkl_random-1.2.2           |   py39hb2f4e1b_0         285 KB\n",
      "    numexpr-2.7.3              |   py39h5873af2_1         124 KB\n",
      "    numpy-1.20.3               |   py39h4b4dc7a_0          23 KB\n",
      "    numpy-base-1.20.3          |   py39he0bd621_0         4.3 MB\n",
      "    pandas-1.3.2               |   py39h5008ddb_0         9.2 MB\n",
      "    ------------------------------------------------------------\n",
      "                                           Total:       115.6 MB\n",
      "\n",
      "The following NEW packages will be INSTALLED:\n",
      "\n",
      "  blas               pkgs/main/osx-64::blas-1.0-mkl\n",
      "  bottleneck         pkgs/main/osx-64::bottleneck-1.3.2-py39he3068b8_1\n",
      "  intel-openmp       pkgs/main/osx-64::intel-openmp-2021.3.0-hecd8cb5_3375\n",
      "  mkl                pkgs/main/osx-64::mkl-2021.3.0-hecd8cb5_517\n",
      "  mkl-service        pkgs/main/osx-64::mkl-service-2.4.0-py39h9ed2024_0\n",
      "  mkl_fft            pkgs/main/osx-64::mkl_fft-1.3.0-py39h4a7008c_2\n",
      "  mkl_random         pkgs/main/osx-64::mkl_random-1.2.2-py39hb2f4e1b_0\n",
      "  numexpr            pkgs/main/osx-64::numexpr-2.7.3-py39h5873af2_1\n",
      "  numpy              pkgs/main/osx-64::numpy-1.20.3-py39h4b4dc7a_0\n",
      "  numpy-base         pkgs/main/osx-64::numpy-base-1.20.3-py39he0bd621_0\n",
      "  pandas             pkgs/main/osx-64::pandas-1.3.2-py39h5008ddb_0\n",
      "  pytz               pkgs/main/noarch::pytz-2021.1-pyhd3eb1b0_0\n",
      "\n",
      "\n",
      "\n",
      "Downloading and Extracting Packages\n",
      "numpy-1.20.3         | 23 KB     | ##################################### | 100% \n",
      "numexpr-2.7.3        | 124 KB    | ##################################### | 100% \n",
      "intel-openmp-2021.3. | 950 KB    | ##################################### | 100% \n",
      "mkl_fft-1.3.0        | 167 KB    | ##################################### | 100% \n",
      "numpy-base-1.20.3    | 4.3 MB    | ##################################### | 100% \n",
      "pandas-1.3.2         | 9.2 MB    | ##################################### | 100% \n",
      "mkl-service-2.4.0    | 45 KB     | ##################################### | 100% \n",
      "bottleneck-1.3.2     | 111 KB    | ##################################### | 100% \n",
      "mkl_random-1.2.2     | 285 KB    | ##################################### | 100% \n",
      "mkl-2021.3.0         | 100.4 MB  | ##################################### | 100% \n",
      "Preparing transaction: done\n",
      "Verifying transaction: done\n",
      "Executing transaction: done\n"
     ]
    }
   ],
   "source": [
    "!conda install pandas -y"
   ]
  },
  {
   "cell_type": "code",
   "execution_count": null,
   "id": "aa7ae959",
   "metadata": {},
   "outputs": [],
   "source": []
  }
 ],
 "metadata": {
  "kernelspec": {
   "display_name": "Python 3 (ipykernel)",
   "language": "python",
   "name": "python3"
  },
  "language_info": {
   "codemirror_mode": {
    "name": "ipython",
    "version": 3
   },
   "file_extension": ".py",
   "mimetype": "text/x-python",
   "name": "python",
   "nbconvert_exporter": "python",
   "pygments_lexer": "ipython3",
   "version": "3.9.7"
  }
 },
 "nbformat": 4,
 "nbformat_minor": 5
}

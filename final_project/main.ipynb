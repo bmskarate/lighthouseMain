{
 "cells": [
  {
   "cell_type": "code",
   "execution_count": 1,
   "id": "40ed3ae4",
   "metadata": {},
   "outputs": [
    {
     "name": "stdout",
     "output_type": "stream",
     "text": [
      "12 encoding images found.\n",
      "Encoding images loaded\n"
     ]
    }
   ],
   "source": [
    "import cv2\n",
    "import face_recognition\n",
    "from datetime import datetime\n",
    "from simple_facerec import SimpleFacerec\n",
    "sfr = SimpleFacerec()\n",
    "sfr.load_encoding_images('images/')\n",
    "\n",
    "\n",
    "def markAttendance(name):\n",
    "    \"\"\"\n",
    "    Attendance marking function\n",
    "    \"\"\"\n",
    "    with open('Attendance.csv','r+') as f: \n",
    "        myDataList = f.readlines()\n",
    "        nameList = []\n",
    "        for line in myDataList:\n",
    "            entry = line.split(',')\n",
    "            nameList.append(entry[0])\n",
    "        if name not in nameList:\n",
    "            now = datetime.now()\n",
    "            time = now.strftime('%I:%M:%S:%p')\n",
    "            date = now.strftime('%d-%B-%Y')\n",
    "            f.writelines(f'n{name}, {time}, {date}')\n",
    "            # slip function import sys library slip seconds sys.slip(10)\n",
    "            # make gui with tkinter library\n",
    "\n",
    "\n",
    "# load cam\n",
    "cap = cv2.VideoCapture(0)\n",
    "\n",
    "while True:\n",
    "    ret, frame = cap.read()\n",
    "\n",
    "    # detect faces\n",
    "    face_locations, face_names = sfr.detect_known_faces(frame)\n",
    "    for face_loc, name in zip(face_locations, face_names):\n",
    "        # print(face_loc) did this to see the coordinates for the face\n",
    "        y1, x1, y2, x2 = face_loc[0], face_loc[1], face_loc[2], face_loc[3]\n",
    "\n",
    "        cv2.putText(frame, name, (x1, y1 - 10), cv2.FONT_HERSHEY_DUPLEX, 2, (0, 0, 200), 2) # 255's was 0,0,200\n",
    "        cv2.rectangle(frame , (x1, y1), (x2, y2), (0, 0, 200), 4) # cv2.filled WAS 3.0\n",
    "        markAttendance(name)\n",
    "\n",
    "    cv2.imshow('frame', frame)\n",
    "\n",
    "    # 0 is close, 1 is open\n",
    "    key = cv2.waitKey(1)\n",
    "\n",
    "    if key == 27:\n",
    "        break\n",
    "\n",
    "cap.release()\n",
    "cv2.destroyAllWindows()"
   ]
  },
  {
   "cell_type": "code",
   "execution_count": null,
   "id": "062dc281",
   "metadata": {},
   "outputs": [],
   "source": []
  },
  {
   "cell_type": "code",
   "execution_count": null,
   "id": "6c355db5",
   "metadata": {},
   "outputs": [],
   "source": []
  }
 ],
 "metadata": {
  "interpreter": {
   "hash": "555fd3b3cc969dfddc2664a34f541b3b945cbcb8e856ed2f111c8fdb9364be0c"
  },
  "kernelspec": {
   "display_name": "Python 3.6.13 64-bit ('attendance': conda)",
   "language": "python",
   "name": "python3"
  },
  "language_info": {
   "codemirror_mode": {
    "name": "ipython",
    "version": 3
   },
   "file_extension": ".py",
   "mimetype": "text/x-python",
   "name": "python",
   "nbconvert_exporter": "python",
   "pygments_lexer": "ipython3",
   "version": "3.8.12"
  }
 },
 "nbformat": 4,
 "nbformat_minor": 5
}

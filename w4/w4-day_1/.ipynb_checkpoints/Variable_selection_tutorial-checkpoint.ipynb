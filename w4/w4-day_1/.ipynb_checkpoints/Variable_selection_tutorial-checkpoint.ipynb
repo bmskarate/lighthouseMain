{
 "cells": [
  {
   "cell_type": "code",
   "execution_count": 1,
   "id": "9074871a",
   "metadata": {},
   "outputs": [],
   "source": [
    "import pandas as pd\n",
    "import numpy as np\n",
    "import matplotlib.pyplot as plt"
   ]
  },
  {
   "cell_type": "code",
   "execution_count": 4,
   "id": "98ed3f9a",
   "metadata": {},
   "outputs": [],
   "source": [
    "df = pd.read_csv(\"house_prices.csv\")"
   ]
  },
  {
   "cell_type": "code",
   "execution_count": 5,
   "id": "b5da3f26",
   "metadata": {},
   "outputs": [],
   "source": [
    "y = df.SalePrice\n",
    "df.drop(\"SalePrice\",axis=1, inplace=True)\n",
    "# now we have our X,y set. X is DF and y is our saleprice! NICE!"
   ]
  },
  {
   "cell_type": "markdown",
   "id": "91f4c267",
   "metadata": {},
   "source": [
    "## removing features with small variance"
   ]
  },
  {
   "cell_type": "code",
   "execution_count": 10,
   "id": "ff014524",
   "metadata": {},
   "outputs": [],
   "source": [
    "from sklearn.feature_selection import VarianceThreshold\n",
    "\n",
    "vt = VarianceThreshold(0.1)\n",
    "df_transformed = vt.fit_transform(df)"
   ]
  },
  {
   "cell_type": "markdown",
   "id": "d9ca724b",
   "metadata": {},
   "source": [
    "#### As mentioned last week, fit_transform() in sklearn transforms an object from DataFrame to numpy.array and we are losing column names, so we need to do some tricks to get them back!"
   ]
  },
  {
   "cell_type": "code",
   "execution_count": 11,
   "id": "30ba4d18",
   "metadata": {},
   "outputs": [],
   "source": [
    "# columns we have selected\n",
    "# get_support() is method of VarianceThreshold and stores boolean of each variable in the numpy array.\n",
    "selected_columns = df.columns[vt.get_support()]\n",
    "# transforming an array back to a data-frame preserves column labels\n",
    "df_transformed = pd.DataFrame(df_transformed, columns = selected_columns)"
   ]
  },
  {
   "cell_type": "markdown",
   "id": "765b284d",
   "metadata": {},
   "source": [
    "## removing correlated features"
   ]
  },
  {
   "cell_type": "code",
   "execution_count": 13,
   "id": "ce1ffa82",
   "metadata": {},
   "outputs": [],
   "source": [
    "# step 1 calculate a correlation matrix\n",
    "df_corr = df_transformed.corr().abs()\n",
    "\n",
    "# step 2 get pairs of highly correlated figures\n",
    "indices = np.where(df_corr > 0.8) \n",
    "indices = [(df_corr.index[x], df_corr.columns[y]) \n",
    "for x, y in zip(*indices)\n",
    "    if x != y and x < y]\n",
    "\n",
    "# step 3 remove correlated columns\n",
    "for idx in indices: #each pair\n",
    "    try:\n",
    "        df_transformed.drop(idx[1], axis = 1, inplace=True)\n",
    "    except KeyError:\n",
    "        pass"
   ]
  },
  {
   "cell_type": "code",
   "execution_count": 14,
   "id": "282045d2",
   "metadata": {},
   "outputs": [
    {
     "name": "stdout",
     "output_type": "stream",
     "text": [
      "[('TotalBsmtSF', '1stFlrSF'), ('GrLivArea', 'TotRmsAbvGrd'), ('GrLivArea', '1stFlr_2ndFlr_SF'), ('TotRmsAbvGrd', '1stFlr_2ndFlr_SF'), ('GarageCars', 'GarageArea'), ('GarageQual', 'GarageCond')]\n"
     ]
    }
   ],
   "source": [
    "print(indices) # highly correlated pairs"
   ]
  },
  {
   "cell_type": "markdown",
   "id": "8f525295",
   "metadata": {},
   "source": [
    "## forward regression"
   ]
  },
  {
   "cell_type": "code",
   "execution_count": 16,
   "id": "d39fc819",
   "metadata": {},
   "outputs": [],
   "source": [
    "from sklearn.feature_selection import f_regression, SelectKBest\n",
    "skb = SelectKBest(f_regression, k=10)\n",
    "X = skb.fit_transform(df_transformed, y)"
   ]
  },
  {
   "cell_type": "code",
   "execution_count": 17,
   "id": "e1452fc9",
   "metadata": {},
   "outputs": [],
   "source": [
    "# this will give us the position of top 10 columns\n",
    "skb.get_support()\n",
    "# column names\n",
    "df_transformed.columns[skb.get_support()]\n",
    "X = pd.DataFrame(X,columns=df_transformed.columns[skb.get_support()]) # back to DataFrame"
   ]
  },
  {
   "cell_type": "code",
   "execution_count": null,
   "id": "72ed02b4",
   "metadata": {},
   "outputs": [],
   "source": []
  }
 ],
 "metadata": {
  "kernelspec": {
   "display_name": "Python 3 (ipykernel)",
   "language": "python",
   "name": "python3"
  },
  "language_info": {
   "codemirror_mode": {
    "name": "ipython",
    "version": 3
   },
   "file_extension": ".py",
   "mimetype": "text/x-python",
   "name": "python",
   "nbconvert_exporter": "python",
   "pygments_lexer": "ipython3",
   "version": "3.9.7"
  }
 },
 "nbformat": 4,
 "nbformat_minor": 5
}

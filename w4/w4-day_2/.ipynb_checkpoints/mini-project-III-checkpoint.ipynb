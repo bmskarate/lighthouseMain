{
 "cells": [
  {
   "cell_type": "markdown",
   "metadata": {},
   "source": [
    "## Mini Project III"
   ]
  },
  {
   "cell_type": "markdown",
   "metadata": {},
   "source": [
    "#### - twm_customer - information about customers\n",
    "#### - twm_accounts - information about accounts\n",
    "#### - twm_checking_accounts - information about checking accounts (subset of twm_accounts)\n",
    "#### - twm_credit_accounts - information about checking accounts (subset of twm_accounts)\n",
    "#### - twm_savings_accounts - information about checking accounts (subset of twm_accounts)\n",
    "#### - twm_transactions - information about financial transactions\n",
    "#### - twm_savings_tran - information about savings transactions (subset of twm_transactions)\n",
    "#### - twm_checking_tran - information about savings transactions (subset of twm_transactions)\n",
    "#### - twm_credit_tran - information about credit checking (subset of twm_transactions)"
   ]
  },
  {
   "cell_type": "code",
   "execution_count": 28,
   "metadata": {},
   "outputs": [],
   "source": [
    "# imports\n",
    "import pandas as pd\n",
    "import numpy as np\n",
    "import matplotlib.pyplot as plt\n",
    "import seaborn as sns\n",
    "import sklearn\n",
    "from sklearn.preprocessing import LabelEncoder\n",
    "from sklearn.cluster import KMeans"
   ]
  },
  {
   "cell_type": "code",
   "execution_count": 29,
   "metadata": {},
   "outputs": [],
   "source": [
    "twm_customer = pd.read_csv(\"twm_customer.csv\")\n",
    "twm_accounts = pd.read_csv(\"twm_accounts.csv\")\n",
    "twm_checking_acct = pd.read_csv(\"twm_checking_acct.csv\")\n",
    "twm_credit_accounts = pd.read_csv(\"twm_credit_acct.csv\")\n",
    "twm_savings_accounts = pd.read_csv(\"twm_savings_acct.csv\")\n",
    "twm_transactions = pd.read_csv(\"twm_transactions.csv\")\n",
    "twm_savings_tran = pd.read_csv(\"twm_savings_tran.csv\")\n",
    "twm_checking_tran = pd.read_csv(\"twm_checking_tran.csv\")\n",
    "twm_credit_tran = pd.read_csv(\"twm_credit_tran.csv\")"
   ]
  },
  {
   "cell_type": "code",
   "execution_count": 30,
   "metadata": {},
   "outputs": [
    {
     "name": "stdout",
     "output_type": "stream",
     "text": [
      "The scikit-learn version is 0.24.2.\n"
     ]
    }
   ],
   "source": [
    "print('The scikit-learn version is {}.'.format(sklearn.__version__))"
   ]
  },
  {
   "cell_type": "code",
   "execution_count": 31,
   "metadata": {
    "scrolled": true
   },
   "outputs": [
    {
     "data": {
      "text/html": [
       "<div>\n",
       "<style scoped>\n",
       "    .dataframe tbody tr th:only-of-type {\n",
       "        vertical-align: middle;\n",
       "    }\n",
       "\n",
       "    .dataframe tbody tr th {\n",
       "        vertical-align: top;\n",
       "    }\n",
       "\n",
       "    .dataframe thead th {\n",
       "        text-align: right;\n",
       "    }\n",
       "</style>\n",
       "<table border=\"1\" class=\"dataframe\">\n",
       "  <thead>\n",
       "    <tr style=\"text-align: right;\">\n",
       "      <th></th>\n",
       "      <th>cust_id</th>\n",
       "      <th>income</th>\n",
       "      <th>age</th>\n",
       "      <th>years_with_bank</th>\n",
       "      <th>nbr_children</th>\n",
       "      <th>gender</th>\n",
       "      <th>marital_status</th>\n",
       "      <th>name_prefix</th>\n",
       "      <th>first_name</th>\n",
       "      <th>last_name</th>\n",
       "      <th>street_nbr</th>\n",
       "      <th>street_name</th>\n",
       "      <th>postal_code</th>\n",
       "      <th>city_name</th>\n",
       "      <th>state_code</th>\n",
       "    </tr>\n",
       "  </thead>\n",
       "  <tbody>\n",
       "    <tr>\n",
       "      <th>0</th>\n",
       "      <td>1362691</td>\n",
       "      <td>26150</td>\n",
       "      <td>46</td>\n",
       "      <td>5</td>\n",
       "      <td>1</td>\n",
       "      <td>M</td>\n",
       "      <td>2</td>\n",
       "      <td></td>\n",
       "      <td>Donald                                        ...</td>\n",
       "      <td>Marek                                         ...</td>\n",
       "      <td>8298</td>\n",
       "      <td>Second                                        ...</td>\n",
       "      <td>89194</td>\n",
       "      <td>Las Vegas</td>\n",
       "      <td>NV</td>\n",
       "    </tr>\n",
       "    <tr>\n",
       "      <th>1</th>\n",
       "      <td>1362487</td>\n",
       "      <td>6605</td>\n",
       "      <td>71</td>\n",
       "      <td>1</td>\n",
       "      <td>0</td>\n",
       "      <td>M</td>\n",
       "      <td>2</td>\n",
       "      <td></td>\n",
       "      <td>ChingDyi                                      ...</td>\n",
       "      <td>Moussavi                                      ...</td>\n",
       "      <td>10603</td>\n",
       "      <td>Daffodil                                      ...</td>\n",
       "      <td>90159</td>\n",
       "      <td>Los Angeles</td>\n",
       "      <td>CA</td>\n",
       "    </tr>\n",
       "    <tr>\n",
       "      <th>2</th>\n",
       "      <td>1363160</td>\n",
       "      <td>18548</td>\n",
       "      <td>38</td>\n",
       "      <td>8</td>\n",
       "      <td>0</td>\n",
       "      <td>F</td>\n",
       "      <td>1</td>\n",
       "      <td></td>\n",
       "      <td>Rosa                                          ...</td>\n",
       "      <td>Johnston                                      ...</td>\n",
       "      <td>8817</td>\n",
       "      <td>Figueroa                                      ...</td>\n",
       "      <td>90024</td>\n",
       "      <td>Los Angeles</td>\n",
       "      <td>CA</td>\n",
       "    </tr>\n",
       "    <tr>\n",
       "      <th>3</th>\n",
       "      <td>1362752</td>\n",
       "      <td>47668</td>\n",
       "      <td>54</td>\n",
       "      <td>3</td>\n",
       "      <td>0</td>\n",
       "      <td>F</td>\n",
       "      <td>1</td>\n",
       "      <td></td>\n",
       "      <td>Lisa                                          ...</td>\n",
       "      <td>Martin                                        ...</td>\n",
       "      <td>676</td>\n",
       "      <td>Humble                                        ...</td>\n",
       "      <td>90172</td>\n",
       "      <td>Los Angeles</td>\n",
       "      <td>CA</td>\n",
       "    </tr>\n",
       "    <tr>\n",
       "      <th>4</th>\n",
       "      <td>1362548</td>\n",
       "      <td>44554</td>\n",
       "      <td>59</td>\n",
       "      <td>9</td>\n",
       "      <td>2</td>\n",
       "      <td>F</td>\n",
       "      <td>4</td>\n",
       "      <td></td>\n",
       "      <td>Barbara                                       ...</td>\n",
       "      <td>O'Malley                                      ...</td>\n",
       "      <td>6578</td>\n",
       "      <td>C                                             ...</td>\n",
       "      <td>10138</td>\n",
       "      <td>New York City</td>\n",
       "      <td>NY</td>\n",
       "    </tr>\n",
       "  </tbody>\n",
       "</table>\n",
       "</div>"
      ],
      "text/plain": [
       "   cust_id  income  age  years_with_bank  nbr_children gender  marital_status  \\\n",
       "0  1362691   26150   46                5             1     M                2   \n",
       "1  1362487    6605   71                1             0     M                2   \n",
       "2  1363160   18548   38                8             0     F                1   \n",
       "3  1362752   47668   54                3             0     F                1   \n",
       "4  1362548   44554   59                9             2     F                4   \n",
       "\n",
       "  name_prefix                                         first_name  \\\n",
       "0              Donald                                        ...   \n",
       "1              ChingDyi                                      ...   \n",
       "2              Rosa                                          ...   \n",
       "3              Lisa                                          ...   \n",
       "4              Barbara                                       ...   \n",
       "\n",
       "                                           last_name  street_nbr  \\\n",
       "0  Marek                                         ...        8298   \n",
       "1  Moussavi                                      ...       10603   \n",
       "2  Johnston                                      ...        8817   \n",
       "3  Martin                                        ...         676   \n",
       "4  O'Malley                                      ...        6578   \n",
       "\n",
       "                                         street_name  postal_code  \\\n",
       "0  Second                                        ...        89194   \n",
       "1  Daffodil                                      ...        90159   \n",
       "2  Figueroa                                      ...        90024   \n",
       "3  Humble                                        ...        90172   \n",
       "4  C                                             ...        10138   \n",
       "\n",
       "                                  city_name state_code  \n",
       "0  Las Vegas                                      NV    \n",
       "1  Los Angeles                                    CA    \n",
       "2  Los Angeles                                    CA    \n",
       "3  Los Angeles                                    CA    \n",
       "4  New York City                                  NY    "
      ]
     },
     "execution_count": 31,
     "metadata": {},
     "output_type": "execute_result"
    }
   ],
   "source": [
    "twm_customer.head()"
   ]
  },
  {
   "cell_type": "markdown",
   "metadata": {},
   "source": [
    "# 1.  create two separate customer segmentations (using clustering) to split them into 3-5 clusters: \n",
    "### - based on demographics (only on the information from twm_customer)\n",
    "### - based on their banking behavior. We can take following things into consideration as banking behavior:\n",
    "- do they have savings account? How much do they save?\n",
    "- do they have credit account? How much do they live in debt?\n",
    "- are they making lot of small transactions or few huge ones?"
   ]
  },
  {
   "cell_type": "code",
   "execution_count": 178,
   "metadata": {},
   "outputs": [],
   "source": [
    "# based on demographics\n",
    "# 1. from twm_customer: use [age, nbr_children, gender, marital_status, city_name, postal_code]\n",
    "cluster_twm_customer = twm_customer[[\"cust_id\",\"age\", \"income\", \"nbr_children\", \"years_with_bank\", \"marital_status\"]]"
   ]
  },
  {
   "cell_type": "code",
   "execution_count": 179,
   "metadata": {},
   "outputs": [
    {
     "data": {
      "text/html": [
       "<div>\n",
       "<style scoped>\n",
       "    .dataframe tbody tr th:only-of-type {\n",
       "        vertical-align: middle;\n",
       "    }\n",
       "\n",
       "    .dataframe tbody tr th {\n",
       "        vertical-align: top;\n",
       "    }\n",
       "\n",
       "    .dataframe thead th {\n",
       "        text-align: right;\n",
       "    }\n",
       "</style>\n",
       "<table border=\"1\" class=\"dataframe\">\n",
       "  <thead>\n",
       "    <tr style=\"text-align: right;\">\n",
       "      <th></th>\n",
       "      <th>cust_id</th>\n",
       "      <th>age</th>\n",
       "      <th>income</th>\n",
       "      <th>nbr_children</th>\n",
       "      <th>years_with_bank</th>\n",
       "      <th>marital_status</th>\n",
       "    </tr>\n",
       "  </thead>\n",
       "  <tbody>\n",
       "    <tr>\n",
       "      <th>0</th>\n",
       "      <td>1362691</td>\n",
       "      <td>46</td>\n",
       "      <td>26150</td>\n",
       "      <td>1</td>\n",
       "      <td>5</td>\n",
       "      <td>2</td>\n",
       "    </tr>\n",
       "    <tr>\n",
       "      <th>1</th>\n",
       "      <td>1362487</td>\n",
       "      <td>71</td>\n",
       "      <td>6605</td>\n",
       "      <td>0</td>\n",
       "      <td>1</td>\n",
       "      <td>2</td>\n",
       "    </tr>\n",
       "    <tr>\n",
       "      <th>2</th>\n",
       "      <td>1363160</td>\n",
       "      <td>38</td>\n",
       "      <td>18548</td>\n",
       "      <td>0</td>\n",
       "      <td>8</td>\n",
       "      <td>1</td>\n",
       "    </tr>\n",
       "    <tr>\n",
       "      <th>3</th>\n",
       "      <td>1362752</td>\n",
       "      <td>54</td>\n",
       "      <td>47668</td>\n",
       "      <td>0</td>\n",
       "      <td>3</td>\n",
       "      <td>1</td>\n",
       "    </tr>\n",
       "    <tr>\n",
       "      <th>4</th>\n",
       "      <td>1362548</td>\n",
       "      <td>59</td>\n",
       "      <td>44554</td>\n",
       "      <td>2</td>\n",
       "      <td>9</td>\n",
       "      <td>4</td>\n",
       "    </tr>\n",
       "  </tbody>\n",
       "</table>\n",
       "</div>"
      ],
      "text/plain": [
       "   cust_id  age  income  nbr_children  years_with_bank  marital_status\n",
       "0  1362691   46   26150             1                5               2\n",
       "1  1362487   71    6605             0                1               2\n",
       "2  1363160   38   18548             0                8               1\n",
       "3  1362752   54   47668             0                3               1\n",
       "4  1362548   59   44554             2                9               4"
      ]
     },
     "execution_count": 179,
     "metadata": {},
     "output_type": "execute_result"
    }
   ],
   "source": [
    "cluster_twm_customer.head()"
   ]
  },
  {
   "cell_type": "code",
   "execution_count": 180,
   "metadata": {},
   "outputs": [],
   "source": [
    "cluster_twm_customer = cluster_twm_customer.drop(columns=[\"nbr_children\"])"
   ]
  },
  {
   "cell_type": "code",
   "execution_count": 181,
   "metadata": {},
   "outputs": [
    {
     "data": {
      "text/html": [
       "<div>\n",
       "<style scoped>\n",
       "    .dataframe tbody tr th:only-of-type {\n",
       "        vertical-align: middle;\n",
       "    }\n",
       "\n",
       "    .dataframe tbody tr th {\n",
       "        vertical-align: top;\n",
       "    }\n",
       "\n",
       "    .dataframe thead th {\n",
       "        text-align: right;\n",
       "    }\n",
       "</style>\n",
       "<table border=\"1\" class=\"dataframe\">\n",
       "  <thead>\n",
       "    <tr style=\"text-align: right;\">\n",
       "      <th></th>\n",
       "      <th>cust_id</th>\n",
       "      <th>age</th>\n",
       "      <th>income</th>\n",
       "      <th>years_with_bank</th>\n",
       "      <th>marital_status</th>\n",
       "    </tr>\n",
       "  </thead>\n",
       "  <tbody>\n",
       "    <tr>\n",
       "      <th>0</th>\n",
       "      <td>1362691</td>\n",
       "      <td>46</td>\n",
       "      <td>26150</td>\n",
       "      <td>5</td>\n",
       "      <td>2</td>\n",
       "    </tr>\n",
       "    <tr>\n",
       "      <th>1</th>\n",
       "      <td>1362487</td>\n",
       "      <td>71</td>\n",
       "      <td>6605</td>\n",
       "      <td>1</td>\n",
       "      <td>2</td>\n",
       "    </tr>\n",
       "    <tr>\n",
       "      <th>2</th>\n",
       "      <td>1363160</td>\n",
       "      <td>38</td>\n",
       "      <td>18548</td>\n",
       "      <td>8</td>\n",
       "      <td>1</td>\n",
       "    </tr>\n",
       "    <tr>\n",
       "      <th>3</th>\n",
       "      <td>1362752</td>\n",
       "      <td>54</td>\n",
       "      <td>47668</td>\n",
       "      <td>3</td>\n",
       "      <td>1</td>\n",
       "    </tr>\n",
       "    <tr>\n",
       "      <th>4</th>\n",
       "      <td>1362548</td>\n",
       "      <td>59</td>\n",
       "      <td>44554</td>\n",
       "      <td>9</td>\n",
       "      <td>4</td>\n",
       "    </tr>\n",
       "  </tbody>\n",
       "</table>\n",
       "</div>"
      ],
      "text/plain": [
       "   cust_id  age  income  years_with_bank  marital_status\n",
       "0  1362691   46   26150                5               2\n",
       "1  1362487   71    6605                1               2\n",
       "2  1363160   38   18548                8               1\n",
       "3  1362752   54   47668                3               1\n",
       "4  1362548   59   44554                9               4"
      ]
     },
     "execution_count": 181,
     "metadata": {},
     "output_type": "execute_result"
    }
   ],
   "source": [
    "cluster_twm_customer.head()"
   ]
  },
  {
   "cell_type": "code",
   "execution_count": 182,
   "metadata": {},
   "outputs": [],
   "source": [
    "from sklearn.preprocessing import MinMaxScaler\n",
    "scaler = MinMaxScaler()\n",
    "cluster_twm_customer[[\"age\",\"income\",\"years_with_bank\",\"marital_status\"]] = scaler.fit_transform(cluster_twm_customer[[\"age\",\"income\",\"years_with_bank\",\"marital_status\"]])"
   ]
  },
  {
   "cell_type": "code",
   "execution_count": 183,
   "metadata": {},
   "outputs": [
    {
     "data": {
      "text/html": [
       "<div>\n",
       "<style scoped>\n",
       "    .dataframe tbody tr th:only-of-type {\n",
       "        vertical-align: middle;\n",
       "    }\n",
       "\n",
       "    .dataframe tbody tr th {\n",
       "        vertical-align: top;\n",
       "    }\n",
       "\n",
       "    .dataframe thead th {\n",
       "        text-align: right;\n",
       "    }\n",
       "</style>\n",
       "<table border=\"1\" class=\"dataframe\">\n",
       "  <thead>\n",
       "    <tr style=\"text-align: right;\">\n",
       "      <th></th>\n",
       "      <th>cust_id</th>\n",
       "      <th>age</th>\n",
       "      <th>income</th>\n",
       "      <th>years_with_bank</th>\n",
       "      <th>marital_status</th>\n",
       "    </tr>\n",
       "  </thead>\n",
       "  <tbody>\n",
       "    <tr>\n",
       "      <th>0</th>\n",
       "      <td>1362691</td>\n",
       "      <td>0.434211</td>\n",
       "      <td>0.181399</td>\n",
       "      <td>0.555556</td>\n",
       "      <td>0.333333</td>\n",
       "    </tr>\n",
       "    <tr>\n",
       "      <th>1</th>\n",
       "      <td>1362487</td>\n",
       "      <td>0.763158</td>\n",
       "      <td>0.045818</td>\n",
       "      <td>0.111111</td>\n",
       "      <td>0.333333</td>\n",
       "    </tr>\n",
       "    <tr>\n",
       "      <th>2</th>\n",
       "      <td>1363160</td>\n",
       "      <td>0.328947</td>\n",
       "      <td>0.128665</td>\n",
       "      <td>0.888889</td>\n",
       "      <td>0.000000</td>\n",
       "    </tr>\n",
       "    <tr>\n",
       "      <th>3</th>\n",
       "      <td>1362752</td>\n",
       "      <td>0.539474</td>\n",
       "      <td>0.330667</td>\n",
       "      <td>0.333333</td>\n",
       "      <td>0.000000</td>\n",
       "    </tr>\n",
       "    <tr>\n",
       "      <th>4</th>\n",
       "      <td>1362548</td>\n",
       "      <td>0.605263</td>\n",
       "      <td>0.309066</td>\n",
       "      <td>1.000000</td>\n",
       "      <td>1.000000</td>\n",
       "    </tr>\n",
       "    <tr>\n",
       "      <th>...</th>\n",
       "      <td>...</td>\n",
       "      <td>...</td>\n",
       "      <td>...</td>\n",
       "      <td>...</td>\n",
       "      <td>...</td>\n",
       "    </tr>\n",
       "    <tr>\n",
       "      <th>742</th>\n",
       "      <td>1363324</td>\n",
       "      <td>0.302632</td>\n",
       "      <td>0.102631</td>\n",
       "      <td>0.666667</td>\n",
       "      <td>1.000000</td>\n",
       "    </tr>\n",
       "    <tr>\n",
       "      <th>743</th>\n",
       "      <td>1362895</td>\n",
       "      <td>0.565789</td>\n",
       "      <td>0.183043</td>\n",
       "      <td>0.666667</td>\n",
       "      <td>0.333333</td>\n",
       "    </tr>\n",
       "    <tr>\n",
       "      <th>744</th>\n",
       "      <td>1362569</td>\n",
       "      <td>0.486842</td>\n",
       "      <td>0.425231</td>\n",
       "      <td>0.000000</td>\n",
       "      <td>0.333333</td>\n",
       "    </tr>\n",
       "    <tr>\n",
       "      <th>745</th>\n",
       "      <td>1363364</td>\n",
       "      <td>0.315789</td>\n",
       "      <td>0.104747</td>\n",
       "      <td>0.777778</td>\n",
       "      <td>0.333333</td>\n",
       "    </tr>\n",
       "    <tr>\n",
       "      <th>746</th>\n",
       "      <td>1363303</td>\n",
       "      <td>0.065789</td>\n",
       "      <td>0.123997</td>\n",
       "      <td>0.333333</td>\n",
       "      <td>0.000000</td>\n",
       "    </tr>\n",
       "  </tbody>\n",
       "</table>\n",
       "<p>747 rows × 5 columns</p>\n",
       "</div>"
      ],
      "text/plain": [
       "     cust_id       age    income  years_with_bank  marital_status\n",
       "0    1362691  0.434211  0.181399         0.555556        0.333333\n",
       "1    1362487  0.763158  0.045818         0.111111        0.333333\n",
       "2    1363160  0.328947  0.128665         0.888889        0.000000\n",
       "3    1362752  0.539474  0.330667         0.333333        0.000000\n",
       "4    1362548  0.605263  0.309066         1.000000        1.000000\n",
       "..       ...       ...       ...              ...             ...\n",
       "742  1363324  0.302632  0.102631         0.666667        1.000000\n",
       "743  1362895  0.565789  0.183043         0.666667        0.333333\n",
       "744  1362569  0.486842  0.425231         0.000000        0.333333\n",
       "745  1363364  0.315789  0.104747         0.777778        0.333333\n",
       "746  1363303  0.065789  0.123997         0.333333        0.000000\n",
       "\n",
       "[747 rows x 5 columns]"
      ]
     },
     "execution_count": 183,
     "metadata": {},
     "output_type": "execute_result"
    }
   ],
   "source": [
    "cluster_twm_customer"
   ]
  },
  {
   "cell_type": "code",
   "execution_count": 184,
   "metadata": {},
   "outputs": [],
   "source": [
    "features_cluster_twm = [\"age\",\"income\",\"years_with_bank\",\"marital_status\"]"
   ]
  },
  {
   "cell_type": "code",
   "execution_count": 185,
   "metadata": {},
   "outputs": [],
   "source": [
    "kmeans_1 = KMeans(n_clusters=3,init='k-means++', random_state=0)\n",
    "y_m1 = kmeans_1.fit(cluster_twm_customer[features_cluster_twm])\n",
    "Label_1 = y_m1.predict(cluster_twm_customer[features_cluster_twm])"
   ]
  },
  {
   "cell_type": "code",
   "execution_count": 186,
   "metadata": {},
   "outputs": [],
   "source": [
    "cluster_twm_customer[\"km_cluster\"] = Label_1"
   ]
  },
  {
   "cell_type": "code",
   "execution_count": 187,
   "metadata": {},
   "outputs": [
    {
     "data": {
      "text/html": [
       "<div>\n",
       "<style scoped>\n",
       "    .dataframe tbody tr th:only-of-type {\n",
       "        vertical-align: middle;\n",
       "    }\n",
       "\n",
       "    .dataframe tbody tr th {\n",
       "        vertical-align: top;\n",
       "    }\n",
       "\n",
       "    .dataframe thead th {\n",
       "        text-align: right;\n",
       "    }\n",
       "</style>\n",
       "<table border=\"1\" class=\"dataframe\">\n",
       "  <thead>\n",
       "    <tr style=\"text-align: right;\">\n",
       "      <th></th>\n",
       "      <th>cust_id</th>\n",
       "      <th>age</th>\n",
       "      <th>income</th>\n",
       "      <th>years_with_bank</th>\n",
       "      <th>marital_status</th>\n",
       "      <th>km_cluster</th>\n",
       "    </tr>\n",
       "  </thead>\n",
       "  <tbody>\n",
       "    <tr>\n",
       "      <th>0</th>\n",
       "      <td>1362691</td>\n",
       "      <td>0.434211</td>\n",
       "      <td>0.181399</td>\n",
       "      <td>0.555556</td>\n",
       "      <td>0.333333</td>\n",
       "      <td>2</td>\n",
       "    </tr>\n",
       "    <tr>\n",
       "      <th>1</th>\n",
       "      <td>1362487</td>\n",
       "      <td>0.763158</td>\n",
       "      <td>0.045818</td>\n",
       "      <td>0.111111</td>\n",
       "      <td>0.333333</td>\n",
       "      <td>1</td>\n",
       "    </tr>\n",
       "    <tr>\n",
       "      <th>2</th>\n",
       "      <td>1363160</td>\n",
       "      <td>0.328947</td>\n",
       "      <td>0.128665</td>\n",
       "      <td>0.888889</td>\n",
       "      <td>0.000000</td>\n",
       "      <td>2</td>\n",
       "    </tr>\n",
       "    <tr>\n",
       "      <th>3</th>\n",
       "      <td>1362752</td>\n",
       "      <td>0.539474</td>\n",
       "      <td>0.330667</td>\n",
       "      <td>0.333333</td>\n",
       "      <td>0.000000</td>\n",
       "      <td>0</td>\n",
       "    </tr>\n",
       "    <tr>\n",
       "      <th>4</th>\n",
       "      <td>1362548</td>\n",
       "      <td>0.605263</td>\n",
       "      <td>0.309066</td>\n",
       "      <td>1.000000</td>\n",
       "      <td>1.000000</td>\n",
       "      <td>2</td>\n",
       "    </tr>\n",
       "    <tr>\n",
       "      <th>...</th>\n",
       "      <td>...</td>\n",
       "      <td>...</td>\n",
       "      <td>...</td>\n",
       "      <td>...</td>\n",
       "      <td>...</td>\n",
       "      <td>...</td>\n",
       "    </tr>\n",
       "    <tr>\n",
       "      <th>742</th>\n",
       "      <td>1363324</td>\n",
       "      <td>0.302632</td>\n",
       "      <td>0.102631</td>\n",
       "      <td>0.666667</td>\n",
       "      <td>1.000000</td>\n",
       "      <td>1</td>\n",
       "    </tr>\n",
       "    <tr>\n",
       "      <th>743</th>\n",
       "      <td>1362895</td>\n",
       "      <td>0.565789</td>\n",
       "      <td>0.183043</td>\n",
       "      <td>0.666667</td>\n",
       "      <td>0.333333</td>\n",
       "      <td>2</td>\n",
       "    </tr>\n",
       "    <tr>\n",
       "      <th>744</th>\n",
       "      <td>1362569</td>\n",
       "      <td>0.486842</td>\n",
       "      <td>0.425231</td>\n",
       "      <td>0.000000</td>\n",
       "      <td>0.333333</td>\n",
       "      <td>1</td>\n",
       "    </tr>\n",
       "    <tr>\n",
       "      <th>745</th>\n",
       "      <td>1363364</td>\n",
       "      <td>0.315789</td>\n",
       "      <td>0.104747</td>\n",
       "      <td>0.777778</td>\n",
       "      <td>0.333333</td>\n",
       "      <td>2</td>\n",
       "    </tr>\n",
       "    <tr>\n",
       "      <th>746</th>\n",
       "      <td>1363303</td>\n",
       "      <td>0.065789</td>\n",
       "      <td>0.123997</td>\n",
       "      <td>0.333333</td>\n",
       "      <td>0.000000</td>\n",
       "      <td>0</td>\n",
       "    </tr>\n",
       "  </tbody>\n",
       "</table>\n",
       "<p>747 rows × 6 columns</p>\n",
       "</div>"
      ],
      "text/plain": [
       "     cust_id       age    income  years_with_bank  marital_status  km_cluster\n",
       "0    1362691  0.434211  0.181399         0.555556        0.333333           2\n",
       "1    1362487  0.763158  0.045818         0.111111        0.333333           1\n",
       "2    1363160  0.328947  0.128665         0.888889        0.000000           2\n",
       "3    1362752  0.539474  0.330667         0.333333        0.000000           0\n",
       "4    1362548  0.605263  0.309066         1.000000        1.000000           2\n",
       "..       ...       ...       ...              ...             ...         ...\n",
       "742  1363324  0.302632  0.102631         0.666667        1.000000           1\n",
       "743  1362895  0.565789  0.183043         0.666667        0.333333           2\n",
       "744  1362569  0.486842  0.425231         0.000000        0.333333           1\n",
       "745  1363364  0.315789  0.104747         0.777778        0.333333           2\n",
       "746  1363303  0.065789  0.123997         0.333333        0.000000           0\n",
       "\n",
       "[747 rows x 6 columns]"
      ]
     },
     "execution_count": 187,
     "metadata": {},
     "output_type": "execute_result"
    }
   ],
   "source": [
    "cluster_twm_customer # ready to go!!"
   ]
  },
  {
   "cell_type": "markdown",
   "metadata": {},
   "source": [
    "# banking parse"
   ]
  },
  {
   "cell_type": "code",
   "execution_count": 145,
   "metadata": {},
   "outputs": [],
   "source": [
    "savings_ = twm_savings_accounts[[\"cust_id\",\"account_active\",\"starting_balance\",\"ending_balance\"]]\n",
    "credit_ = twm_credit_accounts[[\"cust_id\",\"account_active\",\"starting_balance\",\"ending_balance\"]]"
   ]
  },
  {
   "cell_type": "code",
   "execution_count": 146,
   "metadata": {},
   "outputs": [],
   "source": [
    "savings_.columns = [\"cust_id\",\"savings_account_active\",\"savings_starting_balance\",\"savings_ending_balance\"]\n",
    "credit_.columns = [\"cust_id\",\"credit_account_active\",\"credit_starting_balance\",\"credit_ending_balance\"]"
   ]
  },
  {
   "cell_type": "code",
   "execution_count": 147,
   "metadata": {},
   "outputs": [
    {
     "name": "stderr",
     "output_type": "stream",
     "text": [
      "/var/folders/wg/4yj17hrn3q9g_27l8zsxxy5m0000gn/T/ipykernel_40660/3873562424.py:1: SettingWithCopyWarning: \n",
      "A value is trying to be set on a copy of a slice from a DataFrame.\n",
      "Try using .loc[row_indexer,col_indexer] = value instead\n",
      "\n",
      "See the caveats in the documentation: https://pandas.pydata.org/pandas-docs/stable/user_guide/indexing.html#returning-a-view-versus-a-copy\n",
      "  savings_[\"savings_account_active\"] = savings_[\"savings_account_active\"].map(lambda x: 1 if x == 'Y ' else 0)\n"
     ]
    }
   ],
   "source": [
    "savings_[\"savings_account_active\"] = savings_[\"savings_account_active\"].map(lambda x: 1 if x == 'Y ' else 0)"
   ]
  },
  {
   "cell_type": "markdown",
   "metadata": {},
   "source": [
    "### savings_ kmeans"
   ]
  },
  {
   "cell_type": "code",
   "execution_count": 155,
   "metadata": {},
   "outputs": [
    {
     "data": {
      "text/plain": [
       "Index(['cust_id', 'savings_account_active', 'savings_starting_balance',\n",
       "       'savings_ending_balance'],\n",
       "      dtype='object')"
      ]
     },
     "execution_count": 155,
     "metadata": {},
     "output_type": "execute_result"
    }
   ],
   "source": [
    "savings_.keys()"
   ]
  },
  {
   "cell_type": "code",
   "execution_count": 156,
   "metadata": {},
   "outputs": [
    {
     "name": "stderr",
     "output_type": "stream",
     "text": [
      "/Users/louisrossi/opt/anaconda3/envs/plot/lib/python3.9/site-packages/pandas/core/frame.py:3673: SettingWithCopyWarning: \n",
      "A value is trying to be set on a copy of a slice from a DataFrame.\n",
      "Try using .loc[row_indexer,col_indexer] = value instead\n",
      "\n",
      "See the caveats in the documentation: https://pandas.pydata.org/pandas-docs/stable/user_guide/indexing.html#returning-a-view-versus-a-copy\n",
      "  self[col] = igetitem(value, i)\n"
     ]
    }
   ],
   "source": [
    "# scale savings_\n",
    "savings_[[\"savings_starting_balance\",\"savings_ending_balance\"]] = scaler.fit_transform(savings_[[\"savings_starting_balance\",\"savings_ending_balance\"]])\n"
   ]
  },
  {
   "cell_type": "code",
   "execution_count": 157,
   "metadata": {},
   "outputs": [
    {
     "data": {
      "text/html": [
       "<div>\n",
       "<style scoped>\n",
       "    .dataframe tbody tr th:only-of-type {\n",
       "        vertical-align: middle;\n",
       "    }\n",
       "\n",
       "    .dataframe tbody tr th {\n",
       "        vertical-align: top;\n",
       "    }\n",
       "\n",
       "    .dataframe thead th {\n",
       "        text-align: right;\n",
       "    }\n",
       "</style>\n",
       "<table border=\"1\" class=\"dataframe\">\n",
       "  <thead>\n",
       "    <tr style=\"text-align: right;\">\n",
       "      <th></th>\n",
       "      <th>cust_id</th>\n",
       "      <th>savings_account_active</th>\n",
       "      <th>savings_starting_balance</th>\n",
       "      <th>savings_ending_balance</th>\n",
       "    </tr>\n",
       "  </thead>\n",
       "  <tbody>\n",
       "    <tr>\n",
       "      <th>0</th>\n",
       "      <td>1363160</td>\n",
       "      <td>1</td>\n",
       "      <td>0.000744</td>\n",
       "      <td>0.005341</td>\n",
       "    </tr>\n",
       "    <tr>\n",
       "      <th>1</th>\n",
       "      <td>1362487</td>\n",
       "      <td>0</td>\n",
       "      <td>0.032057</td>\n",
       "      <td>0.000453</td>\n",
       "    </tr>\n",
       "    <tr>\n",
       "      <th>2</th>\n",
       "      <td>1362548</td>\n",
       "      <td>1</td>\n",
       "      <td>0.008719</td>\n",
       "      <td>0.011203</td>\n",
       "    </tr>\n",
       "    <tr>\n",
       "      <th>3</th>\n",
       "      <td>1362752</td>\n",
       "      <td>1</td>\n",
       "      <td>0.029066</td>\n",
       "      <td>0.027044</td>\n",
       "    </tr>\n",
       "    <tr>\n",
       "      <th>4</th>\n",
       "      <td>1363017</td>\n",
       "      <td>0</td>\n",
       "      <td>0.111071</td>\n",
       "      <td>0.129229</td>\n",
       "    </tr>\n",
       "    <tr>\n",
       "      <th>...</th>\n",
       "      <td>...</td>\n",
       "      <td>...</td>\n",
       "      <td>...</td>\n",
       "      <td>...</td>\n",
       "    </tr>\n",
       "    <tr>\n",
       "      <th>416</th>\n",
       "      <td>1363141</td>\n",
       "      <td>1</td>\n",
       "      <td>0.004481</td>\n",
       "      <td>0.023443</td>\n",
       "    </tr>\n",
       "    <tr>\n",
       "      <th>417</th>\n",
       "      <td>1363038</td>\n",
       "      <td>1</td>\n",
       "      <td>0.013561</td>\n",
       "      <td>0.022538</td>\n",
       "    </tr>\n",
       "    <tr>\n",
       "      <th>418</th>\n",
       "      <td>1362529</td>\n",
       "      <td>1</td>\n",
       "      <td>0.032658</td>\n",
       "      <td>0.038805</td>\n",
       "    </tr>\n",
       "    <tr>\n",
       "      <th>419</th>\n",
       "      <td>1362895</td>\n",
       "      <td>1</td>\n",
       "      <td>0.004053</td>\n",
       "      <td>0.004169</td>\n",
       "    </tr>\n",
       "    <tr>\n",
       "      <th>420</th>\n",
       "      <td>1362855</td>\n",
       "      <td>1</td>\n",
       "      <td>0.003922</td>\n",
       "      <td>0.007057</td>\n",
       "    </tr>\n",
       "  </tbody>\n",
       "</table>\n",
       "<p>421 rows × 4 columns</p>\n",
       "</div>"
      ],
      "text/plain": [
       "     cust_id  savings_account_active  savings_starting_balance  \\\n",
       "0    1363160                       1                  0.000744   \n",
       "1    1362487                       0                  0.032057   \n",
       "2    1362548                       1                  0.008719   \n",
       "3    1362752                       1                  0.029066   \n",
       "4    1363017                       0                  0.111071   \n",
       "..       ...                     ...                       ...   \n",
       "416  1363141                       1                  0.004481   \n",
       "417  1363038                       1                  0.013561   \n",
       "418  1362529                       1                  0.032658   \n",
       "419  1362895                       1                  0.004053   \n",
       "420  1362855                       1                  0.003922   \n",
       "\n",
       "     savings_ending_balance  \n",
       "0                  0.005341  \n",
       "1                  0.000453  \n",
       "2                  0.011203  \n",
       "3                  0.027044  \n",
       "4                  0.129229  \n",
       "..                      ...  \n",
       "416                0.023443  \n",
       "417                0.022538  \n",
       "418                0.038805  \n",
       "419                0.004169  \n",
       "420                0.007057  \n",
       "\n",
       "[421 rows x 4 columns]"
      ]
     },
     "execution_count": 157,
     "metadata": {},
     "output_type": "execute_result"
    }
   ],
   "source": [
    "savings_"
   ]
  },
  {
   "cell_type": "code",
   "execution_count": 158,
   "metadata": {},
   "outputs": [],
   "source": [
    "kmeans_savings = KMeans(n_clusters=3,init='k-means++', random_state=0)\n",
    "y_m2 = kmeans_savings.fit(savings_)\n",
    "Label_savings = y_m2.predict(savings_)"
   ]
  },
  {
   "cell_type": "code",
   "execution_count": 159,
   "metadata": {},
   "outputs": [
    {
     "name": "stderr",
     "output_type": "stream",
     "text": [
      "/var/folders/wg/4yj17hrn3q9g_27l8zsxxy5m0000gn/T/ipykernel_40660/1005852824.py:1: SettingWithCopyWarning: \n",
      "A value is trying to be set on a copy of a slice from a DataFrame.\n",
      "Try using .loc[row_indexer,col_indexer] = value instead\n",
      "\n",
      "See the caveats in the documentation: https://pandas.pydata.org/pandas-docs/stable/user_guide/indexing.html#returning-a-view-versus-a-copy\n",
      "  savings_[\"sav_cluster\"] = Label_savings\n"
     ]
    }
   ],
   "source": [
    "savings_[\"sav_cluster\"] = Label_savings"
   ]
  },
  {
   "cell_type": "code",
   "execution_count": 162,
   "metadata": {},
   "outputs": [
    {
     "data": {
      "text/html": [
       "<div>\n",
       "<style scoped>\n",
       "    .dataframe tbody tr th:only-of-type {\n",
       "        vertical-align: middle;\n",
       "    }\n",
       "\n",
       "    .dataframe tbody tr th {\n",
       "        vertical-align: top;\n",
       "    }\n",
       "\n",
       "    .dataframe thead th {\n",
       "        text-align: right;\n",
       "    }\n",
       "</style>\n",
       "<table border=\"1\" class=\"dataframe\">\n",
       "  <thead>\n",
       "    <tr style=\"text-align: right;\">\n",
       "      <th></th>\n",
       "      <th>cust_id</th>\n",
       "      <th>savings_account_active</th>\n",
       "      <th>savings_starting_balance</th>\n",
       "      <th>savings_ending_balance</th>\n",
       "      <th>sav_cluster</th>\n",
       "    </tr>\n",
       "  </thead>\n",
       "  <tbody>\n",
       "    <tr>\n",
       "      <th>0</th>\n",
       "      <td>1363160</td>\n",
       "      <td>1</td>\n",
       "      <td>0.000744</td>\n",
       "      <td>0.005341</td>\n",
       "      <td>1</td>\n",
       "    </tr>\n",
       "    <tr>\n",
       "      <th>1</th>\n",
       "      <td>1362487</td>\n",
       "      <td>0</td>\n",
       "      <td>0.032057</td>\n",
       "      <td>0.000453</td>\n",
       "      <td>2</td>\n",
       "    </tr>\n",
       "    <tr>\n",
       "      <th>2</th>\n",
       "      <td>1362548</td>\n",
       "      <td>1</td>\n",
       "      <td>0.008719</td>\n",
       "      <td>0.011203</td>\n",
       "      <td>2</td>\n",
       "    </tr>\n",
       "    <tr>\n",
       "      <th>3</th>\n",
       "      <td>1362752</td>\n",
       "      <td>1</td>\n",
       "      <td>0.029066</td>\n",
       "      <td>0.027044</td>\n",
       "      <td>2</td>\n",
       "    </tr>\n",
       "    <tr>\n",
       "      <th>4</th>\n",
       "      <td>1363017</td>\n",
       "      <td>0</td>\n",
       "      <td>0.111071</td>\n",
       "      <td>0.129229</td>\n",
       "      <td>0</td>\n",
       "    </tr>\n",
       "  </tbody>\n",
       "</table>\n",
       "</div>"
      ],
      "text/plain": [
       "   cust_id  savings_account_active  savings_starting_balance  \\\n",
       "0  1363160                       1                  0.000744   \n",
       "1  1362487                       0                  0.032057   \n",
       "2  1362548                       1                  0.008719   \n",
       "3  1362752                       1                  0.029066   \n",
       "4  1363017                       0                  0.111071   \n",
       "\n",
       "   savings_ending_balance  sav_cluster  \n",
       "0                0.005341            1  \n",
       "1                0.000453            2  \n",
       "2                0.011203            2  \n",
       "3                0.027044            2  \n",
       "4                0.129229            0  "
      ]
     },
     "execution_count": 162,
     "metadata": {},
     "output_type": "execute_result"
    }
   ],
   "source": [
    "savings_.head()"
   ]
  },
  {
   "cell_type": "code",
   "execution_count": 126,
   "metadata": {},
   "outputs": [
    {
     "data": {
      "text/html": [
       "<div>\n",
       "<style scoped>\n",
       "    .dataframe tbody tr th:only-of-type {\n",
       "        vertical-align: middle;\n",
       "    }\n",
       "\n",
       "    .dataframe tbody tr th {\n",
       "        vertical-align: top;\n",
       "    }\n",
       "\n",
       "    .dataframe thead th {\n",
       "        text-align: right;\n",
       "    }\n",
       "</style>\n",
       "<table border=\"1\" class=\"dataframe\">\n",
       "  <thead>\n",
       "    <tr style=\"text-align: right;\">\n",
       "      <th></th>\n",
       "      <th>cust_id</th>\n",
       "      <th>credit_account_active</th>\n",
       "      <th>credit_starting_balance</th>\n",
       "      <th>credit_ending_balance</th>\n",
       "    </tr>\n",
       "  </thead>\n",
       "  <tbody>\n",
       "    <tr>\n",
       "      <th>0</th>\n",
       "      <td>1363160</td>\n",
       "      <td>Y</td>\n",
       "      <td>657.46</td>\n",
       "      <td>286.69</td>\n",
       "    </tr>\n",
       "    <tr>\n",
       "      <th>1</th>\n",
       "      <td>1362487</td>\n",
       "      <td>Y</td>\n",
       "      <td>0.00</td>\n",
       "      <td>1548.23</td>\n",
       "    </tr>\n",
       "    <tr>\n",
       "      <th>2</th>\n",
       "      <td>1362548</td>\n",
       "      <td>Y</td>\n",
       "      <td>6965.25</td>\n",
       "      <td>68.68</td>\n",
       "    </tr>\n",
       "    <tr>\n",
       "      <th>3</th>\n",
       "      <td>1362752</td>\n",
       "      <td>N</td>\n",
       "      <td>2302.14</td>\n",
       "      <td>0.00</td>\n",
       "    </tr>\n",
       "    <tr>\n",
       "      <th>4</th>\n",
       "      <td>1363017</td>\n",
       "      <td>Y</td>\n",
       "      <td>0.00</td>\n",
       "      <td>1000.00</td>\n",
       "    </tr>\n",
       "  </tbody>\n",
       "</table>\n",
       "</div>"
      ],
      "text/plain": [
       "   cust_id credit_account_active  credit_starting_balance  \\\n",
       "0  1363160                    Y                    657.46   \n",
       "1  1362487                    Y                      0.00   \n",
       "2  1362548                    Y                   6965.25   \n",
       "3  1362752                    N                   2302.14   \n",
       "4  1363017                    Y                      0.00   \n",
       "\n",
       "   credit_ending_balance  \n",
       "0                 286.69  \n",
       "1                1548.23  \n",
       "2                  68.68  \n",
       "3                   0.00  \n",
       "4                1000.00  "
      ]
     },
     "execution_count": 126,
     "metadata": {},
     "output_type": "execute_result"
    }
   ],
   "source": [
    "credit_.head()"
   ]
  },
  {
   "cell_type": "code",
   "execution_count": 149,
   "metadata": {},
   "outputs": [
    {
     "name": "stderr",
     "output_type": "stream",
     "text": [
      "/var/folders/wg/4yj17hrn3q9g_27l8zsxxy5m0000gn/T/ipykernel_40660/3157393677.py:1: SettingWithCopyWarning: \n",
      "A value is trying to be set on a copy of a slice from a DataFrame.\n",
      "Try using .loc[row_indexer,col_indexer] = value instead\n",
      "\n",
      "See the caveats in the documentation: https://pandas.pydata.org/pandas-docs/stable/user_guide/indexing.html#returning-a-view-versus-a-copy\n",
      "  credit_[\"credit_account_active\"] = credit_[\"credit_account_active\"].map(lambda x: 1 if x == 'Y ' else 0)\n"
     ]
    }
   ],
   "source": [
    "credit_[\"credit_account_active\"] = credit_[\"credit_account_active\"].map(lambda x: 1 if x == 'Y ' else 0)"
   ]
  },
  {
   "cell_type": "code",
   "execution_count": 163,
   "metadata": {},
   "outputs": [
    {
     "name": "stderr",
     "output_type": "stream",
     "text": [
      "/Users/louisrossi/opt/anaconda3/envs/plot/lib/python3.9/site-packages/pandas/core/frame.py:3673: SettingWithCopyWarning: \n",
      "A value is trying to be set on a copy of a slice from a DataFrame.\n",
      "Try using .loc[row_indexer,col_indexer] = value instead\n",
      "\n",
      "See the caveats in the documentation: https://pandas.pydata.org/pandas-docs/stable/user_guide/indexing.html#returning-a-view-versus-a-copy\n",
      "  self[col] = igetitem(value, i)\n"
     ]
    }
   ],
   "source": [
    "# scale savings_\n",
    "credit_[[\"credit_starting_balance\",\"credit_ending_balance\"]] = scaler.fit_transform(credit_[[\"credit_starting_balance\",\"credit_ending_balance\"]])\n",
    "\n"
   ]
  },
  {
   "cell_type": "code",
   "execution_count": 199,
   "metadata": {},
   "outputs": [
    {
     "data": {
      "text/html": [
       "<div>\n",
       "<style scoped>\n",
       "    .dataframe tbody tr th:only-of-type {\n",
       "        vertical-align: middle;\n",
       "    }\n",
       "\n",
       "    .dataframe tbody tr th {\n",
       "        vertical-align: top;\n",
       "    }\n",
       "\n",
       "    .dataframe thead th {\n",
       "        text-align: right;\n",
       "    }\n",
       "</style>\n",
       "<table border=\"1\" class=\"dataframe\">\n",
       "  <thead>\n",
       "    <tr style=\"text-align: right;\">\n",
       "      <th></th>\n",
       "      <th>cust_id</th>\n",
       "      <th>credit_account_active</th>\n",
       "      <th>credit_starting_balance</th>\n",
       "      <th>credit_ending_balance</th>\n",
       "      <th>cred_cluster</th>\n",
       "    </tr>\n",
       "  </thead>\n",
       "  <tbody>\n",
       "    <tr>\n",
       "      <th>0</th>\n",
       "      <td>1363160</td>\n",
       "      <td>1</td>\n",
       "      <td>0.057699</td>\n",
       "      <td>0.030178</td>\n",
       "      <td>1</td>\n",
       "    </tr>\n",
       "    <tr>\n",
       "      <th>1</th>\n",
       "      <td>1362487</td>\n",
       "      <td>1</td>\n",
       "      <td>0.000000</td>\n",
       "      <td>0.162972</td>\n",
       "      <td>2</td>\n",
       "    </tr>\n",
       "    <tr>\n",
       "      <th>2</th>\n",
       "      <td>1362548</td>\n",
       "      <td>1</td>\n",
       "      <td>0.611273</td>\n",
       "      <td>0.007229</td>\n",
       "      <td>2</td>\n",
       "    </tr>\n",
       "    <tr>\n",
       "      <th>3</th>\n",
       "      <td>1362752</td>\n",
       "      <td>0</td>\n",
       "      <td>0.202037</td>\n",
       "      <td>0.000000</td>\n",
       "      <td>2</td>\n",
       "    </tr>\n",
       "    <tr>\n",
       "      <th>4</th>\n",
       "      <td>1363017</td>\n",
       "      <td>1</td>\n",
       "      <td>0.000000</td>\n",
       "      <td>0.105263</td>\n",
       "      <td>0</td>\n",
       "    </tr>\n",
       "  </tbody>\n",
       "</table>\n",
       "</div>"
      ],
      "text/plain": [
       "   cust_id  credit_account_active  credit_starting_balance  \\\n",
       "0  1363160                      1                 0.057699   \n",
       "1  1362487                      1                 0.000000   \n",
       "2  1362548                      1                 0.611273   \n",
       "3  1362752                      0                 0.202037   \n",
       "4  1363017                      1                 0.000000   \n",
       "\n",
       "   credit_ending_balance  cred_cluster  \n",
       "0               0.030178             1  \n",
       "1               0.162972             2  \n",
       "2               0.007229             2  \n",
       "3               0.000000             2  \n",
       "4               0.105263             0  "
      ]
     },
     "execution_count": 199,
     "metadata": {},
     "output_type": "execute_result"
    }
   ],
   "source": [
    "credit_.head()"
   ]
  },
  {
   "cell_type": "markdown",
   "metadata": {},
   "source": [
    "### credit_ kmeans"
   ]
  },
  {
   "cell_type": "code",
   "execution_count": 200,
   "metadata": {},
   "outputs": [],
   "source": [
    "kmeans_credit = KMeans(n_clusters=3,init='k-means++', random_state=0)\n",
    "y_m3 = kmeans_credit.fit(credit_)\n",
    "Label_credit = y_m3.predict(credit_)"
   ]
  },
  {
   "cell_type": "code",
   "execution_count": 201,
   "metadata": {},
   "outputs": [
    {
     "name": "stderr",
     "output_type": "stream",
     "text": [
      "/var/folders/wg/4yj17hrn3q9g_27l8zsxxy5m0000gn/T/ipykernel_40660/1998015949.py:1: SettingWithCopyWarning: \n",
      "A value is trying to be set on a copy of a slice from a DataFrame.\n",
      "Try using .loc[row_indexer,col_indexer] = value instead\n",
      "\n",
      "See the caveats in the documentation: https://pandas.pydata.org/pandas-docs/stable/user_guide/indexing.html#returning-a-view-versus-a-copy\n",
      "  credit_[\"cred_cluster\"] = Label_credit\n"
     ]
    }
   ],
   "source": [
    "credit_[\"cred_cluster\"] = Label_credit"
   ]
  },
  {
   "cell_type": "code",
   "execution_count": 203,
   "metadata": {},
   "outputs": [],
   "source": [
    "df_banking = credit_.merge(savings_, on=\"cust_id\", how = 'inner')"
   ]
  },
  {
   "cell_type": "code",
   "execution_count": 204,
   "metadata": {},
   "outputs": [],
   "source": [
    "df_banking = df_banking.merge(cluster_twm_customer[[\"cust_id\",\"income\"]], on=\"cust_id\", how=\"inner\")"
   ]
  },
  {
   "cell_type": "code",
   "execution_count": 206,
   "metadata": {},
   "outputs": [
    {
     "data": {
      "text/html": [
       "<div>\n",
       "<style scoped>\n",
       "    .dataframe tbody tr th:only-of-type {\n",
       "        vertical-align: middle;\n",
       "    }\n",
       "\n",
       "    .dataframe tbody tr th {\n",
       "        vertical-align: top;\n",
       "    }\n",
       "\n",
       "    .dataframe thead th {\n",
       "        text-align: right;\n",
       "    }\n",
       "</style>\n",
       "<table border=\"1\" class=\"dataframe\">\n",
       "  <thead>\n",
       "    <tr style=\"text-align: right;\">\n",
       "      <th></th>\n",
       "      <th>cust_id</th>\n",
       "      <th>credit_account_active</th>\n",
       "      <th>credit_starting_balance</th>\n",
       "      <th>credit_ending_balance</th>\n",
       "      <th>cred_cluster</th>\n",
       "      <th>savings_account_active</th>\n",
       "      <th>savings_starting_balance</th>\n",
       "      <th>savings_ending_balance</th>\n",
       "      <th>sav_cluster</th>\n",
       "      <th>income</th>\n",
       "    </tr>\n",
       "  </thead>\n",
       "  <tbody>\n",
       "    <tr>\n",
       "      <th>0</th>\n",
       "      <td>1363160</td>\n",
       "      <td>1</td>\n",
       "      <td>0.057699</td>\n",
       "      <td>0.030178</td>\n",
       "      <td>1</td>\n",
       "      <td>1</td>\n",
       "      <td>0.000744</td>\n",
       "      <td>0.005341</td>\n",
       "      <td>1</td>\n",
       "      <td>0.128665</td>\n",
       "    </tr>\n",
       "    <tr>\n",
       "      <th>1</th>\n",
       "      <td>1362487</td>\n",
       "      <td>1</td>\n",
       "      <td>0.000000</td>\n",
       "      <td>0.162972</td>\n",
       "      <td>2</td>\n",
       "      <td>0</td>\n",
       "      <td>0.032057</td>\n",
       "      <td>0.000453</td>\n",
       "      <td>2</td>\n",
       "      <td>0.045818</td>\n",
       "    </tr>\n",
       "    <tr>\n",
       "      <th>2</th>\n",
       "      <td>1362548</td>\n",
       "      <td>1</td>\n",
       "      <td>0.611273</td>\n",
       "      <td>0.007229</td>\n",
       "      <td>2</td>\n",
       "      <td>1</td>\n",
       "      <td>0.008719</td>\n",
       "      <td>0.011203</td>\n",
       "      <td>2</td>\n",
       "      <td>0.309066</td>\n",
       "    </tr>\n",
       "    <tr>\n",
       "      <th>3</th>\n",
       "      <td>1362752</td>\n",
       "      <td>0</td>\n",
       "      <td>0.202037</td>\n",
       "      <td>0.000000</td>\n",
       "      <td>2</td>\n",
       "      <td>1</td>\n",
       "      <td>0.029066</td>\n",
       "      <td>0.027044</td>\n",
       "      <td>2</td>\n",
       "      <td>0.330667</td>\n",
       "    </tr>\n",
       "    <tr>\n",
       "      <th>4</th>\n",
       "      <td>1363017</td>\n",
       "      <td>1</td>\n",
       "      <td>0.000000</td>\n",
       "      <td>0.105263</td>\n",
       "      <td>0</td>\n",
       "      <td>0</td>\n",
       "      <td>0.111071</td>\n",
       "      <td>0.129229</td>\n",
       "      <td>0</td>\n",
       "      <td>0.000000</td>\n",
       "    </tr>\n",
       "    <tr>\n",
       "      <th>...</th>\n",
       "      <td>...</td>\n",
       "      <td>...</td>\n",
       "      <td>...</td>\n",
       "      <td>...</td>\n",
       "      <td>...</td>\n",
       "      <td>...</td>\n",
       "      <td>...</td>\n",
       "      <td>...</td>\n",
       "      <td>...</td>\n",
       "      <td>...</td>\n",
       "    </tr>\n",
       "    <tr>\n",
       "      <th>292</th>\n",
       "      <td>1362815</td>\n",
       "      <td>1</td>\n",
       "      <td>0.000000</td>\n",
       "      <td>0.105263</td>\n",
       "      <td>0</td>\n",
       "      <td>1</td>\n",
       "      <td>0.028721</td>\n",
       "      <td>0.015436</td>\n",
       "      <td>0</td>\n",
       "      <td>0.000000</td>\n",
       "    </tr>\n",
       "    <tr>\n",
       "      <th>293</th>\n",
       "      <td>1363038</td>\n",
       "      <td>1</td>\n",
       "      <td>0.000000</td>\n",
       "      <td>0.189474</td>\n",
       "      <td>0</td>\n",
       "      <td>1</td>\n",
       "      <td>0.013561</td>\n",
       "      <td>0.022538</td>\n",
       "      <td>0</td>\n",
       "      <td>0.253925</td>\n",
       "    </tr>\n",
       "    <tr>\n",
       "      <th>294</th>\n",
       "      <td>1363284</td>\n",
       "      <td>1</td>\n",
       "      <td>0.073099</td>\n",
       "      <td>0.101676</td>\n",
       "      <td>1</td>\n",
       "      <td>1</td>\n",
       "      <td>0.078702</td>\n",
       "      <td>0.038261</td>\n",
       "      <td>1</td>\n",
       "      <td>0.253987</td>\n",
       "    </tr>\n",
       "    <tr>\n",
       "      <th>295</th>\n",
       "      <td>1362895</td>\n",
       "      <td>1</td>\n",
       "      <td>0.000000</td>\n",
       "      <td>0.136842</td>\n",
       "      <td>0</td>\n",
       "      <td>1</td>\n",
       "      <td>0.004053</td>\n",
       "      <td>0.004169</td>\n",
       "      <td>0</td>\n",
       "      <td>0.183043</td>\n",
       "    </tr>\n",
       "    <tr>\n",
       "      <th>296</th>\n",
       "      <td>1362529</td>\n",
       "      <td>0</td>\n",
       "      <td>0.130029</td>\n",
       "      <td>0.045624</td>\n",
       "      <td>2</td>\n",
       "      <td>1</td>\n",
       "      <td>0.032658</td>\n",
       "      <td>0.038805</td>\n",
       "      <td>2</td>\n",
       "      <td>0.304037</td>\n",
       "    </tr>\n",
       "  </tbody>\n",
       "</table>\n",
       "<p>297 rows × 10 columns</p>\n",
       "</div>"
      ],
      "text/plain": [
       "     cust_id  credit_account_active  credit_starting_balance  \\\n",
       "0    1363160                      1                 0.057699   \n",
       "1    1362487                      1                 0.000000   \n",
       "2    1362548                      1                 0.611273   \n",
       "3    1362752                      0                 0.202037   \n",
       "4    1363017                      1                 0.000000   \n",
       "..       ...                    ...                      ...   \n",
       "292  1362815                      1                 0.000000   \n",
       "293  1363038                      1                 0.000000   \n",
       "294  1363284                      1                 0.073099   \n",
       "295  1362895                      1                 0.000000   \n",
       "296  1362529                      0                 0.130029   \n",
       "\n",
       "     credit_ending_balance  cred_cluster  savings_account_active  \\\n",
       "0                 0.030178             1                       1   \n",
       "1                 0.162972             2                       0   \n",
       "2                 0.007229             2                       1   \n",
       "3                 0.000000             2                       1   \n",
       "4                 0.105263             0                       0   \n",
       "..                     ...           ...                     ...   \n",
       "292               0.105263             0                       1   \n",
       "293               0.189474             0                       1   \n",
       "294               0.101676             1                       1   \n",
       "295               0.136842             0                       1   \n",
       "296               0.045624             2                       1   \n",
       "\n",
       "     savings_starting_balance  savings_ending_balance  sav_cluster    income  \n",
       "0                    0.000744                0.005341            1  0.128665  \n",
       "1                    0.032057                0.000453            2  0.045818  \n",
       "2                    0.008719                0.011203            2  0.309066  \n",
       "3                    0.029066                0.027044            2  0.330667  \n",
       "4                    0.111071                0.129229            0  0.000000  \n",
       "..                        ...                     ...          ...       ...  \n",
       "292                  0.028721                0.015436            0  0.000000  \n",
       "293                  0.013561                0.022538            0  0.253925  \n",
       "294                  0.078702                0.038261            1  0.253987  \n",
       "295                  0.004053                0.004169            0  0.183043  \n",
       "296                  0.032658                0.038805            2  0.304037  \n",
       "\n",
       "[297 rows x 10 columns]"
      ]
     },
     "execution_count": 206,
     "metadata": {},
     "output_type": "execute_result"
    }
   ],
   "source": [
    "df_banking"
   ]
  },
  {
   "cell_type": "code",
   "execution_count": 207,
   "metadata": {},
   "outputs": [],
   "source": [
    "df_banking = df_banking.drop([\"cred_cluster\", \"sav_cluster\"], axis=1)"
   ]
  },
  {
   "cell_type": "code",
   "execution_count": 208,
   "metadata": {},
   "outputs": [],
   "source": [
    "features_df_banking = ['credit_account_active', 'credit_starting_balance',\n",
    "       'credit_ending_balance', 'savings_account_active',\n",
    "       'savings_starting_balance', 'savings_ending_balance', 'income']"
   ]
  },
  {
   "cell_type": "code",
   "execution_count": 209,
   "metadata": {},
   "outputs": [],
   "source": [
    "kmeans_df_banking = KMeans(n_clusters=3,init='k-means++', random_state=0)\n",
    "y_m4 = kmeans_df_banking.fit(df_banking[features_df_banking])\n",
    "Label_df_banking = y_m4.predict(df_banking[features_df_banking])"
   ]
  },
  {
   "cell_type": "code",
   "execution_count": 210,
   "metadata": {},
   "outputs": [],
   "source": [
    "df_banking[\"banking_cluster\"] = Label_df_banking"
   ]
  },
  {
   "cell_type": "code",
   "execution_count": 211,
   "metadata": {},
   "outputs": [
    {
     "data": {
      "text/html": [
       "<div>\n",
       "<style scoped>\n",
       "    .dataframe tbody tr th:only-of-type {\n",
       "        vertical-align: middle;\n",
       "    }\n",
       "\n",
       "    .dataframe tbody tr th {\n",
       "        vertical-align: top;\n",
       "    }\n",
       "\n",
       "    .dataframe thead th {\n",
       "        text-align: right;\n",
       "    }\n",
       "</style>\n",
       "<table border=\"1\" class=\"dataframe\">\n",
       "  <thead>\n",
       "    <tr style=\"text-align: right;\">\n",
       "      <th></th>\n",
       "      <th>cust_id</th>\n",
       "      <th>credit_account_active</th>\n",
       "      <th>credit_starting_balance</th>\n",
       "      <th>credit_ending_balance</th>\n",
       "      <th>savings_account_active</th>\n",
       "      <th>savings_starting_balance</th>\n",
       "      <th>savings_ending_balance</th>\n",
       "      <th>income</th>\n",
       "      <th>banking_cluster</th>\n",
       "    </tr>\n",
       "  </thead>\n",
       "  <tbody>\n",
       "    <tr>\n",
       "      <th>0</th>\n",
       "      <td>1363160</td>\n",
       "      <td>1</td>\n",
       "      <td>0.057699</td>\n",
       "      <td>0.030178</td>\n",
       "      <td>1</td>\n",
       "      <td>0.000744</td>\n",
       "      <td>0.005341</td>\n",
       "      <td>0.128665</td>\n",
       "      <td>0</td>\n",
       "    </tr>\n",
       "    <tr>\n",
       "      <th>1</th>\n",
       "      <td>1362487</td>\n",
       "      <td>1</td>\n",
       "      <td>0.000000</td>\n",
       "      <td>0.162972</td>\n",
       "      <td>0</td>\n",
       "      <td>0.032057</td>\n",
       "      <td>0.000453</td>\n",
       "      <td>0.045818</td>\n",
       "      <td>1</td>\n",
       "    </tr>\n",
       "    <tr>\n",
       "      <th>2</th>\n",
       "      <td>1362548</td>\n",
       "      <td>1</td>\n",
       "      <td>0.611273</td>\n",
       "      <td>0.007229</td>\n",
       "      <td>1</td>\n",
       "      <td>0.008719</td>\n",
       "      <td>0.011203</td>\n",
       "      <td>0.309066</td>\n",
       "      <td>0</td>\n",
       "    </tr>\n",
       "    <tr>\n",
       "      <th>3</th>\n",
       "      <td>1362752</td>\n",
       "      <td>0</td>\n",
       "      <td>0.202037</td>\n",
       "      <td>0.000000</td>\n",
       "      <td>1</td>\n",
       "      <td>0.029066</td>\n",
       "      <td>0.027044</td>\n",
       "      <td>0.330667</td>\n",
       "      <td>2</td>\n",
       "    </tr>\n",
       "    <tr>\n",
       "      <th>4</th>\n",
       "      <td>1363017</td>\n",
       "      <td>1</td>\n",
       "      <td>0.000000</td>\n",
       "      <td>0.105263</td>\n",
       "      <td>0</td>\n",
       "      <td>0.111071</td>\n",
       "      <td>0.129229</td>\n",
       "      <td>0.000000</td>\n",
       "      <td>1</td>\n",
       "    </tr>\n",
       "  </tbody>\n",
       "</table>\n",
       "</div>"
      ],
      "text/plain": [
       "   cust_id  credit_account_active  credit_starting_balance  \\\n",
       "0  1363160                      1                 0.057699   \n",
       "1  1362487                      1                 0.000000   \n",
       "2  1362548                      1                 0.611273   \n",
       "3  1362752                      0                 0.202037   \n",
       "4  1363017                      1                 0.000000   \n",
       "\n",
       "   credit_ending_balance  savings_account_active  savings_starting_balance  \\\n",
       "0               0.030178                       1                  0.000744   \n",
       "1               0.162972                       0                  0.032057   \n",
       "2               0.007229                       1                  0.008719   \n",
       "3               0.000000                       1                  0.029066   \n",
       "4               0.105263                       0                  0.111071   \n",
       "\n",
       "   savings_ending_balance    income  banking_cluster  \n",
       "0                0.005341  0.128665                0  \n",
       "1                0.000453  0.045818                1  \n",
       "2                0.011203  0.309066                0  \n",
       "3                0.027044  0.330667                2  \n",
       "4                0.129229  0.000000                1  "
      ]
     },
     "execution_count": 211,
     "metadata": {},
     "output_type": "execute_result"
    }
   ],
   "source": [
    "df_banking.head()"
   ]
  },
  {
   "cell_type": "code",
   "execution_count": 212,
   "metadata": {},
   "outputs": [],
   "source": [
    "df_banking_cluster0 = df_banking[df_banking.banking_cluster == 0]\n",
    "df_banking_cluster1 = df_banking[df_banking.banking_cluster == 1]\n",
    "df_banking_cluster2 = df_banking[df_banking.banking_cluster == 2]"
   ]
  },
  {
   "cell_type": "code",
   "execution_count": 233,
   "metadata": {},
   "outputs": [],
   "source": [
    "# find the outlier in 0\n",
    "findoutlier = df_banking_cluster0.loc[df_banking_cluster0[\"income\"] > 0.97]"
   ]
  },
  {
   "cell_type": "code",
   "execution_count": 234,
   "metadata": {},
   "outputs": [
    {
     "data": {
      "text/html": [
       "<div>\n",
       "<style scoped>\n",
       "    .dataframe tbody tr th:only-of-type {\n",
       "        vertical-align: middle;\n",
       "    }\n",
       "\n",
       "    .dataframe tbody tr th {\n",
       "        vertical-align: top;\n",
       "    }\n",
       "\n",
       "    .dataframe thead th {\n",
       "        text-align: right;\n",
       "    }\n",
       "</style>\n",
       "<table border=\"1\" class=\"dataframe\">\n",
       "  <thead>\n",
       "    <tr style=\"text-align: right;\">\n",
       "      <th></th>\n",
       "      <th>cust_id</th>\n",
       "      <th>credit_account_active</th>\n",
       "      <th>credit_starting_balance</th>\n",
       "      <th>credit_ending_balance</th>\n",
       "      <th>savings_account_active</th>\n",
       "      <th>savings_starting_balance</th>\n",
       "      <th>savings_ending_balance</th>\n",
       "      <th>income</th>\n",
       "      <th>banking_cluster</th>\n",
       "    </tr>\n",
       "  </thead>\n",
       "  <tbody>\n",
       "    <tr>\n",
       "      <th>255</th>\n",
       "      <td>1363492</td>\n",
       "      <td>1</td>\n",
       "      <td>0.362326</td>\n",
       "      <td>0.723053</td>\n",
       "      <td>1</td>\n",
       "      <td>0.049534</td>\n",
       "      <td>0.049637</td>\n",
       "      <td>0.986938</td>\n",
       "      <td>0</td>\n",
       "    </tr>\n",
       "  </tbody>\n",
       "</table>\n",
       "</div>"
      ],
      "text/plain": [
       "     cust_id  credit_account_active  credit_starting_balance  \\\n",
       "255  1363492                      1                 0.362326   \n",
       "\n",
       "     credit_ending_balance  savings_account_active  savings_starting_balance  \\\n",
       "255               0.723053                       1                  0.049534   \n",
       "\n",
       "     savings_ending_balance    income  banking_cluster  \n",
       "255                0.049637  0.986938                0  "
      ]
     },
     "execution_count": 234,
     "metadata": {},
     "output_type": "execute_result"
    }
   ],
   "source": [
    "findoutlier"
   ]
  },
  {
   "cell_type": "code",
   "execution_count": 236,
   "metadata": {},
   "outputs": [],
   "source": [
    "df_banking_cluster0 = df_banking_cluster0.drop(255,axis=0) # DROP OUTLIER"
   ]
  },
  {
   "cell_type": "code",
   "execution_count": 257,
   "metadata": {},
   "outputs": [
    {
     "data": {
      "text/html": [
       "<div>\n",
       "<style scoped>\n",
       "    .dataframe tbody tr th:only-of-type {\n",
       "        vertical-align: middle;\n",
       "    }\n",
       "\n",
       "    .dataframe tbody tr th {\n",
       "        vertical-align: top;\n",
       "    }\n",
       "\n",
       "    .dataframe thead th {\n",
       "        text-align: right;\n",
       "    }\n",
       "</style>\n",
       "<table border=\"1\" class=\"dataframe\">\n",
       "  <thead>\n",
       "    <tr style=\"text-align: right;\">\n",
       "      <th></th>\n",
       "      <th>cust_id</th>\n",
       "      <th>credit_account_active</th>\n",
       "      <th>credit_starting_balance</th>\n",
       "      <th>credit_ending_balance</th>\n",
       "      <th>savings_account_active</th>\n",
       "      <th>savings_starting_balance</th>\n",
       "      <th>savings_ending_balance</th>\n",
       "      <th>income</th>\n",
       "      <th>banking_cluster</th>\n",
       "    </tr>\n",
       "  </thead>\n",
       "  <tbody>\n",
       "    <tr>\n",
       "      <th>count</th>\n",
       "      <td>2.430000e+02</td>\n",
       "      <td>243.0</td>\n",
       "      <td>243.000000</td>\n",
       "      <td>243.000000</td>\n",
       "      <td>243.0</td>\n",
       "      <td>243.000000</td>\n",
       "      <td>243.000000</td>\n",
       "      <td>243.000000</td>\n",
       "      <td>243.0</td>\n",
       "    </tr>\n",
       "    <tr>\n",
       "      <th>mean</th>\n",
       "      <td>1.362990e+06</td>\n",
       "      <td>1.0</td>\n",
       "      <td>0.082408</td>\n",
       "      <td>0.125044</td>\n",
       "      <td>1.0</td>\n",
       "      <td>0.042497</td>\n",
       "      <td>0.050311</td>\n",
       "      <td>0.149000</td>\n",
       "      <td>0.0</td>\n",
       "    </tr>\n",
       "    <tr>\n",
       "      <th>std</th>\n",
       "      <td>2.826328e+02</td>\n",
       "      <td>0.0</td>\n",
       "      <td>0.134300</td>\n",
       "      <td>0.129842</td>\n",
       "      <td>0.0</td>\n",
       "      <td>0.097717</td>\n",
       "      <td>0.072452</td>\n",
       "      <td>0.132488</td>\n",
       "      <td>0.0</td>\n",
       "    </tr>\n",
       "    <tr>\n",
       "      <th>min</th>\n",
       "      <td>1.362484e+06</td>\n",
       "      <td>1.0</td>\n",
       "      <td>0.000000</td>\n",
       "      <td>0.000000</td>\n",
       "      <td>1.0</td>\n",
       "      <td>0.000000</td>\n",
       "      <td>0.000000</td>\n",
       "      <td>0.000000</td>\n",
       "      <td>0.0</td>\n",
       "    </tr>\n",
       "    <tr>\n",
       "      <th>25%</th>\n",
       "      <td>1.362739e+06</td>\n",
       "      <td>1.0</td>\n",
       "      <td>0.000000</td>\n",
       "      <td>0.047573</td>\n",
       "      <td>1.0</td>\n",
       "      <td>0.004242</td>\n",
       "      <td>0.010721</td>\n",
       "      <td>0.053685</td>\n",
       "      <td>0.0</td>\n",
       "    </tr>\n",
       "    <tr>\n",
       "      <th>50%</th>\n",
       "      <td>1.362973e+06</td>\n",
       "      <td>1.0</td>\n",
       "      <td>0.028800</td>\n",
       "      <td>0.105263</td>\n",
       "      <td>1.0</td>\n",
       "      <td>0.010763</td>\n",
       "      <td>0.030236</td>\n",
       "      <td>0.119606</td>\n",
       "      <td>0.0</td>\n",
       "    </tr>\n",
       "    <tr>\n",
       "      <th>75%</th>\n",
       "      <td>1.363244e+06</td>\n",
       "      <td>1.0</td>\n",
       "      <td>0.089960</td>\n",
       "      <td>0.147368</td>\n",
       "      <td>1.0</td>\n",
       "      <td>0.037061</td>\n",
       "      <td>0.065310</td>\n",
       "      <td>0.206698</td>\n",
       "      <td>0.0</td>\n",
       "    </tr>\n",
       "    <tr>\n",
       "      <th>max</th>\n",
       "      <td>1.363485e+06</td>\n",
       "      <td>1.0</td>\n",
       "      <td>0.796291</td>\n",
       "      <td>1.000000</td>\n",
       "      <td>1.0</td>\n",
       "      <td>1.000000</td>\n",
       "      <td>0.717465</td>\n",
       "      <td>0.701853</td>\n",
       "      <td>0.0</td>\n",
       "    </tr>\n",
       "  </tbody>\n",
       "</table>\n",
       "</div>"
      ],
      "text/plain": [
       "            cust_id  credit_account_active  credit_starting_balance  \\\n",
       "count  2.430000e+02                  243.0               243.000000   \n",
       "mean   1.362990e+06                    1.0                 0.082408   \n",
       "std    2.826328e+02                    0.0                 0.134300   \n",
       "min    1.362484e+06                    1.0                 0.000000   \n",
       "25%    1.362739e+06                    1.0                 0.000000   \n",
       "50%    1.362973e+06                    1.0                 0.028800   \n",
       "75%    1.363244e+06                    1.0                 0.089960   \n",
       "max    1.363485e+06                    1.0                 0.796291   \n",
       "\n",
       "       credit_ending_balance  savings_account_active  \\\n",
       "count             243.000000                   243.0   \n",
       "mean                0.125044                     1.0   \n",
       "std                 0.129842                     0.0   \n",
       "min                 0.000000                     1.0   \n",
       "25%                 0.047573                     1.0   \n",
       "50%                 0.105263                     1.0   \n",
       "75%                 0.147368                     1.0   \n",
       "max                 1.000000                     1.0   \n",
       "\n",
       "       savings_starting_balance  savings_ending_balance      income  \\\n",
       "count                243.000000              243.000000  243.000000   \n",
       "mean                   0.042497                0.050311    0.149000   \n",
       "std                    0.097717                0.072452    0.132488   \n",
       "min                    0.000000                0.000000    0.000000   \n",
       "25%                    0.004242                0.010721    0.053685   \n",
       "50%                    0.010763                0.030236    0.119606   \n",
       "75%                    0.037061                0.065310    0.206698   \n",
       "max                    1.000000                0.717465    0.701853   \n",
       "\n",
       "       banking_cluster  \n",
       "count            243.0  \n",
       "mean               0.0  \n",
       "std                0.0  \n",
       "min                0.0  \n",
       "25%                0.0  \n",
       "50%                0.0  \n",
       "75%                0.0  \n",
       "max                0.0  "
      ]
     },
     "execution_count": 257,
     "metadata": {},
     "output_type": "execute_result"
    }
   ],
   "source": [
    "df_banking_cluster0.describe()"
   ]
  },
  {
   "cell_type": "code",
   "execution_count": 258,
   "metadata": {},
   "outputs": [
    {
     "data": {
      "text/html": [
       "<div>\n",
       "<style scoped>\n",
       "    .dataframe tbody tr th:only-of-type {\n",
       "        vertical-align: middle;\n",
       "    }\n",
       "\n",
       "    .dataframe tbody tr th {\n",
       "        vertical-align: top;\n",
       "    }\n",
       "\n",
       "    .dataframe thead th {\n",
       "        text-align: right;\n",
       "    }\n",
       "</style>\n",
       "<table border=\"1\" class=\"dataframe\">\n",
       "  <thead>\n",
       "    <tr style=\"text-align: right;\">\n",
       "      <th></th>\n",
       "      <th>cust_id</th>\n",
       "      <th>credit_account_active</th>\n",
       "      <th>credit_starting_balance</th>\n",
       "      <th>credit_ending_balance</th>\n",
       "      <th>savings_account_active</th>\n",
       "      <th>savings_starting_balance</th>\n",
       "      <th>savings_ending_balance</th>\n",
       "      <th>income</th>\n",
       "      <th>banking_cluster</th>\n",
       "    </tr>\n",
       "  </thead>\n",
       "  <tbody>\n",
       "    <tr>\n",
       "      <th>count</th>\n",
       "      <td>3.200000e+01</td>\n",
       "      <td>32.000000</td>\n",
       "      <td>32.000000</td>\n",
       "      <td>32.000000</td>\n",
       "      <td>32.0</td>\n",
       "      <td>32.000000</td>\n",
       "      <td>32.000000</td>\n",
       "      <td>32.000000</td>\n",
       "      <td>32.0</td>\n",
       "    </tr>\n",
       "    <tr>\n",
       "      <th>mean</th>\n",
       "      <td>1.363019e+06</td>\n",
       "      <td>0.875000</td>\n",
       "      <td>0.094521</td>\n",
       "      <td>0.095236</td>\n",
       "      <td>0.0</td>\n",
       "      <td>0.023187</td>\n",
       "      <td>0.037098</td>\n",
       "      <td>0.109988</td>\n",
       "      <td>1.0</td>\n",
       "    </tr>\n",
       "    <tr>\n",
       "      <th>std</th>\n",
       "      <td>3.005092e+02</td>\n",
       "      <td>0.336011</td>\n",
       "      <td>0.088541</td>\n",
       "      <td>0.080147</td>\n",
       "      <td>0.0</td>\n",
       "      <td>0.033274</td>\n",
       "      <td>0.037255</td>\n",
       "      <td>0.097770</td>\n",
       "      <td>0.0</td>\n",
       "    </tr>\n",
       "    <tr>\n",
       "      <th>min</th>\n",
       "      <td>1.362487e+06</td>\n",
       "      <td>0.000000</td>\n",
       "      <td>0.000000</td>\n",
       "      <td>0.000000</td>\n",
       "      <td>0.0</td>\n",
       "      <td>0.001061</td>\n",
       "      <td>0.000453</td>\n",
       "      <td>0.000000</td>\n",
       "      <td>1.0</td>\n",
       "    </tr>\n",
       "    <tr>\n",
       "      <th>25%</th>\n",
       "      <td>1.362747e+06</td>\n",
       "      <td>1.000000</td>\n",
       "      <td>0.019888</td>\n",
       "      <td>0.024078</td>\n",
       "      <td>0.0</td>\n",
       "      <td>0.002757</td>\n",
       "      <td>0.007238</td>\n",
       "      <td>0.023152</td>\n",
       "      <td>1.0</td>\n",
       "    </tr>\n",
       "    <tr>\n",
       "      <th>50%</th>\n",
       "      <td>1.363082e+06</td>\n",
       "      <td>1.000000</td>\n",
       "      <td>0.075985</td>\n",
       "      <td>0.105220</td>\n",
       "      <td>0.0</td>\n",
       "      <td>0.009564</td>\n",
       "      <td>0.022954</td>\n",
       "      <td>0.094404</td>\n",
       "      <td>1.0</td>\n",
       "    </tr>\n",
       "    <tr>\n",
       "      <th>75%</th>\n",
       "      <td>1.363253e+06</td>\n",
       "      <td>1.000000</td>\n",
       "      <td>0.139975</td>\n",
       "      <td>0.131579</td>\n",
       "      <td>0.0</td>\n",
       "      <td>0.025701</td>\n",
       "      <td>0.056552</td>\n",
       "      <td>0.171398</td>\n",
       "      <td>1.0</td>\n",
       "    </tr>\n",
       "    <tr>\n",
       "      <th>max</th>\n",
       "      <td>1.363493e+06</td>\n",
       "      <td>1.000000</td>\n",
       "      <td>0.275526</td>\n",
       "      <td>0.315789</td>\n",
       "      <td>0.0</td>\n",
       "      <td>0.120141</td>\n",
       "      <td>0.138543</td>\n",
       "      <td>0.344229</td>\n",
       "      <td>1.0</td>\n",
       "    </tr>\n",
       "  </tbody>\n",
       "</table>\n",
       "</div>"
      ],
      "text/plain": [
       "            cust_id  credit_account_active  credit_starting_balance  \\\n",
       "count  3.200000e+01              32.000000                32.000000   \n",
       "mean   1.363019e+06               0.875000                 0.094521   \n",
       "std    3.005092e+02               0.336011                 0.088541   \n",
       "min    1.362487e+06               0.000000                 0.000000   \n",
       "25%    1.362747e+06               1.000000                 0.019888   \n",
       "50%    1.363082e+06               1.000000                 0.075985   \n",
       "75%    1.363253e+06               1.000000                 0.139975   \n",
       "max    1.363493e+06               1.000000                 0.275526   \n",
       "\n",
       "       credit_ending_balance  savings_account_active  \\\n",
       "count              32.000000                    32.0   \n",
       "mean                0.095236                     0.0   \n",
       "std                 0.080147                     0.0   \n",
       "min                 0.000000                     0.0   \n",
       "25%                 0.024078                     0.0   \n",
       "50%                 0.105220                     0.0   \n",
       "75%                 0.131579                     0.0   \n",
       "max                 0.315789                     0.0   \n",
       "\n",
       "       savings_starting_balance  savings_ending_balance     income  \\\n",
       "count                 32.000000               32.000000  32.000000   \n",
       "mean                   0.023187                0.037098   0.109988   \n",
       "std                    0.033274                0.037255   0.097770   \n",
       "min                    0.001061                0.000453   0.000000   \n",
       "25%                    0.002757                0.007238   0.023152   \n",
       "50%                    0.009564                0.022954   0.094404   \n",
       "75%                    0.025701                0.056552   0.171398   \n",
       "max                    0.120141                0.138543   0.344229   \n",
       "\n",
       "       banking_cluster  \n",
       "count             32.0  \n",
       "mean               1.0  \n",
       "std                0.0  \n",
       "min                1.0  \n",
       "25%                1.0  \n",
       "50%                1.0  \n",
       "75%                1.0  \n",
       "max                1.0  "
      ]
     },
     "execution_count": 258,
     "metadata": {},
     "output_type": "execute_result"
    }
   ],
   "source": [
    "df_banking_cluster1.describe()"
   ]
  },
  {
   "cell_type": "code",
   "execution_count": 259,
   "metadata": {},
   "outputs": [
    {
     "data": {
      "text/html": [
       "<div>\n",
       "<style scoped>\n",
       "    .dataframe tbody tr th:only-of-type {\n",
       "        vertical-align: middle;\n",
       "    }\n",
       "\n",
       "    .dataframe tbody tr th {\n",
       "        vertical-align: top;\n",
       "    }\n",
       "\n",
       "    .dataframe thead th {\n",
       "        text-align: right;\n",
       "    }\n",
       "</style>\n",
       "<table border=\"1\" class=\"dataframe\">\n",
       "  <thead>\n",
       "    <tr style=\"text-align: right;\">\n",
       "      <th></th>\n",
       "      <th>cust_id</th>\n",
       "      <th>credit_account_active</th>\n",
       "      <th>credit_starting_balance</th>\n",
       "      <th>credit_ending_balance</th>\n",
       "      <th>savings_account_active</th>\n",
       "      <th>savings_starting_balance</th>\n",
       "      <th>savings_ending_balance</th>\n",
       "      <th>income</th>\n",
       "      <th>banking_cluster</th>\n",
       "    </tr>\n",
       "  </thead>\n",
       "  <tbody>\n",
       "    <tr>\n",
       "      <th>count</th>\n",
       "      <td>2.100000e+01</td>\n",
       "      <td>21.0</td>\n",
       "      <td>21.000000</td>\n",
       "      <td>21.000000</td>\n",
       "      <td>21.0</td>\n",
       "      <td>21.000000</td>\n",
       "      <td>21.000000</td>\n",
       "      <td>21.000000</td>\n",
       "      <td>21.0</td>\n",
       "    </tr>\n",
       "    <tr>\n",
       "      <th>mean</th>\n",
       "      <td>1.362891e+06</td>\n",
       "      <td>0.0</td>\n",
       "      <td>0.266684</td>\n",
       "      <td>0.031768</td>\n",
       "      <td>1.0</td>\n",
       "      <td>0.134612</td>\n",
       "      <td>0.159506</td>\n",
       "      <td>0.337594</td>\n",
       "      <td>2.0</td>\n",
       "    </tr>\n",
       "    <tr>\n",
       "      <th>std</th>\n",
       "      <td>3.304533e+02</td>\n",
       "      <td>0.0</td>\n",
       "      <td>0.194210</td>\n",
       "      <td>0.056588</td>\n",
       "      <td>0.0</td>\n",
       "      <td>0.212968</td>\n",
       "      <td>0.253952</td>\n",
       "      <td>0.165705</td>\n",
       "      <td>0.0</td>\n",
       "    </tr>\n",
       "    <tr>\n",
       "      <th>min</th>\n",
       "      <td>1.362480e+06</td>\n",
       "      <td>0.0</td>\n",
       "      <td>0.125843</td>\n",
       "      <td>0.000000</td>\n",
       "      <td>1.0</td>\n",
       "      <td>0.001256</td>\n",
       "      <td>0.005949</td>\n",
       "      <td>0.063327</td>\n",
       "      <td>2.0</td>\n",
       "    </tr>\n",
       "    <tr>\n",
       "      <th>25%</th>\n",
       "      <td>1.362594e+06</td>\n",
       "      <td>0.0</td>\n",
       "      <td>0.145731</td>\n",
       "      <td>0.002105</td>\n",
       "      <td>1.0</td>\n",
       "      <td>0.019062</td>\n",
       "      <td>0.021563</td>\n",
       "      <td>0.243602</td>\n",
       "      <td>2.0</td>\n",
       "    </tr>\n",
       "    <tr>\n",
       "      <th>50%</th>\n",
       "      <td>1.362823e+06</td>\n",
       "      <td>0.0</td>\n",
       "      <td>0.202037</td>\n",
       "      <td>0.002105</td>\n",
       "      <td>1.0</td>\n",
       "      <td>0.032658</td>\n",
       "      <td>0.038805</td>\n",
       "      <td>0.313512</td>\n",
       "      <td>2.0</td>\n",
       "    </tr>\n",
       "    <tr>\n",
       "      <th>75%</th>\n",
       "      <td>1.363081e+06</td>\n",
       "      <td>0.0</td>\n",
       "      <td>0.269668</td>\n",
       "      <td>0.042838</td>\n",
       "      <td>1.0</td>\n",
       "      <td>0.109569</td>\n",
       "      <td>0.132672</td>\n",
       "      <td>0.396956</td>\n",
       "      <td>2.0</td>\n",
       "    </tr>\n",
       "    <tr>\n",
       "      <th>max</th>\n",
       "      <td>1.363482e+06</td>\n",
       "      <td>0.0</td>\n",
       "      <td>0.838726</td>\n",
       "      <td>0.193684</td>\n",
       "      <td>1.0</td>\n",
       "      <td>0.654105</td>\n",
       "      <td>1.000000</td>\n",
       "      <td>0.709546</td>\n",
       "      <td>2.0</td>\n",
       "    </tr>\n",
       "  </tbody>\n",
       "</table>\n",
       "</div>"
      ],
      "text/plain": [
       "            cust_id  credit_account_active  credit_starting_balance  \\\n",
       "count  2.100000e+01                   21.0                21.000000   \n",
       "mean   1.362891e+06                    0.0                 0.266684   \n",
       "std    3.304533e+02                    0.0                 0.194210   \n",
       "min    1.362480e+06                    0.0                 0.125843   \n",
       "25%    1.362594e+06                    0.0                 0.145731   \n",
       "50%    1.362823e+06                    0.0                 0.202037   \n",
       "75%    1.363081e+06                    0.0                 0.269668   \n",
       "max    1.363482e+06                    0.0                 0.838726   \n",
       "\n",
       "       credit_ending_balance  savings_account_active  \\\n",
       "count              21.000000                    21.0   \n",
       "mean                0.031768                     1.0   \n",
       "std                 0.056588                     0.0   \n",
       "min                 0.000000                     1.0   \n",
       "25%                 0.002105                     1.0   \n",
       "50%                 0.002105                     1.0   \n",
       "75%                 0.042838                     1.0   \n",
       "max                 0.193684                     1.0   \n",
       "\n",
       "       savings_starting_balance  savings_ending_balance     income  \\\n",
       "count                 21.000000               21.000000  21.000000   \n",
       "mean                   0.134612                0.159506   0.337594   \n",
       "std                    0.212968                0.253952   0.165705   \n",
       "min                    0.001256                0.005949   0.063327   \n",
       "25%                    0.019062                0.021563   0.243602   \n",
       "50%                    0.032658                0.038805   0.313512   \n",
       "75%                    0.109569                0.132672   0.396956   \n",
       "max                    0.654105                1.000000   0.709546   \n",
       "\n",
       "       banking_cluster  \n",
       "count             21.0  \n",
       "mean               2.0  \n",
       "std                0.0  \n",
       "min                2.0  \n",
       "25%                2.0  \n",
       "50%                2.0  \n",
       "75%                2.0  \n",
       "max                2.0  "
      ]
     },
     "execution_count": 259,
     "metadata": {},
     "output_type": "execute_result"
    }
   ],
   "source": [
    "df_banking_cluster2.describe()"
   ]
  },
  {
   "cell_type": "markdown",
   "metadata": {},
   "source": [
    "## 2. visualize the created clusters using [radar charts](https://plotly.com/python/radar-chart/) and compare them against each other"
   ]
  },
  {
   "cell_type": "markdown",
   "metadata": {},
   "source": [
    "# radar 1"
   ]
  },
  {
   "cell_type": "code",
   "execution_count": 249,
   "metadata": {},
   "outputs": [
    {
     "data": {
      "application/vnd.plotly.v1+json": {
       "config": {
        "plotlyServerURL": "https://plot.ly"
       },
       "data": [
        {
         "fill": "toself",
         "name": "middle class0",
         "r": [
          0.14900012848931193,
          0.05031116302855253,
          0.12504363006281133
         ],
         "theta": [
          "income",
          "savings",
          "debt"
         ],
         "type": "scatterpolar"
        },
        {
         "fill": "toself",
         "name": "lower class1",
         "r": [
          0.10998837205269256,
          0.037098365072019496,
          0.09523608552631578
         ],
         "theta": [
          "income",
          "savings",
          "debt"
         ],
         "type": "scatterpolar"
        },
        {
         "fill": "toself",
         "name": "upper class2",
         "r": [
          0.3375935694449537,
          0.1595058616544089,
          0.03176812030075188
         ],
         "theta": [
          "income",
          "savings",
          "debt"
         ],
         "type": "scatterpolar"
        }
       ],
       "layout": {
        "polar": {
         "radialaxis": {
          "visible": true
         }
        },
        "showlegend": true,
        "template": {
         "data": {
          "bar": [
           {
            "error_x": {
             "color": "#2a3f5f"
            },
            "error_y": {
             "color": "#2a3f5f"
            },
            "marker": {
             "line": {
              "color": "#E5ECF6",
              "width": 0.5
             },
             "pattern": {
              "fillmode": "overlay",
              "size": 10,
              "solidity": 0.2
             }
            },
            "type": "bar"
           }
          ],
          "barpolar": [
           {
            "marker": {
             "line": {
              "color": "#E5ECF6",
              "width": 0.5
             },
             "pattern": {
              "fillmode": "overlay",
              "size": 10,
              "solidity": 0.2
             }
            },
            "type": "barpolar"
           }
          ],
          "carpet": [
           {
            "aaxis": {
             "endlinecolor": "#2a3f5f",
             "gridcolor": "white",
             "linecolor": "white",
             "minorgridcolor": "white",
             "startlinecolor": "#2a3f5f"
            },
            "baxis": {
             "endlinecolor": "#2a3f5f",
             "gridcolor": "white",
             "linecolor": "white",
             "minorgridcolor": "white",
             "startlinecolor": "#2a3f5f"
            },
            "type": "carpet"
           }
          ],
          "choropleth": [
           {
            "colorbar": {
             "outlinewidth": 0,
             "ticks": ""
            },
            "type": "choropleth"
           }
          ],
          "contour": [
           {
            "colorbar": {
             "outlinewidth": 0,
             "ticks": ""
            },
            "colorscale": [
             [
              0,
              "#0d0887"
             ],
             [
              0.1111111111111111,
              "#46039f"
             ],
             [
              0.2222222222222222,
              "#7201a8"
             ],
             [
              0.3333333333333333,
              "#9c179e"
             ],
             [
              0.4444444444444444,
              "#bd3786"
             ],
             [
              0.5555555555555556,
              "#d8576b"
             ],
             [
              0.6666666666666666,
              "#ed7953"
             ],
             [
              0.7777777777777778,
              "#fb9f3a"
             ],
             [
              0.8888888888888888,
              "#fdca26"
             ],
             [
              1,
              "#f0f921"
             ]
            ],
            "type": "contour"
           }
          ],
          "contourcarpet": [
           {
            "colorbar": {
             "outlinewidth": 0,
             "ticks": ""
            },
            "type": "contourcarpet"
           }
          ],
          "heatmap": [
           {
            "colorbar": {
             "outlinewidth": 0,
             "ticks": ""
            },
            "colorscale": [
             [
              0,
              "#0d0887"
             ],
             [
              0.1111111111111111,
              "#46039f"
             ],
             [
              0.2222222222222222,
              "#7201a8"
             ],
             [
              0.3333333333333333,
              "#9c179e"
             ],
             [
              0.4444444444444444,
              "#bd3786"
             ],
             [
              0.5555555555555556,
              "#d8576b"
             ],
             [
              0.6666666666666666,
              "#ed7953"
             ],
             [
              0.7777777777777778,
              "#fb9f3a"
             ],
             [
              0.8888888888888888,
              "#fdca26"
             ],
             [
              1,
              "#f0f921"
             ]
            ],
            "type": "heatmap"
           }
          ],
          "heatmapgl": [
           {
            "colorbar": {
             "outlinewidth": 0,
             "ticks": ""
            },
            "colorscale": [
             [
              0,
              "#0d0887"
             ],
             [
              0.1111111111111111,
              "#46039f"
             ],
             [
              0.2222222222222222,
              "#7201a8"
             ],
             [
              0.3333333333333333,
              "#9c179e"
             ],
             [
              0.4444444444444444,
              "#bd3786"
             ],
             [
              0.5555555555555556,
              "#d8576b"
             ],
             [
              0.6666666666666666,
              "#ed7953"
             ],
             [
              0.7777777777777778,
              "#fb9f3a"
             ],
             [
              0.8888888888888888,
              "#fdca26"
             ],
             [
              1,
              "#f0f921"
             ]
            ],
            "type": "heatmapgl"
           }
          ],
          "histogram": [
           {
            "marker": {
             "pattern": {
              "fillmode": "overlay",
              "size": 10,
              "solidity": 0.2
             }
            },
            "type": "histogram"
           }
          ],
          "histogram2d": [
           {
            "colorbar": {
             "outlinewidth": 0,
             "ticks": ""
            },
            "colorscale": [
             [
              0,
              "#0d0887"
             ],
             [
              0.1111111111111111,
              "#46039f"
             ],
             [
              0.2222222222222222,
              "#7201a8"
             ],
             [
              0.3333333333333333,
              "#9c179e"
             ],
             [
              0.4444444444444444,
              "#bd3786"
             ],
             [
              0.5555555555555556,
              "#d8576b"
             ],
             [
              0.6666666666666666,
              "#ed7953"
             ],
             [
              0.7777777777777778,
              "#fb9f3a"
             ],
             [
              0.8888888888888888,
              "#fdca26"
             ],
             [
              1,
              "#f0f921"
             ]
            ],
            "type": "histogram2d"
           }
          ],
          "histogram2dcontour": [
           {
            "colorbar": {
             "outlinewidth": 0,
             "ticks": ""
            },
            "colorscale": [
             [
              0,
              "#0d0887"
             ],
             [
              0.1111111111111111,
              "#46039f"
             ],
             [
              0.2222222222222222,
              "#7201a8"
             ],
             [
              0.3333333333333333,
              "#9c179e"
             ],
             [
              0.4444444444444444,
              "#bd3786"
             ],
             [
              0.5555555555555556,
              "#d8576b"
             ],
             [
              0.6666666666666666,
              "#ed7953"
             ],
             [
              0.7777777777777778,
              "#fb9f3a"
             ],
             [
              0.8888888888888888,
              "#fdca26"
             ],
             [
              1,
              "#f0f921"
             ]
            ],
            "type": "histogram2dcontour"
           }
          ],
          "mesh3d": [
           {
            "colorbar": {
             "outlinewidth": 0,
             "ticks": ""
            },
            "type": "mesh3d"
           }
          ],
          "parcoords": [
           {
            "line": {
             "colorbar": {
              "outlinewidth": 0,
              "ticks": ""
             }
            },
            "type": "parcoords"
           }
          ],
          "pie": [
           {
            "automargin": true,
            "type": "pie"
           }
          ],
          "scatter": [
           {
            "marker": {
             "colorbar": {
              "outlinewidth": 0,
              "ticks": ""
             }
            },
            "type": "scatter"
           }
          ],
          "scatter3d": [
           {
            "line": {
             "colorbar": {
              "outlinewidth": 0,
              "ticks": ""
             }
            },
            "marker": {
             "colorbar": {
              "outlinewidth": 0,
              "ticks": ""
             }
            },
            "type": "scatter3d"
           }
          ],
          "scattercarpet": [
           {
            "marker": {
             "colorbar": {
              "outlinewidth": 0,
              "ticks": ""
             }
            },
            "type": "scattercarpet"
           }
          ],
          "scattergeo": [
           {
            "marker": {
             "colorbar": {
              "outlinewidth": 0,
              "ticks": ""
             }
            },
            "type": "scattergeo"
           }
          ],
          "scattergl": [
           {
            "marker": {
             "colorbar": {
              "outlinewidth": 0,
              "ticks": ""
             }
            },
            "type": "scattergl"
           }
          ],
          "scattermapbox": [
           {
            "marker": {
             "colorbar": {
              "outlinewidth": 0,
              "ticks": ""
             }
            },
            "type": "scattermapbox"
           }
          ],
          "scatterpolar": [
           {
            "marker": {
             "colorbar": {
              "outlinewidth": 0,
              "ticks": ""
             }
            },
            "type": "scatterpolar"
           }
          ],
          "scatterpolargl": [
           {
            "marker": {
             "colorbar": {
              "outlinewidth": 0,
              "ticks": ""
             }
            },
            "type": "scatterpolargl"
           }
          ],
          "scatterternary": [
           {
            "marker": {
             "colorbar": {
              "outlinewidth": 0,
              "ticks": ""
             }
            },
            "type": "scatterternary"
           }
          ],
          "surface": [
           {
            "colorbar": {
             "outlinewidth": 0,
             "ticks": ""
            },
            "colorscale": [
             [
              0,
              "#0d0887"
             ],
             [
              0.1111111111111111,
              "#46039f"
             ],
             [
              0.2222222222222222,
              "#7201a8"
             ],
             [
              0.3333333333333333,
              "#9c179e"
             ],
             [
              0.4444444444444444,
              "#bd3786"
             ],
             [
              0.5555555555555556,
              "#d8576b"
             ],
             [
              0.6666666666666666,
              "#ed7953"
             ],
             [
              0.7777777777777778,
              "#fb9f3a"
             ],
             [
              0.8888888888888888,
              "#fdca26"
             ],
             [
              1,
              "#f0f921"
             ]
            ],
            "type": "surface"
           }
          ],
          "table": [
           {
            "cells": {
             "fill": {
              "color": "#EBF0F8"
             },
             "line": {
              "color": "white"
             }
            },
            "header": {
             "fill": {
              "color": "#C8D4E3"
             },
             "line": {
              "color": "white"
             }
            },
            "type": "table"
           }
          ]
         },
         "layout": {
          "annotationdefaults": {
           "arrowcolor": "#2a3f5f",
           "arrowhead": 0,
           "arrowwidth": 1
          },
          "autotypenumbers": "strict",
          "coloraxis": {
           "colorbar": {
            "outlinewidth": 0,
            "ticks": ""
           }
          },
          "colorscale": {
           "diverging": [
            [
             0,
             "#8e0152"
            ],
            [
             0.1,
             "#c51b7d"
            ],
            [
             0.2,
             "#de77ae"
            ],
            [
             0.3,
             "#f1b6da"
            ],
            [
             0.4,
             "#fde0ef"
            ],
            [
             0.5,
             "#f7f7f7"
            ],
            [
             0.6,
             "#e6f5d0"
            ],
            [
             0.7,
             "#b8e186"
            ],
            [
             0.8,
             "#7fbc41"
            ],
            [
             0.9,
             "#4d9221"
            ],
            [
             1,
             "#276419"
            ]
           ],
           "sequential": [
            [
             0,
             "#0d0887"
            ],
            [
             0.1111111111111111,
             "#46039f"
            ],
            [
             0.2222222222222222,
             "#7201a8"
            ],
            [
             0.3333333333333333,
             "#9c179e"
            ],
            [
             0.4444444444444444,
             "#bd3786"
            ],
            [
             0.5555555555555556,
             "#d8576b"
            ],
            [
             0.6666666666666666,
             "#ed7953"
            ],
            [
             0.7777777777777778,
             "#fb9f3a"
            ],
            [
             0.8888888888888888,
             "#fdca26"
            ],
            [
             1,
             "#f0f921"
            ]
           ],
           "sequentialminus": [
            [
             0,
             "#0d0887"
            ],
            [
             0.1111111111111111,
             "#46039f"
            ],
            [
             0.2222222222222222,
             "#7201a8"
            ],
            [
             0.3333333333333333,
             "#9c179e"
            ],
            [
             0.4444444444444444,
             "#bd3786"
            ],
            [
             0.5555555555555556,
             "#d8576b"
            ],
            [
             0.6666666666666666,
             "#ed7953"
            ],
            [
             0.7777777777777778,
             "#fb9f3a"
            ],
            [
             0.8888888888888888,
             "#fdca26"
            ],
            [
             1,
             "#f0f921"
            ]
           ]
          },
          "colorway": [
           "#636efa",
           "#EF553B",
           "#00cc96",
           "#ab63fa",
           "#FFA15A",
           "#19d3f3",
           "#FF6692",
           "#B6E880",
           "#FF97FF",
           "#FECB52"
          ],
          "font": {
           "color": "#2a3f5f"
          },
          "geo": {
           "bgcolor": "white",
           "lakecolor": "white",
           "landcolor": "#E5ECF6",
           "showlakes": true,
           "showland": true,
           "subunitcolor": "white"
          },
          "hoverlabel": {
           "align": "left"
          },
          "hovermode": "closest",
          "mapbox": {
           "style": "light"
          },
          "paper_bgcolor": "white",
          "plot_bgcolor": "#E5ECF6",
          "polar": {
           "angularaxis": {
            "gridcolor": "white",
            "linecolor": "white",
            "ticks": ""
           },
           "bgcolor": "#E5ECF6",
           "radialaxis": {
            "gridcolor": "white",
            "linecolor": "white",
            "ticks": ""
           }
          },
          "scene": {
           "xaxis": {
            "backgroundcolor": "#E5ECF6",
            "gridcolor": "white",
            "gridwidth": 2,
            "linecolor": "white",
            "showbackground": true,
            "ticks": "",
            "zerolinecolor": "white"
           },
           "yaxis": {
            "backgroundcolor": "#E5ECF6",
            "gridcolor": "white",
            "gridwidth": 2,
            "linecolor": "white",
            "showbackground": true,
            "ticks": "",
            "zerolinecolor": "white"
           },
           "zaxis": {
            "backgroundcolor": "#E5ECF6",
            "gridcolor": "white",
            "gridwidth": 2,
            "linecolor": "white",
            "showbackground": true,
            "ticks": "",
            "zerolinecolor": "white"
           }
          },
          "shapedefaults": {
           "line": {
            "color": "#2a3f5f"
           }
          },
          "ternary": {
           "aaxis": {
            "gridcolor": "white",
            "linecolor": "white",
            "ticks": ""
           },
           "baxis": {
            "gridcolor": "white",
            "linecolor": "white",
            "ticks": ""
           },
           "bgcolor": "#E5ECF6",
           "caxis": {
            "gridcolor": "white",
            "linecolor": "white",
            "ticks": ""
           }
          },
          "title": {
           "x": 0.05
          },
          "xaxis": {
           "automargin": true,
           "gridcolor": "white",
           "linecolor": "white",
           "ticks": "",
           "title": {
            "standoff": 15
           },
           "zerolinecolor": "white",
           "zerolinewidth": 2
          },
          "yaxis": {
           "automargin": true,
           "gridcolor": "white",
           "linecolor": "white",
           "ticks": "",
           "title": {
            "standoff": 15
           },
           "zerolinecolor": "white",
           "zerolinewidth": 2
          }
         }
        }
       }
      },
      "text/html": [
       "<div>                            <div id=\"b9c9eb78-32fd-4236-874b-e000d386efba\" class=\"plotly-graph-div\" style=\"height:525px; width:100%;\"></div>            <script type=\"text/javascript\">                require([\"plotly\"], function(Plotly) {                    window.PLOTLYENV=window.PLOTLYENV || {};                                    if (document.getElementById(\"b9c9eb78-32fd-4236-874b-e000d386efba\")) {                    Plotly.newPlot(                        \"b9c9eb78-32fd-4236-874b-e000d386efba\",                        [{\"fill\":\"toself\",\"name\":\"middle class0\",\"r\":[0.14900012848931193,0.05031116302855253,0.12504363006281133],\"theta\":[\"income\",\"savings\",\"debt\"],\"type\":\"scatterpolar\"},{\"fill\":\"toself\",\"name\":\"lower class1\",\"r\":[0.10998837205269256,0.037098365072019496,0.09523608552631578],\"theta\":[\"income\",\"savings\",\"debt\"],\"type\":\"scatterpolar\"},{\"fill\":\"toself\",\"name\":\"upper class2\",\"r\":[0.3375935694449537,0.1595058616544089,0.03176812030075188],\"theta\":[\"income\",\"savings\",\"debt\"],\"type\":\"scatterpolar\"}],                        {\"polar\":{\"radialaxis\":{\"visible\":true}},\"showlegend\":true,\"template\":{\"data\":{\"bar\":[{\"error_x\":{\"color\":\"#2a3f5f\"},\"error_y\":{\"color\":\"#2a3f5f\"},\"marker\":{\"line\":{\"color\":\"#E5ECF6\",\"width\":0.5},\"pattern\":{\"fillmode\":\"overlay\",\"size\":10,\"solidity\":0.2}},\"type\":\"bar\"}],\"barpolar\":[{\"marker\":{\"line\":{\"color\":\"#E5ECF6\",\"width\":0.5},\"pattern\":{\"fillmode\":\"overlay\",\"size\":10,\"solidity\":0.2}},\"type\":\"barpolar\"}],\"carpet\":[{\"aaxis\":{\"endlinecolor\":\"#2a3f5f\",\"gridcolor\":\"white\",\"linecolor\":\"white\",\"minorgridcolor\":\"white\",\"startlinecolor\":\"#2a3f5f\"},\"baxis\":{\"endlinecolor\":\"#2a3f5f\",\"gridcolor\":\"white\",\"linecolor\":\"white\",\"minorgridcolor\":\"white\",\"startlinecolor\":\"#2a3f5f\"},\"type\":\"carpet\"}],\"choropleth\":[{\"colorbar\":{\"outlinewidth\":0,\"ticks\":\"\"},\"type\":\"choropleth\"}],\"contour\":[{\"colorbar\":{\"outlinewidth\":0,\"ticks\":\"\"},\"colorscale\":[[0.0,\"#0d0887\"],[0.1111111111111111,\"#46039f\"],[0.2222222222222222,\"#7201a8\"],[0.3333333333333333,\"#9c179e\"],[0.4444444444444444,\"#bd3786\"],[0.5555555555555556,\"#d8576b\"],[0.6666666666666666,\"#ed7953\"],[0.7777777777777778,\"#fb9f3a\"],[0.8888888888888888,\"#fdca26\"],[1.0,\"#f0f921\"]],\"type\":\"contour\"}],\"contourcarpet\":[{\"colorbar\":{\"outlinewidth\":0,\"ticks\":\"\"},\"type\":\"contourcarpet\"}],\"heatmap\":[{\"colorbar\":{\"outlinewidth\":0,\"ticks\":\"\"},\"colorscale\":[[0.0,\"#0d0887\"],[0.1111111111111111,\"#46039f\"],[0.2222222222222222,\"#7201a8\"],[0.3333333333333333,\"#9c179e\"],[0.4444444444444444,\"#bd3786\"],[0.5555555555555556,\"#d8576b\"],[0.6666666666666666,\"#ed7953\"],[0.7777777777777778,\"#fb9f3a\"],[0.8888888888888888,\"#fdca26\"],[1.0,\"#f0f921\"]],\"type\":\"heatmap\"}],\"heatmapgl\":[{\"colorbar\":{\"outlinewidth\":0,\"ticks\":\"\"},\"colorscale\":[[0.0,\"#0d0887\"],[0.1111111111111111,\"#46039f\"],[0.2222222222222222,\"#7201a8\"],[0.3333333333333333,\"#9c179e\"],[0.4444444444444444,\"#bd3786\"],[0.5555555555555556,\"#d8576b\"],[0.6666666666666666,\"#ed7953\"],[0.7777777777777778,\"#fb9f3a\"],[0.8888888888888888,\"#fdca26\"],[1.0,\"#f0f921\"]],\"type\":\"heatmapgl\"}],\"histogram\":[{\"marker\":{\"pattern\":{\"fillmode\":\"overlay\",\"size\":10,\"solidity\":0.2}},\"type\":\"histogram\"}],\"histogram2d\":[{\"colorbar\":{\"outlinewidth\":0,\"ticks\":\"\"},\"colorscale\":[[0.0,\"#0d0887\"],[0.1111111111111111,\"#46039f\"],[0.2222222222222222,\"#7201a8\"],[0.3333333333333333,\"#9c179e\"],[0.4444444444444444,\"#bd3786\"],[0.5555555555555556,\"#d8576b\"],[0.6666666666666666,\"#ed7953\"],[0.7777777777777778,\"#fb9f3a\"],[0.8888888888888888,\"#fdca26\"],[1.0,\"#f0f921\"]],\"type\":\"histogram2d\"}],\"histogram2dcontour\":[{\"colorbar\":{\"outlinewidth\":0,\"ticks\":\"\"},\"colorscale\":[[0.0,\"#0d0887\"],[0.1111111111111111,\"#46039f\"],[0.2222222222222222,\"#7201a8\"],[0.3333333333333333,\"#9c179e\"],[0.4444444444444444,\"#bd3786\"],[0.5555555555555556,\"#d8576b\"],[0.6666666666666666,\"#ed7953\"],[0.7777777777777778,\"#fb9f3a\"],[0.8888888888888888,\"#fdca26\"],[1.0,\"#f0f921\"]],\"type\":\"histogram2dcontour\"}],\"mesh3d\":[{\"colorbar\":{\"outlinewidth\":0,\"ticks\":\"\"},\"type\":\"mesh3d\"}],\"parcoords\":[{\"line\":{\"colorbar\":{\"outlinewidth\":0,\"ticks\":\"\"}},\"type\":\"parcoords\"}],\"pie\":[{\"automargin\":true,\"type\":\"pie\"}],\"scatter\":[{\"marker\":{\"colorbar\":{\"outlinewidth\":0,\"ticks\":\"\"}},\"type\":\"scatter\"}],\"scatter3d\":[{\"line\":{\"colorbar\":{\"outlinewidth\":0,\"ticks\":\"\"}},\"marker\":{\"colorbar\":{\"outlinewidth\":0,\"ticks\":\"\"}},\"type\":\"scatter3d\"}],\"scattercarpet\":[{\"marker\":{\"colorbar\":{\"outlinewidth\":0,\"ticks\":\"\"}},\"type\":\"scattercarpet\"}],\"scattergeo\":[{\"marker\":{\"colorbar\":{\"outlinewidth\":0,\"ticks\":\"\"}},\"type\":\"scattergeo\"}],\"scattergl\":[{\"marker\":{\"colorbar\":{\"outlinewidth\":0,\"ticks\":\"\"}},\"type\":\"scattergl\"}],\"scattermapbox\":[{\"marker\":{\"colorbar\":{\"outlinewidth\":0,\"ticks\":\"\"}},\"type\":\"scattermapbox\"}],\"scatterpolar\":[{\"marker\":{\"colorbar\":{\"outlinewidth\":0,\"ticks\":\"\"}},\"type\":\"scatterpolar\"}],\"scatterpolargl\":[{\"marker\":{\"colorbar\":{\"outlinewidth\":0,\"ticks\":\"\"}},\"type\":\"scatterpolargl\"}],\"scatterternary\":[{\"marker\":{\"colorbar\":{\"outlinewidth\":0,\"ticks\":\"\"}},\"type\":\"scatterternary\"}],\"surface\":[{\"colorbar\":{\"outlinewidth\":0,\"ticks\":\"\"},\"colorscale\":[[0.0,\"#0d0887\"],[0.1111111111111111,\"#46039f\"],[0.2222222222222222,\"#7201a8\"],[0.3333333333333333,\"#9c179e\"],[0.4444444444444444,\"#bd3786\"],[0.5555555555555556,\"#d8576b\"],[0.6666666666666666,\"#ed7953\"],[0.7777777777777778,\"#fb9f3a\"],[0.8888888888888888,\"#fdca26\"],[1.0,\"#f0f921\"]],\"type\":\"surface\"}],\"table\":[{\"cells\":{\"fill\":{\"color\":\"#EBF0F8\"},\"line\":{\"color\":\"white\"}},\"header\":{\"fill\":{\"color\":\"#C8D4E3\"},\"line\":{\"color\":\"white\"}},\"type\":\"table\"}]},\"layout\":{\"annotationdefaults\":{\"arrowcolor\":\"#2a3f5f\",\"arrowhead\":0,\"arrowwidth\":1},\"autotypenumbers\":\"strict\",\"coloraxis\":{\"colorbar\":{\"outlinewidth\":0,\"ticks\":\"\"}},\"colorscale\":{\"diverging\":[[0,\"#8e0152\"],[0.1,\"#c51b7d\"],[0.2,\"#de77ae\"],[0.3,\"#f1b6da\"],[0.4,\"#fde0ef\"],[0.5,\"#f7f7f7\"],[0.6,\"#e6f5d0\"],[0.7,\"#b8e186\"],[0.8,\"#7fbc41\"],[0.9,\"#4d9221\"],[1,\"#276419\"]],\"sequential\":[[0.0,\"#0d0887\"],[0.1111111111111111,\"#46039f\"],[0.2222222222222222,\"#7201a8\"],[0.3333333333333333,\"#9c179e\"],[0.4444444444444444,\"#bd3786\"],[0.5555555555555556,\"#d8576b\"],[0.6666666666666666,\"#ed7953\"],[0.7777777777777778,\"#fb9f3a\"],[0.8888888888888888,\"#fdca26\"],[1.0,\"#f0f921\"]],\"sequentialminus\":[[0.0,\"#0d0887\"],[0.1111111111111111,\"#46039f\"],[0.2222222222222222,\"#7201a8\"],[0.3333333333333333,\"#9c179e\"],[0.4444444444444444,\"#bd3786\"],[0.5555555555555556,\"#d8576b\"],[0.6666666666666666,\"#ed7953\"],[0.7777777777777778,\"#fb9f3a\"],[0.8888888888888888,\"#fdca26\"],[1.0,\"#f0f921\"]]},\"colorway\":[\"#636efa\",\"#EF553B\",\"#00cc96\",\"#ab63fa\",\"#FFA15A\",\"#19d3f3\",\"#FF6692\",\"#B6E880\",\"#FF97FF\",\"#FECB52\"],\"font\":{\"color\":\"#2a3f5f\"},\"geo\":{\"bgcolor\":\"white\",\"lakecolor\":\"white\",\"landcolor\":\"#E5ECF6\",\"showlakes\":true,\"showland\":true,\"subunitcolor\":\"white\"},\"hoverlabel\":{\"align\":\"left\"},\"hovermode\":\"closest\",\"mapbox\":{\"style\":\"light\"},\"paper_bgcolor\":\"white\",\"plot_bgcolor\":\"#E5ECF6\",\"polar\":{\"angularaxis\":{\"gridcolor\":\"white\",\"linecolor\":\"white\",\"ticks\":\"\"},\"bgcolor\":\"#E5ECF6\",\"radialaxis\":{\"gridcolor\":\"white\",\"linecolor\":\"white\",\"ticks\":\"\"}},\"scene\":{\"xaxis\":{\"backgroundcolor\":\"#E5ECF6\",\"gridcolor\":\"white\",\"gridwidth\":2,\"linecolor\":\"white\",\"showbackground\":true,\"ticks\":\"\",\"zerolinecolor\":\"white\"},\"yaxis\":{\"backgroundcolor\":\"#E5ECF6\",\"gridcolor\":\"white\",\"gridwidth\":2,\"linecolor\":\"white\",\"showbackground\":true,\"ticks\":\"\",\"zerolinecolor\":\"white\"},\"zaxis\":{\"backgroundcolor\":\"#E5ECF6\",\"gridcolor\":\"white\",\"gridwidth\":2,\"linecolor\":\"white\",\"showbackground\":true,\"ticks\":\"\",\"zerolinecolor\":\"white\"}},\"shapedefaults\":{\"line\":{\"color\":\"#2a3f5f\"}},\"ternary\":{\"aaxis\":{\"gridcolor\":\"white\",\"linecolor\":\"white\",\"ticks\":\"\"},\"baxis\":{\"gridcolor\":\"white\",\"linecolor\":\"white\",\"ticks\":\"\"},\"bgcolor\":\"#E5ECF6\",\"caxis\":{\"gridcolor\":\"white\",\"linecolor\":\"white\",\"ticks\":\"\"}},\"title\":{\"x\":0.05},\"xaxis\":{\"automargin\":true,\"gridcolor\":\"white\",\"linecolor\":\"white\",\"ticks\":\"\",\"title\":{\"standoff\":15},\"zerolinecolor\":\"white\",\"zerolinewidth\":2},\"yaxis\":{\"automargin\":true,\"gridcolor\":\"white\",\"linecolor\":\"white\",\"ticks\":\"\",\"title\":{\"standoff\":15},\"zerolinecolor\":\"white\",\"zerolinewidth\":2}}}},                        {\"responsive\": true}                    ).then(function(){\n",
       "                            \n",
       "var gd = document.getElementById('b9c9eb78-32fd-4236-874b-e000d386efba');\n",
       "var x = new MutationObserver(function (mutations, observer) {{\n",
       "        var display = window.getComputedStyle(gd).display;\n",
       "        if (!display || display === 'none') {{\n",
       "            console.log([gd, 'removed!']);\n",
       "            Plotly.purge(gd);\n",
       "            observer.disconnect();\n",
       "        }}\n",
       "}});\n",
       "\n",
       "// Listen for the removal of the full notebook cells\n",
       "var notebookContainer = gd.closest('#notebook-container');\n",
       "if (notebookContainer) {{\n",
       "    x.observe(notebookContainer, {childList: true});\n",
       "}}\n",
       "\n",
       "// Listen for the clearing of the current output cell\n",
       "var outputEl = gd.closest('.output');\n",
       "if (outputEl) {{\n",
       "    x.observe(outputEl, {childList: true});\n",
       "}}\n",
       "\n",
       "                        })                };                });            </script>        </div>"
      ]
     },
     "metadata": {},
     "output_type": "display_data"
    }
   ],
   "source": [
    "import plotly.graph_objects as go\n",
    "categories = ['income','savings','debt']\n",
    "fig = go.Figure()\n",
    "fig.add_trace(go.Scatterpolar(\n",
    "      r=[df_banking_cluster0.income.mean(),\n",
    "         df_banking_cluster0.savings_ending_balance.mean(),\n",
    "         df_banking_cluster0.credit_ending_balance.mean()],\n",
    "      theta=categories,\n",
    "      fill='toself',\n",
    "      name='middle class0'\n",
    "))\n",
    "fig.add_trace(go.Scatterpolar(\n",
    "      r=[df_banking_cluster1.income.mean(),\n",
    "         df_banking_cluster1.savings_ending_balance.mean(),\n",
    "         df_banking_cluster1.credit_ending_balance.mean()],\n",
    "      theta=categories,\n",
    "      fill='toself',\n",
    "      name='lower class1'\n",
    "    ))\n",
    "fig.add_trace(go.Scatterpolar(\n",
    "      r=[df_banking_cluster2.income.mean(),\n",
    "         df_banking_cluster2.savings_ending_balance.mean(),\n",
    "         df_banking_cluster2.credit_ending_balance.mean()],\n",
    "      theta=categories,\n",
    "      fill='toself',\n",
    "      name='upper class2'\n",
    "))\n",
    "fig.update_layout(\n",
    "  polar=dict(\n",
    "    radialaxis=dict(\n",
    "      visible=True\n",
    "    )),\n",
    "  showlegend=True\n",
    ")\n",
    "fig.show()"
   ]
  },
  {
   "cell_type": "markdown",
   "metadata": {},
   "source": [
    "# scatter 1"
   ]
  },
  {
   "cell_type": "code",
   "execution_count": 219,
   "metadata": {},
   "outputs": [
    {
     "data": {
      "text/plain": [
       "Index(['cust_id', 'credit_account_active', 'credit_starting_balance',\n",
       "       'credit_ending_balance', 'savings_account_active',\n",
       "       'savings_starting_balance', 'savings_ending_balance', 'income',\n",
       "       'banking_cluster'],\n",
       "      dtype='object')"
      ]
     },
     "execution_count": 219,
     "metadata": {},
     "output_type": "execute_result"
    }
   ],
   "source": [
    "df_banking_cluster0.keys()"
   ]
  },
  {
   "cell_type": "code",
   "execution_count": 256,
   "metadata": {},
   "outputs": [
    {
     "data": {
      "text/plain": [
       "<AxesSubplot:xlabel='savings_account_active', ylabel='savings_ending_balance'>"
      ]
     },
     "execution_count": 256,
     "metadata": {},
     "output_type": "execute_result"
    },
    {
     "data": {
      "image/png": "[encoded data removed]",
      "text/plain": [
       "<Figure size 432x288 with 1 Axes>"
      ]
     },
     "metadata": {
      "needs_background": "light"
     },
     "output_type": "display_data"
    }
   ],
   "source": [
    "sns.scatterplot(data=df_banking_cluster0, \n",
    "                x=\"savings_account_active\", \n",
    "                y=\"savings_ending_balance\")\n",
    "sns.scatterplot(data=df_banking_cluster1, \n",
    "                x=\"savings_account_active\", \n",
    "                y=\"savings_ending_balance\")\n",
    "sns.scatterplot(data=df_banking_cluster2, \n",
    "                x=\"savings_account_active\", \n",
    "                y=\"savings_ending_balance\")"
   ]
  },
  {
   "cell_type": "code",
   "execution_count": 240,
   "metadata": {},
   "outputs": [
    {
     "data": {
      "image/png": "[encoded data removed]",
      "text/plain": [
       "<Figure size 432x288 with 1 Axes>"
      ]
     },
     "metadata": {
      "needs_background": "light"
     },
     "output_type": "display_data"
    }
   ],
   "source": [
    "sns.scatterplot(data=df_banking_cluster0, \n",
    "                x=df_banking_cluster0[\"income\"], \n",
    "                y=df_banking_cluster0[\"credit_ending_balance\"]);"
   ]
  },
  {
   "cell_type": "code",
   "execution_count": 247,
   "metadata": {},
   "outputs": [
    {
     "data": {
      "image/png": "[encoded data removed]",
      "text/plain": [
       "<Figure size 432x288 with 1 Axes>"
      ]
     },
     "metadata": {
      "needs_background": "light"
     },
     "output_type": "display_data"
    }
   ],
   "source": [
    "sns.scatterplot(data=df_banking_cluster1, \n",
    "                x=df_banking_cluster1[\"income\"], \n",
    "                y=df_banking_cluster1[\"credit_ending_balance\"]);"
   ]
  },
  {
   "cell_type": "code",
   "execution_count": 248,
   "metadata": {},
   "outputs": [
    {
     "data": {
      "image/png": "[encoded data removed]",
      "text/plain": [
       "<Figure size 432x288 with 1 Axes>"
      ]
     },
     "metadata": {
      "needs_background": "light"
     },
     "output_type": "display_data"
    }
   ],
   "source": [
    "sns.scatterplot(data=df_banking_cluster2, \n",
    "                x=df_banking_cluster2[\"income\"], \n",
    "                y=df_banking_cluster2[\"credit_ending_balance\"]);"
   ]
  },
  {
   "cell_type": "code",
   "execution_count": 53,
   "metadata": {},
   "outputs": [
    {
     "data": {
      "text/plain": [
       "<AxesSubplot:xlabel='axis1', ylabel='axis2'>"
      ]
     },
     "execution_count": 53,
     "metadata": {},
     "output_type": "execute_result"
    },
    {
     "data": {
      "image/png": "[encoded data removed]",
      "text/plain": [
       "<Figure size 792x576 with 1 Axes>"
      ]
     },
     "metadata": {},
     "output_type": "display_data"
    }
   ],
   "source": [
    "from sklearn.decomposition import PCA\n",
    "import seaborn as sns\n",
    "\n",
    "pca_1 = PCA(n_components=2)\n",
    "data_1_2d = pca_1.fit_transform(cluster_twm_customer)\n",
    "data_1_2d = pd.DataFrame(data_1_2d)\n",
    "data_label = pd.DataFrame(Label_1)\n",
    "df_plot_1 = pd.concat([data_1_2d,data_label],axis=1)\n",
    "df_plot_1.columns = ['axis1','axis2','label']\n",
    "\n",
    "sns.set(rc={'figure.figsize':(11,8)})\n",
    "sns.scatterplot(x='axis1', \n",
    "                y='axis2', \n",
    "                data=df_plot_1, \n",
    "                hue='label',\n",
    "                palette='hls')"
   ]
  },
  {
   "cell_type": "markdown",
   "metadata": {},
   "source": [
    "# scatter 2"
   ]
  },
  {
   "cell_type": "code",
   "execution_count": 48,
   "metadata": {},
   "outputs": [],
   "source": [
    "df_all_for_kmeans = df_all_for_kmeans.drop(columns=\"cluster\")"
   ]
  },
  {
   "cell_type": "code",
   "execution_count": 49,
   "metadata": {},
   "outputs": [
    {
     "data": {
      "image/png": "[encoded data removed]",
      "text/plain": [
       "<Figure size 792x576 with 1 Axes>"
      ]
     },
     "metadata": {},
     "output_type": "display_data"
    }
   ],
   "source": [
    "from sklearn.decomposition import PCA\n",
    "import seaborn as sns\n",
    "\n",
    "pca_2 = PCA(n_components=2)\n",
    "data_2_2d = pca_2.fit_transform(df_all_for_kmeans)\n",
    "data_2_2d = pd.DataFrame(data_2_2d)\n",
    "data_label2 = pd.DataFrame(Label_2)\n",
    "df_plot_2 = pd.concat([data_2_2d,data_label2],axis=1)\n",
    "df_plot_2.columns = ['axis1','axis2','label']\n",
    "\n",
    "sns.set(rc={'figure.figsize':(11,8)})\n",
    "sns.scatterplot(x='axis1', \n",
    "                y='axis2', \n",
    "                data=df_plot_2, \n",
    "                hue='label',\n",
    "                palette='hls');"
   ]
  },
  {
   "cell_type": "markdown",
   "metadata": {},
   "source": [
    "# PCA scatter plot practice"
   ]
  },
  {
   "cell_type": "code",
   "execution_count": 50,
   "metadata": {},
   "outputs": [
    {
     "data": {
      "text/html": [
       "<div>\n",
       "<style scoped>\n",
       "    .dataframe tbody tr th:only-of-type {\n",
       "        vertical-align: middle;\n",
       "    }\n",
       "\n",
       "    .dataframe tbody tr th {\n",
       "        vertical-align: top;\n",
       "    }\n",
       "\n",
       "    .dataframe thead th {\n",
       "        text-align: right;\n",
       "    }\n",
       "</style>\n",
       "<table border=\"1\" class=\"dataframe\">\n",
       "  <thead>\n",
       "    <tr style=\"text-align: right;\">\n",
       "      <th></th>\n",
       "      <th>age</th>\n",
       "      <th>income</th>\n",
       "      <th>years_with_bank</th>\n",
       "      <th>marital_status</th>\n",
       "    </tr>\n",
       "  </thead>\n",
       "  <tbody>\n",
       "    <tr>\n",
       "      <th>0</th>\n",
       "      <td>46</td>\n",
       "      <td>26150</td>\n",
       "      <td>5</td>\n",
       "      <td>2</td>\n",
       "    </tr>\n",
       "    <tr>\n",
       "      <th>1</th>\n",
       "      <td>71</td>\n",
       "      <td>6605</td>\n",
       "      <td>1</td>\n",
       "      <td>2</td>\n",
       "    </tr>\n",
       "    <tr>\n",
       "      <th>2</th>\n",
       "      <td>38</td>\n",
       "      <td>18548</td>\n",
       "      <td>8</td>\n",
       "      <td>1</td>\n",
       "    </tr>\n",
       "    <tr>\n",
       "      <th>3</th>\n",
       "      <td>54</td>\n",
       "      <td>47668</td>\n",
       "      <td>3</td>\n",
       "      <td>1</td>\n",
       "    </tr>\n",
       "    <tr>\n",
       "      <th>4</th>\n",
       "      <td>59</td>\n",
       "      <td>44554</td>\n",
       "      <td>9</td>\n",
       "      <td>4</td>\n",
       "    </tr>\n",
       "  </tbody>\n",
       "</table>\n",
       "</div>"
      ],
      "text/plain": [
       "   age  income  years_with_bank  marital_status\n",
       "0   46   26150                5               2\n",
       "1   71    6605                1               2\n",
       "2   38   18548                8               1\n",
       "3   54   47668                3               1\n",
       "4   59   44554                9               4"
      ]
     },
     "execution_count": 50,
     "metadata": {},
     "output_type": "execute_result"
    }
   ],
   "source": [
    "cluster_twm_customer.head()"
   ]
  },
  {
   "cell_type": "code",
   "execution_count": 51,
   "metadata": {},
   "outputs": [
    {
     "ename": "NameError",
     "evalue": "name 'X' is not defined",
     "output_type": "error",
     "traceback": [
      "\u001b[0;31m---------------------------------------------------------------------------\u001b[0m",
      "\u001b[0;31mNameError\u001b[0m                                 Traceback (most recent call last)",
      "\u001b[0;32m/var/folders/wg/4yj17hrn3q9g_27l8zsxxy5m0000gn/T/ipykernel_40345/3313253645.py\u001b[0m in \u001b[0;36m<module>\u001b[0;34m\u001b[0m\n\u001b[0;32m----> 1\u001b[0;31m \u001b[0mfeatures\u001b[0m \u001b[0;34m=\u001b[0m \u001b[0mX\u001b[0m\u001b[0;34m.\u001b[0m\u001b[0mcolumns\u001b[0m\u001b[0;34m\u001b[0m\u001b[0;34m\u001b[0m\u001b[0m\n\u001b[0m",
      "\u001b[0;31mNameError\u001b[0m: name 'X' is not defined"
     ]
    }
   ],
   "source": [
    "features = X.columns"
   ]
  },
  {
   "cell_type": "code",
   "execution_count": null,
   "metadata": {},
   "outputs": [],
   "source": [
    "X = cluster_twm_customer[[\"age\",\"marital_status\",\"income_scaled\"]]"
   ]
  },
  {
   "cell_type": "code",
   "execution_count": null,
   "metadata": {},
   "outputs": [],
   "source": [
    "y = cluster_twm_customer.km_cluster"
   ]
  },
  {
   "cell_type": "code",
   "execution_count": null,
   "metadata": {},
   "outputs": [],
   "source": [
    "m = pca.explained_variance_ratio_ # age is heavily weighted\n",
    "m"
   ]
  },
  {
   "cell_type": "code",
   "execution_count": null,
   "metadata": {},
   "outputs": [],
   "source": [
    "pca = PCA()\n",
    "components = pca.fit_transform(cluster_twm_customer[features]) # X values\n",
    "labels = {\n",
    "    str(i): f\"PC {i+1} ({var:.1f}%)\"\n",
    "    for i, var in enumerate(pca.explained_variance_ratio_ * 100)\n",
    "}\n",
    "\n",
    "fig = px.scatter_matrix(\n",
    "    components,\n",
    "    labels=labels,\n",
    "    dimensions=range(3),\n",
    "    color=cluster_twm_customer.km_cluster\n",
    ")\n",
    "fig.update_traces(diagonal_visible=False)\n",
    "fig.show()"
   ]
  },
  {
   "cell_type": "code",
   "execution_count": null,
   "metadata": {},
   "outputs": [],
   "source": [
    "sns.relplot(data=cluster_twm_customer, x='age', y='income', hue='km_cluster')\n",
    "plt.show()"
   ]
  },
  {
   "cell_type": "code",
   "execution_count": null,
   "metadata": {},
   "outputs": [],
   "source": [
    "df_all[\"savings_account_active\"].replace({'Y': 1, 'N': 0})\n",
    "df_all"
   ]
  },
  {
   "cell_type": "code",
   "execution_count": null,
   "metadata": {},
   "outputs": [],
   "source": [
    "# from cheat sheet\n",
    "df = df_all[[\"cust_id\",\"savings_account_active\"]]\n",
    "cols_toplot = df_all.columns\n",
    "kmeans_pipeline = Pipeline([('scaler', StandardScaler()), ('kmeans', KMeans(n_clusters=4))])\n",
    "df = df_all.assign(kmeans_labels = kmeans_pipeline.fit_predict(df[cols_toplot].fillna(0)))\n",
    "df.head()"
   ]
  },
  {
   "cell_type": "code",
   "execution_count": null,
   "metadata": {},
   "outputs": [],
   "source": []
  },
  {
   "cell_type": "markdown",
   "metadata": {},
   "source": [
    "## (stretch) visualize in 2D how our clusters are evolving in each iteration of KMeans (for at least 20 iterations).\n",
    "    - we will need to create own implementation of kmeans so we can see what is happening with the clusters during the iterations."
   ]
  },
  {
   "cell_type": "code",
   "execution_count": null,
   "metadata": {},
   "outputs": [],
   "source": []
  }
 ],
 "metadata": {
  "kernelspec": {
   "display_name": "Python 3 (ipykernel)",
   "language": "python",
   "name": "python3"
  },
  "language_info": {
   "codemirror_mode": {
    "name": "ipython",
    "version": 3
   },
   "file_extension": ".py",
   "mimetype": "text/x-python",
   "name": "python",
   "nbconvert_exporter": "python",
   "pygments_lexer": "ipython3",
   "version": "3.9.7"
  }
 },
 "nbformat": 4,
 "nbformat_minor": 4
}

{
 "cells": [
  {
   "cell_type": "code",
   "execution_count": 34,
   "id": "17a6f46d",
   "metadata": {},
   "outputs": [],
   "source": [
    "# number guessing game\n",
    "\"\"\"\n",
    "Type 111 anytime to quit\n",
    "Ask user for guess\n",
    "too high or low? guess again\n",
    "repeat until correct\n",
    "\"\"\"\n",
    "\n",
    "from random import randint\n",
    "\n",
    "def random_num():\n",
    "    num = randint(1, 100)\n",
    "    return num\n",
    "\n",
    "def start():\n",
    "    print(\"Type 111 anytime to quit.\")\n",
    "    guess = int(input(\"Please guess between 1-100: \"))\n",
    "    main_game(guess, random_num())\n",
    "    \n",
    "def main_game(guess, num):\n",
    "    if guess == 111:\n",
    "        print(\"Bye!\")\n",
    "        pass\n",
    "    elif guess == num:\n",
    "        print(\"You win!\")\n",
    "    elif guess != num:\n",
    "        if guess > num:\n",
    "            guess = int(input(\"Too high!: \"))\n",
    "            main_game(guess, num)\n",
    "        elif guess < num:\n",
    "            guess = int(input(\"Too low!: \"))\n",
    "            main_game(guess, num)\n",
    "        else:\n",
    "            pass"
   ]
  },
  {
   "cell_type": "code",
   "execution_count": 36,
   "id": "61e47815",
   "metadata": {},
   "outputs": [
    {
     "name": "stdout",
     "output_type": "stream",
     "text": [
      "Type 111 anytime to quit.\n",
      "Please guess between 1-100: 12\n",
      "Too low!: 14\n",
      "Too low!: 16\n",
      "Too low!: 20\n",
      "Too low!: 70\n",
      "Too high!: 60\n",
      "Too low!: 65\n",
      "Too low!: 67\n",
      "Too low!: 68\n",
      "You win!\n"
     ]
    }
   ],
   "source": [
    "start()"
   ]
  },
  {
   "cell_type": "code",
   "execution_count": null,
   "id": "5b9b9ffa",
   "metadata": {},
   "outputs": [],
   "source": []
  }
 ],
 "metadata": {
  "kernelspec": {
   "display_name": "Python 3",
   "language": "python",
   "name": "python3"
  },
  "language_info": {
   "codemirror_mode": {
    "name": "ipython",
    "version": 3
   },
   "file_extension": ".py",
   "mimetype": "text/x-python",
   "name": "python",
   "nbconvert_exporter": "python",
   "pygments_lexer": "ipython3",
   "version": "3.8.8"
  }
 },
 "nbformat": 4,
 "nbformat_minor": 5
}

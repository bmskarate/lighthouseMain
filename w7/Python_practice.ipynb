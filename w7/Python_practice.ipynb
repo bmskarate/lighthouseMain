{
 "cells": [
  {
   "cell_type": "code",
   "execution_count": null,
   "id": "61e47815",
   "metadata": {},
   "outputs": [],
   "source": [
    "# number guessing game\n",
    "\"\"\"\n",
    "Type 111 anytime to quit\n",
    "Ask user for guess\n",
    "too high or low? guess again\n",
    "repeat until correct\n",
    "\"\"\"\n",
    "\n",
    "from random import randint\n",
    "\n",
    "def random_num():\n",
    "    num = randint(1, 100)\n",
    "    return num\n",
    "\n",
    "def start():\n",
    "    print(\"Type 111 anytime to quit.\")\n",
    "    guess = int(input(\"Please guess between 1-100: \"))\n",
    "    main_game(guess, random_num())\n",
    "    \n",
    "def main_game(guess, num):\n",
    "    if guess == 111:\n",
    "        print(\"Bye!\")\n",
    "        pass\n",
    "    elif guess == num:\n",
    "        print(\"You win!\")\n",
    "    elif guess != num:\n",
    "        if guess > num:\n",
    "            guess = int(input(\"Too high!: \"))\n",
    "            main_game(guess, num)\n",
    "        elif guess < num:\n",
    "            guess = int(input(\"Too low!: \"))\n",
    "            main_game(guess, num)\n",
    "        else:\n",
    "            pass\n",
    "\n",
    "start()"
   ]
  },
  {
   "cell_type": "code",
   "execution_count": 3,
   "id": "7d4d0a46",
   "metadata": {},
   "outputs": [
    {
     "name": "stdout",
     "output_type": "stream",
     "text": [
      "<class 'int'>\n"
     ]
    },
    {
     "data": {
      "text/plain": [
       "30"
      ]
     },
     "execution_count": 3,
     "metadata": {},
     "output_type": "execute_result"
    }
   ],
   "source": [
    "# sum even index int's\n",
    "# multiply sum by last number [-1]\n",
    "def checkio(list):\n",
    "    if list == []:\n",
    "        return 0\n",
    "    list2 = list[::2]\n",
    "    print(type(sum(list2)*list[-1]))\n",
    "    return sum(list2)*list[-1]\n",
    "\n",
    "checkio([0,1,2,3,4,5])"
   ]
  },
  {
   "cell_type": "code",
   "execution_count": 2,
   "id": "0c8067dd",
   "metadata": {},
   "outputs": [
    {
     "data": {
      "text/plain": [
       "'char'"
      ]
     },
     "execution_count": 2,
     "metadata": {},
     "output_type": "execute_result"
    }
   ],
   "source": [
    "# get shortest key and make all key's the same length\n",
    "# check if set = 1 (are they all the same?) return if so.\n",
    "# if not, remove last letter and loop.\n",
    "def prefix(strs):\n",
    "    x = (len(min(strs, key=len)))\n",
    "    thelist = []\n",
    "    for i in strs:\n",
    "        i = i[:x]\n",
    "        thelist.append(i)\n",
    "    if len(set(thelist)) == 1:\n",
    "        return thelist[0]\n",
    "    # thelist is finished.\n",
    "    while len(set(thelist)) >= 1:\n",
    "        thelist = [i[:-1] for i in thelist]\n",
    "        if len(set(thelist)) == 1:\n",
    "            return thelist[0]\n",
    "prefix(['charazard', 'charisma'])"
   ]
  },
  {
   "cell_type": "code",
   "execution_count": 1,
   "id": "f549417f",
   "metadata": {},
   "outputs": [
    {
     "name": "stdout",
     "output_type": "stream",
     "text": [
      "True\n",
      "False\n",
      "True\n"
     ]
    }
   ],
   "source": [
    "# closing parenthesis\n",
    "# ({[]}) = True\n",
    "# [{(})] = False\n",
    "# []{}() = True\n",
    "def isValid(s):\n",
    "    dd = ['[]','()','{}']\n",
    "    derka = True\n",
    "    \n",
    "    while derka:\n",
    "        lenn = len(s)\n",
    "        for i in dd:\n",
    "            s = s.replace(i, '')\n",
    "        if lenn == len(s):\n",
    "            derka = False\n",
    "        \n",
    "    return s == \"\"\n",
    "\n",
    "print(isValid('()()[][][({})]'))\n",
    "print(isValid('())'))\n",
    "print(isValid('[({[]})()]'))"
   ]
  },
  {
   "cell_type": "code",
   "execution_count": null,
   "id": "545cbfcb",
   "metadata": {},
   "outputs": [],
   "source": [
    "a = [7,2,3]\n",
    "b = [4,5,6]\n",
    "c = a+b\n",
    "a.sort()\n",
    "print(a)"
   ]
  },
  {
   "cell_type": "code",
   "execution_count": null,
   "id": "2337f524",
   "metadata": {},
   "outputs": [],
   "source": []
  },
  {
   "cell_type": "code",
   "execution_count": null,
   "id": "fd69bffd",
   "metadata": {},
   "outputs": [],
   "source": []
  },
  {
   "cell_type": "code",
   "execution_count": null,
   "id": "5968567f",
   "metadata": {},
   "outputs": [],
   "source": []
  }
 ],
 "metadata": {
  "kernelspec": {
   "display_name": "Python 3",
   "language": "python",
   "name": "python3"
  },
  "language_info": {
   "codemirror_mode": {
    "name": "ipython",
    "version": 3
   },
   "file_extension": ".py",
   "mimetype": "text/x-python",
   "name": "python",
   "nbconvert_exporter": "python",
   "pygments_lexer": "ipython3",
   "version": "3.8.8"
  }
 },
 "nbformat": 4,
 "nbformat_minor": 5
}

{
 "cells": [
  {
   "cell_type": "code",
   "execution_count": 6,
   "id": "5767a009",
   "metadata": {},
   "outputs": [],
   "source": [
    "import pandas as pd\n",
    "pd.set_option(\"display.max_columns\", None)\n",
    "import numpy as np\n",
    "import matplotlib.pyplot as plt\n",
    "import seaborn as sns"
   ]
  },
  {
   "cell_type": "markdown",
   "id": "fb4dcec0",
   "metadata": {},
   "source": [
    "### Import data (flights january, november, december and flight_test)"
   ]
  },
  {
   "cell_type": "code",
   "execution_count": 7,
   "id": "3f0afaca",
   "metadata": {},
   "outputs": [],
   "source": [
    "df_nov_dec = pd.read_csv(\"data/flights_2019_nov_dec.csv\")\n",
    "df_jan = pd.read_csv(\"data/flights_2019_jan_raw.csv\")\n",
    "df_weather = pd.read_csv(\"data/WeatherEvents_2018_2020.csv\")\n",
    "df_passengers = pd.read_csv(\"data/passengers_nov_dec_jan_raw.csv\")\n",
    "df_fuel = pd.read_csv(\"data/fuel_comsumption_2018.csv\")"
   ]
  },
  {
   "cell_type": "code",
   "execution_count": 8,
   "id": "b07daf1f",
   "metadata": {},
   "outputs": [],
   "source": [
    "# Flights df\n",
    "df = pd.concat([df_nov_dec, df_jan]).reset_index().drop(columns=[\"index\"])"
   ]
  },
  {
   "cell_type": "code",
   "execution_count": 27,
   "id": "d52ec8db",
   "metadata": {},
   "outputs": [],
   "source": [
    "flights_raw = df.copy()"
   ]
  },
  {
   "cell_type": "markdown",
   "id": "f185af37",
   "metadata": {},
   "source": [
    "### NA Values fixing"
   ]
  },
  {
   "cell_type": "code",
   "execution_count": 28,
   "id": "8a3212d9",
   "metadata": {},
   "outputs": [],
   "source": [
    "# make DF with delay columns for referencing\n",
    "df_delays = pd.DataFrame()\n",
    "df_delays = flights_raw[[\"carrier_delay\",\"weather_delay\",\"nas_delay\",\"security_delay\",\"late_aircraft_delay\",\"arr_delay\"]]"
   ]
  },
  {
   "cell_type": "code",
   "execution_count": 29,
   "id": "b717ccb2",
   "metadata": {},
   "outputs": [],
   "source": [
    "# Null value function\n",
    "def missing(x):\n",
    "    n_missing = x.isnull().sum().sort_values(ascending=False)\n",
    "    p_missing = (x.isnull().sum()/x.isnull().count()).sort_values(ascending=False)\n",
    "    missing_ = pd.concat([n_missing, p_missing],axis=1, keys = ['number','percent'])\n",
    "    missing_ = missing_[missing_[\"percent\"] > 0]\n",
    "    return missing_"
   ]
  },
  {
   "cell_type": "code",
   "execution_count": 32,
   "id": "e8f3bb5d",
   "metadata": {},
   "outputs": [],
   "source": [
    "# Fill na function\n",
    "def fill_columns(fill,columns,df):\n",
    "    for col in columns:\n",
    "        df[col].fillna(fill,inplace=True)"
   ]
  },
  {
   "cell_type": "code",
   "execution_count": 30,
   "id": "555662a4",
   "metadata": {},
   "outputs": [
    {
     "data": {
      "text/html": [
       "<div>\n",
       "<style scoped>\n",
       "    .dataframe tbody tr th:only-of-type {\n",
       "        vertical-align: middle;\n",
       "    }\n",
       "\n",
       "    .dataframe tbody tr th {\n",
       "        vertical-align: top;\n",
       "    }\n",
       "\n",
       "    .dataframe thead th {\n",
       "        text-align: right;\n",
       "    }\n",
       "</style>\n",
       "<table border=\"1\" class=\"dataframe\">\n",
       "  <thead>\n",
       "    <tr style=\"text-align: right;\">\n",
       "      <th></th>\n",
       "      <th>number</th>\n",
       "      <th>percent</th>\n",
       "    </tr>\n",
       "  </thead>\n",
       "  <tbody>\n",
       "    <tr>\n",
       "      <th>no_name</th>\n",
       "      <td>2644325</td>\n",
       "      <td>1.000000</td>\n",
       "    </tr>\n",
       "    <tr>\n",
       "      <th>total_add_gtime</th>\n",
       "      <td>2627839</td>\n",
       "      <td>0.993766</td>\n",
       "    </tr>\n",
       "    <tr>\n",
       "      <th>first_dep_time</th>\n",
       "      <td>2627838</td>\n",
       "      <td>0.993765</td>\n",
       "    </tr>\n",
       "    <tr>\n",
       "      <th>longest_add_gtime</th>\n",
       "      <td>2627838</td>\n",
       "      <td>0.993765</td>\n",
       "    </tr>\n",
       "    <tr>\n",
       "      <th>cancellation_code</th>\n",
       "      <td>2605974</td>\n",
       "      <td>0.985497</td>\n",
       "    </tr>\n",
       "    <tr>\n",
       "      <th>late_aircraft_delay</th>\n",
       "      <td>2178457</td>\n",
       "      <td>0.823823</td>\n",
       "    </tr>\n",
       "    <tr>\n",
       "      <th>security_delay</th>\n",
       "      <td>2178457</td>\n",
       "      <td>0.823823</td>\n",
       "    </tr>\n",
       "    <tr>\n",
       "      <th>nas_delay</th>\n",
       "      <td>2178457</td>\n",
       "      <td>0.823823</td>\n",
       "    </tr>\n",
       "    <tr>\n",
       "      <th>weather_delay</th>\n",
       "      <td>2178457</td>\n",
       "      <td>0.823823</td>\n",
       "    </tr>\n",
       "    <tr>\n",
       "      <th>carrier_delay</th>\n",
       "      <td>2178457</td>\n",
       "      <td>0.823823</td>\n",
       "    </tr>\n",
       "    <tr>\n",
       "      <th>actual_elapsed_time</th>\n",
       "      <td>43685</td>\n",
       "      <td>0.016520</td>\n",
       "    </tr>\n",
       "    <tr>\n",
       "      <th>arr_delay</th>\n",
       "      <td>43685</td>\n",
       "      <td>0.016520</td>\n",
       "    </tr>\n",
       "    <tr>\n",
       "      <th>air_time</th>\n",
       "      <td>43685</td>\n",
       "      <td>0.016520</td>\n",
       "    </tr>\n",
       "    <tr>\n",
       "      <th>wheels_on</th>\n",
       "      <td>39464</td>\n",
       "      <td>0.014924</td>\n",
       "    </tr>\n",
       "    <tr>\n",
       "      <th>taxi_in</th>\n",
       "      <td>39464</td>\n",
       "      <td>0.014924</td>\n",
       "    </tr>\n",
       "    <tr>\n",
       "      <th>arr_time</th>\n",
       "      <td>39464</td>\n",
       "      <td>0.014924</td>\n",
       "    </tr>\n",
       "    <tr>\n",
       "      <th>taxi_out</th>\n",
       "      <td>37886</td>\n",
       "      <td>0.014327</td>\n",
       "    </tr>\n",
       "    <tr>\n",
       "      <th>wheels_off</th>\n",
       "      <td>37886</td>\n",
       "      <td>0.014327</td>\n",
       "    </tr>\n",
       "    <tr>\n",
       "      <th>dep_delay</th>\n",
       "      <td>36956</td>\n",
       "      <td>0.013976</td>\n",
       "    </tr>\n",
       "    <tr>\n",
       "      <th>dep_time</th>\n",
       "      <td>36952</td>\n",
       "      <td>0.013974</td>\n",
       "    </tr>\n",
       "    <tr>\n",
       "      <th>tail_num</th>\n",
       "      <td>7808</td>\n",
       "      <td>0.002953</td>\n",
       "    </tr>\n",
       "    <tr>\n",
       "      <th>crs_elapsed_time</th>\n",
       "      <td>9</td>\n",
       "      <td>0.000003</td>\n",
       "    </tr>\n",
       "  </tbody>\n",
       "</table>\n",
       "</div>"
      ],
      "text/plain": [
       "                      number   percent\n",
       "no_name              2644325  1.000000\n",
       "total_add_gtime      2627839  0.993766\n",
       "first_dep_time       2627838  0.993765\n",
       "longest_add_gtime    2627838  0.993765\n",
       "cancellation_code    2605974  0.985497\n",
       "late_aircraft_delay  2178457  0.823823\n",
       "security_delay       2178457  0.823823\n",
       "nas_delay            2178457  0.823823\n",
       "weather_delay        2178457  0.823823\n",
       "carrier_delay        2178457  0.823823\n",
       "actual_elapsed_time    43685  0.016520\n",
       "arr_delay              43685  0.016520\n",
       "air_time               43685  0.016520\n",
       "wheels_on              39464  0.014924\n",
       "taxi_in                39464  0.014924\n",
       "arr_time               39464  0.014924\n",
       "taxi_out               37886  0.014327\n",
       "wheels_off             37886  0.014327\n",
       "dep_delay              36956  0.013976\n",
       "dep_time               36952  0.013974\n",
       "tail_num                7808  0.002953\n",
       "crs_elapsed_time           9  0.000003"
      ]
     },
     "execution_count": 30,
     "metadata": {},
     "output_type": "execute_result"
    }
   ],
   "source": [
    "missing(flights_raw)"
   ]
  },
  {
   "cell_type": "code",
   "execution_count": 31,
   "id": "29c83795",
   "metadata": {},
   "outputs": [],
   "source": [
    "flights_raw = flights_raw.drop(columns = ['no_name', \n",
    "                                          'longest_add_gtime',\n",
    "                                          'total_add_gtime',\n",
    "                                          'cancelled','diverted',\n",
    "                                          'first_dep_time',\n",
    "                                          'cancellation_code',\n",
    "                                          'tail_num'],axis=1)"
   ]
  },
  {
   "cell_type": "code",
   "execution_count": 40,
   "id": "109acf38",
   "metadata": {},
   "outputs": [],
   "source": [
    "columns = ['late_aircraft_delay',\n",
    "           'security_delay',\n",
    "           'nas_delay',\n",
    "           'weather_delay',\n",
    "           'crs_elapsed_time',\n",
    "           'carrier_delay',\n",
    "           'dep_delay',\n",
    "           'arr_delay']\n",
    "fill_columns(0,columns,flights_raw)"
   ]
  },
  {
   "cell_type": "code",
   "execution_count": 37,
   "id": "5413ed8d",
   "metadata": {},
   "outputs": [],
   "source": [
    "# Drop no air_time values\n",
    "flights_raw.drop(flights_raw.loc[flights_raw['air_time'].isnull()].index,inplace=True)"
   ]
  },
  {
   "cell_type": "code",
   "execution_count": 41,
   "id": "f32d6ca8",
   "metadata": {},
   "outputs": [
    {
     "data": {
      "text/html": [
       "<div>\n",
       "<style scoped>\n",
       "    .dataframe tbody tr th:only-of-type {\n",
       "        vertical-align: middle;\n",
       "    }\n",
       "\n",
       "    .dataframe tbody tr th {\n",
       "        vertical-align: top;\n",
       "    }\n",
       "\n",
       "    .dataframe thead th {\n",
       "        text-align: right;\n",
       "    }\n",
       "</style>\n",
       "<table border=\"1\" class=\"dataframe\">\n",
       "  <thead>\n",
       "    <tr style=\"text-align: right;\">\n",
       "      <th></th>\n",
       "      <th>number</th>\n",
       "      <th>percent</th>\n",
       "    </tr>\n",
       "  </thead>\n",
       "  <tbody>\n",
       "  </tbody>\n",
       "</table>\n",
       "</div>"
      ],
      "text/plain": [
       "Empty DataFrame\n",
       "Columns: [number, percent]\n",
       "Index: []"
      ]
     },
     "execution_count": 41,
     "metadata": {},
     "output_type": "execute_result"
    }
   ],
   "source": [
    "missing(flights_raw) # good to go."
   ]
  },
  {
   "cell_type": "markdown",
   "id": "896d2362",
   "metadata": {},
   "source": [
    "# Save cleaned flights data to CSV"
   ]
  },
  {
   "cell_type": "code",
   "execution_count": 42,
   "id": "a50ee49e",
   "metadata": {},
   "outputs": [],
   "source": [
    "#Export the cleaned dataframe\n",
    "flights_raw.to_csv('data/flights_cleaned_with_delays.csv')"
   ]
  },
  {
   "cell_type": "markdown",
   "id": "e45f8a1f",
   "metadata": {},
   "source": [
    "## Mapping airport/airline names for plotting"
   ]
  },
  {
   "cell_type": "code",
   "execution_count": 62,
   "id": "dcbb2609",
   "metadata": {},
   "outputs": [],
   "source": [
    "# # Mapping file for airport names\n",
    "# import json\n",
    "# with open('airport_names_dict.txt') as f: # my map\n",
    "#     data = f.read()\n",
    "# airport_names_dict = json.loads(data)"
   ]
  },
  {
   "cell_type": "code",
   "execution_count": 63,
   "id": "dde5fae0",
   "metadata": {},
   "outputs": [],
   "source": [
    "# # Adding new column with full airport names\n",
    "# df[\"airport_names\"] = df[\"origin\"]\n",
    "# df[\"airport_names\"] = df['airport_names'].map(airport_names_dict) "
   ]
  },
  {
   "cell_type": "code",
   "execution_count": 64,
   "id": "2c08b833",
   "metadata": {},
   "outputs": [],
   "source": [
    "# # Mapping file for airline names\n",
    "# import json\n",
    "# with open('airline_names_dict.txt') as f: # my map\n",
    "#     data2 = f.read()\n",
    "# airline_names_dict = json.loads(data2)"
   ]
  },
  {
   "cell_type": "code",
   "execution_count": 65,
   "id": "e6a61478",
   "metadata": {},
   "outputs": [],
   "source": [
    "# # Adding new column with full airline names\n",
    "# df[\"airline_names\"] = df[\"mkt_carrier\"]\n",
    "# df[\"airline_names\"] = df['airline_names'].map(airline_names_dict) "
   ]
  },
  {
   "cell_type": "markdown",
   "id": "5969ead2",
   "metadata": {},
   "source": [
    "# Outlier removal"
   ]
  },
  {
   "cell_type": "code",
   "execution_count": 45,
   "id": "e15d533f",
   "metadata": {},
   "outputs": [],
   "source": [
    "Q1_arrival = flights_raw.arr_delay.quantile(0.25)\n",
    "Q3_arrival = flights_raw.arr_delay.quantile(0.75)\n",
    "IQR = Q3_arrival - Q1_arrival\n",
    "flights_no_outlier_iqr = flights_raw.loc[(flights_raw['arr_delay'] >= (Q1_arrival - 1.5*IQR))\\\n",
    "                                     & (flights_raw['arr_delay'] <= Q3_arrival + 1.5*IQR)]"
   ]
  },
  {
   "cell_type": "code",
   "execution_count": 46,
   "id": "56f52563",
   "metadata": {},
   "outputs": [
    {
     "data": {
      "image/png": "[encoded data removed]",
      "text/plain": [
       "<Figure size 360x360 with 1 Axes>"
      ]
     },
     "metadata": {},
     "output_type": "display_data"
    }
   ],
   "source": [
    "# Arrival Delay Distribution after excluding the outliers\n",
    "sns.set_theme(style=\"darkgrid\")\n",
    "sns.displot(flights_no_outlier_iqr, x=\"arr_delay\",kind='kde')\n",
    "plt.title(\"Arrival Delay Distribution\", size=15)\n",
    "plt.show()"
   ]
  },
  {
   "cell_type": "code",
   "execution_count": 47,
   "id": "7870d995",
   "metadata": {},
   "outputs": [],
   "source": [
    "# Removing outliers for departure delay\n",
    "Q1_dep = flights_no_outlier_iqr.dep_delay.quantile(0.25)\n",
    "Q3_dep = flights_no_outlier_iqr.dep_delay.quantile(0.75)\n",
    "IQR_dep = Q3_dep - Q1_dep\n",
    "flights_no_outlier_iqr = flights_no_outlier_iqr.loc[(flights_no_outlier_iqr['dep_delay'] >= (Q1_dep - 1.5*IQR_dep))\\\n",
    "                                     & (flights_no_outlier_iqr['dep_delay'] <= Q3_dep + 1.5*IQR_dep)]"
   ]
  },
  {
   "cell_type": "code",
   "execution_count": 48,
   "id": "c8d3763d",
   "metadata": {},
   "outputs": [
    {
     "data": {
      "image/png": "[encoded data removed]",
      "text/plain": [
       "<Figure size 360x360 with 1 Axes>"
      ]
     },
     "metadata": {},
     "output_type": "display_data"
    }
   ],
   "source": [
    "sns.set_theme(style=\"darkgrid\")\n",
    "sns.displot(flights_no_outlier_iqr, x=\"dep_delay\",kind='kde')\n",
    "plt.title(\"Departure Delay Distribution\", size=15)\n",
    "plt.show()"
   ]
  },
  {
   "cell_type": "code",
   "execution_count": 49,
   "id": "b1cbdcf3",
   "metadata": {},
   "outputs": [
    {
     "data": {
      "text/html": [
       "<div>\n",
       "<style scoped>\n",
       "    .dataframe tbody tr th:only-of-type {\n",
       "        vertical-align: middle;\n",
       "    }\n",
       "\n",
       "    .dataframe tbody tr th {\n",
       "        vertical-align: top;\n",
       "    }\n",
       "\n",
       "    .dataframe thead th {\n",
       "        text-align: right;\n",
       "    }\n",
       "</style>\n",
       "<table border=\"1\" class=\"dataframe\">\n",
       "  <thead>\n",
       "    <tr style=\"text-align: right;\">\n",
       "      <th></th>\n",
       "      <th>fl_date</th>\n",
       "      <th>mkt_unique_carrier</th>\n",
       "      <th>branded_code_share</th>\n",
       "      <th>mkt_carrier</th>\n",
       "      <th>mkt_carrier_fl_num</th>\n",
       "      <th>op_unique_carrier</th>\n",
       "      <th>op_carrier_fl_num</th>\n",
       "      <th>origin_airport_id</th>\n",
       "      <th>origin</th>\n",
       "      <th>origin_city_name</th>\n",
       "      <th>dest_airport_id</th>\n",
       "      <th>dest</th>\n",
       "      <th>dest_city_name</th>\n",
       "      <th>crs_dep_time</th>\n",
       "      <th>dep_time</th>\n",
       "      <th>dep_delay</th>\n",
       "      <th>taxi_out</th>\n",
       "      <th>wheels_off</th>\n",
       "      <th>wheels_on</th>\n",
       "      <th>taxi_in</th>\n",
       "      <th>crs_arr_time</th>\n",
       "      <th>arr_time</th>\n",
       "      <th>arr_delay</th>\n",
       "      <th>dup</th>\n",
       "      <th>crs_elapsed_time</th>\n",
       "      <th>actual_elapsed_time</th>\n",
       "      <th>air_time</th>\n",
       "      <th>flights</th>\n",
       "      <th>distance</th>\n",
       "      <th>carrier_delay</th>\n",
       "      <th>weather_delay</th>\n",
       "      <th>nas_delay</th>\n",
       "      <th>security_delay</th>\n",
       "      <th>late_aircraft_delay</th>\n",
       "    </tr>\n",
       "  </thead>\n",
       "  <tbody>\n",
       "    <tr>\n",
       "      <th>0</th>\n",
       "      <td>2019-10-02</td>\n",
       "      <td>AA</td>\n",
       "      <td>AA_CODESHARE</td>\n",
       "      <td>AA</td>\n",
       "      <td>5330</td>\n",
       "      <td>OH</td>\n",
       "      <td>5330</td>\n",
       "      <td>10581</td>\n",
       "      <td>BGR</td>\n",
       "      <td>Bangor, ME</td>\n",
       "      <td>11278</td>\n",
       "      <td>DCA</td>\n",
       "      <td>Washington, DC</td>\n",
       "      <td>543</td>\n",
       "      <td>535.0</td>\n",
       "      <td>-8.0</td>\n",
       "      <td>11.0</td>\n",
       "      <td>546.0</td>\n",
       "      <td>726.0</td>\n",
       "      <td>5.0</td>\n",
       "      <td>749</td>\n",
       "      <td>731.0</td>\n",
       "      <td>-18.0</td>\n",
       "      <td>N</td>\n",
       "      <td>126.0</td>\n",
       "      <td>116.0</td>\n",
       "      <td>100.0</td>\n",
       "      <td>1.0</td>\n",
       "      <td>590.0</td>\n",
       "      <td>0.0</td>\n",
       "      <td>0.0</td>\n",
       "      <td>0.0</td>\n",
       "      <td>0.0</td>\n",
       "      <td>0.0</td>\n",
       "    </tr>\n",
       "    <tr>\n",
       "      <th>1</th>\n",
       "      <td>2019-10-02</td>\n",
       "      <td>AA</td>\n",
       "      <td>AA_CODESHARE</td>\n",
       "      <td>AA</td>\n",
       "      <td>5332</td>\n",
       "      <td>OH</td>\n",
       "      <td>5332</td>\n",
       "      <td>10599</td>\n",
       "      <td>BHM</td>\n",
       "      <td>Birmingham, AL</td>\n",
       "      <td>11057</td>\n",
       "      <td>CLT</td>\n",
       "      <td>Charlotte, NC</td>\n",
       "      <td>1844</td>\n",
       "      <td>1853.0</td>\n",
       "      <td>9.0</td>\n",
       "      <td>19.0</td>\n",
       "      <td>1912.0</td>\n",
       "      <td>2119.0</td>\n",
       "      <td>11.0</td>\n",
       "      <td>2127</td>\n",
       "      <td>2130.0</td>\n",
       "      <td>3.0</td>\n",
       "      <td>N</td>\n",
       "      <td>103.0</td>\n",
       "      <td>97.0</td>\n",
       "      <td>67.0</td>\n",
       "      <td>1.0</td>\n",
       "      <td>350.0</td>\n",
       "      <td>0.0</td>\n",
       "      <td>0.0</td>\n",
       "      <td>0.0</td>\n",
       "      <td>0.0</td>\n",
       "      <td>0.0</td>\n",
       "    </tr>\n",
       "    <tr>\n",
       "      <th>3</th>\n",
       "      <td>2019-10-02</td>\n",
       "      <td>AA</td>\n",
       "      <td>AA_CODESHARE</td>\n",
       "      <td>AA</td>\n",
       "      <td>5333</td>\n",
       "      <td>OH</td>\n",
       "      <td>5333</td>\n",
       "      <td>10397</td>\n",
       "      <td>ATL</td>\n",
       "      <td>Atlanta, GA</td>\n",
       "      <td>11057</td>\n",
       "      <td>CLT</td>\n",
       "      <td>Charlotte, NC</td>\n",
       "      <td>1354</td>\n",
       "      <td>1346.0</td>\n",
       "      <td>-8.0</td>\n",
       "      <td>31.0</td>\n",
       "      <td>1417.0</td>\n",
       "      <td>1503.0</td>\n",
       "      <td>14.0</td>\n",
       "      <td>1519</td>\n",
       "      <td>1517.0</td>\n",
       "      <td>-2.0</td>\n",
       "      <td>N</td>\n",
       "      <td>85.0</td>\n",
       "      <td>91.0</td>\n",
       "      <td>46.0</td>\n",
       "      <td>1.0</td>\n",
       "      <td>226.0</td>\n",
       "      <td>0.0</td>\n",
       "      <td>0.0</td>\n",
       "      <td>0.0</td>\n",
       "      <td>0.0</td>\n",
       "      <td>0.0</td>\n",
       "    </tr>\n",
       "    <tr>\n",
       "      <th>4</th>\n",
       "      <td>2019-10-02</td>\n",
       "      <td>AA</td>\n",
       "      <td>AA_CODESHARE</td>\n",
       "      <td>AA</td>\n",
       "      <td>5333</td>\n",
       "      <td>OH</td>\n",
       "      <td>5333</td>\n",
       "      <td>11057</td>\n",
       "      <td>CLT</td>\n",
       "      <td>Charlotte, NC</td>\n",
       "      <td>10397</td>\n",
       "      <td>ATL</td>\n",
       "      <td>Atlanta, GA</td>\n",
       "      <td>1155</td>\n",
       "      <td>1148.0</td>\n",
       "      <td>-7.0</td>\n",
       "      <td>33.0</td>\n",
       "      <td>1221.0</td>\n",
       "      <td>1258.0</td>\n",
       "      <td>6.0</td>\n",
       "      <td>1320</td>\n",
       "      <td>1304.0</td>\n",
       "      <td>-16.0</td>\n",
       "      <td>N</td>\n",
       "      <td>85.0</td>\n",
       "      <td>76.0</td>\n",
       "      <td>37.0</td>\n",
       "      <td>1.0</td>\n",
       "      <td>226.0</td>\n",
       "      <td>0.0</td>\n",
       "      <td>0.0</td>\n",
       "      <td>0.0</td>\n",
       "      <td>0.0</td>\n",
       "      <td>0.0</td>\n",
       "    </tr>\n",
       "    <tr>\n",
       "      <th>5</th>\n",
       "      <td>2019-10-02</td>\n",
       "      <td>AA</td>\n",
       "      <td>AA_CODESHARE</td>\n",
       "      <td>AA</td>\n",
       "      <td>5334</td>\n",
       "      <td>OH</td>\n",
       "      <td>5334</td>\n",
       "      <td>11057</td>\n",
       "      <td>CLT</td>\n",
       "      <td>Charlotte, NC</td>\n",
       "      <td>12339</td>\n",
       "      <td>IND</td>\n",
       "      <td>Indianapolis, IN</td>\n",
       "      <td>1450</td>\n",
       "      <td>1443.0</td>\n",
       "      <td>-7.0</td>\n",
       "      <td>19.0</td>\n",
       "      <td>1502.0</td>\n",
       "      <td>1606.0</td>\n",
       "      <td>8.0</td>\n",
       "      <td>1632</td>\n",
       "      <td>1614.0</td>\n",
       "      <td>-18.0</td>\n",
       "      <td>N</td>\n",
       "      <td>102.0</td>\n",
       "      <td>91.0</td>\n",
       "      <td>64.0</td>\n",
       "      <td>1.0</td>\n",
       "      <td>427.0</td>\n",
       "      <td>0.0</td>\n",
       "      <td>0.0</td>\n",
       "      <td>0.0</td>\n",
       "      <td>0.0</td>\n",
       "      <td>0.0</td>\n",
       "    </tr>\n",
       "  </tbody>\n",
       "</table>\n",
       "</div>"
      ],
      "text/plain": [
       "      fl_date mkt_unique_carrier branded_code_share mkt_carrier  \\\n",
       "0  2019-10-02                 AA       AA_CODESHARE          AA   \n",
       "1  2019-10-02                 AA       AA_CODESHARE          AA   \n",
       "3  2019-10-02                 AA       AA_CODESHARE          AA   \n",
       "4  2019-10-02                 AA       AA_CODESHARE          AA   \n",
       "5  2019-10-02                 AA       AA_CODESHARE          AA   \n",
       "\n",
       "   mkt_carrier_fl_num op_unique_carrier  op_carrier_fl_num  origin_airport_id  \\\n",
       "0                5330                OH               5330              10581   \n",
       "1                5332                OH               5332              10599   \n",
       "3                5333                OH               5333              10397   \n",
       "4                5333                OH               5333              11057   \n",
       "5                5334                OH               5334              11057   \n",
       "\n",
       "  origin origin_city_name  dest_airport_id dest    dest_city_name  \\\n",
       "0    BGR       Bangor, ME            11278  DCA    Washington, DC   \n",
       "1    BHM   Birmingham, AL            11057  CLT     Charlotte, NC   \n",
       "3    ATL      Atlanta, GA            11057  CLT     Charlotte, NC   \n",
       "4    CLT    Charlotte, NC            10397  ATL       Atlanta, GA   \n",
       "5    CLT    Charlotte, NC            12339  IND  Indianapolis, IN   \n",
       "\n",
       "   crs_dep_time  dep_time  dep_delay  taxi_out  wheels_off  wheels_on  \\\n",
       "0           543     535.0       -8.0      11.0       546.0      726.0   \n",
       "1          1844    1853.0        9.0      19.0      1912.0     2119.0   \n",
       "3          1354    1346.0       -8.0      31.0      1417.0     1503.0   \n",
       "4          1155    1148.0       -7.0      33.0      1221.0     1258.0   \n",
       "5          1450    1443.0       -7.0      19.0      1502.0     1606.0   \n",
       "\n",
       "   taxi_in  crs_arr_time  arr_time  arr_delay dup  crs_elapsed_time  \\\n",
       "0      5.0           749     731.0      -18.0   N             126.0   \n",
       "1     11.0          2127    2130.0        3.0   N             103.0   \n",
       "3     14.0          1519    1517.0       -2.0   N              85.0   \n",
       "4      6.0          1320    1304.0      -16.0   N              85.0   \n",
       "5      8.0          1632    1614.0      -18.0   N             102.0   \n",
       "\n",
       "   actual_elapsed_time  air_time  flights  distance  carrier_delay  \\\n",
       "0                116.0     100.0      1.0     590.0            0.0   \n",
       "1                 97.0      67.0      1.0     350.0            0.0   \n",
       "3                 91.0      46.0      1.0     226.0            0.0   \n",
       "4                 76.0      37.0      1.0     226.0            0.0   \n",
       "5                 91.0      64.0      1.0     427.0            0.0   \n",
       "\n",
       "   weather_delay  nas_delay  security_delay  late_aircraft_delay  \n",
       "0            0.0        0.0             0.0                  0.0  \n",
       "1            0.0        0.0             0.0                  0.0  \n",
       "3            0.0        0.0             0.0                  0.0  \n",
       "4            0.0        0.0             0.0                  0.0  \n",
       "5            0.0        0.0             0.0                  0.0  "
      ]
     },
     "execution_count": 49,
     "metadata": {},
     "output_type": "execute_result"
    }
   ],
   "source": [
    "flights_no_outlier_iqr.head()"
   ]
  },
  {
   "cell_type": "code",
   "execution_count": 50,
   "id": "11f251d1",
   "metadata": {},
   "outputs": [],
   "source": [
    "# Add delays to column named combined_delay\n",
    "columns = ['late_aircraft_delay','security_delay','nas_delay','weather_delay','carrier_delay']\n",
    "flights_no_outlier_iqr['combined_delay'] = 0\n",
    "for col in columns:\n",
    "    flights_no_outlier_iqr['combined_delay'] = flights_no_outlier_iqr['combined_delay']+flights_no_outlier_iqr[col]"
   ]
  },
  {
   "cell_type": "code",
   "execution_count": 51,
   "id": "6722d51c",
   "metadata": {},
   "outputs": [
    {
     "data": {
      "text/plain": [
       "550988     39.0\n",
       "579418     39.0\n",
       "116253     39.0\n",
       "1977023    39.0\n",
       "579525     39.0\n",
       "           ... \n",
       "869021      0.0\n",
       "869020      0.0\n",
       "869017      0.0\n",
       "869015      0.0\n",
       "1276477     0.0\n",
       "Name: combined_delay, Length: 2073401, dtype: float64"
      ]
     },
     "execution_count": 51,
     "metadata": {},
     "output_type": "execute_result"
    }
   ],
   "source": [
    "flights_no_outlier_iqr['combined_delay'].sort_values(ascending=False)"
   ]
  },
  {
   "cell_type": "code",
   "execution_count": 52,
   "id": "02cb61de",
   "metadata": {},
   "outputs": [
    {
     "data": {
      "text/plain": [
       "(2073401, 35)"
      ]
     },
     "execution_count": 52,
     "metadata": {},
     "output_type": "execute_result"
    }
   ],
   "source": [
    "flights_no_outlier_iqr.shape"
   ]
  },
  {
   "cell_type": "code",
   "execution_count": 53,
   "id": "8293a45e",
   "metadata": {},
   "outputs": [],
   "source": [
    "flights_no_outlier_iqr.to_csv('data/flights_cleaned_no_outlier_iqr_with_delays.csv')"
   ]
  },
  {
   "cell_type": "code",
   "execution_count": null,
   "id": "53a638b1",
   "metadata": {},
   "outputs": [],
   "source": []
  }
 ],
 "metadata": {
  "kernelspec": {
   "display_name": "Python 3 (ipykernel)",
   "language": "python",
   "name": "python3"
  },
  "language_info": {
   "codemirror_mode": {
    "name": "ipython",
    "version": 3
   },
   "file_extension": ".py",
   "mimetype": "text/x-python",
   "name": "python",
   "nbconvert_exporter": "python",
   "pygments_lexer": "ipython3",
   "version": "3.8.12"
  }
 },
 "nbformat": 4,
 "nbformat_minor": 5
}

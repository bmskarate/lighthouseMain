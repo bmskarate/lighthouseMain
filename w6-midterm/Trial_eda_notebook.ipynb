{
 "cells": [
  {
   "cell_type": "code",
   "execution_count": 1,
   "id": "c76c4eb6",
   "metadata": {},
   "outputs": [],
   "source": [
    "import pandas as pd\n",
    "pd.set_option(\"display.max_columns\", None)\n",
    "import numpy as np\n",
    "import matplotlib.pyplot as plt"
   ]
  },
  {
   "cell_type": "code",
   "execution_count": 2,
   "id": "85a97061",
   "metadata": {},
   "outputs": [
    {
     "name": "stderr",
     "output_type": "stream",
     "text": [
      "/Users/louisrossi/opt/anaconda3/envs/ml/lib/python3.8/site-packages/IPython/core/interactiveshell.py:3441: DtypeWarning: Columns (25) have mixed types.Specify dtype option on import or set low_memory=False.\n",
      "  exec(code_obj, self.user_global_ns, self.user_ns)\n"
     ]
    }
   ],
   "source": [
    "df_nov_dec = pd.read_csv(\"data/flights_2018_nov_dec_raw.csv\")\n",
    "df_jan = pd.read_csv(\"data/flights_2018_jan_raw.csv\")"
   ]
  },
  {
   "cell_type": "code",
   "execution_count": 6,
   "id": "f13779e6",
   "metadata": {},
   "outputs": [],
   "source": [
    "df = pd.concat([df_nov_dec, df_jan]).reset_index().drop(columns=[\"index\"])"
   ]
  },
  {
   "cell_type": "code",
   "execution_count": 7,
   "id": "670a7a42",
   "metadata": {},
   "outputs": [],
   "source": [
    "df_ = df.sample(frac = 0.05)"
   ]
  },
  {
   "cell_type": "code",
   "execution_count": 8,
   "id": "35f7ee88",
   "metadata": {},
   "outputs": [
    {
     "data": {
      "text/plain": [
       "fl_date                 object\n",
       "mkt_unique_carrier      object\n",
       "branded_code_share      object\n",
       "mkt_carrier             object\n",
       "mkt_carrier_fl_num       int64\n",
       "op_unique_carrier       object\n",
       "tail_num                object\n",
       "op_carrier_fl_num        int64\n",
       "origin_airport_id        int64\n",
       "origin                  object\n",
       "origin_city_name        object\n",
       "dest_airport_id          int64\n",
       "dest                    object\n",
       "dest_city_name          object\n",
       "crs_dep_time             int64\n",
       "dep_time               float64\n",
       "dep_delay              float64\n",
       "taxi_out               float64\n",
       "wheels_off             float64\n",
       "wheels_on              float64\n",
       "taxi_in                float64\n",
       "crs_arr_time             int64\n",
       "arr_time               float64\n",
       "arr_delay              float64\n",
       "cancelled              float64\n",
       "cancellation_code       object\n",
       "diverted               float64\n",
       "dup                     object\n",
       "crs_elapsed_time       float64\n",
       "actual_elapsed_time    float64\n",
       "air_time               float64\n",
       "flights                float64\n",
       "distance               float64\n",
       "carrier_delay          float64\n",
       "weather_delay          float64\n",
       "nas_delay              float64\n",
       "security_delay         float64\n",
       "late_aircraft_delay    float64\n",
       "first_dep_time         float64\n",
       "total_add_gtime        float64\n",
       "longest_add_gtime      float64\n",
       "no_name                float64\n",
       "dtype: object"
      ]
     },
     "execution_count": 8,
     "metadata": {},
     "output_type": "execute_result"
    }
   ],
   "source": [
    "df.dtypes"
   ]
  },
  {
   "cell_type": "code",
   "execution_count": 9,
   "id": "a88e6823",
   "metadata": {},
   "outputs": [],
   "source": [
    "def missing(x):\n",
    "    n_missing = x.isnull().sum().sort_values(ascending=False)\n",
    "    p_missing = (x.isnull().sum()/x.isnull().count()).sort_values(ascending=False)\n",
    "    missing_ = pd.concat([n_missing, p_missing],axis=1, keys = ['number','percent'])\n",
    "    return missing_"
   ]
  },
  {
   "cell_type": "code",
   "execution_count": 12,
   "id": "9239f2b2",
   "metadata": {},
   "outputs": [
    {
     "data": {
      "text/html": [
       "<div>\n",
       "<style scoped>\n",
       "    .dataframe tbody tr th:only-of-type {\n",
       "        vertical-align: middle;\n",
       "    }\n",
       "\n",
       "    .dataframe tbody tr th {\n",
       "        vertical-align: top;\n",
       "    }\n",
       "\n",
       "    .dataframe thead th {\n",
       "        text-align: right;\n",
       "    }\n",
       "</style>\n",
       "<table border=\"1\" class=\"dataframe\">\n",
       "  <thead>\n",
       "    <tr style=\"text-align: right;\">\n",
       "      <th></th>\n",
       "      <th>number</th>\n",
       "      <th>percent</th>\n",
       "    </tr>\n",
       "  </thead>\n",
       "  <tbody>\n",
       "    <tr>\n",
       "      <th>no_name</th>\n",
       "      <td>94476</td>\n",
       "      <td>1.000000</td>\n",
       "    </tr>\n",
       "    <tr>\n",
       "      <th>first_dep_time</th>\n",
       "      <td>93904</td>\n",
       "      <td>0.993946</td>\n",
       "    </tr>\n",
       "    <tr>\n",
       "      <th>longest_add_gtime</th>\n",
       "      <td>93904</td>\n",
       "      <td>0.993946</td>\n",
       "    </tr>\n",
       "    <tr>\n",
       "      <th>total_add_gtime</th>\n",
       "      <td>93904</td>\n",
       "      <td>0.993946</td>\n",
       "    </tr>\n",
       "    <tr>\n",
       "      <th>cancellation_code</th>\n",
       "      <td>93720</td>\n",
       "      <td>0.991998</td>\n",
       "    </tr>\n",
       "    <tr>\n",
       "      <th>late_aircraft_delay</th>\n",
       "      <td>76849</td>\n",
       "      <td>0.813424</td>\n",
       "    </tr>\n",
       "    <tr>\n",
       "      <th>security_delay</th>\n",
       "      <td>76849</td>\n",
       "      <td>0.813424</td>\n",
       "    </tr>\n",
       "    <tr>\n",
       "      <th>nas_delay</th>\n",
       "      <td>76849</td>\n",
       "      <td>0.813424</td>\n",
       "    </tr>\n",
       "    <tr>\n",
       "      <th>weather_delay</th>\n",
       "      <td>76849</td>\n",
       "      <td>0.813424</td>\n",
       "    </tr>\n",
       "    <tr>\n",
       "      <th>carrier_delay</th>\n",
       "      <td>76849</td>\n",
       "      <td>0.813424</td>\n",
       "    </tr>\n",
       "    <tr>\n",
       "      <th>arr_delay</th>\n",
       "      <td>949</td>\n",
       "      <td>0.010045</td>\n",
       "    </tr>\n",
       "    <tr>\n",
       "      <th>actual_elapsed_time</th>\n",
       "      <td>942</td>\n",
       "      <td>0.009971</td>\n",
       "    </tr>\n",
       "    <tr>\n",
       "      <th>air_time</th>\n",
       "      <td>942</td>\n",
       "      <td>0.009971</td>\n",
       "    </tr>\n",
       "    <tr>\n",
       "      <th>wheels_on</th>\n",
       "      <td>777</td>\n",
       "      <td>0.008224</td>\n",
       "    </tr>\n",
       "    <tr>\n",
       "      <th>taxi_in</th>\n",
       "      <td>777</td>\n",
       "      <td>0.008224</td>\n",
       "    </tr>\n",
       "    <tr>\n",
       "      <th>arr_time</th>\n",
       "      <td>777</td>\n",
       "      <td>0.008224</td>\n",
       "    </tr>\n",
       "    <tr>\n",
       "      <th>dep_delay</th>\n",
       "      <td>763</td>\n",
       "      <td>0.008076</td>\n",
       "    </tr>\n",
       "    <tr>\n",
       "      <th>taxi_out</th>\n",
       "      <td>743</td>\n",
       "      <td>0.007864</td>\n",
       "    </tr>\n",
       "    <tr>\n",
       "      <th>wheels_off</th>\n",
       "      <td>743</td>\n",
       "      <td>0.007864</td>\n",
       "    </tr>\n",
       "    <tr>\n",
       "      <th>dep_time</th>\n",
       "      <td>724</td>\n",
       "      <td>0.007663</td>\n",
       "    </tr>\n",
       "    <tr>\n",
       "      <th>tail_num</th>\n",
       "      <td>160</td>\n",
       "      <td>0.001694</td>\n",
       "    </tr>\n",
       "    <tr>\n",
       "      <th>diverted</th>\n",
       "      <td>0</td>\n",
       "      <td>0.000000</td>\n",
       "    </tr>\n",
       "    <tr>\n",
       "      <th>flights</th>\n",
       "      <td>0</td>\n",
       "      <td>0.000000</td>\n",
       "    </tr>\n",
       "    <tr>\n",
       "      <th>crs_elapsed_time</th>\n",
       "      <td>0</td>\n",
       "      <td>0.000000</td>\n",
       "    </tr>\n",
       "    <tr>\n",
       "      <th>distance</th>\n",
       "      <td>0</td>\n",
       "      <td>0.000000</td>\n",
       "    </tr>\n",
       "    <tr>\n",
       "      <th>dup</th>\n",
       "      <td>0</td>\n",
       "      <td>0.000000</td>\n",
       "    </tr>\n",
       "    <tr>\n",
       "      <th>fl_date</th>\n",
       "      <td>0</td>\n",
       "      <td>0.000000</td>\n",
       "    </tr>\n",
       "    <tr>\n",
       "      <th>cancelled</th>\n",
       "      <td>0</td>\n",
       "      <td>0.000000</td>\n",
       "    </tr>\n",
       "    <tr>\n",
       "      <th>mkt_unique_carrier</th>\n",
       "      <td>0</td>\n",
       "      <td>0.000000</td>\n",
       "    </tr>\n",
       "    <tr>\n",
       "      <th>crs_dep_time</th>\n",
       "      <td>0</td>\n",
       "      <td>0.000000</td>\n",
       "    </tr>\n",
       "    <tr>\n",
       "      <th>dest_city_name</th>\n",
       "      <td>0</td>\n",
       "      <td>0.000000</td>\n",
       "    </tr>\n",
       "    <tr>\n",
       "      <th>dest</th>\n",
       "      <td>0</td>\n",
       "      <td>0.000000</td>\n",
       "    </tr>\n",
       "    <tr>\n",
       "      <th>dest_airport_id</th>\n",
       "      <td>0</td>\n",
       "      <td>0.000000</td>\n",
       "    </tr>\n",
       "    <tr>\n",
       "      <th>origin_city_name</th>\n",
       "      <td>0</td>\n",
       "      <td>0.000000</td>\n",
       "    </tr>\n",
       "    <tr>\n",
       "      <th>origin</th>\n",
       "      <td>0</td>\n",
       "      <td>0.000000</td>\n",
       "    </tr>\n",
       "    <tr>\n",
       "      <th>origin_airport_id</th>\n",
       "      <td>0</td>\n",
       "      <td>0.000000</td>\n",
       "    </tr>\n",
       "    <tr>\n",
       "      <th>op_carrier_fl_num</th>\n",
       "      <td>0</td>\n",
       "      <td>0.000000</td>\n",
       "    </tr>\n",
       "    <tr>\n",
       "      <th>op_unique_carrier</th>\n",
       "      <td>0</td>\n",
       "      <td>0.000000</td>\n",
       "    </tr>\n",
       "    <tr>\n",
       "      <th>mkt_carrier_fl_num</th>\n",
       "      <td>0</td>\n",
       "      <td>0.000000</td>\n",
       "    </tr>\n",
       "    <tr>\n",
       "      <th>mkt_carrier</th>\n",
       "      <td>0</td>\n",
       "      <td>0.000000</td>\n",
       "    </tr>\n",
       "    <tr>\n",
       "      <th>branded_code_share</th>\n",
       "      <td>0</td>\n",
       "      <td>0.000000</td>\n",
       "    </tr>\n",
       "    <tr>\n",
       "      <th>crs_arr_time</th>\n",
       "      <td>0</td>\n",
       "      <td>0.000000</td>\n",
       "    </tr>\n",
       "  </tbody>\n",
       "</table>\n",
       "</div>"
      ],
      "text/plain": [
       "                     number   percent\n",
       "no_name               94476  1.000000\n",
       "first_dep_time        93904  0.993946\n",
       "longest_add_gtime     93904  0.993946\n",
       "total_add_gtime       93904  0.993946\n",
       "cancellation_code     93720  0.991998\n",
       "late_aircraft_delay   76849  0.813424\n",
       "security_delay        76849  0.813424\n",
       "nas_delay             76849  0.813424\n",
       "weather_delay         76849  0.813424\n",
       "carrier_delay         76849  0.813424\n",
       "arr_delay               949  0.010045\n",
       "actual_elapsed_time     942  0.009971\n",
       "air_time                942  0.009971\n",
       "wheels_on               777  0.008224\n",
       "taxi_in                 777  0.008224\n",
       "arr_time                777  0.008224\n",
       "dep_delay               763  0.008076\n",
       "taxi_out                743  0.007864\n",
       "wheels_off              743  0.007864\n",
       "dep_time                724  0.007663\n",
       "tail_num                160  0.001694\n",
       "diverted                  0  0.000000\n",
       "flights                   0  0.000000\n",
       "crs_elapsed_time          0  0.000000\n",
       "distance                  0  0.000000\n",
       "dup                       0  0.000000\n",
       "fl_date                   0  0.000000\n",
       "cancelled                 0  0.000000\n",
       "mkt_unique_carrier        0  0.000000\n",
       "crs_dep_time              0  0.000000\n",
       "dest_city_name            0  0.000000\n",
       "dest                      0  0.000000\n",
       "dest_airport_id           0  0.000000\n",
       "origin_city_name          0  0.000000\n",
       "origin                    0  0.000000\n",
       "origin_airport_id         0  0.000000\n",
       "op_carrier_fl_num         0  0.000000\n",
       "op_unique_carrier         0  0.000000\n",
       "mkt_carrier_fl_num        0  0.000000\n",
       "mkt_carrier               0  0.000000\n",
       "branded_code_share        0  0.000000\n",
       "crs_arr_time              0  0.000000"
      ]
     },
     "execution_count": 12,
     "metadata": {},
     "output_type": "execute_result"
    }
   ],
   "source": [
    "missing(df_)"
   ]
  },
  {
   "cell_type": "code",
   "execution_count": 13,
   "id": "f2bda8c1",
   "metadata": {},
   "outputs": [],
   "source": [
    "from scipy import stats\n",
    "import seaborn as sns\n",
    "arr_delay = df_.arr_delay"
   ]
  },
  {
   "cell_type": "code",
   "execution_count": 14,
   "id": "0ac21a7d",
   "metadata": {},
   "outputs": [
    {
     "data": {
      "text/plain": [
       "KstestResult(statistic=nan, pvalue=nan)"
      ]
     },
     "execution_count": 14,
     "metadata": {},
     "output_type": "execute_result"
    }
   ],
   "source": [
    "stats.kstest(arr_delay,stats.norm.cdf)"
   ]
  },
  {
   "cell_type": "code",
   "execution_count": 15,
   "id": "b05e84ef",
   "metadata": {},
   "outputs": [
    {
     "name": "stderr",
     "output_type": "stream",
     "text": [
      "/Users/louisrossi/opt/anaconda3/envs/ml/lib/python3.8/site-packages/scipy/stats/morestats.py:1760: UserWarning: p-value may not be accurate for N > 5000.\n",
      "  warnings.warn(\"p-value may not be accurate for N > 5000.\")\n"
     ]
    },
    {
     "data": {
      "text/plain": [
       "ShapiroResult(statistic=nan, pvalue=1.0)"
      ]
     },
     "execution_count": 15,
     "metadata": {},
     "output_type": "execute_result"
    }
   ],
   "source": [
    "stats.shapiro(arr_delay)"
   ]
  },
  {
   "cell_type": "code",
   "execution_count": 16,
   "id": "12cb613c",
   "metadata": {},
   "outputs": [
    {
     "data": {
      "text/plain": [
       "ShapiroResult(statistic=nan, pvalue=1.0)"
      ]
     },
     "execution_count": 16,
     "metadata": {},
     "output_type": "execute_result"
    }
   ],
   "source": [
    "sample = df.sample(frac=0.05)\n",
    "stats.shapiro(sample['arr_delay'])\n",
    "\n",
    "#fail to reject the null hypothesis that data is normally dist"
   ]
  },
  {
   "cell_type": "code",
   "execution_count": 17,
   "id": "d89c6aa5",
   "metadata": {},
   "outputs": [
    {
     "data": {
      "text/plain": [
       "(-300.0, 300.0)"
      ]
     },
     "execution_count": 17,
     "metadata": {},
     "output_type": "execute_result"
    },
    {
     "data": {
      "image/png": "[encoded data removed]",
      "text/plain": [
       "<Figure size 432x288 with 1 Axes>"
      ]
     },
     "metadata": {
      "needs_background": "light"
     },
     "output_type": "display_data"
    }
   ],
   "source": [
    "sns.histplot(arr_delay)\n",
    "plt.xlim(-300, 300)"
   ]
  },
  {
   "cell_type": "code",
   "execution_count": 18,
   "id": "7a5e7ee2",
   "metadata": {},
   "outputs": [],
   "source": [
    "import datetime as dt\n",
    "from datetime import date\n",
    "from datetime import time"
   ]
  },
  {
   "cell_type": "code",
   "execution_count": 19,
   "id": "502ec68b",
   "metadata": {},
   "outputs": [],
   "source": [
    "df['fl_date'] = pd.to_datetime(df['fl_date'])"
   ]
  },
  {
   "cell_type": "code",
   "execution_count": 22,
   "id": "88e8f4b3",
   "metadata": {},
   "outputs": [
    {
     "data": {
      "text/plain": [
       "pandas._libs.tslibs.timestamps.Timestamp"
      ]
     },
     "execution_count": 22,
     "metadata": {},
     "output_type": "execute_result"
    }
   ],
   "source": [
    "type(df.fl_date[0])"
   ]
  },
  {
   "cell_type": "code",
   "execution_count": 23,
   "id": "654f7648",
   "metadata": {},
   "outputs": [
    {
     "data": {
      "text/plain": [
       "0    12\n",
       "1    12\n",
       "2    12\n",
       "3    12\n",
       "4    12\n",
       "Name: month, dtype: int64"
      ]
     },
     "execution_count": 23,
     "metadata": {},
     "output_type": "execute_result"
    }
   ],
   "source": [
    "df['month'] = df['fl_date'].dt.month\n",
    "df['month'].head()"
   ]
  },
  {
   "cell_type": "code",
   "execution_count": 24,
   "id": "3f15dfa3",
   "metadata": {},
   "outputs": [],
   "source": [
    "monthly_count = df.groupby(['month'])['arr_delay'].count()"
   ]
  },
  {
   "cell_type": "code",
   "execution_count": 25,
   "id": "b13ab575",
   "metadata": {},
   "outputs": [
    {
     "data": {
      "text/html": [
       "<div>\n",
       "<style scoped>\n",
       "    .dataframe tbody tr th:only-of-type {\n",
       "        vertical-align: middle;\n",
       "    }\n",
       "\n",
       "    .dataframe tbody tr th {\n",
       "        vertical-align: top;\n",
       "    }\n",
       "\n",
       "    .dataframe thead th {\n",
       "        text-align: right;\n",
       "    }\n",
       "</style>\n",
       "<table border=\"1\" class=\"dataframe\">\n",
       "  <thead>\n",
       "    <tr style=\"text-align: right;\">\n",
       "      <th></th>\n",
       "      <th>arr_delay</th>\n",
       "    </tr>\n",
       "    <tr>\n",
       "      <th>month</th>\n",
       "      <th></th>\n",
       "    </tr>\n",
       "  </thead>\n",
       "  <tbody>\n",
       "    <tr>\n",
       "      <th>1</th>\n",
       "      <td>599996</td>\n",
       "    </tr>\n",
       "    <tr>\n",
       "      <th>11</th>\n",
       "      <td>629909</td>\n",
       "    </tr>\n",
       "    <tr>\n",
       "      <th>12</th>\n",
       "      <td>639995</td>\n",
       "    </tr>\n",
       "  </tbody>\n",
       "</table>\n",
       "</div>"
      ],
      "text/plain": [
       "       arr_delay\n",
       "month           \n",
       "1         599996\n",
       "11        629909\n",
       "12        639995"
      ]
     },
     "execution_count": 25,
     "metadata": {},
     "output_type": "execute_result"
    }
   ],
   "source": [
    "monthly_count = pd.DataFrame(monthly_count)\n",
    "monthly_count"
   ]
  },
  {
   "cell_type": "code",
   "execution_count": 26,
   "id": "fcae4b08",
   "metadata": {},
   "outputs": [
    {
     "data": {
      "text/plain": [
       "<AxesSubplot:xlabel='month', ylabel='arr_delay'>"
      ]
     },
     "execution_count": 26,
     "metadata": {},
     "output_type": "execute_result"
    },
    {
     "data": {
      "image/png": "[encoded data removed]",
      "text/plain": [
       "<Figure size 432x288 with 1 Axes>"
      ]
     },
     "metadata": {
      "needs_background": "light"
     },
     "output_type": "display_data"
    }
   ],
   "source": [
    "sns.barplot(x= monthly_count.index,y=monthly_count['arr_delay'])"
   ]
  },
  {
   "cell_type": "code",
   "execution_count": 27,
   "id": "cb18b4b3",
   "metadata": {},
   "outputs": [
    {
     "data": {
      "text/plain": [
       "<AxesSubplot:xlabel='month', ylabel='arr_delay'>"
      ]
     },
     "execution_count": 27,
     "metadata": {},
     "output_type": "execute_result"
    },
    {
     "data": {
      "image/png": "[encoded data removed]",
      "text/plain": [
       "<Figure size 432x288 with 1 Axes>"
      ]
     },
     "metadata": {
      "needs_background": "light"
     },
     "output_type": "display_data"
    }
   ],
   "source": [
    "monthly_avg = df.groupby(['month'])['arr_delay'].mean()\n",
    "sns.barplot(x=df['month'],y=df['arr_delay'])"
   ]
  },
  {
   "cell_type": "code",
   "execution_count": 28,
   "id": "a8e517f2",
   "metadata": {},
   "outputs": [
    {
     "data": {
      "text/plain": [
       "<AxesSubplot:xlabel='taxi_out', ylabel='Count'>"
      ]
     },
     "execution_count": 28,
     "metadata": {},
     "output_type": "execute_result"
    },
    {
     "data": {
      "image/png": "[encoded data removed]",
      "text/plain": [
       "<Figure size 432x288 with 1 Axes>"
      ]
     },
     "metadata": {
      "needs_background": "light"
     },
     "output_type": "display_data"
    }
   ],
   "source": [
    "task4a = df.groupby(['dep_time'])['taxi_out'].count()\n",
    "sns.histplot(task4a)"
   ]
  },
  {
   "cell_type": "code",
   "execution_count": 29,
   "id": "ce0b5a5f",
   "metadata": {},
   "outputs": [
    {
     "data": {
      "text/plain": [
       "<AxesSubplot:xlabel='dep_time', ylabel='taxi_out'>"
      ]
     },
     "execution_count": 29,
     "metadata": {},
     "output_type": "execute_result"
    },
    {
     "data": {
      "image/png": "[encoded data removed]",
      "text/plain": [
       "<Figure size 432x288 with 1 Axes>"
      ]
     },
     "metadata": {
      "needs_background": "light"
     },
     "output_type": "display_data"
    }
   ],
   "source": [
    "task4a_count = pd.DataFrame(task4a)\n",
    "sns.barplot(x=task4a_count.index,y=task4a_count['taxi_out'])"
   ]
  },
  {
   "cell_type": "code",
   "execution_count": 30,
   "id": "ae7f965d",
   "metadata": {},
   "outputs": [
    {
     "data": {
      "text/plain": [
       "<AxesSubplot:xlabel='dep_time', ylabel='taxi_out'>"
      ]
     },
     "execution_count": 30,
     "metadata": {},
     "output_type": "execute_result"
    },
    {
     "data": {
      "image/png": "[encoded data removed]",
      "text/plain": [
       "<Figure size 432x288 with 1 Axes>"
      ]
     },
     "metadata": {
      "needs_background": "light"
     },
     "output_type": "display_data"
    }
   ],
   "source": [
    "sns.barplot(x=df['dep_time'],y=df['taxi_out'], ci=None)"
   ]
  },
  {
   "cell_type": "code",
   "execution_count": null,
   "id": "52bd14c3",
   "metadata": {},
   "outputs": [],
   "source": []
  },
  {
   "cell_type": "code",
   "execution_count": null,
   "id": "25409ea9",
   "metadata": {},
   "outputs": [],
   "source": []
  },
  {
   "cell_type": "code",
   "execution_count": null,
   "id": "1748dcc3",
   "metadata": {},
   "outputs": [],
   "source": []
  },
  {
   "cell_type": "code",
   "execution_count": null,
   "id": "4aee94a7",
   "metadata": {},
   "outputs": [],
   "source": []
  }
 ],
 "metadata": {
  "kernelspec": {
   "display_name": "Python 3 (ipykernel)",
   "language": "python",
   "name": "python3"
  },
  "language_info": {
   "codemirror_mode": {
    "name": "ipython",
    "version": 3
   },
   "file_extension": ".py",
   "mimetype": "text/x-python",
   "name": "python",
   "nbconvert_exporter": "python",
   "pygments_lexer": "ipython3",
   "version": "3.8.12"
  }
 },
 "nbformat": 4,
 "nbformat_minor": 5
}

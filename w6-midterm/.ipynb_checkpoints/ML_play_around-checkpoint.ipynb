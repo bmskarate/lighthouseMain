{
 "cells": [
  {
   "cell_type": "code",
   "execution_count": 1,
   "id": "ea3d153d",
   "metadata": {},
   "outputs": [],
   "source": [
    "import pandas as pd\n",
    "pd.set_option('display.max_columns', None)\n",
    "import numpy as np\n",
    "import random\n",
    "import matplotlib.pyplot as plt\n",
    "import seaborn as sns\n",
    "sns.set(font_scale=1.4)\n",
    "import copy\n",
    "import pickle"
   ]
  },
  {
   "cell_type": "code",
   "execution_count": 2,
   "id": "1bbc7611",
   "metadata": {},
   "outputs": [],
   "source": [
    "df = pd.read_csv(\"data/flights_cleaned_no_outlier_iqr_with_delays.csv\")"
   ]
  },
  {
   "cell_type": "code",
   "execution_count": 3,
   "id": "79d430dc",
   "metadata": {},
   "outputs": [
    {
     "data": {
      "text/html": [
       "<div>\n",
       "<style scoped>\n",
       "    .dataframe tbody tr th:only-of-type {\n",
       "        vertical-align: middle;\n",
       "    }\n",
       "\n",
       "    .dataframe tbody tr th {\n",
       "        vertical-align: top;\n",
       "    }\n",
       "\n",
       "    .dataframe thead th {\n",
       "        text-align: right;\n",
       "    }\n",
       "</style>\n",
       "<table border=\"1\" class=\"dataframe\">\n",
       "  <thead>\n",
       "    <tr style=\"text-align: right;\">\n",
       "      <th></th>\n",
       "      <th>Unnamed: 0</th>\n",
       "      <th>fl_date</th>\n",
       "      <th>mkt_unique_carrier</th>\n",
       "      <th>branded_code_share</th>\n",
       "      <th>mkt_carrier</th>\n",
       "      <th>mkt_carrier_fl_num</th>\n",
       "      <th>op_unique_carrier</th>\n",
       "      <th>op_carrier_fl_num</th>\n",
       "      <th>origin_airport_id</th>\n",
       "      <th>origin</th>\n",
       "      <th>origin_city_name</th>\n",
       "      <th>dest_airport_id</th>\n",
       "      <th>dest</th>\n",
       "      <th>dest_city_name</th>\n",
       "      <th>crs_dep_time</th>\n",
       "      <th>dep_time</th>\n",
       "      <th>dep_delay</th>\n",
       "      <th>taxi_out</th>\n",
       "      <th>wheels_off</th>\n",
       "      <th>wheels_on</th>\n",
       "      <th>taxi_in</th>\n",
       "      <th>crs_arr_time</th>\n",
       "      <th>arr_time</th>\n",
       "      <th>arr_delay</th>\n",
       "      <th>dup</th>\n",
       "      <th>crs_elapsed_time</th>\n",
       "      <th>actual_elapsed_time</th>\n",
       "      <th>air_time</th>\n",
       "      <th>flights</th>\n",
       "      <th>distance</th>\n",
       "      <th>carrier_delay</th>\n",
       "      <th>weather_delay</th>\n",
       "      <th>nas_delay</th>\n",
       "      <th>security_delay</th>\n",
       "      <th>late_aircraft_delay</th>\n",
       "      <th>weather_type</th>\n",
       "      <th>passengers</th>\n",
       "      <th>month</th>\n",
       "      <th>combined_delay</th>\n",
       "    </tr>\n",
       "  </thead>\n",
       "  <tbody>\n",
       "    <tr>\n",
       "      <th>0</th>\n",
       "      <td>0</td>\n",
       "      <td>2019-10-02</td>\n",
       "      <td>AA</td>\n",
       "      <td>AA_CODESHARE</td>\n",
       "      <td>AA</td>\n",
       "      <td>5330</td>\n",
       "      <td>OH</td>\n",
       "      <td>5330</td>\n",
       "      <td>10581</td>\n",
       "      <td>BGR</td>\n",
       "      <td>Bangor, ME</td>\n",
       "      <td>11278</td>\n",
       "      <td>DCA</td>\n",
       "      <td>Washington, DC</td>\n",
       "      <td>543</td>\n",
       "      <td>535.0</td>\n",
       "      <td>-8.0</td>\n",
       "      <td>11.0</td>\n",
       "      <td>546.0</td>\n",
       "      <td>726.0</td>\n",
       "      <td>5.0</td>\n",
       "      <td>749</td>\n",
       "      <td>731.0</td>\n",
       "      <td>-18.0</td>\n",
       "      <td>N</td>\n",
       "      <td>126.0</td>\n",
       "      <td>116.0</td>\n",
       "      <td>100.0</td>\n",
       "      <td>1.0</td>\n",
       "      <td>590.0</td>\n",
       "      <td>0.0</td>\n",
       "      <td>0.0</td>\n",
       "      <td>0.0</td>\n",
       "      <td>0.0</td>\n",
       "      <td>0.0</td>\n",
       "      <td>Rainy</td>\n",
       "      <td>85523.0</td>\n",
       "      <td>1788.0</td>\n",
       "      <td>0.0</td>\n",
       "    </tr>\n",
       "    <tr>\n",
       "      <th>1</th>\n",
       "      <td>3</td>\n",
       "      <td>2019-10-02</td>\n",
       "      <td>AA</td>\n",
       "      <td>AA_CODESHARE</td>\n",
       "      <td>AA</td>\n",
       "      <td>3073</td>\n",
       "      <td>OO</td>\n",
       "      <td>3073</td>\n",
       "      <td>10581</td>\n",
       "      <td>BGR</td>\n",
       "      <td>Bangor, ME</td>\n",
       "      <td>13930</td>\n",
       "      <td>ORD</td>\n",
       "      <td>Chicago, IL</td>\n",
       "      <td>1328</td>\n",
       "      <td>1324.0</td>\n",
       "      <td>-4.0</td>\n",
       "      <td>17.0</td>\n",
       "      <td>1341.0</td>\n",
       "      <td>1515.0</td>\n",
       "      <td>14.0</td>\n",
       "      <td>1530</td>\n",
       "      <td>1529.0</td>\n",
       "      <td>-1.0</td>\n",
       "      <td>N</td>\n",
       "      <td>182.0</td>\n",
       "      <td>185.0</td>\n",
       "      <td>154.0</td>\n",
       "      <td>1.0</td>\n",
       "      <td>978.0</td>\n",
       "      <td>0.0</td>\n",
       "      <td>0.0</td>\n",
       "      <td>0.0</td>\n",
       "      <td>0.0</td>\n",
       "      <td>0.0</td>\n",
       "      <td>Rainy</td>\n",
       "      <td>85523.0</td>\n",
       "      <td>1788.0</td>\n",
       "      <td>0.0</td>\n",
       "    </tr>\n",
       "    <tr>\n",
       "      <th>2</th>\n",
       "      <td>4</td>\n",
       "      <td>2019-10-02</td>\n",
       "      <td>AA</td>\n",
       "      <td>AA_CODESHARE</td>\n",
       "      <td>AA</td>\n",
       "      <td>4023</td>\n",
       "      <td>MQ</td>\n",
       "      <td>4023</td>\n",
       "      <td>10581</td>\n",
       "      <td>BGR</td>\n",
       "      <td>Bangor, ME</td>\n",
       "      <td>12953</td>\n",
       "      <td>LGA</td>\n",
       "      <td>New York, NY</td>\n",
       "      <td>1449</td>\n",
       "      <td>1449.0</td>\n",
       "      <td>0.0</td>\n",
       "      <td>13.0</td>\n",
       "      <td>1502.0</td>\n",
       "      <td>1612.0</td>\n",
       "      <td>2.0</td>\n",
       "      <td>1629</td>\n",
       "      <td>1614.0</td>\n",
       "      <td>-15.0</td>\n",
       "      <td>N</td>\n",
       "      <td>100.0</td>\n",
       "      <td>85.0</td>\n",
       "      <td>70.0</td>\n",
       "      <td>1.0</td>\n",
       "      <td>378.0</td>\n",
       "      <td>0.0</td>\n",
       "      <td>0.0</td>\n",
       "      <td>0.0</td>\n",
       "      <td>0.0</td>\n",
       "      <td>0.0</td>\n",
       "      <td>Rainy</td>\n",
       "      <td>85523.0</td>\n",
       "      <td>1788.0</td>\n",
       "      <td>0.0</td>\n",
       "    </tr>\n",
       "    <tr>\n",
       "      <th>3</th>\n",
       "      <td>5</td>\n",
       "      <td>2019-10-02</td>\n",
       "      <td>G4</td>\n",
       "      <td>G4</td>\n",
       "      <td>G4</td>\n",
       "      <td>2119</td>\n",
       "      <td>G4</td>\n",
       "      <td>2119</td>\n",
       "      <td>10581</td>\n",
       "      <td>BGR</td>\n",
       "      <td>Bangor, ME</td>\n",
       "      <td>14761</td>\n",
       "      <td>SFB</td>\n",
       "      <td>Sanford, FL</td>\n",
       "      <td>1301</td>\n",
       "      <td>1308.0</td>\n",
       "      <td>7.0</td>\n",
       "      <td>7.0</td>\n",
       "      <td>1315.0</td>\n",
       "      <td>1554.0</td>\n",
       "      <td>5.0</td>\n",
       "      <td>1623</td>\n",
       "      <td>1559.0</td>\n",
       "      <td>-24.0</td>\n",
       "      <td>N</td>\n",
       "      <td>202.0</td>\n",
       "      <td>171.0</td>\n",
       "      <td>159.0</td>\n",
       "      <td>1.0</td>\n",
       "      <td>1299.0</td>\n",
       "      <td>0.0</td>\n",
       "      <td>0.0</td>\n",
       "      <td>0.0</td>\n",
       "      <td>0.0</td>\n",
       "      <td>0.0</td>\n",
       "      <td>Rainy</td>\n",
       "      <td>85523.0</td>\n",
       "      <td>1788.0</td>\n",
       "      <td>0.0</td>\n",
       "    </tr>\n",
       "    <tr>\n",
       "      <th>4</th>\n",
       "      <td>7</td>\n",
       "      <td>2019-10-02</td>\n",
       "      <td>AA</td>\n",
       "      <td>AA_CODESHARE</td>\n",
       "      <td>AA</td>\n",
       "      <td>4730</td>\n",
       "      <td>PT</td>\n",
       "      <td>4730</td>\n",
       "      <td>10581</td>\n",
       "      <td>BGR</td>\n",
       "      <td>Bangor, ME</td>\n",
       "      <td>14100</td>\n",
       "      <td>PHL</td>\n",
       "      <td>Philadelphia, PA</td>\n",
       "      <td>1001</td>\n",
       "      <td>951.0</td>\n",
       "      <td>-10.0</td>\n",
       "      <td>9.0</td>\n",
       "      <td>1000.0</td>\n",
       "      <td>1127.0</td>\n",
       "      <td>7.0</td>\n",
       "      <td>1149</td>\n",
       "      <td>1134.0</td>\n",
       "      <td>-15.0</td>\n",
       "      <td>N</td>\n",
       "      <td>108.0</td>\n",
       "      <td>103.0</td>\n",
       "      <td>87.0</td>\n",
       "      <td>1.0</td>\n",
       "      <td>473.0</td>\n",
       "      <td>0.0</td>\n",
       "      <td>0.0</td>\n",
       "      <td>0.0</td>\n",
       "      <td>0.0</td>\n",
       "      <td>0.0</td>\n",
       "      <td>Rainy</td>\n",
       "      <td>85523.0</td>\n",
       "      <td>1788.0</td>\n",
       "      <td>0.0</td>\n",
       "    </tr>\n",
       "  </tbody>\n",
       "</table>\n",
       "</div>"
      ],
      "text/plain": [
       "   Unnamed: 0     fl_date mkt_unique_carrier branded_code_share mkt_carrier  \\\n",
       "0           0  2019-10-02                 AA       AA_CODESHARE          AA   \n",
       "1           3  2019-10-02                 AA       AA_CODESHARE          AA   \n",
       "2           4  2019-10-02                 AA       AA_CODESHARE          AA   \n",
       "3           5  2019-10-02                 G4                 G4          G4   \n",
       "4           7  2019-10-02                 AA       AA_CODESHARE          AA   \n",
       "\n",
       "   mkt_carrier_fl_num op_unique_carrier  op_carrier_fl_num  origin_airport_id  \\\n",
       "0                5330                OH               5330              10581   \n",
       "1                3073                OO               3073              10581   \n",
       "2                4023                MQ               4023              10581   \n",
       "3                2119                G4               2119              10581   \n",
       "4                4730                PT               4730              10581   \n",
       "\n",
       "  origin origin_city_name  dest_airport_id dest    dest_city_name  \\\n",
       "0    BGR       Bangor, ME            11278  DCA    Washington, DC   \n",
       "1    BGR       Bangor, ME            13930  ORD       Chicago, IL   \n",
       "2    BGR       Bangor, ME            12953  LGA      New York, NY   \n",
       "3    BGR       Bangor, ME            14761  SFB       Sanford, FL   \n",
       "4    BGR       Bangor, ME            14100  PHL  Philadelphia, PA   \n",
       "\n",
       "   crs_dep_time  dep_time  dep_delay  taxi_out  wheels_off  wheels_on  \\\n",
       "0           543     535.0       -8.0      11.0       546.0      726.0   \n",
       "1          1328    1324.0       -4.0      17.0      1341.0     1515.0   \n",
       "2          1449    1449.0        0.0      13.0      1502.0     1612.0   \n",
       "3          1301    1308.0        7.0       7.0      1315.0     1554.0   \n",
       "4          1001     951.0      -10.0       9.0      1000.0     1127.0   \n",
       "\n",
       "   taxi_in  crs_arr_time  arr_time  arr_delay dup  crs_elapsed_time  \\\n",
       "0      5.0           749     731.0      -18.0   N             126.0   \n",
       "1     14.0          1530    1529.0       -1.0   N             182.0   \n",
       "2      2.0          1629    1614.0      -15.0   N             100.0   \n",
       "3      5.0          1623    1559.0      -24.0   N             202.0   \n",
       "4      7.0          1149    1134.0      -15.0   N             108.0   \n",
       "\n",
       "   actual_elapsed_time  air_time  flights  distance  carrier_delay  \\\n",
       "0                116.0     100.0      1.0     590.0            0.0   \n",
       "1                185.0     154.0      1.0     978.0            0.0   \n",
       "2                 85.0      70.0      1.0     378.0            0.0   \n",
       "3                171.0     159.0      1.0    1299.0            0.0   \n",
       "4                103.0      87.0      1.0     473.0            0.0   \n",
       "\n",
       "   weather_delay  nas_delay  security_delay  late_aircraft_delay weather_type  \\\n",
       "0            0.0        0.0             0.0                  0.0        Rainy   \n",
       "1            0.0        0.0             0.0                  0.0        Rainy   \n",
       "2            0.0        0.0             0.0                  0.0        Rainy   \n",
       "3            0.0        0.0             0.0                  0.0        Rainy   \n",
       "4            0.0        0.0             0.0                  0.0        Rainy   \n",
       "\n",
       "   passengers   month  combined_delay  \n",
       "0     85523.0  1788.0             0.0  \n",
       "1     85523.0  1788.0             0.0  \n",
       "2     85523.0  1788.0             0.0  \n",
       "3     85523.0  1788.0             0.0  \n",
       "4     85523.0  1788.0             0.0  "
      ]
     },
     "execution_count": 3,
     "metadata": {},
     "output_type": "execute_result"
    }
   ],
   "source": [
    "df.head()"
   ]
  },
  {
   "cell_type": "markdown",
   "id": "a7711d78",
   "metadata": {},
   "source": [
    "# Prepare data for feature selection"
   ]
  },
  {
   "cell_type": "markdown",
   "id": "e4f9733e",
   "metadata": {},
   "source": [
    "# Feature selection"
   ]
  },
  {
   "cell_type": "code",
   "execution_count": 4,
   "id": "f0887ef2",
   "metadata": {},
   "outputs": [],
   "source": [
    "# https://scikit-learn.org/stable/modules/feature_selection.html"
   ]
  },
  {
   "cell_type": "code",
   "execution_count": 5,
   "id": "e4f93de5",
   "metadata": {},
   "outputs": [],
   "source": [
    "## After testing, found most suitable columns and will remap for final modelling"
   ]
  },
  {
   "cell_type": "code",
   "execution_count": 6,
   "id": "ff5faef3",
   "metadata": {},
   "outputs": [
    {
     "data": {
      "text/plain": [
       "'\\nAccording to plots:\\nWeather weight: Snow=10, Rain=5, Cloudy=2, Sunny=1\\nTime weight: 0-500 = 1, 501-1000 = 8, 1001-1500 = 10, 1501-2000 = 8, 2001 > = 5\\nMonth weight = Oct = 1, Nov, Jan = 5, Dec = 10\\n'"
      ]
     },
     "execution_count": 6,
     "metadata": {},
     "output_type": "execute_result"
    }
   ],
   "source": [
    "very_important_columns = [ # ran with what the test data can do\n",
    "    'fl_date', # get month and bin\n",
    "#     'op_unique_carrier', # most extensive name list\n",
    "#     'origin', # need 'origin' to merge weather but already merged! ;)\n",
    "#     'dest_airport_id', # not sure about this one\n",
    "    'crs_dep_time', # bin times\n",
    "#     'dep_time', # only using in TRAIN, to learn how other columns affect this\n",
    "#     'crs_arr_time',\n",
    "#     'arr_time', # only using in TRAIN, to learn how other columns affect this\n",
    "    'weather_type', # add weight values\n",
    "#     'passengers', # not sure about this one\n",
    "    'arr_delay', # so we can make a target column...\n",
    "    'distance',\n",
    "    'air_time',\n",
    "    \n",
    "] # important columns seem to be weather(4), time(bin), month(constant)\n",
    "'''\n",
    "According to plots:\n",
    "Weather weight: Snow=10, Rain=5, Cloudy=2, Sunny=1\n",
    "Time weight: 0-500 = 1, 501-1000 = 8, 1001-1500 = 10, 1501-2000 = 8, 2001 > = 5\n",
    "Month weight = Oct = 1, Nov, Jan = 5, Dec = 10\n",
    "'''"
   ]
  },
  {
   "cell_type": "code",
   "execution_count": 7,
   "id": "09c7f4a4",
   "metadata": {},
   "outputs": [],
   "source": [
    "df_ = df.filter(items=very_important_columns)"
   ]
  },
  {
   "cell_type": "code",
   "execution_count": 8,
   "id": "f9f9e212",
   "metadata": {},
   "outputs": [
    {
     "data": {
      "text/html": [
       "<div>\n",
       "<style scoped>\n",
       "    .dataframe tbody tr th:only-of-type {\n",
       "        vertical-align: middle;\n",
       "    }\n",
       "\n",
       "    .dataframe tbody tr th {\n",
       "        vertical-align: top;\n",
       "    }\n",
       "\n",
       "    .dataframe thead th {\n",
       "        text-align: right;\n",
       "    }\n",
       "</style>\n",
       "<table border=\"1\" class=\"dataframe\">\n",
       "  <thead>\n",
       "    <tr style=\"text-align: right;\">\n",
       "      <th></th>\n",
       "      <th>fl_date</th>\n",
       "      <th>crs_dep_time</th>\n",
       "      <th>weather_type</th>\n",
       "      <th>arr_delay</th>\n",
       "      <th>distance</th>\n",
       "      <th>air_time</th>\n",
       "    </tr>\n",
       "  </thead>\n",
       "  <tbody>\n",
       "    <tr>\n",
       "      <th>0</th>\n",
       "      <td>2019-10-02</td>\n",
       "      <td>543</td>\n",
       "      <td>Rainy</td>\n",
       "      <td>-18.0</td>\n",
       "      <td>590.0</td>\n",
       "      <td>100.0</td>\n",
       "    </tr>\n",
       "    <tr>\n",
       "      <th>1</th>\n",
       "      <td>2019-10-02</td>\n",
       "      <td>1328</td>\n",
       "      <td>Rainy</td>\n",
       "      <td>-1.0</td>\n",
       "      <td>978.0</td>\n",
       "      <td>154.0</td>\n",
       "    </tr>\n",
       "    <tr>\n",
       "      <th>2</th>\n",
       "      <td>2019-10-02</td>\n",
       "      <td>1449</td>\n",
       "      <td>Rainy</td>\n",
       "      <td>-15.0</td>\n",
       "      <td>378.0</td>\n",
       "      <td>70.0</td>\n",
       "    </tr>\n",
       "    <tr>\n",
       "      <th>3</th>\n",
       "      <td>2019-10-02</td>\n",
       "      <td>1301</td>\n",
       "      <td>Rainy</td>\n",
       "      <td>-24.0</td>\n",
       "      <td>1299.0</td>\n",
       "      <td>159.0</td>\n",
       "    </tr>\n",
       "    <tr>\n",
       "      <th>4</th>\n",
       "      <td>2019-10-02</td>\n",
       "      <td>1001</td>\n",
       "      <td>Rainy</td>\n",
       "      <td>-15.0</td>\n",
       "      <td>473.0</td>\n",
       "      <td>87.0</td>\n",
       "    </tr>\n",
       "  </tbody>\n",
       "</table>\n",
       "</div>"
      ],
      "text/plain": [
       "      fl_date  crs_dep_time weather_type  arr_delay  distance  air_time\n",
       "0  2019-10-02           543        Rainy      -18.0     590.0     100.0\n",
       "1  2019-10-02          1328        Rainy       -1.0     978.0     154.0\n",
       "2  2019-10-02          1449        Rainy      -15.0     378.0      70.0\n",
       "3  2019-10-02          1301        Rainy      -24.0    1299.0     159.0\n",
       "4  2019-10-02          1001        Rainy      -15.0     473.0      87.0"
      ]
     },
     "execution_count": 8,
     "metadata": {},
     "output_type": "execute_result"
    }
   ],
   "source": [
    "df_.head()"
   ]
  },
  {
   "cell_type": "code",
   "execution_count": 9,
   "id": "fbb0223a",
   "metadata": {},
   "outputs": [],
   "source": [
    "# make a copy of dataframe\n",
    "scaled_df = df_.copy()\n",
    "\n",
    "col_names = ['distance', 'air_time']\n",
    "features = scaled_df[col_names]\n",
    "\n",
    "# Use scaler of choice; here Standard scaler is used\n",
    "from sklearn.preprocessing import StandardScaler\n",
    "\n",
    "scaler = StandardScaler().fit(features.values)\n",
    "features = scaler.transform(features.values)\n",
    "\n",
    "scaled_df[col_names] = features"
   ]
  },
  {
   "cell_type": "code",
   "execution_count": 10,
   "id": "742def70",
   "metadata": {},
   "outputs": [],
   "source": [
    "df_ = scaled_df"
   ]
  },
  {
   "cell_type": "markdown",
   "id": "c67ee3b9",
   "metadata": {},
   "source": [
    "# remapping crs_dep_time"
   ]
  },
  {
   "cell_type": "code",
   "execution_count": 11,
   "id": "7a76883b",
   "metadata": {},
   "outputs": [],
   "source": [
    "# Time weight: 0-500 = 1, 501-1000 = 8, 1001-1500 = 10, 1501-2000 = 8, 2001 > = 5\n",
    "df_.crs_dep_time = df_.crs_dep_time // 100\n",
    "crs_dep_time_remap = {\n",
    "    0: 0.10,\n",
    "    1: 0.10, \n",
    "    2: 0.10,\n",
    "    3: 0.10, \n",
    "    4: 0.10,\n",
    "    5: 0.10, \n",
    "    6: 0.40,\n",
    "    7: 0.40, \n",
    "    8: 0.40,\n",
    "    9: 0.40, \n",
    "    10: 0.40,\n",
    "    11: 0.50, \n",
    "    12: 0.50,\n",
    "    13: 0.50, \n",
    "    14: 0.50,\n",
    "    15: 0.50, \n",
    "    16: 0.40,\n",
    "    17: 0.40,\n",
    "    18: 0.40,\n",
    "    19: 0.40, \n",
    "    20: 0.40,\n",
    "    21: 0.20, \n",
    "    22: 0.20, \n",
    "    23: 0.20\n",
    "}\n",
    "df_[\"dep_time_hour_weight\"] = df_.crs_dep_time.map(crs_dep_time_remap)"
   ]
  },
  {
   "cell_type": "code",
   "execution_count": 12,
   "id": "af5f3565",
   "metadata": {},
   "outputs": [
    {
     "data": {
      "text/html": [
       "<div>\n",
       "<style scoped>\n",
       "    .dataframe tbody tr th:only-of-type {\n",
       "        vertical-align: middle;\n",
       "    }\n",
       "\n",
       "    .dataframe tbody tr th {\n",
       "        vertical-align: top;\n",
       "    }\n",
       "\n",
       "    .dataframe thead th {\n",
       "        text-align: right;\n",
       "    }\n",
       "</style>\n",
       "<table border=\"1\" class=\"dataframe\">\n",
       "  <thead>\n",
       "    <tr style=\"text-align: right;\">\n",
       "      <th></th>\n",
       "      <th>fl_date</th>\n",
       "      <th>crs_dep_time</th>\n",
       "      <th>weather_type</th>\n",
       "      <th>arr_delay</th>\n",
       "      <th>distance</th>\n",
       "      <th>air_time</th>\n",
       "      <th>dep_time_hour_weight</th>\n",
       "    </tr>\n",
       "  </thead>\n",
       "  <tbody>\n",
       "    <tr>\n",
       "      <th>0</th>\n",
       "      <td>2019-10-02</td>\n",
       "      <td>5</td>\n",
       "      <td>Rainy</td>\n",
       "      <td>-18.0</td>\n",
       "      <td>-0.298440</td>\n",
       "      <td>-0.105994</td>\n",
       "      <td>0.1</td>\n",
       "    </tr>\n",
       "    <tr>\n",
       "      <th>1</th>\n",
       "      <td>2019-10-02</td>\n",
       "      <td>13</td>\n",
       "      <td>Rainy</td>\n",
       "      <td>-1.0</td>\n",
       "      <td>0.372536</td>\n",
       "      <td>0.676949</td>\n",
       "      <td>0.5</td>\n",
       "    </tr>\n",
       "    <tr>\n",
       "      <th>2</th>\n",
       "      <td>2019-10-02</td>\n",
       "      <td>14</td>\n",
       "      <td>Rainy</td>\n",
       "      <td>-15.0</td>\n",
       "      <td>-0.665055</td>\n",
       "      <td>-0.540963</td>\n",
       "      <td>0.5</td>\n",
       "    </tr>\n",
       "    <tr>\n",
       "      <th>3</th>\n",
       "      <td>2019-10-02</td>\n",
       "      <td>13</td>\n",
       "      <td>Rainy</td>\n",
       "      <td>-24.0</td>\n",
       "      <td>0.927647</td>\n",
       "      <td>0.749444</td>\n",
       "      <td>0.5</td>\n",
       "    </tr>\n",
       "    <tr>\n",
       "      <th>4</th>\n",
       "      <td>2019-10-02</td>\n",
       "      <td>10</td>\n",
       "      <td>Rainy</td>\n",
       "      <td>-15.0</td>\n",
       "      <td>-0.500770</td>\n",
       "      <td>-0.294480</td>\n",
       "      <td>0.4</td>\n",
       "    </tr>\n",
       "  </tbody>\n",
       "</table>\n",
       "</div>"
      ],
      "text/plain": [
       "      fl_date  crs_dep_time weather_type  arr_delay  distance  air_time  \\\n",
       "0  2019-10-02             5        Rainy      -18.0 -0.298440 -0.105994   \n",
       "1  2019-10-02            13        Rainy       -1.0  0.372536  0.676949   \n",
       "2  2019-10-02            14        Rainy      -15.0 -0.665055 -0.540963   \n",
       "3  2019-10-02            13        Rainy      -24.0  0.927647  0.749444   \n",
       "4  2019-10-02            10        Rainy      -15.0 -0.500770 -0.294480   \n",
       "\n",
       "   dep_time_hour_weight  \n",
       "0                   0.1  \n",
       "1                   0.5  \n",
       "2                   0.5  \n",
       "3                   0.5  \n",
       "4                   0.4  "
      ]
     },
     "execution_count": 12,
     "metadata": {},
     "output_type": "execute_result"
    }
   ],
   "source": [
    "df_.head()"
   ]
  },
  {
   "cell_type": "code",
   "execution_count": 13,
   "id": "3100e023",
   "metadata": {},
   "outputs": [
    {
     "data": {
      "text/plain": [
       "fl_date                 0\n",
       "crs_dep_time            0\n",
       "weather_type            0\n",
       "arr_delay               0\n",
       "distance                0\n",
       "air_time                0\n",
       "dep_time_hour_weight    0\n",
       "dtype: int64"
      ]
     },
     "execution_count": 13,
     "metadata": {},
     "output_type": "execute_result"
    }
   ],
   "source": [
    "df_.isna().sum()"
   ]
  },
  {
   "cell_type": "code",
   "execution_count": 14,
   "id": "6561e5a0",
   "metadata": {},
   "outputs": [],
   "source": [
    "df_ = df_.dropna()"
   ]
  },
  {
   "cell_type": "markdown",
   "id": "e1a3ba30",
   "metadata": {},
   "source": [
    "# remapping fl_date to month"
   ]
  },
  {
   "cell_type": "code",
   "execution_count": 15,
   "id": "98a211d9",
   "metadata": {},
   "outputs": [],
   "source": [
    "df_[\"month\"] = [ i [5:7] for i in df_.fl_date ]\n",
    "# change to datetime and get day of week"
   ]
  },
  {
   "cell_type": "code",
   "execution_count": 16,
   "id": "dbfaa14d",
   "metadata": {},
   "outputs": [
    {
     "data": {
      "text/html": [
       "<div>\n",
       "<style scoped>\n",
       "    .dataframe tbody tr th:only-of-type {\n",
       "        vertical-align: middle;\n",
       "    }\n",
       "\n",
       "    .dataframe tbody tr th {\n",
       "        vertical-align: top;\n",
       "    }\n",
       "\n",
       "    .dataframe thead th {\n",
       "        text-align: right;\n",
       "    }\n",
       "</style>\n",
       "<table border=\"1\" class=\"dataframe\">\n",
       "  <thead>\n",
       "    <tr style=\"text-align: right;\">\n",
       "      <th></th>\n",
       "      <th>fl_date</th>\n",
       "      <th>crs_dep_time</th>\n",
       "      <th>weather_type</th>\n",
       "      <th>arr_delay</th>\n",
       "      <th>distance</th>\n",
       "      <th>air_time</th>\n",
       "      <th>dep_time_hour_weight</th>\n",
       "      <th>month</th>\n",
       "    </tr>\n",
       "  </thead>\n",
       "  <tbody>\n",
       "    <tr>\n",
       "      <th>0</th>\n",
       "      <td>2019-10-02</td>\n",
       "      <td>5</td>\n",
       "      <td>Rainy</td>\n",
       "      <td>-18.0</td>\n",
       "      <td>-0.298440</td>\n",
       "      <td>-0.105994</td>\n",
       "      <td>0.1</td>\n",
       "      <td>10</td>\n",
       "    </tr>\n",
       "    <tr>\n",
       "      <th>1</th>\n",
       "      <td>2019-10-02</td>\n",
       "      <td>13</td>\n",
       "      <td>Rainy</td>\n",
       "      <td>-1.0</td>\n",
       "      <td>0.372536</td>\n",
       "      <td>0.676949</td>\n",
       "      <td>0.5</td>\n",
       "      <td>10</td>\n",
       "    </tr>\n",
       "    <tr>\n",
       "      <th>2</th>\n",
       "      <td>2019-10-02</td>\n",
       "      <td>14</td>\n",
       "      <td>Rainy</td>\n",
       "      <td>-15.0</td>\n",
       "      <td>-0.665055</td>\n",
       "      <td>-0.540963</td>\n",
       "      <td>0.5</td>\n",
       "      <td>10</td>\n",
       "    </tr>\n",
       "    <tr>\n",
       "      <th>3</th>\n",
       "      <td>2019-10-02</td>\n",
       "      <td>13</td>\n",
       "      <td>Rainy</td>\n",
       "      <td>-24.0</td>\n",
       "      <td>0.927647</td>\n",
       "      <td>0.749444</td>\n",
       "      <td>0.5</td>\n",
       "      <td>10</td>\n",
       "    </tr>\n",
       "    <tr>\n",
       "      <th>4</th>\n",
       "      <td>2019-10-02</td>\n",
       "      <td>10</td>\n",
       "      <td>Rainy</td>\n",
       "      <td>-15.0</td>\n",
       "      <td>-0.500770</td>\n",
       "      <td>-0.294480</td>\n",
       "      <td>0.4</td>\n",
       "      <td>10</td>\n",
       "    </tr>\n",
       "  </tbody>\n",
       "</table>\n",
       "</div>"
      ],
      "text/plain": [
       "      fl_date  crs_dep_time weather_type  arr_delay  distance  air_time  \\\n",
       "0  2019-10-02             5        Rainy      -18.0 -0.298440 -0.105994   \n",
       "1  2019-10-02            13        Rainy       -1.0  0.372536  0.676949   \n",
       "2  2019-10-02            14        Rainy      -15.0 -0.665055 -0.540963   \n",
       "3  2019-10-02            13        Rainy      -24.0  0.927647  0.749444   \n",
       "4  2019-10-02            10        Rainy      -15.0 -0.500770 -0.294480   \n",
       "\n",
       "   dep_time_hour_weight month  \n",
       "0                   0.1    10  \n",
       "1                   0.5    10  \n",
       "2                   0.5    10  \n",
       "3                   0.5    10  \n",
       "4                   0.4    10  "
      ]
     },
     "execution_count": 16,
     "metadata": {},
     "output_type": "execute_result"
    }
   ],
   "source": [
    "df_.head()"
   ]
  },
  {
   "cell_type": "code",
   "execution_count": 17,
   "id": "4ed7ead6",
   "metadata": {},
   "outputs": [],
   "source": [
    "# don't drop next time\n",
    "df_ = df_.drop(labels=\"fl_date\", axis=1)"
   ]
  },
  {
   "cell_type": "code",
   "execution_count": 18,
   "id": "6783ea91",
   "metadata": {},
   "outputs": [
    {
     "data": {
      "text/html": [
       "<div>\n",
       "<style scoped>\n",
       "    .dataframe tbody tr th:only-of-type {\n",
       "        vertical-align: middle;\n",
       "    }\n",
       "\n",
       "    .dataframe tbody tr th {\n",
       "        vertical-align: top;\n",
       "    }\n",
       "\n",
       "    .dataframe thead th {\n",
       "        text-align: right;\n",
       "    }\n",
       "</style>\n",
       "<table border=\"1\" class=\"dataframe\">\n",
       "  <thead>\n",
       "    <tr style=\"text-align: right;\">\n",
       "      <th></th>\n",
       "      <th>crs_dep_time</th>\n",
       "      <th>weather_type</th>\n",
       "      <th>arr_delay</th>\n",
       "      <th>distance</th>\n",
       "      <th>air_time</th>\n",
       "      <th>dep_time_hour_weight</th>\n",
       "      <th>month</th>\n",
       "    </tr>\n",
       "  </thead>\n",
       "  <tbody>\n",
       "    <tr>\n",
       "      <th>0</th>\n",
       "      <td>5</td>\n",
       "      <td>Rainy</td>\n",
       "      <td>-18.0</td>\n",
       "      <td>-0.298440</td>\n",
       "      <td>-0.105994</td>\n",
       "      <td>0.1</td>\n",
       "      <td>10</td>\n",
       "    </tr>\n",
       "    <tr>\n",
       "      <th>1</th>\n",
       "      <td>13</td>\n",
       "      <td>Rainy</td>\n",
       "      <td>-1.0</td>\n",
       "      <td>0.372536</td>\n",
       "      <td>0.676949</td>\n",
       "      <td>0.5</td>\n",
       "      <td>10</td>\n",
       "    </tr>\n",
       "    <tr>\n",
       "      <th>2</th>\n",
       "      <td>14</td>\n",
       "      <td>Rainy</td>\n",
       "      <td>-15.0</td>\n",
       "      <td>-0.665055</td>\n",
       "      <td>-0.540963</td>\n",
       "      <td>0.5</td>\n",
       "      <td>10</td>\n",
       "    </tr>\n",
       "    <tr>\n",
       "      <th>3</th>\n",
       "      <td>13</td>\n",
       "      <td>Rainy</td>\n",
       "      <td>-24.0</td>\n",
       "      <td>0.927647</td>\n",
       "      <td>0.749444</td>\n",
       "      <td>0.5</td>\n",
       "      <td>10</td>\n",
       "    </tr>\n",
       "    <tr>\n",
       "      <th>4</th>\n",
       "      <td>10</td>\n",
       "      <td>Rainy</td>\n",
       "      <td>-15.0</td>\n",
       "      <td>-0.500770</td>\n",
       "      <td>-0.294480</td>\n",
       "      <td>0.4</td>\n",
       "      <td>10</td>\n",
       "    </tr>\n",
       "    <tr>\n",
       "      <th>...</th>\n",
       "      <td>...</td>\n",
       "      <td>...</td>\n",
       "      <td>...</td>\n",
       "      <td>...</td>\n",
       "      <td>...</td>\n",
       "      <td>...</td>\n",
       "      <td>...</td>\n",
       "    </tr>\n",
       "    <tr>\n",
       "      <th>2073110</th>\n",
       "      <td>18</td>\n",
       "      <td>Sunny</td>\n",
       "      <td>-10.0</td>\n",
       "      <td>-1.076633</td>\n",
       "      <td>-1.091923</td>\n",
       "      <td>0.4</td>\n",
       "      <td>01</td>\n",
       "    </tr>\n",
       "    <tr>\n",
       "      <th>2073111</th>\n",
       "      <td>10</td>\n",
       "      <td>Sunny</td>\n",
       "      <td>-30.0</td>\n",
       "      <td>-1.076633</td>\n",
       "      <td>-1.106422</td>\n",
       "      <td>0.4</td>\n",
       "      <td>01</td>\n",
       "    </tr>\n",
       "    <tr>\n",
       "      <th>2073112</th>\n",
       "      <td>13</td>\n",
       "      <td>Rainy</td>\n",
       "      <td>-11.0</td>\n",
       "      <td>-1.005731</td>\n",
       "      <td>-0.917935</td>\n",
       "      <td>0.5</td>\n",
       "      <td>01</td>\n",
       "    </tr>\n",
       "    <tr>\n",
       "      <th>2073113</th>\n",
       "      <td>19</td>\n",
       "      <td>Rainy</td>\n",
       "      <td>-19.0</td>\n",
       "      <td>-1.005731</td>\n",
       "      <td>-0.903436</td>\n",
       "      <td>0.4</td>\n",
       "      <td>01</td>\n",
       "    </tr>\n",
       "    <tr>\n",
       "      <th>2073114</th>\n",
       "      <td>6</td>\n",
       "      <td>Rainy</td>\n",
       "      <td>-33.0</td>\n",
       "      <td>-1.005731</td>\n",
       "      <td>-1.033927</td>\n",
       "      <td>0.4</td>\n",
       "      <td>01</td>\n",
       "    </tr>\n",
       "  </tbody>\n",
       "</table>\n",
       "<p>2073115 rows × 7 columns</p>\n",
       "</div>"
      ],
      "text/plain": [
       "         crs_dep_time weather_type  arr_delay  distance  air_time  \\\n",
       "0                   5        Rainy      -18.0 -0.298440 -0.105994   \n",
       "1                  13        Rainy       -1.0  0.372536  0.676949   \n",
       "2                  14        Rainy      -15.0 -0.665055 -0.540963   \n",
       "3                  13        Rainy      -24.0  0.927647  0.749444   \n",
       "4                  10        Rainy      -15.0 -0.500770 -0.294480   \n",
       "...               ...          ...        ...       ...       ...   \n",
       "2073110            18        Sunny      -10.0 -1.076633 -1.091923   \n",
       "2073111            10        Sunny      -30.0 -1.076633 -1.106422   \n",
       "2073112            13        Rainy      -11.0 -1.005731 -0.917935   \n",
       "2073113            19        Rainy      -19.0 -1.005731 -0.903436   \n",
       "2073114             6        Rainy      -33.0 -1.005731 -1.033927   \n",
       "\n",
       "         dep_time_hour_weight month  \n",
       "0                         0.1    10  \n",
       "1                         0.5    10  \n",
       "2                         0.5    10  \n",
       "3                         0.5    10  \n",
       "4                         0.4    10  \n",
       "...                       ...   ...  \n",
       "2073110                   0.4    01  \n",
       "2073111                   0.4    01  \n",
       "2073112                   0.5    01  \n",
       "2073113                   0.4    01  \n",
       "2073114                   0.4    01  \n",
       "\n",
       "[2073115 rows x 7 columns]"
      ]
     },
     "execution_count": 18,
     "metadata": {},
     "output_type": "execute_result"
    }
   ],
   "source": [
    "df_"
   ]
  },
  {
   "cell_type": "code",
   "execution_count": 19,
   "id": "0aae9fa3",
   "metadata": {},
   "outputs": [
    {
     "data": {
      "text/plain": [
       "array(['10', '11', '12', '01'], dtype=object)"
      ]
     },
     "execution_count": 19,
     "metadata": {},
     "output_type": "execute_result"
    }
   ],
   "source": [
    "df_.month.unique()"
   ]
  },
  {
   "cell_type": "code",
   "execution_count": 20,
   "id": "f5f785d3",
   "metadata": {},
   "outputs": [],
   "source": [
    "# # Month weight = Oct = 1, Nov, Jan = 5, Dec = 10\n",
    "# month_remap = { \n",
    "#     '10': 0.10,\n",
    "#     '11': 0.50, \n",
    "#     '12': 1,\n",
    "#     '01': 0.50\n",
    "# }\n",
    "# df_[\"month_weight\"] = df_.month.map(month_remap)"
   ]
  },
  {
   "cell_type": "code",
   "execution_count": 21,
   "id": "7a00ceaa",
   "metadata": {},
   "outputs": [],
   "source": [
    "# df_.head() # see month weight"
   ]
  },
  {
   "cell_type": "markdown",
   "id": "f33753c7",
   "metadata": {},
   "source": [
    "# remapping weather"
   ]
  },
  {
   "cell_type": "code",
   "execution_count": 22,
   "id": "224e8182",
   "metadata": {},
   "outputs": [
    {
     "data": {
      "text/plain": [
       "array(['Rainy', 'Sunny', 'Snowy', 'Cloudy'], dtype=object)"
      ]
     },
     "execution_count": 22,
     "metadata": {},
     "output_type": "execute_result"
    }
   ],
   "source": [
    "df_.weather_type.unique()"
   ]
  },
  {
   "cell_type": "code",
   "execution_count": 23,
   "id": "d996ff8e",
   "metadata": {},
   "outputs": [],
   "source": [
    "# Weather weight: Snow=10, Rain=5, Cloudy=2, Sunny=1\n",
    "weather_remap = {\n",
    "    \"Rainy\": 0.40,\n",
    "    \"Sunny\": 0.05, \n",
    "    \"Snowy\": 0.80,\n",
    "    \"Cloudy\": 0.10\n",
    "}\n",
    "df_['weather_weight'] = df_.weather_type.map(weather_remap)"
   ]
  },
  {
   "cell_type": "code",
   "execution_count": 24,
   "id": "0a3b776e",
   "metadata": {},
   "outputs": [],
   "source": [
    "df_ = pd.get_dummies(df_, columns=['weather_type'], drop_first=True)\n",
    "# df_ = pd.get_dummies(df_, columns=['op_unique_carrier'], drop_first=True)\n",
    "df_ = pd.get_dummies(df_, columns=['month'], drop_first=True)"
   ]
  },
  {
   "cell_type": "code",
   "execution_count": 25,
   "id": "f0414dd3",
   "metadata": {},
   "outputs": [
    {
     "data": {
      "text/html": [
       "<div>\n",
       "<style scoped>\n",
       "    .dataframe tbody tr th:only-of-type {\n",
       "        vertical-align: middle;\n",
       "    }\n",
       "\n",
       "    .dataframe tbody tr th {\n",
       "        vertical-align: top;\n",
       "    }\n",
       "\n",
       "    .dataframe thead th {\n",
       "        text-align: right;\n",
       "    }\n",
       "</style>\n",
       "<table border=\"1\" class=\"dataframe\">\n",
       "  <thead>\n",
       "    <tr style=\"text-align: right;\">\n",
       "      <th></th>\n",
       "      <th>crs_dep_time</th>\n",
       "      <th>arr_delay</th>\n",
       "      <th>distance</th>\n",
       "      <th>air_time</th>\n",
       "      <th>dep_time_hour_weight</th>\n",
       "      <th>weather_weight</th>\n",
       "      <th>weather_type_Rainy</th>\n",
       "      <th>weather_type_Snowy</th>\n",
       "      <th>weather_type_Sunny</th>\n",
       "      <th>month_10</th>\n",
       "      <th>month_11</th>\n",
       "      <th>month_12</th>\n",
       "    </tr>\n",
       "  </thead>\n",
       "  <tbody>\n",
       "    <tr>\n",
       "      <th>0</th>\n",
       "      <td>5</td>\n",
       "      <td>-18.0</td>\n",
       "      <td>-0.298440</td>\n",
       "      <td>-0.105994</td>\n",
       "      <td>0.1</td>\n",
       "      <td>0.4</td>\n",
       "      <td>1</td>\n",
       "      <td>0</td>\n",
       "      <td>0</td>\n",
       "      <td>1</td>\n",
       "      <td>0</td>\n",
       "      <td>0</td>\n",
       "    </tr>\n",
       "    <tr>\n",
       "      <th>1</th>\n",
       "      <td>13</td>\n",
       "      <td>-1.0</td>\n",
       "      <td>0.372536</td>\n",
       "      <td>0.676949</td>\n",
       "      <td>0.5</td>\n",
       "      <td>0.4</td>\n",
       "      <td>1</td>\n",
       "      <td>0</td>\n",
       "      <td>0</td>\n",
       "      <td>1</td>\n",
       "      <td>0</td>\n",
       "      <td>0</td>\n",
       "    </tr>\n",
       "    <tr>\n",
       "      <th>2</th>\n",
       "      <td>14</td>\n",
       "      <td>-15.0</td>\n",
       "      <td>-0.665055</td>\n",
       "      <td>-0.540963</td>\n",
       "      <td>0.5</td>\n",
       "      <td>0.4</td>\n",
       "      <td>1</td>\n",
       "      <td>0</td>\n",
       "      <td>0</td>\n",
       "      <td>1</td>\n",
       "      <td>0</td>\n",
       "      <td>0</td>\n",
       "    </tr>\n",
       "    <tr>\n",
       "      <th>3</th>\n",
       "      <td>13</td>\n",
       "      <td>-24.0</td>\n",
       "      <td>0.927647</td>\n",
       "      <td>0.749444</td>\n",
       "      <td>0.5</td>\n",
       "      <td>0.4</td>\n",
       "      <td>1</td>\n",
       "      <td>0</td>\n",
       "      <td>0</td>\n",
       "      <td>1</td>\n",
       "      <td>0</td>\n",
       "      <td>0</td>\n",
       "    </tr>\n",
       "    <tr>\n",
       "      <th>4</th>\n",
       "      <td>10</td>\n",
       "      <td>-15.0</td>\n",
       "      <td>-0.500770</td>\n",
       "      <td>-0.294480</td>\n",
       "      <td>0.4</td>\n",
       "      <td>0.4</td>\n",
       "      <td>1</td>\n",
       "      <td>0</td>\n",
       "      <td>0</td>\n",
       "      <td>1</td>\n",
       "      <td>0</td>\n",
       "      <td>0</td>\n",
       "    </tr>\n",
       "  </tbody>\n",
       "</table>\n",
       "</div>"
      ],
      "text/plain": [
       "   crs_dep_time  arr_delay  distance  air_time  dep_time_hour_weight  \\\n",
       "0             5      -18.0 -0.298440 -0.105994                   0.1   \n",
       "1            13       -1.0  0.372536  0.676949                   0.5   \n",
       "2            14      -15.0 -0.665055 -0.540963                   0.5   \n",
       "3            13      -24.0  0.927647  0.749444                   0.5   \n",
       "4            10      -15.0 -0.500770 -0.294480                   0.4   \n",
       "\n",
       "   weather_weight  weather_type_Rainy  weather_type_Snowy  weather_type_Sunny  \\\n",
       "0             0.4                   1                   0                   0   \n",
       "1             0.4                   1                   0                   0   \n",
       "2             0.4                   1                   0                   0   \n",
       "3             0.4                   1                   0                   0   \n",
       "4             0.4                   1                   0                   0   \n",
       "\n",
       "   month_10  month_11  month_12  \n",
       "0         1         0         0  \n",
       "1         1         0         0  \n",
       "2         1         0         0  \n",
       "3         1         0         0  \n",
       "4         1         0         0  "
      ]
     },
     "execution_count": 25,
     "metadata": {},
     "output_type": "execute_result"
    }
   ],
   "source": [
    "df_.head()"
   ]
  },
  {
   "cell_type": "code",
   "execution_count": 26,
   "id": "a8b2cdc6",
   "metadata": {},
   "outputs": [],
   "source": [
    "# # Used dummies before, got 0.03 to 0.06 results. Trying feature selection/engineering next.\n",
    "# df_dummies = pd.get_dummies(df_, columns=['weather_type'])\n",
    "# df_dummies = pd.get_dummies(df_dummies, columns=['op_unique_carrier'])\n",
    "# df_dummies = pd.get_dummies(df_dummies, columns=['origin'])"
   ]
  },
  {
   "cell_type": "code",
   "execution_count": 27,
   "id": "6a22c608",
   "metadata": {},
   "outputs": [
    {
     "data": {
      "text/html": [
       "<div>\n",
       "<style scoped>\n",
       "    .dataframe tbody tr th:only-of-type {\n",
       "        vertical-align: middle;\n",
       "    }\n",
       "\n",
       "    .dataframe tbody tr th {\n",
       "        vertical-align: top;\n",
       "    }\n",
       "\n",
       "    .dataframe thead th {\n",
       "        text-align: right;\n",
       "    }\n",
       "</style>\n",
       "<table border=\"1\" class=\"dataframe\">\n",
       "  <thead>\n",
       "    <tr style=\"text-align: right;\">\n",
       "      <th></th>\n",
       "      <th>crs_dep_time</th>\n",
       "      <th>arr_delay</th>\n",
       "      <th>distance</th>\n",
       "      <th>air_time</th>\n",
       "      <th>dep_time_hour_weight</th>\n",
       "      <th>weather_weight</th>\n",
       "      <th>weather_type_Rainy</th>\n",
       "      <th>weather_type_Snowy</th>\n",
       "      <th>weather_type_Sunny</th>\n",
       "      <th>month_10</th>\n",
       "      <th>month_11</th>\n",
       "      <th>month_12</th>\n",
       "    </tr>\n",
       "  </thead>\n",
       "  <tbody>\n",
       "    <tr>\n",
       "      <th>0</th>\n",
       "      <td>5</td>\n",
       "      <td>-18.0</td>\n",
       "      <td>-0.298440</td>\n",
       "      <td>-0.105994</td>\n",
       "      <td>0.1</td>\n",
       "      <td>0.4</td>\n",
       "      <td>1</td>\n",
       "      <td>0</td>\n",
       "      <td>0</td>\n",
       "      <td>1</td>\n",
       "      <td>0</td>\n",
       "      <td>0</td>\n",
       "    </tr>\n",
       "    <tr>\n",
       "      <th>1</th>\n",
       "      <td>13</td>\n",
       "      <td>-1.0</td>\n",
       "      <td>0.372536</td>\n",
       "      <td>0.676949</td>\n",
       "      <td>0.5</td>\n",
       "      <td>0.4</td>\n",
       "      <td>1</td>\n",
       "      <td>0</td>\n",
       "      <td>0</td>\n",
       "      <td>1</td>\n",
       "      <td>0</td>\n",
       "      <td>0</td>\n",
       "    </tr>\n",
       "    <tr>\n",
       "      <th>2</th>\n",
       "      <td>14</td>\n",
       "      <td>-15.0</td>\n",
       "      <td>-0.665055</td>\n",
       "      <td>-0.540963</td>\n",
       "      <td>0.5</td>\n",
       "      <td>0.4</td>\n",
       "      <td>1</td>\n",
       "      <td>0</td>\n",
       "      <td>0</td>\n",
       "      <td>1</td>\n",
       "      <td>0</td>\n",
       "      <td>0</td>\n",
       "    </tr>\n",
       "    <tr>\n",
       "      <th>3</th>\n",
       "      <td>13</td>\n",
       "      <td>-24.0</td>\n",
       "      <td>0.927647</td>\n",
       "      <td>0.749444</td>\n",
       "      <td>0.5</td>\n",
       "      <td>0.4</td>\n",
       "      <td>1</td>\n",
       "      <td>0</td>\n",
       "      <td>0</td>\n",
       "      <td>1</td>\n",
       "      <td>0</td>\n",
       "      <td>0</td>\n",
       "    </tr>\n",
       "    <tr>\n",
       "      <th>4</th>\n",
       "      <td>10</td>\n",
       "      <td>-15.0</td>\n",
       "      <td>-0.500770</td>\n",
       "      <td>-0.294480</td>\n",
       "      <td>0.4</td>\n",
       "      <td>0.4</td>\n",
       "      <td>1</td>\n",
       "      <td>0</td>\n",
       "      <td>0</td>\n",
       "      <td>1</td>\n",
       "      <td>0</td>\n",
       "      <td>0</td>\n",
       "    </tr>\n",
       "  </tbody>\n",
       "</table>\n",
       "</div>"
      ],
      "text/plain": [
       "   crs_dep_time  arr_delay  distance  air_time  dep_time_hour_weight  \\\n",
       "0             5      -18.0 -0.298440 -0.105994                   0.1   \n",
       "1            13       -1.0  0.372536  0.676949                   0.5   \n",
       "2            14      -15.0 -0.665055 -0.540963                   0.5   \n",
       "3            13      -24.0  0.927647  0.749444                   0.5   \n",
       "4            10      -15.0 -0.500770 -0.294480                   0.4   \n",
       "\n",
       "   weather_weight  weather_type_Rainy  weather_type_Snowy  weather_type_Sunny  \\\n",
       "0             0.4                   1                   0                   0   \n",
       "1             0.4                   1                   0                   0   \n",
       "2             0.4                   1                   0                   0   \n",
       "3             0.4                   1                   0                   0   \n",
       "4             0.4                   1                   0                   0   \n",
       "\n",
       "   month_10  month_11  month_12  \n",
       "0         1         0         0  \n",
       "1         1         0         0  \n",
       "2         1         0         0  \n",
       "3         1         0         0  \n",
       "4         1         0         0  "
      ]
     },
     "execution_count": 27,
     "metadata": {},
     "output_type": "execute_result"
    }
   ],
   "source": [
    "df_.head()"
   ]
  },
  {
   "cell_type": "code",
   "execution_count": 28,
   "id": "57866761",
   "metadata": {},
   "outputs": [
    {
     "data": {
      "image/png": "[encoded data removed]",
      "text/plain": [
       "<Figure size 432x288 with 1 Axes>"
      ]
     },
     "metadata": {},
     "output_type": "display_data"
    }
   ],
   "source": [
    "sns.histplot(df_.arr_delay);"
   ]
  },
  {
   "cell_type": "markdown",
   "id": "c04a0b4d",
   "metadata": {},
   "source": [
    "# remove outliers"
   ]
  },
  {
   "cell_type": "code",
   "execution_count": 29,
   "id": "c38e2848",
   "metadata": {},
   "outputs": [
    {
     "data": {
      "text/plain": [
       "(2073115, 12)"
      ]
     },
     "execution_count": 29,
     "metadata": {},
     "output_type": "execute_result"
    }
   ],
   "source": [
    "df_.shape"
   ]
  },
  {
   "cell_type": "code",
   "execution_count": 30,
   "id": "ae7c86dd",
   "metadata": {},
   "outputs": [],
   "source": [
    "# Get rid of 0 y's\n",
    "# df_ = df_[df_['arr_delay'] != 0] "
   ]
  },
  {
   "cell_type": "code",
   "execution_count": 31,
   "id": "468b33d5",
   "metadata": {},
   "outputs": [],
   "source": [
    "df_checkpoint = df_.copy()\n",
    "# df_checkpoint = df_checkpoint.sample(frac=0.5)"
   ]
  },
  {
   "cell_type": "code",
   "execution_count": 32,
   "id": "42b20a9a",
   "metadata": {
    "scrolled": true
   },
   "outputs": [
    {
     "data": {
      "text/plain": [
       "Index(['crs_dep_time', 'arr_delay', 'distance', 'air_time',\n",
       "       'dep_time_hour_weight', 'weather_weight', 'weather_type_Rainy',\n",
       "       'weather_type_Snowy', 'weather_type_Sunny', 'month_10', 'month_11',\n",
       "       'month_12'],\n",
       "      dtype='object')"
      ]
     },
     "execution_count": 32,
     "metadata": {},
     "output_type": "execute_result"
    }
   ],
   "source": [
    "df_checkpoint.columns"
   ]
  },
  {
   "cell_type": "code",
   "execution_count": 33,
   "id": "315c1570",
   "metadata": {},
   "outputs": [
    {
     "data": {
      "text/html": [
       "<div>\n",
       "<style scoped>\n",
       "    .dataframe tbody tr th:only-of-type {\n",
       "        vertical-align: middle;\n",
       "    }\n",
       "\n",
       "    .dataframe tbody tr th {\n",
       "        vertical-align: top;\n",
       "    }\n",
       "\n",
       "    .dataframe thead th {\n",
       "        text-align: right;\n",
       "    }\n",
       "</style>\n",
       "<table border=\"1\" class=\"dataframe\">\n",
       "  <thead>\n",
       "    <tr style=\"text-align: right;\">\n",
       "      <th></th>\n",
       "      <th>crs_dep_time</th>\n",
       "      <th>arr_delay</th>\n",
       "      <th>distance</th>\n",
       "      <th>air_time</th>\n",
       "      <th>dep_time_hour_weight</th>\n",
       "      <th>weather_weight</th>\n",
       "      <th>weather_type_Rainy</th>\n",
       "      <th>weather_type_Snowy</th>\n",
       "      <th>weather_type_Sunny</th>\n",
       "      <th>month_10</th>\n",
       "      <th>month_11</th>\n",
       "      <th>month_12</th>\n",
       "    </tr>\n",
       "  </thead>\n",
       "  <tbody>\n",
       "    <tr>\n",
       "      <th>0</th>\n",
       "      <td>5</td>\n",
       "      <td>-18.0</td>\n",
       "      <td>-0.298440</td>\n",
       "      <td>-0.105994</td>\n",
       "      <td>0.1</td>\n",
       "      <td>0.4</td>\n",
       "      <td>1</td>\n",
       "      <td>0</td>\n",
       "      <td>0</td>\n",
       "      <td>1</td>\n",
       "      <td>0</td>\n",
       "      <td>0</td>\n",
       "    </tr>\n",
       "    <tr>\n",
       "      <th>1</th>\n",
       "      <td>13</td>\n",
       "      <td>-1.0</td>\n",
       "      <td>0.372536</td>\n",
       "      <td>0.676949</td>\n",
       "      <td>0.5</td>\n",
       "      <td>0.4</td>\n",
       "      <td>1</td>\n",
       "      <td>0</td>\n",
       "      <td>0</td>\n",
       "      <td>1</td>\n",
       "      <td>0</td>\n",
       "      <td>0</td>\n",
       "    </tr>\n",
       "    <tr>\n",
       "      <th>2</th>\n",
       "      <td>14</td>\n",
       "      <td>-15.0</td>\n",
       "      <td>-0.665055</td>\n",
       "      <td>-0.540963</td>\n",
       "      <td>0.5</td>\n",
       "      <td>0.4</td>\n",
       "      <td>1</td>\n",
       "      <td>0</td>\n",
       "      <td>0</td>\n",
       "      <td>1</td>\n",
       "      <td>0</td>\n",
       "      <td>0</td>\n",
       "    </tr>\n",
       "    <tr>\n",
       "      <th>3</th>\n",
       "      <td>13</td>\n",
       "      <td>-24.0</td>\n",
       "      <td>0.927647</td>\n",
       "      <td>0.749444</td>\n",
       "      <td>0.5</td>\n",
       "      <td>0.4</td>\n",
       "      <td>1</td>\n",
       "      <td>0</td>\n",
       "      <td>0</td>\n",
       "      <td>1</td>\n",
       "      <td>0</td>\n",
       "      <td>0</td>\n",
       "    </tr>\n",
       "    <tr>\n",
       "      <th>4</th>\n",
       "      <td>10</td>\n",
       "      <td>-15.0</td>\n",
       "      <td>-0.500770</td>\n",
       "      <td>-0.294480</td>\n",
       "      <td>0.4</td>\n",
       "      <td>0.4</td>\n",
       "      <td>1</td>\n",
       "      <td>0</td>\n",
       "      <td>0</td>\n",
       "      <td>1</td>\n",
       "      <td>0</td>\n",
       "      <td>0</td>\n",
       "    </tr>\n",
       "  </tbody>\n",
       "</table>\n",
       "</div>"
      ],
      "text/plain": [
       "   crs_dep_time  arr_delay  distance  air_time  dep_time_hour_weight  \\\n",
       "0             5      -18.0 -0.298440 -0.105994                   0.1   \n",
       "1            13       -1.0  0.372536  0.676949                   0.5   \n",
       "2            14      -15.0 -0.665055 -0.540963                   0.5   \n",
       "3            13      -24.0  0.927647  0.749444                   0.5   \n",
       "4            10      -15.0 -0.500770 -0.294480                   0.4   \n",
       "\n",
       "   weather_weight  weather_type_Rainy  weather_type_Snowy  weather_type_Sunny  \\\n",
       "0             0.4                   1                   0                   0   \n",
       "1             0.4                   1                   0                   0   \n",
       "2             0.4                   1                   0                   0   \n",
       "3             0.4                   1                   0                   0   \n",
       "4             0.4                   1                   0                   0   \n",
       "\n",
       "   month_10  month_11  month_12  \n",
       "0         1         0         0  \n",
       "1         1         0         0  \n",
       "2         1         0         0  \n",
       "3         1         0         0  \n",
       "4         1         0         0  "
      ]
     },
     "execution_count": 33,
     "metadata": {},
     "output_type": "execute_result"
    }
   ],
   "source": [
    "df_checkpoint.head()"
   ]
  },
  {
   "cell_type": "code",
   "execution_count": 34,
   "id": "edadbbfc",
   "metadata": {},
   "outputs": [
    {
     "data": {
      "text/plain": [
       "(2073115, 12)"
      ]
     },
     "execution_count": 34,
     "metadata": {},
     "output_type": "execute_result"
    }
   ],
   "source": [
    "df_checkpoint.shape"
   ]
  },
  {
   "cell_type": "code",
   "execution_count": 35,
   "id": "1fef56f8",
   "metadata": {},
   "outputs": [
    {
     "data": {
      "text/plain": [
       "count    2.073115e+06\n",
       "mean    -9.461144e+00\n",
       "std      1.260616e+01\n",
       "min     -4.900000e+01\n",
       "25%     -1.800000e+01\n",
       "50%     -1.000000e+01\n",
       "75%     -2.000000e+00\n",
       "max      3.900000e+01\n",
       "Name: arr_delay, dtype: float64"
      ]
     },
     "execution_count": 35,
     "metadata": {},
     "output_type": "execute_result"
    }
   ],
   "source": [
    "df_checkpoint.arr_delay.describe()"
   ]
  },
  {
   "cell_type": "code",
   "execution_count": 36,
   "id": "8421ec58",
   "metadata": {},
   "outputs": [],
   "source": [
    "Q1_dep = df_checkpoint.arr_delay.quantile(0.20)\n",
    "Q3_dep = df_checkpoint.arr_delay.quantile(0.80)\n",
    "IQR_dep = Q3_dep - Q1_dep\n",
    "df_checkpoint = df_checkpoint.loc[(df_checkpoint['arr_delay'] >= (Q1_dep - 1.5*IQR_dep))\\\n",
    "                                     & (df_checkpoint['arr_delay'] <= Q3_dep + 1.5*IQR_dep)]"
   ]
  },
  {
   "cell_type": "code",
   "execution_count": 37,
   "id": "9cdf4ea8",
   "metadata": {},
   "outputs": [
    {
     "data": {
      "text/plain": [
       "count    2.056026e+06\n",
       "mean    -9.769760e+00\n",
       "std      1.204783e+01\n",
       "min     -4.700000e+01\n",
       "25%     -1.800000e+01\n",
       "50%     -1.000000e+01\n",
       "75%     -2.000000e+00\n",
       "max      2.800000e+01\n",
       "Name: arr_delay, dtype: float64"
      ]
     },
     "execution_count": 37,
     "metadata": {},
     "output_type": "execute_result"
    }
   ],
   "source": [
    "df_checkpoint.arr_delay.describe()"
   ]
  },
  {
   "cell_type": "code",
   "execution_count": 38,
   "id": "f271f61e",
   "metadata": {},
   "outputs": [
    {
     "data": {
      "text/plain": [
       "(2056026, 12)"
      ]
     },
     "execution_count": 38,
     "metadata": {},
     "output_type": "execute_result"
    }
   ],
   "source": [
    "df_checkpoint.shape"
   ]
  },
  {
   "cell_type": "code",
   "execution_count": 39,
   "id": "c91f04c2",
   "metadata": {},
   "outputs": [],
   "source": [
    "X = df_checkpoint[df_checkpoint.columns.difference(['arr_delay'])]\n",
    "y = df_checkpoint[\"arr_delay\"]"
   ]
  },
  {
   "cell_type": "code",
   "execution_count": 40,
   "id": "9f37bd1b",
   "metadata": {},
   "outputs": [
    {
     "name": "stdout",
     "output_type": "stream",
     "text": [
      "(2056026, 11)\n",
      "(2056026,)\n"
     ]
    }
   ],
   "source": [
    "print(X.shape)\n",
    "print(y.shape)"
   ]
  },
  {
   "cell_type": "code",
   "execution_count": 41,
   "id": "d08d5e21",
   "metadata": {},
   "outputs": [],
   "source": [
    "y = pd.DataFrame(y)"
   ]
  },
  {
   "cell_type": "code",
   "execution_count": 42,
   "id": "d1e1338c",
   "metadata": {},
   "outputs": [],
   "source": [
    "# make all y neg values, 0\n",
    "# y[y < 0] = 0"
   ]
  },
  {
   "cell_type": "code",
   "execution_count": 43,
   "id": "2342a0b7",
   "metadata": {},
   "outputs": [
    {
     "data": {
      "text/plain": [
       "(2056026, 1)"
      ]
     },
     "execution_count": 43,
     "metadata": {},
     "output_type": "execute_result"
    }
   ],
   "source": [
    "y.shape"
   ]
  },
  {
   "cell_type": "code",
   "execution_count": 44,
   "id": "c3ad4b2c",
   "metadata": {},
   "outputs": [
    {
     "data": {
      "image/png": "[encoded data removed]",
      "text/plain": [
       "<Figure size 432x288 with 1 Axes>"
      ]
     },
     "metadata": {},
     "output_type": "display_data"
    }
   ],
   "source": [
    "sns.histplot(y);"
   ]
  },
  {
   "cell_type": "code",
   "execution_count": 45,
   "id": "ec71d6ef",
   "metadata": {},
   "outputs": [
    {
     "name": "stdout",
     "output_type": "stream",
     "text": [
      "0.9887945652008057\n",
      "0.0\n"
     ]
    },
    {
     "name": "stderr",
     "output_type": "stream",
     "text": [
      "/Users/louisrossi/opt/anaconda3/envs/ml/lib/python3.8/site-packages/scipy/stats/morestats.py:1760: UserWarning: p-value may not be accurate for N > 5000.\n",
      "  warnings.warn(\"p-value may not be accurate for N > 5000.\")\n"
     ]
    }
   ],
   "source": [
    "from scipy import stats\n",
    "shapiro_test = stats.shapiro(y)\n",
    "print(shapiro_test.statistic)\n",
    "print(shapiro_test.pvalue)"
   ]
  },
  {
   "cell_type": "code",
   "execution_count": 46,
   "id": "34d1e7a3",
   "metadata": {},
   "outputs": [
    {
     "name": "stdout",
     "output_type": "stream",
     "text": [
      "mean=-9.770 stdv=12.048\n"
     ]
    }
   ],
   "source": [
    "from numpy import mean\n",
    "from numpy import std\n",
    "\n",
    "print('mean=%.3f stdv=%.3f' % (mean(y), std(y)))"
   ]
  },
  {
   "cell_type": "code",
   "execution_count": 47,
   "id": "59aa1dbd",
   "metadata": {},
   "outputs": [
    {
     "name": "stderr",
     "output_type": "stream",
     "text": [
      "/Users/louisrossi/opt/anaconda3/envs/ml/lib/python3.8/site-packages/statsmodels/graphics/gofplots.py:993: UserWarning: marker is redundantly defined by the 'marker' keyword argument and the fmt string \"bo\" (-> marker='o'). The keyword argument will take precedence.\n",
      "  ax.plot(x, y, fmt, **plot_style)\n"
     ]
    },
    {
     "data": {
      "image/png": "[encoded data removed]",
      "text/plain": [
       "<Figure size 432x288 with 1 Axes>"
      ]
     },
     "metadata": {},
     "output_type": "display_data"
    }
   ],
   "source": [
    "from statsmodels.graphics.gofplots import qqplot\n",
    "from matplotlib import pyplot\n",
    "# q-q plot\n",
    "qqplot(y, line='s')\n",
    "plt.show()"
   ]
  },
  {
   "cell_type": "code",
   "execution_count": 48,
   "id": "d855d23f",
   "metadata": {},
   "outputs": [
    {
     "name": "stdout",
     "output_type": "stream",
     "text": [
      "Statistics=0.989, p=0.000\n",
      "Sample does not look Gaussian (reject H0)\n"
     ]
    },
    {
     "name": "stderr",
     "output_type": "stream",
     "text": [
      "/Users/louisrossi/opt/anaconda3/envs/ml/lib/python3.8/site-packages/scipy/stats/morestats.py:1760: UserWarning: p-value may not be accurate for N > 5000.\n",
      "  warnings.warn(\"p-value may not be accurate for N > 5000.\")\n"
     ]
    }
   ],
   "source": [
    "from scipy.stats import shapiro\n",
    "\n",
    "stat, p = shapiro(y)\n",
    "print('Statistics=%.3f, p=%.3f' % (stat, p))\n",
    "# interpret\n",
    "alpha = 0.05\n",
    "if p > alpha:\n",
    "\tprint('Sample looks Gaussian (fail to reject H0)')\n",
    "else:\n",
    "\tprint('Sample does not look Gaussian (reject H0)')"
   ]
  },
  {
   "cell_type": "markdown",
   "id": "792eab36",
   "metadata": {},
   "source": [
    "# Smote?"
   ]
  },
  {
   "cell_type": "code",
   "execution_count": 49,
   "id": "3a80ffaf",
   "metadata": {},
   "outputs": [],
   "source": [
    "# # check version number\n",
    "# import imblearn\n",
    "# # transform the dataset\n",
    "# from collections import Counter\n",
    "# from sklearn.datasets import make_classification\n",
    "# from imblearn.over_sampling import SMOTE \n",
    "# oversample = SMOTE()\n",
    "# X, y = oversample.fit_resample(X, y)"
   ]
  },
  {
   "cell_type": "code",
   "execution_count": 50,
   "id": "73f73afb",
   "metadata": {},
   "outputs": [],
   "source": [
    "# print(X.shape)\n",
    "# print(y.shape)"
   ]
  },
  {
   "cell_type": "code",
   "execution_count": 51,
   "id": "e4546714",
   "metadata": {},
   "outputs": [],
   "source": [
    "# sns.histplot(y);"
   ]
  },
  {
   "cell_type": "code",
   "execution_count": 52,
   "id": "744eca4a",
   "metadata": {},
   "outputs": [],
   "source": [
    "# y.arr_delay.mean()"
   ]
  },
  {
   "cell_type": "code",
   "execution_count": 53,
   "id": "3d8e0562",
   "metadata": {},
   "outputs": [],
   "source": [
    "# # remerge y to X... sample frac... resplit.\n",
    "# X[\"arr_delay\"] = y.arr_delay\n",
    "# X_checkpoint = X.copy()\n",
    "# X_checkpoint = X_checkpoint.sample(frac=0.5)"
   ]
  },
  {
   "cell_type": "code",
   "execution_count": 54,
   "id": "6431413c",
   "metadata": {},
   "outputs": [],
   "source": [
    "# X = X_checkpoint[X_checkpoint.columns.difference(['arr_delay'])]\n",
    "# y = X_checkpoint[\"arr_delay\"]"
   ]
  },
  {
   "cell_type": "code",
   "execution_count": 55,
   "id": "a907b4fb",
   "metadata": {},
   "outputs": [],
   "source": [
    "# y = pd.DataFrame(y)"
   ]
  },
  {
   "cell_type": "code",
   "execution_count": 56,
   "id": "a7e7e852",
   "metadata": {},
   "outputs": [],
   "source": [
    "# print(X.shape)\n",
    "# print(y.shape)"
   ]
  },
  {
   "cell_type": "markdown",
   "id": "a927cb93",
   "metadata": {},
   "source": [
    "# Smote end"
   ]
  },
  {
   "cell_type": "markdown",
   "id": "200e9732",
   "metadata": {},
   "source": [
    "## Main Task: Regression Problem\n",
    "The target variable is ARR_DELAY. We need to be careful which columns to use and which don't. For example, DEP_DELAY is going to be the perfect predictor, but we can't use it because in real-life scenario, we want to predict the delay before the flight takes of --> We can use average delay from earlier days but not the one from the actual flight we predict.\n",
    "For example, variables CARRIER_DELAY, WEATHER_DELAY, NAS_DELAY, SECURITY_DELAY, LATE_AIRCRAFT_DELAY shouldn't be used directly as predictors as well. However, we can create various transformations from earlier values.\n",
    "We will be evaluating your models by predicting the ARR_DELAY for all flights 1 week in advance."
   ]
  },
  {
   "cell_type": "markdown",
   "id": "a98ac0cd",
   "metadata": {},
   "source": [
    "#### linear / logistic / multinomial logistic regression\n",
    "#### Naive Bayes\n",
    "#### Random Forest\n",
    "#### SVM\n",
    "#### XGBoost\n",
    "#### The ensemble of your own choice"
   ]
  },
  {
   "cell_type": "code",
   "execution_count": 57,
   "id": "e466f7d4",
   "metadata": {},
   "outputs": [],
   "source": [
    "# X = X.replace([np.inf, -np.inf], np.nan)\n",
    "# X = X.dropna()"
   ]
  },
  {
   "cell_type": "code",
   "execution_count": 58,
   "id": "bcfa4e8c",
   "metadata": {},
   "outputs": [],
   "source": [
    "from sklearn.model_selection import train_test_split\n",
    "\n",
    "X_train,X_test,y_train,y_test = train_test_split(X,y,train_size=0.75,random_state=42)"
   ]
  },
  {
   "cell_type": "code",
   "execution_count": 59,
   "id": "513f736c",
   "metadata": {},
   "outputs": [],
   "source": [
    "from sklearn.linear_model import Lasso, Ridge, SGDRegressor, ElasticNet\n",
    "from sklearn.tree import DecisionTreeRegressor\n",
    "from sklearn.svm import SVR\n",
    "from sklearn.neighbors import KNeighborsRegressor\n",
    "from sklearn.model_selection import RepeatedKFold\n",
    "from sklearn.model_selection import cross_val_score\n",
    "from numpy import absolute\n",
    "from numpy import mean\n",
    "from numpy import std"
   ]
  },
  {
   "cell_type": "markdown",
   "id": "34e84081",
   "metadata": {},
   "source": [
    "## feature selection test"
   ]
  },
  {
   "cell_type": "code",
   "execution_count": 60,
   "id": "5d3a8445",
   "metadata": {},
   "outputs": [
    {
     "name": "stderr",
     "output_type": "stream",
     "text": [
      "/Users/louisrossi/opt/anaconda3/envs/ml/lib/python3.8/site-packages/sklearn/utils/validation.py:63: DataConversionWarning: A column-vector y was passed when a 1d array was expected. Please change the shape of y to (n_samples, ), for example using ravel().\n",
      "  return f(*args, **kwargs)\n"
     ]
    },
    {
     "name": "stdout",
     "output_type": "stream",
     "text": [
      "(2056026, 4)\n"
     ]
    }
   ],
   "source": [
    "# ANOVA feature selection for numeric input and categorical output\n",
    "from sklearn.datasets import make_classification\n",
    "from sklearn.feature_selection import SelectKBest\n",
    "from sklearn.feature_selection import f_classif\n",
    "\n",
    "# define feature selection\n",
    "fs = SelectKBest(score_func=f_classif, k=4)\n",
    "# apply feature selection\n",
    "X_selected = fs.fit_transform(X, y)\n",
    "print(X_selected.shape)"
   ]
  },
  {
   "cell_type": "markdown",
   "id": "ca146215",
   "metadata": {},
   "source": [
    "# Linear Regression with MinMax Pipeline"
   ]
  },
  {
   "cell_type": "code",
   "execution_count": 61,
   "id": "e157543f",
   "metadata": {},
   "outputs": [
    {
     "name": "stdout",
     "output_type": "stream",
     "text": [
      "0.07024240934557124\n"
     ]
    }
   ],
   "source": [
    "from sklearn.preprocessing import MinMaxScaler\n",
    "from sklearn.linear_model import LinearRegression\n",
    "from sklearn.pipeline import Pipeline\n",
    "# prepare the model with input scaling\n",
    "pipeline = Pipeline(steps=[('normalize', MinMaxScaler()), ('model', LinearRegression())])\n",
    "# fit pipeline\n",
    "pipeline.fit(X_train, y_train)\n",
    "# make predictions\n",
    "y_pred = pipeline.predict(X_test)\n",
    "from sklearn import metrics\n",
    "print(pipeline.score(X_train, y_train))"
   ]
  },
  {
   "cell_type": "markdown",
   "id": "9f5dc116",
   "metadata": {},
   "source": [
    "## Naive Bayes Model"
   ]
  },
  {
   "cell_type": "code",
   "execution_count": 62,
   "id": "55eada95",
   "metadata": {},
   "outputs": [
    {
     "name": "stderr",
     "output_type": "stream",
     "text": [
      "/Users/louisrossi/opt/anaconda3/envs/ml/lib/python3.8/site-packages/sklearn/utils/validation.py:63: DataConversionWarning: A column-vector y was passed when a 1d array was expected. Please change the shape of y to (n_samples, ), for example using ravel().\n",
      "  return f(*args, **kwargs)\n"
     ]
    },
    {
     "name": "stdout",
     "output_type": "stream",
     "text": [
      "0.032832237693260984\n"
     ]
    }
   ],
   "source": [
    "# 0.0361 score\n",
    "from sklearn import naive_bayes\n",
    "gnb = naive_bayes.GaussianNB()\n",
    "gnb.fit(X_train, y_train)\n",
    "y_pred = gnb.predict(X_test)\n",
    "from sklearn import metrics\n",
    "print(metrics.accuracy_score(y_test, y_pred))\n",
    "\n",
    "# save the model to disk\n",
    "filename = 'finalized_Naive_Bayes_imb_all.sav'\n",
    "pickle.dump(gnb, open(filename, 'wb'))"
   ]
  },
  {
   "cell_type": "markdown",
   "id": "37560a22",
   "metadata": {},
   "source": [
    "## Lasso (not good)"
   ]
  },
  {
   "cell_type": "code",
   "execution_count": 63,
   "id": "300ae507",
   "metadata": {},
   "outputs": [],
   "source": [
    "# # 0.060 score unscaled: scaled data 0.041: after trimming huge 0.034\n",
    "# model = Lasso(alpha=0.5)\n",
    "# cv = RepeatedKFold(n_splits=10, n_repeats=3, random_state=42)\n",
    "# scores = cross_val_score(model, X_train, y_train, scoring='neg_mean_absolute_error', cv=cv, n_jobs=-1)\n",
    "# # force scores to be positive\n",
    "# scores = absolute(scores)\n",
    "# print('Mean MAE: %.3f (%.3f)' % (mean(scores), std(scores)))"
   ]
  },
  {
   "cell_type": "markdown",
   "id": "01e75173",
   "metadata": {},
   "source": [
    "## Random Forest Classifier Model"
   ]
  },
  {
   "cell_type": "code",
   "execution_count": 64,
   "id": "3320d619",
   "metadata": {},
   "outputs": [
    {
     "name": "stderr",
     "output_type": "stream",
     "text": [
      "/var/folders/wg/4yj17hrn3q9g_27l8zsxxy5m0000gn/T/ipykernel_13861/2419498267.py:5: DataConversionWarning: A column-vector y was passed when a 1d array was expected. Please change the shape of y to (n_samples,), for example using ravel().\n",
      "  clf.fit(X_train, y_train)\n"
     ]
    },
    {
     "name": "stdout",
     "output_type": "stream",
     "text": [
      "0.0356687749388627\n"
     ]
    }
   ],
   "source": [
    "# 0.036\n",
    "from sklearn.ensemble import RandomForestClassifier\n",
    "from sklearn.datasets import make_classification\n",
    "clf = RandomForestClassifier(max_depth=3, random_state=42)\n",
    "clf.fit(X_train, y_train)\n",
    "\n",
    "y_pred = clf.predict(X_test)\n",
    "\n",
    "# 0.03 score\n",
    "from sklearn.metrics import accuracy_score\n",
    "accuracy = accuracy_score(y_test,y_pred)\n",
    "print(accuracy)\n",
    "\n",
    "# save the model to disk\n",
    "filename = 'finalized_Random_forest_imb_all.sav'\n",
    "pickle.dump(clf, open(filename, 'wb'))"
   ]
  },
  {
   "cell_type": "markdown",
   "id": "de459be7",
   "metadata": {},
   "source": [
    "## Gridsearch cells. Do not run."
   ]
  },
  {
   "cell_type": "code",
   "execution_count": 65,
   "id": "9c9ab34a",
   "metadata": {},
   "outputs": [],
   "source": [
    "# # parameter grid\n",
    "# parameter_candidates = {\n",
    "#     'n_estimators':[270, 285, 300],\n",
    "#     'max_depth':[3]\n",
    "# }\n",
    "# from sklearn import datasets, svm\n",
    "# from sklearn.model_selection import GridSearchCV\n",
    "# grid_result = GridSearchCV(clf, param_grid=parameter_candidates, n_jobs=-1)\n",
    "# the_fit = grid_result.fit(X_train, y_train.values.ravel())\n",
    "# bestresult = grid_result.best_estimator_"
   ]
  },
  {
   "cell_type": "code",
   "execution_count": 66,
   "id": "7e65b10a",
   "metadata": {},
   "outputs": [],
   "source": [
    "# # View the accuracy score best run: MD3, nest300 score:0.04\n",
    "# print('Best score for data1:', grid_result.best_score_) \n",
    "# print(grid_result.best_params_)\n",
    "# print(bestresult)\n",
    "# grid_result.score(X_train, y_train)"
   ]
  },
  {
   "cell_type": "markdown",
   "id": "72ced7dd",
   "metadata": {},
   "source": [
    "## Random Forest tuned"
   ]
  },
  {
   "cell_type": "code",
   "execution_count": 67,
   "id": "c1637e6f",
   "metadata": {},
   "outputs": [],
   "source": [
    "# # 0.043\n",
    "# from sklearn.ensemble import RandomForestClassifier\n",
    "# from sklearn.datasets import make_classification\n",
    "# clf2 = RandomForestClassifier(max_depth=3, n_estimators=285, random_state=42)\n",
    "# clf2.fit(X_train, y_train)\n",
    "\n",
    "# y_pred = clf2.predict(X_test)\n",
    "\n",
    "# #  score\n",
    "# from sklearn.metrics import accuracy_score\n",
    "# accuracy = accuracy_score(y_test,y_pred)\n",
    "# print(accuracy)\n",
    "# # save the model to disk? No. Same as first RF"
   ]
  },
  {
   "cell_type": "markdown",
   "id": "e4fba974",
   "metadata": {},
   "source": [
    "## Linear/Log Regression"
   ]
  },
  {
   "cell_type": "code",
   "execution_count": 68,
   "id": "187e1fe5",
   "metadata": {},
   "outputs": [
    {
     "name": "stdout",
     "output_type": "stream",
     "text": [
      "0.07024254792067819\n"
     ]
    }
   ],
   "source": [
    "# 0.05\n",
    "from sklearn.linear_model import LinearRegression\n",
    "reg = LinearRegression().fit(X_train, y_train)\n",
    "print(reg.score(X_train, y_train))\n",
    "\n",
    "# save the model to disk\n",
    "filename = 'finalized_LinReg_imb_all.sav'\n",
    "pickle.dump(reg, open(filename, 'wb'))"
   ]
  },
  {
   "cell_type": "code",
   "execution_count": 69,
   "id": "c1a46f33",
   "metadata": {},
   "outputs": [
    {
     "data": {
      "text/plain": [
       "array([[ 15.91397847,   0.05688175,  -2.36089621, -16.14334154,\n",
       "          0.83313602,  -0.23786641,   0.39052248,   1.7139164 ,\n",
       "          2.00382194,   1.5855534 ,   1.83757261]])"
      ]
     },
     "execution_count": 69,
     "metadata": {},
     "output_type": "execute_result"
    }
   ],
   "source": [
    "reg.coef_"
   ]
  },
  {
   "cell_type": "code",
   "execution_count": 70,
   "id": "94ba9219",
   "metadata": {},
   "outputs": [
    {
     "data": {
      "text/plain": [
       "array([-11.74355463])"
      ]
     },
     "execution_count": 70,
     "metadata": {},
     "output_type": "execute_result"
    }
   ],
   "source": [
    "reg.intercept_"
   ]
  },
  {
   "cell_type": "markdown",
   "id": "62588c4d",
   "metadata": {},
   "source": [
    "## Decision Tree"
   ]
  },
  {
   "cell_type": "code",
   "execution_count": 71,
   "id": "37975cd2",
   "metadata": {},
   "outputs": [
    {
     "name": "stdout",
     "output_type": "stream",
     "text": [
      "Accuracy: 0.03219995058433056\n"
     ]
    }
   ],
   "source": [
    "# 0.08 \n",
    "from sklearn.tree import DecisionTreeClassifier\n",
    "from sklearn import metrics\n",
    "clf_dt = DecisionTreeClassifier()\n",
    "clf_dt = clf_dt.fit(X_train,y_train)\n",
    "y_pred = clf_dt.predict(X_test)\n",
    "print(\"Accuracy:\",metrics.accuracy_score(y_test, y_pred))\n",
    "\n",
    "# save the model to disk\n",
    "filename = 'finalized_Decision_Tree_imb_all.sav'\n",
    "pickle.dump(clf_dt, open(filename, 'wb'))"
   ]
  },
  {
   "cell_type": "code",
   "execution_count": 72,
   "id": "f5f93017",
   "metadata": {},
   "outputs": [
    {
     "data": {
      "text/plain": [
       "array([-14., -21., -18., -14.,  -1.,  17., -24., -14., -10.,  -4., -18.,\n",
       "       -27., -21., -25.,   8., -26.,  -1., -18., -18.,  17.,  17., -11.,\n",
       "       -19., -11.,   0.,  -5.,  -6., -11.,  -3., -15.,  -5.,   0., -18.,\n",
       "       -29., -27., -11., -13., -33., -10.,   4., -13.,   2.,  -6., -18.,\n",
       "        -8., -13., -26., -21., -12., -10.])"
      ]
     },
     "execution_count": 72,
     "metadata": {},
     "output_type": "execute_result"
    }
   ],
   "source": [
    "y_pred[:50]"
   ]
  },
  {
   "cell_type": "markdown",
   "id": "1108b209",
   "metadata": {},
   "source": [
    "## SVM (do not run)"
   ]
  },
  {
   "cell_type": "code",
   "execution_count": 73,
   "id": "b4928d43",
   "metadata": {},
   "outputs": [],
   "source": [
    "# from sklearn.preprocessing import StandardScaler\n",
    "# from sklearn.preprocessing import Normalizer\n",
    "# scaler = StandardScaler()\n",
    "# scaler.fit(df_checkpoint)\n",
    "# X = scaler.transform(df_checkpoint.loc[:, df_checkpoint.columns != 'arr_delay'])\n",
    "# X = df_checkpoint[df_checkpoint.columns.difference(['arr_delay'])]\n",
    "# y = df_checkpoint[\"arr_delay\"]"
   ]
  },
  {
   "cell_type": "code",
   "execution_count": 74,
   "id": "be55b661",
   "metadata": {},
   "outputs": [],
   "source": [
    "# from sklearn import svm\n",
    "# clf = svm.SVC(kernel='poly')\n",
    "# clf.fit(X_train, y_train.values.ravel())\n",
    "# y_pred = clf.predict(X_test)"
   ]
  },
  {
   "cell_type": "code",
   "execution_count": 75,
   "id": "9c1a2d72",
   "metadata": {},
   "outputs": [],
   "source": [
    "# from sklearn.metrics import confusion_matrix\n",
    "# confusion_matrix(y_test, y_pred)"
   ]
  },
  {
   "cell_type": "code",
   "execution_count": 76,
   "id": "b35d7108",
   "metadata": {},
   "outputs": [],
   "source": [
    "# clf2 = svm.SVC(kernel='rbf')\n",
    "# clf2.fit(X_train, y_train.values.ravel())\n",
    "# y_pred2 = clf2.predict(X_test)"
   ]
  },
  {
   "cell_type": "code",
   "execution_count": 77,
   "id": "6dcb0395",
   "metadata": {},
   "outputs": [],
   "source": [
    "# from sklearn.metrics import confusion_matrix\n",
    "# confusion_matrix(y_test, y_pred2)"
   ]
  },
  {
   "cell_type": "code",
   "execution_count": 78,
   "id": "690c290e",
   "metadata": {},
   "outputs": [],
   "source": [
    "# clf3 = svm.SVC(kernel='sigmoid')\n",
    "# clf3.fit(X_train, y_train.values.ravel())\n",
    "# y_pred3 = clf3.predict(X_test)"
   ]
  },
  {
   "cell_type": "code",
   "execution_count": 79,
   "id": "a022b1f7",
   "metadata": {},
   "outputs": [],
   "source": [
    "# from sklearn.metrics import confusion_matrix\n",
    "# confusion_matrix(y_test, y_pred3)"
   ]
  },
  {
   "cell_type": "code",
   "execution_count": 80,
   "id": "999388bb",
   "metadata": {},
   "outputs": [],
   "source": [
    "# from sklearn import metrics\n",
    "# print(\"Accuracy poly:\",metrics.accuracy_score(y_test, y_pred))\n",
    "# print(\"Accuracy rbg:\",metrics.accuracy_score(y_test, y_pred2))\n",
    "# print(\"Accuracy sigmoid:\",metrics.accuracy_score(y_test, y_pred3))"
   ]
  },
  {
   "cell_type": "markdown",
   "id": "ec64c94e",
   "metadata": {},
   "source": [
    "## XGBoost"
   ]
  },
  {
   "cell_type": "code",
   "execution_count": 81,
   "id": "6191087f",
   "metadata": {},
   "outputs": [],
   "source": [
    "# import xgboost as xgb\n",
    "# from sklearn.metrics import mean_squared_error\n",
    "# data_dmatrix = xgb.DMatrix(data=X_train, label=y_train, enable_categorical=True)\n",
    "# xg_reg = xgb.XGBRegressor(objective ='reg:linear', # not XGBClassifier() bc regression.\n",
    "#                           colsample_bytree = 0.3, \n",
    "#                           learning_rate = 0.1,\n",
    "#                           max_depth = 3, \n",
    "#                           alpha = 10, \n",
    "#                           n_estimators = 250)\n",
    "# err about categorical values"
   ]
  }
 ],
 "metadata": {
  "kernelspec": {
   "display_name": "Python 3 (ipykernel)",
   "language": "python",
   "name": "python3"
  },
  "language_info": {
   "codemirror_mode": {
    "name": "ipython",
    "version": 3
   },
   "file_extension": ".py",
   "mimetype": "text/x-python",
   "name": "python",
   "nbconvert_exporter": "python",
   "pygments_lexer": "ipython3",
   "version": "3.8.12"
  }
 },
 "nbformat": 4,
 "nbformat_minor": 5
}

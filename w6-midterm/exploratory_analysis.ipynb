{
 "cells": [
  {
   "cell_type": "markdown",
   "metadata": {},
   "source": [
    "## Exploratory Data Analysis\n",
    "\n",
    "Use this notebook to get familiar with the datasets we have. There is 10 questions we need to answer during the EDA.\n",
    "\n",
    "\n",
    "We shouldn't limit our EDA to these 10 questions. Let's be creative :)."
   ]
  },
  {
   "cell_type": "code",
   "execution_count": 1,
   "metadata": {},
   "outputs": [],
   "source": [
    "import pandas as pd\n",
    "pd.set_option(\"display.max_columns\", None)\n",
    "import matplotlib.pyplot as plt\n",
    "import seaborn as sns\n",
    "sns.set(rc={'figure.figsize':(11,8)})\n",
    "sns.set(font_scale=1.5)"
   ]
  },
  {
   "cell_type": "code",
   "execution_count": 2,
   "metadata": {},
   "outputs": [],
   "source": [
    "df = pd.read_csv(\"data/flights_cleaned_no_outlier_iqr_with_delays.csv\")"
   ]
  },
  {
   "cell_type": "code",
   "execution_count": 3,
   "metadata": {},
   "outputs": [
    {
     "data": {
      "text/plain": [
       "(2073115, 39)"
      ]
     },
     "execution_count": 3,
     "metadata": {},
     "output_type": "execute_result"
    }
   ],
   "source": [
    "df.shape # 2073115 original before filtering"
   ]
  },
  {
   "cell_type": "code",
   "execution_count": 4,
   "metadata": {},
   "outputs": [
    {
     "data": {
      "text/html": [
       "<div>\n",
       "<style scoped>\n",
       "    .dataframe tbody tr th:only-of-type {\n",
       "        vertical-align: middle;\n",
       "    }\n",
       "\n",
       "    .dataframe tbody tr th {\n",
       "        vertical-align: top;\n",
       "    }\n",
       "\n",
       "    .dataframe thead th {\n",
       "        text-align: right;\n",
       "    }\n",
       "</style>\n",
       "<table border=\"1\" class=\"dataframe\">\n",
       "  <thead>\n",
       "    <tr style=\"text-align: right;\">\n",
       "      <th></th>\n",
       "      <th>fl_date</th>\n",
       "      <th>mkt_unique_carrier</th>\n",
       "      <th>branded_code_share</th>\n",
       "      <th>mkt_carrier</th>\n",
       "      <th>mkt_carrier_fl_num</th>\n",
       "      <th>op_unique_carrier</th>\n",
       "      <th>op_carrier_fl_num</th>\n",
       "      <th>origin_airport_id</th>\n",
       "      <th>origin</th>\n",
       "      <th>origin_city_name</th>\n",
       "      <th>dest_airport_id</th>\n",
       "      <th>dest</th>\n",
       "      <th>dest_city_name</th>\n",
       "      <th>crs_dep_time</th>\n",
       "      <th>dep_time</th>\n",
       "      <th>dep_delay</th>\n",
       "      <th>taxi_out</th>\n",
       "      <th>wheels_off</th>\n",
       "      <th>wheels_on</th>\n",
       "      <th>taxi_in</th>\n",
       "      <th>crs_arr_time</th>\n",
       "      <th>arr_time</th>\n",
       "      <th>arr_delay</th>\n",
       "      <th>dup</th>\n",
       "      <th>crs_elapsed_time</th>\n",
       "      <th>actual_elapsed_time</th>\n",
       "      <th>air_time</th>\n",
       "      <th>flights</th>\n",
       "      <th>distance</th>\n",
       "      <th>carrier_delay</th>\n",
       "      <th>weather_delay</th>\n",
       "      <th>nas_delay</th>\n",
       "      <th>security_delay</th>\n",
       "      <th>late_aircraft_delay</th>\n",
       "      <th>weather_type</th>\n",
       "      <th>passengers</th>\n",
       "      <th>month</th>\n",
       "      <th>combined_delay</th>\n",
       "    </tr>\n",
       "  </thead>\n",
       "  <tbody>\n",
       "    <tr>\n",
       "      <th>0</th>\n",
       "      <td>2019-10-02</td>\n",
       "      <td>AA</td>\n",
       "      <td>AA_CODESHARE</td>\n",
       "      <td>AA</td>\n",
       "      <td>5330</td>\n",
       "      <td>OH</td>\n",
       "      <td>5330</td>\n",
       "      <td>10581</td>\n",
       "      <td>BGR</td>\n",
       "      <td>Bangor, ME</td>\n",
       "      <td>11278</td>\n",
       "      <td>DCA</td>\n",
       "      <td>Washington, DC</td>\n",
       "      <td>543</td>\n",
       "      <td>535.0</td>\n",
       "      <td>-8.0</td>\n",
       "      <td>11.0</td>\n",
       "      <td>546.0</td>\n",
       "      <td>726.0</td>\n",
       "      <td>5.0</td>\n",
       "      <td>749</td>\n",
       "      <td>731.0</td>\n",
       "      <td>-18.0</td>\n",
       "      <td>N</td>\n",
       "      <td>126.0</td>\n",
       "      <td>116.0</td>\n",
       "      <td>100.0</td>\n",
       "      <td>1.0</td>\n",
       "      <td>590.0</td>\n",
       "      <td>0.0</td>\n",
       "      <td>0.0</td>\n",
       "      <td>0.0</td>\n",
       "      <td>0.0</td>\n",
       "      <td>0.0</td>\n",
       "      <td>Rainy</td>\n",
       "      <td>85523.0</td>\n",
       "      <td>1788.0</td>\n",
       "      <td>0.0</td>\n",
       "    </tr>\n",
       "    <tr>\n",
       "      <th>1</th>\n",
       "      <td>2019-10-02</td>\n",
       "      <td>AA</td>\n",
       "      <td>AA_CODESHARE</td>\n",
       "      <td>AA</td>\n",
       "      <td>3073</td>\n",
       "      <td>OO</td>\n",
       "      <td>3073</td>\n",
       "      <td>10581</td>\n",
       "      <td>BGR</td>\n",
       "      <td>Bangor, ME</td>\n",
       "      <td>13930</td>\n",
       "      <td>ORD</td>\n",
       "      <td>Chicago, IL</td>\n",
       "      <td>1328</td>\n",
       "      <td>1324.0</td>\n",
       "      <td>-4.0</td>\n",
       "      <td>17.0</td>\n",
       "      <td>1341.0</td>\n",
       "      <td>1515.0</td>\n",
       "      <td>14.0</td>\n",
       "      <td>1530</td>\n",
       "      <td>1529.0</td>\n",
       "      <td>-1.0</td>\n",
       "      <td>N</td>\n",
       "      <td>182.0</td>\n",
       "      <td>185.0</td>\n",
       "      <td>154.0</td>\n",
       "      <td>1.0</td>\n",
       "      <td>978.0</td>\n",
       "      <td>0.0</td>\n",
       "      <td>0.0</td>\n",
       "      <td>0.0</td>\n",
       "      <td>0.0</td>\n",
       "      <td>0.0</td>\n",
       "      <td>Rainy</td>\n",
       "      <td>85523.0</td>\n",
       "      <td>1788.0</td>\n",
       "      <td>0.0</td>\n",
       "    </tr>\n",
       "    <tr>\n",
       "      <th>2</th>\n",
       "      <td>2019-10-02</td>\n",
       "      <td>AA</td>\n",
       "      <td>AA_CODESHARE</td>\n",
       "      <td>AA</td>\n",
       "      <td>4023</td>\n",
       "      <td>MQ</td>\n",
       "      <td>4023</td>\n",
       "      <td>10581</td>\n",
       "      <td>BGR</td>\n",
       "      <td>Bangor, ME</td>\n",
       "      <td>12953</td>\n",
       "      <td>LGA</td>\n",
       "      <td>New York, NY</td>\n",
       "      <td>1449</td>\n",
       "      <td>1449.0</td>\n",
       "      <td>0.0</td>\n",
       "      <td>13.0</td>\n",
       "      <td>1502.0</td>\n",
       "      <td>1612.0</td>\n",
       "      <td>2.0</td>\n",
       "      <td>1629</td>\n",
       "      <td>1614.0</td>\n",
       "      <td>-15.0</td>\n",
       "      <td>N</td>\n",
       "      <td>100.0</td>\n",
       "      <td>85.0</td>\n",
       "      <td>70.0</td>\n",
       "      <td>1.0</td>\n",
       "      <td>378.0</td>\n",
       "      <td>0.0</td>\n",
       "      <td>0.0</td>\n",
       "      <td>0.0</td>\n",
       "      <td>0.0</td>\n",
       "      <td>0.0</td>\n",
       "      <td>Rainy</td>\n",
       "      <td>85523.0</td>\n",
       "      <td>1788.0</td>\n",
       "      <td>0.0</td>\n",
       "    </tr>\n",
       "    <tr>\n",
       "      <th>3</th>\n",
       "      <td>2019-10-02</td>\n",
       "      <td>G4</td>\n",
       "      <td>G4</td>\n",
       "      <td>G4</td>\n",
       "      <td>2119</td>\n",
       "      <td>G4</td>\n",
       "      <td>2119</td>\n",
       "      <td>10581</td>\n",
       "      <td>BGR</td>\n",
       "      <td>Bangor, ME</td>\n",
       "      <td>14761</td>\n",
       "      <td>SFB</td>\n",
       "      <td>Sanford, FL</td>\n",
       "      <td>1301</td>\n",
       "      <td>1308.0</td>\n",
       "      <td>7.0</td>\n",
       "      <td>7.0</td>\n",
       "      <td>1315.0</td>\n",
       "      <td>1554.0</td>\n",
       "      <td>5.0</td>\n",
       "      <td>1623</td>\n",
       "      <td>1559.0</td>\n",
       "      <td>-24.0</td>\n",
       "      <td>N</td>\n",
       "      <td>202.0</td>\n",
       "      <td>171.0</td>\n",
       "      <td>159.0</td>\n",
       "      <td>1.0</td>\n",
       "      <td>1299.0</td>\n",
       "      <td>0.0</td>\n",
       "      <td>0.0</td>\n",
       "      <td>0.0</td>\n",
       "      <td>0.0</td>\n",
       "      <td>0.0</td>\n",
       "      <td>Rainy</td>\n",
       "      <td>85523.0</td>\n",
       "      <td>1788.0</td>\n",
       "      <td>0.0</td>\n",
       "    </tr>\n",
       "    <tr>\n",
       "      <th>4</th>\n",
       "      <td>2019-10-02</td>\n",
       "      <td>AA</td>\n",
       "      <td>AA_CODESHARE</td>\n",
       "      <td>AA</td>\n",
       "      <td>4730</td>\n",
       "      <td>PT</td>\n",
       "      <td>4730</td>\n",
       "      <td>10581</td>\n",
       "      <td>BGR</td>\n",
       "      <td>Bangor, ME</td>\n",
       "      <td>14100</td>\n",
       "      <td>PHL</td>\n",
       "      <td>Philadelphia, PA</td>\n",
       "      <td>1001</td>\n",
       "      <td>951.0</td>\n",
       "      <td>-10.0</td>\n",
       "      <td>9.0</td>\n",
       "      <td>1000.0</td>\n",
       "      <td>1127.0</td>\n",
       "      <td>7.0</td>\n",
       "      <td>1149</td>\n",
       "      <td>1134.0</td>\n",
       "      <td>-15.0</td>\n",
       "      <td>N</td>\n",
       "      <td>108.0</td>\n",
       "      <td>103.0</td>\n",
       "      <td>87.0</td>\n",
       "      <td>1.0</td>\n",
       "      <td>473.0</td>\n",
       "      <td>0.0</td>\n",
       "      <td>0.0</td>\n",
       "      <td>0.0</td>\n",
       "      <td>0.0</td>\n",
       "      <td>0.0</td>\n",
       "      <td>Rainy</td>\n",
       "      <td>85523.0</td>\n",
       "      <td>1788.0</td>\n",
       "      <td>0.0</td>\n",
       "    </tr>\n",
       "  </tbody>\n",
       "</table>\n",
       "</div>"
      ],
      "text/plain": [
       "      fl_date mkt_unique_carrier branded_code_share mkt_carrier  \\\n",
       "0  2019-10-02                 AA       AA_CODESHARE          AA   \n",
       "1  2019-10-02                 AA       AA_CODESHARE          AA   \n",
       "2  2019-10-02                 AA       AA_CODESHARE          AA   \n",
       "3  2019-10-02                 G4                 G4          G4   \n",
       "4  2019-10-02                 AA       AA_CODESHARE          AA   \n",
       "\n",
       "   mkt_carrier_fl_num op_unique_carrier  op_carrier_fl_num  origin_airport_id  \\\n",
       "0                5330                OH               5330              10581   \n",
       "1                3073                OO               3073              10581   \n",
       "2                4023                MQ               4023              10581   \n",
       "3                2119                G4               2119              10581   \n",
       "4                4730                PT               4730              10581   \n",
       "\n",
       "  origin origin_city_name  dest_airport_id dest    dest_city_name  \\\n",
       "0    BGR       Bangor, ME            11278  DCA    Washington, DC   \n",
       "1    BGR       Bangor, ME            13930  ORD       Chicago, IL   \n",
       "2    BGR       Bangor, ME            12953  LGA      New York, NY   \n",
       "3    BGR       Bangor, ME            14761  SFB       Sanford, FL   \n",
       "4    BGR       Bangor, ME            14100  PHL  Philadelphia, PA   \n",
       "\n",
       "   crs_dep_time  dep_time  dep_delay  taxi_out  wheels_off  wheels_on  \\\n",
       "0           543     535.0       -8.0      11.0       546.0      726.0   \n",
       "1          1328    1324.0       -4.0      17.0      1341.0     1515.0   \n",
       "2          1449    1449.0        0.0      13.0      1502.0     1612.0   \n",
       "3          1301    1308.0        7.0       7.0      1315.0     1554.0   \n",
       "4          1001     951.0      -10.0       9.0      1000.0     1127.0   \n",
       "\n",
       "   taxi_in  crs_arr_time  arr_time  arr_delay dup  crs_elapsed_time  \\\n",
       "0      5.0           749     731.0      -18.0   N             126.0   \n",
       "1     14.0          1530    1529.0       -1.0   N             182.0   \n",
       "2      2.0          1629    1614.0      -15.0   N             100.0   \n",
       "3      5.0          1623    1559.0      -24.0   N             202.0   \n",
       "4      7.0          1149    1134.0      -15.0   N             108.0   \n",
       "\n",
       "   actual_elapsed_time  air_time  flights  distance  carrier_delay  \\\n",
       "0                116.0     100.0      1.0     590.0            0.0   \n",
       "1                185.0     154.0      1.0     978.0            0.0   \n",
       "2                 85.0      70.0      1.0     378.0            0.0   \n",
       "3                171.0     159.0      1.0    1299.0            0.0   \n",
       "4                103.0      87.0      1.0     473.0            0.0   \n",
       "\n",
       "   weather_delay  nas_delay  security_delay  late_aircraft_delay weather_type  \\\n",
       "0            0.0        0.0             0.0                  0.0        Rainy   \n",
       "1            0.0        0.0             0.0                  0.0        Rainy   \n",
       "2            0.0        0.0             0.0                  0.0        Rainy   \n",
       "3            0.0        0.0             0.0                  0.0        Rainy   \n",
       "4            0.0        0.0             0.0                  0.0        Rainy   \n",
       "\n",
       "   passengers   month  combined_delay  \n",
       "0     85523.0  1788.0             0.0  \n",
       "1     85523.0  1788.0             0.0  \n",
       "2     85523.0  1788.0             0.0  \n",
       "3     85523.0  1788.0             0.0  \n",
       "4     85523.0  1788.0             0.0  "
      ]
     },
     "execution_count": 4,
     "metadata": {},
     "output_type": "execute_result"
    }
   ],
   "source": [
    "df = df.iloc[: , 1:] # drop weird unnamed column\n",
    "df.head()"
   ]
  },
  {
   "cell_type": "markdown",
   "metadata": {},
   "source": [
    "#### **Task 1**: Test the hypothesis that the delay is from Normal distribution. and that **mean** of the delay is 0. Be careful about the outliers."
   ]
  },
  {
   "cell_type": "code",
   "execution_count": 5,
   "metadata": {},
   "outputs": [],
   "source": [
    "from scipy import stats"
   ]
  },
  {
   "cell_type": "code",
   "execution_count": 6,
   "metadata": {},
   "outputs": [],
   "source": [
    "arr_delay = df.arr_delay"
   ]
  },
  {
   "cell_type": "code",
   "execution_count": 7,
   "metadata": {},
   "outputs": [
    {
     "data": {
      "text/plain": [
       "KstestResult(statistic=0.7447441942228243, pvalue=0.0)"
      ]
     },
     "execution_count": 7,
     "metadata": {},
     "output_type": "execute_result"
    }
   ],
   "source": [
    "stats.kstest(arr_delay,stats.norm.cdf)"
   ]
  },
  {
   "cell_type": "code",
   "execution_count": 8,
   "metadata": {},
   "outputs": [
    {
     "name": "stderr",
     "output_type": "stream",
     "text": [
      "/Users/louisrossi/opt/anaconda3/envs/ml/lib/python3.8/site-packages/scipy/stats/morestats.py:1760: UserWarning: p-value may not be accurate for N > 5000.\n",
      "  warnings.warn(\"p-value may not be accurate for N > 5000.\")\n"
     ]
    },
    {
     "data": {
      "text/plain": [
       "ShapiroResult(statistic=0.9835553765296936, pvalue=0.0)"
      ]
     },
     "execution_count": 8,
     "metadata": {},
     "output_type": "execute_result"
    }
   ],
   "source": [
    "stats.shapiro(arr_delay)"
   ]
  },
  {
   "cell_type": "code",
   "execution_count": 9,
   "metadata": {},
   "outputs": [
    {
     "data": {
      "text/plain": [
       "ShapiroResult(statistic=0.9867385625839233, pvalue=0.0)"
      ]
     },
     "execution_count": 9,
     "metadata": {},
     "output_type": "execute_result"
    }
   ],
   "source": [
    "sample = df.sample(frac=0.05)\n",
    "stats.shapiro(sample.arr_delay)"
   ]
  },
  {
   "cell_type": "code",
   "execution_count": 10,
   "metadata": {},
   "outputs": [
    {
     "data": {
      "text/plain": [
       "(-300.0, 300.0)"
      ]
     },
     "execution_count": 10,
     "metadata": {},
     "output_type": "execute_result"
    },
    {
     "data": {
      "image/png": "[encoded data removed]",
      "text/plain": [
       "<Figure size 792x576 with 1 Axes>"
      ]
     },
     "metadata": {},
     "output_type": "display_data"
    }
   ],
   "source": [
    "sns.histplot(arr_delay)\n",
    "plt.xlim(-300, 300)"
   ]
  },
  {
   "cell_type": "code",
   "execution_count": 11,
   "metadata": {},
   "outputs": [
    {
     "data": {
      "image/png": "[encoded data removed]",
      "text/plain": [
       "<Figure size 360x360 with 1 Axes>"
      ]
     },
     "metadata": {},
     "output_type": "display_data"
    }
   ],
   "source": [
    "# Arrival Delay Distribution after excluding the outliers\n",
    "sns.set_theme(style=\"darkgrid\")\n",
    "sns.displot(df, x=\"arr_delay\",kind='kde')\n",
    "plt.title(\"arr_delay distribution\", size=10)\n",
    "plt.xlim(-300, 300)\n",
    "plt.show()"
   ]
  },
  {
   "cell_type": "markdown",
   "metadata": {},
   "source": [
    "#### **Task 2**: Is average/median monthly delay different during the year? If yes, which are months with the biggest delays and what could be the reason?"
   ]
  },
  {
   "cell_type": "code",
   "execution_count": 12,
   "metadata": {},
   "outputs": [],
   "source": [
    "task_2 = pd.read_csv(\"data/all_months_raw.csv\") # small raw sample from database\n",
    "task_2['month'] = pd.to_datetime(task_2['fl_date'], format='%Y-%m-%d')\n",
    "task_2 = task_2.filter(items=['month', 'arr_delay'])\n",
    "task_2_grouped = task_2.groupby(pd.Grouper(key='month', axis=0, \n",
    "                      freq='M')).sum()\n",
    "task_2_grouped.reset_index(inplace=True)\n",
    "task_2_grouped.month = [1,2,3,4,5,6,7,8,9,10,11,12,1,2,3,4,5,6,7,8,9,10,11,12]"
   ]
  },
  {
   "cell_type": "code",
   "execution_count": 13,
   "metadata": {},
   "outputs": [
    {
     "data": {
      "image/png": "[encoded data removed]",
      "text/plain": [
       "<Figure size 792x576 with 1 Axes>"
      ]
     },
     "metadata": {},
     "output_type": "display_data"
    }
   ],
   "source": [
    "sns_plot = sns.barplot(x= task_2_grouped.month,y=task_2_grouped.arr_delay).set_title(\"arr_delay months\")\n",
    "plt.savefig('arr_delay_monthly.png')"
   ]
  },
  {
   "cell_type": "code",
   "execution_count": 14,
   "metadata": {},
   "outputs": [],
   "source": [
    "# why?\n",
    "task_2 = pd.read_csv(\"data/all_months_raw.csv\") # small raw sample from db\n",
    "df_passengers = pd.read_csv(\"data/all_passengers_raw.csv\") # small sample from db\n",
    "\n",
    "df_passengers = df_passengers.filter(items=['month', 'passengers'])\n",
    "df_passengers = df_passengers.groupby(by=[\"month\"]).sum()\n",
    "df_passengers.reset_index(inplace=True)"
   ]
  },
  {
   "cell_type": "code",
   "execution_count": 15,
   "metadata": {},
   "outputs": [
    {
     "data": {
      "image/png": "[encoded data removed]",
      "text/plain": [
       "<Figure size 792x576 with 1 Axes>"
      ]
     },
     "metadata": {},
     "output_type": "display_data"
    }
   ],
   "source": [
    "sns.lineplot(data=df_passengers, x='month', y=\"passengers\").set_title(\"2018-2019 Passengers arr_delay\")\n",
    "plt.savefig('Passengers_arr_delay.png');"
   ]
  },
  {
   "cell_type": "code",
   "execution_count": 16,
   "metadata": {},
   "outputs": [],
   "source": [
    "merged = task_2_grouped.merge(df_passengers, how='left', on='month')"
   ]
  },
  {
   "cell_type": "code",
   "execution_count": 17,
   "metadata": {},
   "outputs": [],
   "source": [
    "from sklearn.preprocessing import StandardScaler\n",
    "ss = StandardScaler()\n",
    "merged[['arr_delay','passengers']] = ss.fit_transform(merged[['arr_delay','passengers']])"
   ]
  },
  {
   "cell_type": "code",
   "execution_count": 18,
   "metadata": {},
   "outputs": [],
   "source": [
    "merged = merged.drop(columns=\"month\")"
   ]
  },
  {
   "cell_type": "code",
   "execution_count": 19,
   "metadata": {},
   "outputs": [
    {
     "data": {
      "image/png": "[encoded data removed]",
      "text/plain": [
       "<Figure size 792x576 with 1 Axes>"
      ]
     },
     "metadata": {},
     "output_type": "display_data"
    }
   ],
   "source": [
    "sns.lineplot(data=merged).set_title(\"Two years of Arr-delay vs. Passengers\")\n",
    "plt.savefig('Passenger_arr_delay_2.png');"
   ]
  },
  {
   "cell_type": "markdown",
   "metadata": {},
   "source": [
    "#### **Task 3**: Does the weather affect the delay? \n",
    "Use the API to pull the weather information for flights. There is no need to get weather for ALL flights. We can choose the right representative sample. Let's focus on four weather types:\n",
    "- sunny\n",
    "- cloudy\n",
    "- rainy\n",
    "- snow.\n",
    "Test the hypothesis that these 4 delays are from the same distribution. If they are not, which ones are significantly different?"
   ]
  },
  {
   "cell_type": "code",
   "execution_count": 20,
   "metadata": {},
   "outputs": [],
   "source": [
    "weather = pd.read_csv(\"data/weather_data.txt\")\n",
    "task_3 = pd.read_csv(\"data/all_months_raw.csv\")"
   ]
  },
  {
   "cell_type": "code",
   "execution_count": 21,
   "metadata": {},
   "outputs": [],
   "source": [
    "weather = weather.filter(items=['date_time','location','weather_type'])\n",
    "task_3 = task_3.filter(items=['fl_date', 'origin', 'arr_delay'])"
   ]
  },
  {
   "cell_type": "code",
   "execution_count": 22,
   "metadata": {},
   "outputs": [],
   "source": [
    "task_3 = task_3.sample(frac=0.5)\n",
    "weather = weather.sample(frac=0.5)"
   ]
  },
  {
   "cell_type": "code",
   "execution_count": 23,
   "metadata": {},
   "outputs": [],
   "source": [
    "weather_delay = task_3.merge(weather, \n",
    "                                    left_on=['fl_date', 'origin'], \n",
    "                                    right_on=['date_time', 'location'])"
   ]
  },
  {
   "cell_type": "code",
   "execution_count": 24,
   "metadata": {},
   "outputs": [
    {
     "data": {
      "text/plain": [
       "Index(['fl_date', 'origin', 'arr_delay', 'date_time', 'location',\n",
       "       'weather_type'],\n",
       "      dtype='object')"
      ]
     },
     "execution_count": 24,
     "metadata": {},
     "output_type": "execute_result"
    }
   ],
   "source": [
    "weather_delay.keys()"
   ]
  },
  {
   "cell_type": "code",
   "execution_count": 25,
   "metadata": {},
   "outputs": [
    {
     "data": {
      "image/png": "[encoded data removed]",
      "text/plain": [
       "<Figure size 792x576 with 1 Axes>"
      ]
     },
     "metadata": {},
     "output_type": "display_data"
    }
   ],
   "source": [
    "sns.barplot(x= weather_delay.weather_type,\n",
    "            y=weather_delay.arr_delay).set_title(\"Weather type vs. Delays\")\n",
    "plt.savefig('Weather_delay.png');"
   ]
  },
  {
   "cell_type": "markdown",
   "metadata": {},
   "source": [
    "#### **Task 4**: How taxi times changing during the day? Does higher traffic lead to bigger taxi times?"
   ]
  },
  {
   "cell_type": "code",
   "execution_count": null,
   "metadata": {},
   "outputs": [],
   "source": []
  },
  {
   "cell_type": "markdown",
   "metadata": {},
   "source": [
    "# Taxi out times scatterplot"
   ]
  },
  {
   "cell_type": "code",
   "execution_count": 26,
   "metadata": {},
   "outputs": [
    {
     "data": {
      "image/png": "[encoded data removed]",
      "text/plain": [
       "<Figure size 792x576 with 1 Axes>"
      ]
     },
     "metadata": {},
     "output_type": "display_data"
    }
   ],
   "source": [
    "# plot taxi_out\n",
    "plt.scatter(df.dep_time, df.taxi_out)\n",
    "plt.savefig('Taxi_out_timeofday.png');"
   ]
  },
  {
   "cell_type": "markdown",
   "metadata": {},
   "source": [
    "# How many flights go out at what times?"
   ]
  },
  {
   "cell_type": "code",
   "execution_count": 27,
   "metadata": {},
   "outputs": [
    {
     "data": {
      "image/png": "[encoded data removed]",
      "text/plain": [
       "<Figure size 792x576 with 1 Axes>"
      ]
     },
     "metadata": {},
     "output_type": "display_data"
    }
   ],
   "source": [
    "# plot traffic\n",
    "plt.hist(df.dep_time, bins=[0,400,800,1200,1600,2000,2400])\n",
    "plt.savefig('flights_timeofday.png');"
   ]
  },
  {
   "cell_type": "markdown",
   "metadata": {},
   "source": [
    "#### **Task 5**: What is the average percentage of delays that is already created before departure? (aka are arrival delays caused by departure delays?) Are airlines able to lower the delay during the flights?"
   ]
  },
  {
   "cell_type": "code",
   "execution_count": 28,
   "metadata": {},
   "outputs": [
    {
     "name": "stdout",
     "output_type": "stream",
     "text": [
      "0.6508695349646295\n"
     ]
    }
   ],
   "source": [
    "# what is average of the % of delays is created before departure?\n",
    "# are arrival delays caused by departure delays\n",
    "\n",
    "# how many rows of dep_delay > 0\n",
    "print((8623000-3010552)/8623000)"
   ]
  },
  {
   "cell_type": "code",
   "execution_count": 29,
   "metadata": {},
   "outputs": [
    {
     "name": "stdout",
     "output_type": "stream",
     "text": [
      "-3.274237560386182\n",
      "-9.461144220171095\n"
     ]
    }
   ],
   "source": [
    "# dep_delay y - fl_time x : arr_delay y - fl_time x\n",
    "print(df.dep_delay.mean())\n",
    "print(df.arr_delay.mean())"
   ]
  },
  {
   "cell_type": "markdown",
   "metadata": {},
   "source": [
    "#### **Task 6**: How many states cover 50% of US air traffic? "
   ]
  },
  {
   "cell_type": "code",
   "execution_count": 30,
   "metadata": {
    "scrolled": true
   },
   "outputs": [],
   "source": [
    "df_states = pd.DataFrame()\n",
    "df_states['state'] = df['origin_city_name'].str[-2:]\n",
    "df_states['count'] = 1\n",
    "df_states = df_states.groupby(by=[\"state\"]).sum()"
   ]
  },
  {
   "cell_type": "code",
   "execution_count": 31,
   "metadata": {},
   "outputs": [],
   "source": [
    "df_states = df_states.sort_values(by=\"count\", ascending=False)"
   ]
  },
  {
   "cell_type": "code",
   "execution_count": 32,
   "metadata": {},
   "outputs": [
    {
     "data": {
      "text/html": [
       "<div>\n",
       "<style scoped>\n",
       "    .dataframe tbody tr th:only-of-type {\n",
       "        vertical-align: middle;\n",
       "    }\n",
       "\n",
       "    .dataframe tbody tr th {\n",
       "        vertical-align: top;\n",
       "    }\n",
       "\n",
       "    .dataframe thead th {\n",
       "        text-align: right;\n",
       "    }\n",
       "</style>\n",
       "<table border=\"1\" class=\"dataframe\">\n",
       "  <thead>\n",
       "    <tr style=\"text-align: right;\">\n",
       "      <th></th>\n",
       "      <th>count</th>\n",
       "    </tr>\n",
       "    <tr>\n",
       "      <th>state</th>\n",
       "      <th></th>\n",
       "    </tr>\n",
       "  </thead>\n",
       "  <tbody>\n",
       "    <tr>\n",
       "      <th>CA</th>\n",
       "      <td>224008</td>\n",
       "    </tr>\n",
       "    <tr>\n",
       "      <th>TX</th>\n",
       "      <td>208878</td>\n",
       "    </tr>\n",
       "    <tr>\n",
       "      <th>FL</th>\n",
       "      <td>158086</td>\n",
       "    </tr>\n",
       "    <tr>\n",
       "      <th>IL</th>\n",
       "      <td>121525</td>\n",
       "    </tr>\n",
       "    <tr>\n",
       "      <th>GA</th>\n",
       "      <td>113178</td>\n",
       "    </tr>\n",
       "  </tbody>\n",
       "</table>\n",
       "</div>"
      ],
      "text/plain": [
       "        count\n",
       "state        \n",
       "CA     224008\n",
       "TX     208878\n",
       "FL     158086\n",
       "IL     121525\n",
       "GA     113178"
      ]
     },
     "execution_count": 32,
     "metadata": {},
     "output_type": "execute_result"
    }
   ],
   "source": [
    "df_states.head()"
   ]
  },
  {
   "cell_type": "code",
   "execution_count": 33,
   "metadata": {},
   "outputs": [
    {
     "data": {
      "text/plain": [
       "1036557.5"
      ]
     },
     "execution_count": 33,
     "metadata": {},
     "output_type": "execute_result"
    }
   ],
   "source": [
    "df_states[\"count\"].sum()/2 # 50% value"
   ]
  },
  {
   "cell_type": "code",
   "execution_count": 34,
   "metadata": {},
   "outputs": [
    {
     "data": {
      "text/plain": [
       "1027068"
      ]
     },
     "execution_count": 34,
     "metadata": {},
     "output_type": "execute_result"
    }
   ],
   "source": [
    "df_states[\"count\"].head(7).sum() # top 7 hit 50% mark"
   ]
  },
  {
   "cell_type": "code",
   "execution_count": 35,
   "metadata": {},
   "outputs": [
    {
     "data": {
      "text/html": [
       "<div>\n",
       "<style scoped>\n",
       "    .dataframe tbody tr th:only-of-type {\n",
       "        vertical-align: middle;\n",
       "    }\n",
       "\n",
       "    .dataframe tbody tr th {\n",
       "        vertical-align: top;\n",
       "    }\n",
       "\n",
       "    .dataframe thead th {\n",
       "        text-align: right;\n",
       "    }\n",
       "</style>\n",
       "<table border=\"1\" class=\"dataframe\">\n",
       "  <thead>\n",
       "    <tr style=\"text-align: right;\">\n",
       "      <th></th>\n",
       "      <th>count</th>\n",
       "    </tr>\n",
       "    <tr>\n",
       "      <th>state</th>\n",
       "      <th></th>\n",
       "    </tr>\n",
       "  </thead>\n",
       "  <tbody>\n",
       "    <tr>\n",
       "      <th>CA</th>\n",
       "      <td>224008</td>\n",
       "    </tr>\n",
       "    <tr>\n",
       "      <th>TX</th>\n",
       "      <td>208878</td>\n",
       "    </tr>\n",
       "    <tr>\n",
       "      <th>FL</th>\n",
       "      <td>158086</td>\n",
       "    </tr>\n",
       "    <tr>\n",
       "      <th>IL</th>\n",
       "      <td>121525</td>\n",
       "    </tr>\n",
       "    <tr>\n",
       "      <th>GA</th>\n",
       "      <td>113178</td>\n",
       "    </tr>\n",
       "    <tr>\n",
       "      <th>NY</th>\n",
       "      <td>101000</td>\n",
       "    </tr>\n",
       "    <tr>\n",
       "      <th>NC</th>\n",
       "      <td>100393</td>\n",
       "    </tr>\n",
       "  </tbody>\n",
       "</table>\n",
       "</div>"
      ],
      "text/plain": [
       "        count\n",
       "state        \n",
       "CA     224008\n",
       "TX     208878\n",
       "FL     158086\n",
       "IL     121525\n",
       "GA     113178\n",
       "NY     101000\n",
       "NC     100393"
      ]
     },
     "execution_count": 35,
     "metadata": {},
     "output_type": "execute_result"
    }
   ],
   "source": [
    "# answer - the first 7 states make up for 50% of US air traffic\n",
    "df_states.head(7)"
   ]
  },
  {
   "cell_type": "markdown",
   "metadata": {},
   "source": [
    "# stretch: how many cities does it take to make up 50% of US air traffic?"
   ]
  },
  {
   "cell_type": "code",
   "execution_count": 36,
   "metadata": {},
   "outputs": [
    {
     "data": {
      "text/html": [
       "<div>\n",
       "<style scoped>\n",
       "    .dataframe tbody tr th:only-of-type {\n",
       "        vertical-align: middle;\n",
       "    }\n",
       "\n",
       "    .dataframe tbody tr th {\n",
       "        vertical-align: top;\n",
       "    }\n",
       "\n",
       "    .dataframe thead th {\n",
       "        text-align: right;\n",
       "    }\n",
       "</style>\n",
       "<table border=\"1\" class=\"dataframe\">\n",
       "  <thead>\n",
       "    <tr style=\"text-align: right;\">\n",
       "      <th></th>\n",
       "      <th>count</th>\n",
       "    </tr>\n",
       "    <tr>\n",
       "      <th>origin_city_name</th>\n",
       "      <th></th>\n",
       "    </tr>\n",
       "  </thead>\n",
       "  <tbody>\n",
       "    <tr>\n",
       "      <th>Chicago, IL</th>\n",
       "      <td>115938</td>\n",
       "    </tr>\n",
       "    <tr>\n",
       "      <th>Atlanta, GA</th>\n",
       "      <td>105940</td>\n",
       "    </tr>\n",
       "    <tr>\n",
       "      <th>Dallas/Fort Worth, TX</th>\n",
       "      <td>76430</td>\n",
       "    </tr>\n",
       "    <tr>\n",
       "      <th>New York, NY</th>\n",
       "      <td>72598</td>\n",
       "    </tr>\n",
       "    <tr>\n",
       "      <th>Denver, CO</th>\n",
       "      <td>69907</td>\n",
       "    </tr>\n",
       "    <tr>\n",
       "      <th>Charlotte, NC</th>\n",
       "      <td>69026</td>\n",
       "    </tr>\n",
       "    <tr>\n",
       "      <th>Los Angeles, CA</th>\n",
       "      <td>63585</td>\n",
       "    </tr>\n",
       "    <tr>\n",
       "      <th>Houston, TX</th>\n",
       "      <td>63163</td>\n",
       "    </tr>\n",
       "    <tr>\n",
       "      <th>Washington, DC</th>\n",
       "      <td>61866</td>\n",
       "    </tr>\n",
       "    <tr>\n",
       "      <th>Seattle, WA</th>\n",
       "      <td>49008</td>\n",
       "    </tr>\n",
       "    <tr>\n",
       "      <th>Phoenix, AZ</th>\n",
       "      <td>48697</td>\n",
       "    </tr>\n",
       "    <tr>\n",
       "      <th>Detroit, MI</th>\n",
       "      <td>46085</td>\n",
       "    </tr>\n",
       "    <tr>\n",
       "      <th>Las Vegas, NV</th>\n",
       "      <td>43152</td>\n",
       "    </tr>\n",
       "    <tr>\n",
       "      <th>San Francisco, CA</th>\n",
       "      <td>42231</td>\n",
       "    </tr>\n",
       "    <tr>\n",
       "      <th>Minneapolis, MN</th>\n",
       "      <td>41767</td>\n",
       "    </tr>\n",
       "    <tr>\n",
       "      <th>Philadelphia, PA</th>\n",
       "      <td>40947</td>\n",
       "    </tr>\n",
       "    <tr>\n",
       "      <th>Orlando, FL</th>\n",
       "      <td>37883</td>\n",
       "    </tr>\n",
       "    <tr>\n",
       "      <th>Boston, MA</th>\n",
       "      <td>37002</td>\n",
       "    </tr>\n",
       "    <tr>\n",
       "      <th>Newark, NJ</th>\n",
       "      <td>36001</td>\n",
       "    </tr>\n",
       "    <tr>\n",
       "      <th>Salt Lake City, UT</th>\n",
       "      <td>32774</td>\n",
       "    </tr>\n",
       "  </tbody>\n",
       "</table>\n",
       "</div>"
      ],
      "text/plain": [
       "                        count\n",
       "origin_city_name             \n",
       "Chicago, IL            115938\n",
       "Atlanta, GA            105940\n",
       "Dallas/Fort Worth, TX   76430\n",
       "New York, NY            72598\n",
       "Denver, CO              69907\n",
       "Charlotte, NC           69026\n",
       "Los Angeles, CA         63585\n",
       "Houston, TX             63163\n",
       "Washington, DC          61866\n",
       "Seattle, WA             49008\n",
       "Phoenix, AZ             48697\n",
       "Detroit, MI             46085\n",
       "Las Vegas, NV           43152\n",
       "San Francisco, CA       42231\n",
       "Minneapolis, MN         41767\n",
       "Philadelphia, PA        40947\n",
       "Orlando, FL             37883\n",
       "Boston, MA              37002\n",
       "Newark, NJ              36001\n",
       "Salt Lake City, UT      32774"
      ]
     },
     "execution_count": 36,
     "metadata": {},
     "output_type": "execute_result"
    }
   ],
   "source": [
    "air_traffic_percent = df[\"origin_city_name\"]\n",
    "air_traffic_percent = pd.DataFrame(air_traffic_percent)\n",
    "air_traffic_percent[\"count\"] = 1\n",
    "air_traffic_percent = air_traffic_percent.groupby(by=[\"origin_city_name\"]).sum()\n",
    "air_traffic_percent.sort_values(by=\"count\", ascending=False).head(20)"
   ]
  },
  {
   "cell_type": "code",
   "execution_count": 37,
   "metadata": {},
   "outputs": [
    {
     "data": {
      "text/plain": [
       "1036557.5"
      ]
     },
     "execution_count": 37,
     "metadata": {},
     "output_type": "execute_result"
    }
   ],
   "source": [
    "air_traffic_percent[\"count\"].sum()/2 # 50% of traffic"
   ]
  },
  {
   "cell_type": "code",
   "execution_count": 38,
   "metadata": {},
   "outputs": [
    {
     "data": {
      "text/plain": [
       "1008344"
      ]
     },
     "execution_count": 38,
     "metadata": {},
     "output_type": "execute_result"
    }
   ],
   "source": [
    "air_traffic_percent[\"count\"].head(180).sum() # 180!"
   ]
  },
  {
   "cell_type": "markdown",
   "metadata": {},
   "source": [
    "#### **Task 7**: Test the hypothesis whether planes fly faster when there is the departure delay? "
   ]
  },
  {
   "cell_type": "code",
   "execution_count": 39,
   "metadata": {},
   "outputs": [],
   "source": [
    "# get df with no delay (0) and display mean arr_delay\n",
    "# get df with delay (>0) and display mean arr_delay"
   ]
  },
  {
   "cell_type": "markdown",
   "metadata": {},
   "source": [
    "### using nov_dec_jan as reference"
   ]
  },
  {
   "cell_type": "code",
   "execution_count": 40,
   "metadata": {},
   "outputs": [],
   "source": [
    "# filter no delays and yes delays\n",
    "df_delays = pd.DataFrame()\n",
    "df_delays = df[df[\"dep_delay\"] > 0]\n",
    "df_ontime = pd.DataFrame()\n",
    "df_ontime = df[df[\"dep_delay\"] <= 0]"
   ]
  },
  {
   "cell_type": "code",
   "execution_count": 41,
   "metadata": {},
   "outputs": [],
   "source": [
    "# drop all columns except dep_delay and arr_delay \n",
    "df_delays = df_delays.filter(['dep_delay', 'arr_delay'])\n",
    "df_ontime = df_ontime.filter(['dep_delay', 'arr_delay'])"
   ]
  },
  {
   "cell_type": "code",
   "execution_count": 42,
   "metadata": {},
   "outputs": [],
   "source": [
    "df_delays[\"dep_minus_arr\"] = df_delays[\"dep_delay\"] - df_delays[\"arr_delay\"]\n",
    "df_ontime[\"dep_minus_arr\"] = df_ontime[\"dep_delay\"] - df_ontime[\"arr_delay\"]"
   ]
  },
  {
   "cell_type": "code",
   "execution_count": 43,
   "metadata": {},
   "outputs": [],
   "source": [
    "delay_vs_ontime = pd.DataFrame()\n",
    "delay_vs_ontime[[\"delayed_flights\",\"ontime_flights\"]] = [[df_delays.dep_minus_arr.mean(),df_ontime.dep_minus_arr.mean()]]"
   ]
  },
  {
   "cell_type": "code",
   "execution_count": 44,
   "metadata": {},
   "outputs": [
    {
     "name": "stdout",
     "output_type": "stream",
     "text": [
      "Delayed Flights:  6.5417674236288645\n",
      "Ontime Flights:  6.11557980208069\n"
     ]
    }
   ],
   "source": [
    "print(\"Delayed Flights: \", df_delays[\"dep_minus_arr\"].mean())\n",
    "print(\"Ontime Flights: \", df_ontime[\"dep_minus_arr\"].mean())"
   ]
  },
  {
   "cell_type": "code",
   "execution_count": 45,
   "metadata": {},
   "outputs": [
    {
     "data": {
      "image/png": "[encoded data removed]",
      "text/plain": [
       "<Figure size 792x576 with 1 Axes>"
      ]
     },
     "metadata": {},
     "output_type": "display_data"
    }
   ],
   "source": [
    "sns.barplot(data=delay_vs_ontime).set_title(\"Flight Speed Delayed vs. Ontime\")\n",
    "plt.savefig('flight_speed.png');"
   ]
  },
  {
   "cell_type": "markdown",
   "metadata": {},
   "source": [
    "#### **Task 8**: When (which hour) do most 'LONG', 'SHORT', 'MEDIUM' haul flights take off?"
   ]
  },
  {
   "cell_type": "code",
   "execution_count": 46,
   "metadata": {},
   "outputs": [
    {
     "data": {
      "image/png": "[encoded data removed]",
      "text/plain": [
       "<Figure size 1120x640 with 1 Axes>"
      ]
     },
     "metadata": {},
     "output_type": "display_data"
    }
   ],
   "source": [
    "# plot length of flights with daytime\n",
    "\n",
    "plt.figure(figsize=(14, 8), dpi=80)\n",
    "plt.scatter(df.dep_time, df.distance, alpha=0.1, cmap='viridis')\n",
    "plt.title(\"Length of flights\", fontdict={\"fontsize\":16, \"color\":\"b\"})\n",
    "plt.xlabel(\"Departure Time (24h)\")\n",
    "plt.ylabel(\"Length of Flight (mins)\")\n",
    "plt.savefig('Flight_length.png')\n",
    "plt.show(); \n",
    "# Long: 10am to 4pm, Medium: 5am to 2am, Short: 3am to 5am"
   ]
  },
  {
   "cell_type": "markdown",
   "metadata": {},
   "source": [
    "#### **Task 9**: Find the top 10 the bussiest airports. Does the biggest number of flights mean that the biggest number of passengers went through the particular airport? How much traffic do these 10 airports cover?"
   ]
  },
  {
   "cell_type": "markdown",
   "metadata": {},
   "source": [
    "## Top 10 busiest airports"
   ]
  },
  {
   "cell_type": "code",
   "execution_count": 47,
   "metadata": {},
   "outputs": [],
   "source": [
    "airport_traffic = df[\"origin\"]\n",
    "airport_traffic = pd.DataFrame(airport_traffic)\n",
    "airport_traffic[\"flights\"] = 1\n",
    "airport_traffic = airport_traffic.groupby(by=\"origin\").count()\n",
    "airport_traffic.reset_index(inplace=True)"
   ]
  },
  {
   "cell_type": "code",
   "execution_count": 48,
   "metadata": {},
   "outputs": [
    {
     "data": {
      "text/html": [
       "<div>\n",
       "<style scoped>\n",
       "    .dataframe tbody tr th:only-of-type {\n",
       "        vertical-align: middle;\n",
       "    }\n",
       "\n",
       "    .dataframe tbody tr th {\n",
       "        vertical-align: top;\n",
       "    }\n",
       "\n",
       "    .dataframe thead th {\n",
       "        text-align: right;\n",
       "    }\n",
       "</style>\n",
       "<table border=\"1\" class=\"dataframe\">\n",
       "  <thead>\n",
       "    <tr style=\"text-align: right;\">\n",
       "      <th></th>\n",
       "      <th>origin</th>\n",
       "      <th>flights</th>\n",
       "    </tr>\n",
       "  </thead>\n",
       "  <tbody>\n",
       "    <tr>\n",
       "      <th>21</th>\n",
       "      <td>ATL</td>\n",
       "      <td>105940</td>\n",
       "    </tr>\n",
       "    <tr>\n",
       "      <th>252</th>\n",
       "      <td>ORD</td>\n",
       "      <td>97581</td>\n",
       "    </tr>\n",
       "    <tr>\n",
       "      <th>94</th>\n",
       "      <td>DFW</td>\n",
       "      <td>76430</td>\n",
       "    </tr>\n",
       "    <tr>\n",
       "      <th>93</th>\n",
       "      <td>DEN</td>\n",
       "      <td>69907</td>\n",
       "    </tr>\n",
       "    <tr>\n",
       "      <th>73</th>\n",
       "      <td>CLT</td>\n",
       "      <td>69026</td>\n",
       "    </tr>\n",
       "    <tr>\n",
       "      <th>191</th>\n",
       "      <td>LAX</td>\n",
       "      <td>63585</td>\n",
       "    </tr>\n",
       "    <tr>\n",
       "      <th>315</th>\n",
       "      <td>SEA</td>\n",
       "      <td>49008</td>\n",
       "    </tr>\n",
       "    <tr>\n",
       "      <th>165</th>\n",
       "      <td>IAH</td>\n",
       "      <td>48675</td>\n",
       "    </tr>\n",
       "    <tr>\n",
       "      <th>267</th>\n",
       "      <td>PHX</td>\n",
       "      <td>47337</td>\n",
       "    </tr>\n",
       "    <tr>\n",
       "      <th>101</th>\n",
       "      <td>DTW</td>\n",
       "      <td>46085</td>\n",
       "    </tr>\n",
       "  </tbody>\n",
       "</table>\n",
       "</div>"
      ],
      "text/plain": [
       "    origin  flights\n",
       "21     ATL   105940\n",
       "252    ORD    97581\n",
       "94     DFW    76430\n",
       "93     DEN    69907\n",
       "73     CLT    69026\n",
       "191    LAX    63585\n",
       "315    SEA    49008\n",
       "165    IAH    48675\n",
       "267    PHX    47337\n",
       "101    DTW    46085"
      ]
     },
     "execution_count": 48,
     "metadata": {},
     "output_type": "execute_result"
    }
   ],
   "source": [
    "airport_traffic=airport_traffic.sort_values(by=\"flights\", ascending=False).head(10)\n",
    "airport_traffic"
   ]
  },
  {
   "cell_type": "markdown",
   "metadata": {},
   "source": [
    "## passenger load check"
   ]
  },
  {
   "cell_type": "code",
   "execution_count": 49,
   "metadata": {},
   "outputs": [],
   "source": [
    "df_passenger_load = pd.read_csv(\"data/passengers_nov_dec_jan_raw.csv\") # same dates as above"
   ]
  },
  {
   "cell_type": "code",
   "execution_count": 51,
   "metadata": {},
   "outputs": [],
   "source": [
    "# Mapping file for airport names\n",
    "import json\n",
    "with open('data/airport_names_dict.txt') as f: # my map\n",
    "    data = f.read()\n",
    "airport_names_dict = json.loads(data)\n",
    "\n",
    "# Adding new column with full airport names\n",
    "df_passenger_load[\"airport_names\"] = df_passenger_load[\"origin\"]\n",
    "df_passenger_load[\"airport_names\"] = df_passenger_load['airport_names'].map(airport_names_dict) "
   ]
  },
  {
   "cell_type": "code",
   "execution_count": 52,
   "metadata": {},
   "outputs": [],
   "source": [
    "df_passenger_load = df_passenger_load.filter(['airport_names', 'passengers'])\n",
    "df_passenger_load = df_passenger_load.groupby(by=\"airport_names\").sum()\n",
    "df_passenger_load.reset_index(inplace=True)\n",
    "df_passenger_load=df_passenger_load.sort_values(by=\"passengers\", ascending=False).head(10)"
   ]
  },
  {
   "cell_type": "markdown",
   "metadata": {},
   "source": [
    "# Passenger load and number of flights relates somewhat... but not 100%"
   ]
  },
  {
   "cell_type": "code",
   "execution_count": 53,
   "metadata": {},
   "outputs": [
    {
     "name": "stdout",
     "output_type": "stream",
     "text": [
      "                                         airport_names  passengers\n",
      "14   Atlanta-Sandy Springs-Marietta, GA - Hartsfiel...  60719172.0\n",
      "155  Los Angeles-Long Beach-Santa Ana, CA - Los Ang...  49062946.0\n",
      "49   Chicago-Naperville-Joliet, IL-IN-WI - O'Hare I...  44221621.0\n",
      "64   Dallas-Fort Worth-Arlington, TX - Dallas/Fort ...  39126694.0\n",
      "68   Denver-Aurora-Broomfield, CO - Denver Internat...  35506258.0\n",
      "188  New York-New Jersey-Long Island, NY-NJ-PA - Jo...  34749183.0\n",
      "232  San Francisco-Oakland-Freemont, CA - San Franc...  31052704.0\n",
      "144  Las Vegas-Paradise, NV - McCarran Internationa...  27858926.0\n",
      "197  Orlando-Kissimmee, FL - Orlando International ...  27742537.0\n",
      "169  Miami-Fort Lauderdale-Pompano Beach, FL - Miam...  27486645.0 \n",
      "\n",
      "\n",
      "    origin  flights\n",
      "21     ATL   105940\n",
      "252    ORD    97581\n",
      "94     DFW    76430\n",
      "93     DEN    69907\n",
      "73     CLT    69026\n",
      "191    LAX    63585\n",
      "315    SEA    49008\n",
      "165    IAH    48675\n",
      "267    PHX    47337\n",
      "101    DTW    46085\n"
     ]
    }
   ],
   "source": [
    "print(df_passenger_load, \"\\n\\n\")\n",
    "print(airport_traffic)"
   ]
  },
  {
   "cell_type": "markdown",
   "metadata": {},
   "source": [
    "#### **Task 10**: Do bigger delays lead to bigger fuel comsumption per passenger? \n",
    "We need to do four things to answer this as accurate as possible:\n",
    "- Find out average monthly delay per air carrier (monthly delay is sum of all delays in 1 month)\n",
    "- Find out distance covered monthly by different air carriers\n",
    "- Find out number of passengers that were carried by different air carriers\n",
    "- Find out total fuel comsumption per air carrier.\n",
    "\n",
    "Use this information to get the average fuel comsumption per passenger per km. Is this higher for the airlines with bigger average delays?"
   ]
  },
  {
   "cell_type": "code",
   "execution_count": 57,
   "metadata": {},
   "outputs": [],
   "source": [
    "task_10_raw = pd.read_csv(\"data/all_months_raw.csv\")"
   ]
  },
  {
   "cell_type": "code",
   "execution_count": 58,
   "metadata": {},
   "outputs": [],
   "source": [
    "def task_10_filtering(data, filter_to, group_by):\n",
    "    task_10 = data.filter(items=filter_to)\n",
    "    task_10['fl_date'] = pd.to_datetime(task_10['fl_date'], format='%Y-%m-%d')\n",
    "    task_10['fl_date'] = pd.DatetimeIndex(task_10['fl_date']).month\n",
    "    task_10_grouped = task_10.groupby(by=group_by).mean()\n",
    "    task_10_grouped.reset_index(inplace=True)\n",
    "    return task_10_grouped"
   ]
  },
  {
   "cell_type": "code",
   "execution_count": 59,
   "metadata": {},
   "outputs": [],
   "source": [
    "def filter_groupby(data, filter_, groupby_):\n",
    "    df_ = data.filter(items=filter_)\n",
    "    df_ = df_.groupby(by=groupby_).sum()\n",
    "    df_.reset_index(inplace=True)\n",
    "    return df_"
   ]
  },
  {
   "cell_type": "markdown",
   "metadata": {},
   "source": [
    "## Monthly mean delay per airline"
   ]
  },
  {
   "cell_type": "code",
   "execution_count": 60,
   "metadata": {},
   "outputs": [],
   "source": [
    "t10_delay_mean = task_10_filtering(task_10_raw, \n",
    "                  ['fl_date','mkt_unique_carrier','arr_delay'],\n",
    "                  ['mkt_unique_carrier','fl_date'])"
   ]
  },
  {
   "cell_type": "markdown",
   "metadata": {},
   "source": [
    "## Find out distance covered monthly by different air carriers"
   ]
  },
  {
   "cell_type": "code",
   "execution_count": 61,
   "metadata": {},
   "outputs": [],
   "source": [
    "t10_distance = task_10_filtering(task_10_raw, \n",
    "                  ['fl_date','mkt_unique_carrier','distance'],\n",
    "                  ['mkt_unique_carrier','fl_date'])"
   ]
  },
  {
   "cell_type": "markdown",
   "metadata": {},
   "source": [
    "## Find out number of passengers that were carried by different air carriers"
   ]
  },
  {
   "cell_type": "code",
   "execution_count": 62,
   "metadata": {},
   "outputs": [],
   "source": [
    "df_passengers = pd.read_csv(\"data/all_passengers_raw.csv\") # small sample from db"
   ]
  },
  {
   "cell_type": "code",
   "execution_count": 63,
   "metadata": {},
   "outputs": [],
   "source": [
    "t10_passengers = filter_groupby(df_passengers, \n",
    "               ['carrier_name', 'passengers'], \n",
    "               [\"carrier_name\"])"
   ]
  },
  {
   "cell_type": "markdown",
   "metadata": {},
   "source": [
    "## total fuel consumption 2018"
   ]
  },
  {
   "cell_type": "code",
   "execution_count": 64,
   "metadata": {},
   "outputs": [],
   "source": [
    "fuel = pd.read_csv(\"data/fuel_comsumption_2018.csv\")"
   ]
  },
  {
   "cell_type": "code",
   "execution_count": 65,
   "metadata": {},
   "outputs": [],
   "source": [
    "t10_fuel = filter_groupby(fuel, ['carrier_name','total_gallons','total_cost'], ['carrier_name'])"
   ]
  },
  {
   "cell_type": "markdown",
   "metadata": {},
   "source": [
    "### final answer"
   ]
  },
  {
   "cell_type": "code",
   "execution_count": 66,
   "metadata": {},
   "outputs": [
    {
     "data": {
      "text/html": [
       "<div>\n",
       "<style scoped>\n",
       "    .dataframe tbody tr th:only-of-type {\n",
       "        vertical-align: middle;\n",
       "    }\n",
       "\n",
       "    .dataframe tbody tr th {\n",
       "        vertical-align: top;\n",
       "    }\n",
       "\n",
       "    .dataframe thead th {\n",
       "        text-align: right;\n",
       "    }\n",
       "</style>\n",
       "<table border=\"1\" class=\"dataframe\">\n",
       "  <thead>\n",
       "    <tr style=\"text-align: right;\">\n",
       "      <th></th>\n",
       "      <th>mkt_unique_carrier</th>\n",
       "      <th>fl_date</th>\n",
       "      <th>arr_delay</th>\n",
       "    </tr>\n",
       "  </thead>\n",
       "  <tbody>\n",
       "    <tr>\n",
       "      <th>54</th>\n",
       "      <td>F9</td>\n",
       "      <td>7</td>\n",
       "      <td>23.627193</td>\n",
       "    </tr>\n",
       "    <tr>\n",
       "      <th>65</th>\n",
       "      <td>G4</td>\n",
       "      <td>6</td>\n",
       "      <td>19.378840</td>\n",
       "    </tr>\n",
       "    <tr>\n",
       "      <th>53</th>\n",
       "      <td>F9</td>\n",
       "      <td>6</td>\n",
       "      <td>18.456107</td>\n",
       "    </tr>\n",
       "    <tr>\n",
       "      <th>24</th>\n",
       "      <td>B6</td>\n",
       "      <td>1</td>\n",
       "      <td>17.698039</td>\n",
       "    </tr>\n",
       "    <tr>\n",
       "      <th>101</th>\n",
       "      <td>UA</td>\n",
       "      <td>6</td>\n",
       "      <td>16.905304</td>\n",
       "    </tr>\n",
       "    <tr>\n",
       "      <th>26</th>\n",
       "      <td>B6</td>\n",
       "      <td>3</td>\n",
       "      <td>16.169096</td>\n",
       "    </tr>\n",
       "    <tr>\n",
       "      <th>35</th>\n",
       "      <td>B6</td>\n",
       "      <td>12</td>\n",
       "      <td>16.036187</td>\n",
       "    </tr>\n",
       "    <tr>\n",
       "      <th>55</th>\n",
       "      <td>F9</td>\n",
       "      <td>8</td>\n",
       "      <td>15.612245</td>\n",
       "    </tr>\n",
       "    <tr>\n",
       "      <th>31</th>\n",
       "      <td>B6</td>\n",
       "      <td>8</td>\n",
       "      <td>15.370189</td>\n",
       "    </tr>\n",
       "    <tr>\n",
       "      <th>52</th>\n",
       "      <td>F9</td>\n",
       "      <td>5</td>\n",
       "      <td>15.052392</td>\n",
       "    </tr>\n",
       "    <tr>\n",
       "      <th>102</th>\n",
       "      <td>UA</td>\n",
       "      <td>7</td>\n",
       "      <td>14.477929</td>\n",
       "    </tr>\n",
       "    <tr>\n",
       "      <th>51</th>\n",
       "      <td>F9</td>\n",
       "      <td>4</td>\n",
       "      <td>14.115646</td>\n",
       "    </tr>\n",
       "    <tr>\n",
       "      <th>91</th>\n",
       "      <td>NK</td>\n",
       "      <td>8</td>\n",
       "      <td>14.005671</td>\n",
       "    </tr>\n",
       "    <tr>\n",
       "      <th>50</th>\n",
       "      <td>F9</td>\n",
       "      <td>3</td>\n",
       "      <td>13.965909</td>\n",
       "    </tr>\n",
       "    <tr>\n",
       "      <th>62</th>\n",
       "      <td>G4</td>\n",
       "      <td>3</td>\n",
       "      <td>12.711297</td>\n",
       "    </tr>\n",
       "    <tr>\n",
       "      <th>30</th>\n",
       "      <td>B6</td>\n",
       "      <td>7</td>\n",
       "      <td>12.130330</td>\n",
       "    </tr>\n",
       "    <tr>\n",
       "      <th>70</th>\n",
       "      <td>G4</td>\n",
       "      <td>11</td>\n",
       "      <td>12.097500</td>\n",
       "    </tr>\n",
       "    <tr>\n",
       "      <th>90</th>\n",
       "      <td>NK</td>\n",
       "      <td>7</td>\n",
       "      <td>11.460938</td>\n",
       "    </tr>\n",
       "    <tr>\n",
       "      <th>34</th>\n",
       "      <td>B6</td>\n",
       "      <td>11</td>\n",
       "      <td>10.990625</td>\n",
       "    </tr>\n",
       "    <tr>\n",
       "      <th>7</th>\n",
       "      <td>AA</td>\n",
       "      <td>8</td>\n",
       "      <td>10.965295</td>\n",
       "    </tr>\n",
       "  </tbody>\n",
       "</table>\n",
       "</div>"
      ],
      "text/plain": [
       "    mkt_unique_carrier  fl_date  arr_delay\n",
       "54                  F9        7  23.627193\n",
       "65                  G4        6  19.378840\n",
       "53                  F9        6  18.456107\n",
       "24                  B6        1  17.698039\n",
       "101                 UA        6  16.905304\n",
       "26                  B6        3  16.169096\n",
       "35                  B6       12  16.036187\n",
       "55                  F9        8  15.612245\n",
       "31                  B6        8  15.370189\n",
       "52                  F9        5  15.052392\n",
       "102                 UA        7  14.477929\n",
       "51                  F9        4  14.115646\n",
       "91                  NK        8  14.005671\n",
       "50                  F9        3  13.965909\n",
       "62                  G4        3  12.711297\n",
       "30                  B6        7  12.130330\n",
       "70                  G4       11  12.097500\n",
       "90                  NK        7  11.460938\n",
       "34                  B6       11  10.990625\n",
       "7                   AA        8  10.965295"
      ]
     },
     "execution_count": 66,
     "metadata": {},
     "output_type": "execute_result"
    }
   ],
   "source": [
    "# Now create a final answer for do delays = fuel consumption\n",
    "t10_delay_mean.sort_values(by=['arr_delay'], ascending=False).head(20)"
   ]
  },
  {
   "cell_type": "code",
   "execution_count": 68,
   "metadata": {},
   "outputs": [
    {
     "data": {
      "text/html": [
       "<div>\n",
       "<style scoped>\n",
       "    .dataframe tbody tr th:only-of-type {\n",
       "        vertical-align: middle;\n",
       "    }\n",
       "\n",
       "    .dataframe tbody tr th {\n",
       "        vertical-align: top;\n",
       "    }\n",
       "\n",
       "    .dataframe thead th {\n",
       "        text-align: right;\n",
       "    }\n",
       "</style>\n",
       "<table border=\"1\" class=\"dataframe\">\n",
       "  <thead>\n",
       "    <tr style=\"text-align: right;\">\n",
       "      <th></th>\n",
       "      <th>carrier_name</th>\n",
       "      <th>passengers</th>\n",
       "    </tr>\n",
       "  </thead>\n",
       "  <tbody>\n",
       "    <tr>\n",
       "      <th>265</th>\n",
       "      <td>Southwest Airlines Co.</td>\n",
       "      <td>24515608.0</td>\n",
       "    </tr>\n",
       "    <tr>\n",
       "      <th>106</th>\n",
       "      <td>Delta Air Lines Inc.</td>\n",
       "      <td>23127754.0</td>\n",
       "    </tr>\n",
       "    <tr>\n",
       "      <th>49</th>\n",
       "      <td>American Airlines Inc.</td>\n",
       "      <td>21103513.0</td>\n",
       "    </tr>\n",
       "    <tr>\n",
       "      <th>306</th>\n",
       "      <td>United Air Lines Inc.</td>\n",
       "      <td>15794188.0</td>\n",
       "    </tr>\n",
       "    <tr>\n",
       "      <th>172</th>\n",
       "      <td>JetBlue Airways</td>\n",
       "      <td>5946620.0</td>\n",
       "    </tr>\n",
       "    <tr>\n",
       "      <th>261</th>\n",
       "      <td>SkyWest Airlines Inc.</td>\n",
       "      <td>5379248.0</td>\n",
       "    </tr>\n",
       "    <tr>\n",
       "      <th>42</th>\n",
       "      <td>Alaska Airlines Inc.</td>\n",
       "      <td>4719794.0</td>\n",
       "    </tr>\n",
       "    <tr>\n",
       "      <th>267</th>\n",
       "      <td>Spirit Air Lines</td>\n",
       "      <td>3846606.0</td>\n",
       "    </tr>\n",
       "    <tr>\n",
       "      <th>155</th>\n",
       "      <td>Hawaiian Airlines Inc.</td>\n",
       "      <td>3137857.0</td>\n",
       "    </tr>\n",
       "    <tr>\n",
       "      <th>128</th>\n",
       "      <td>ExpressJet Airlines Inc.</td>\n",
       "      <td>2372469.0</td>\n",
       "    </tr>\n",
       "    <tr>\n",
       "      <th>121</th>\n",
       "      <td>Envoy Air</td>\n",
       "      <td>2250063.0</td>\n",
       "    </tr>\n",
       "    <tr>\n",
       "      <th>140</th>\n",
       "      <td>Frontier Airlines Inc.</td>\n",
       "      <td>2238312.0</td>\n",
       "    </tr>\n",
       "    <tr>\n",
       "      <th>220</th>\n",
       "      <td>PSA Airlines Inc.</td>\n",
       "      <td>2106351.0</td>\n",
       "    </tr>\n",
       "    <tr>\n",
       "      <th>200</th>\n",
       "      <td>Mesa Airlines Inc.</td>\n",
       "      <td>1989755.0</td>\n",
       "    </tr>\n",
       "    <tr>\n",
       "      <th>120</th>\n",
       "      <td>Endeavor Air Inc.</td>\n",
       "      <td>1968660.0</td>\n",
       "    </tr>\n",
       "    <tr>\n",
       "      <th>237</th>\n",
       "      <td>Republic Airline</td>\n",
       "      <td>1768069.0</td>\n",
       "    </tr>\n",
       "    <tr>\n",
       "      <th>47</th>\n",
       "      <td>Allegiant Air</td>\n",
       "      <td>1533586.0</td>\n",
       "    </tr>\n",
       "    <tr>\n",
       "      <th>158</th>\n",
       "      <td>Horizon Air</td>\n",
       "      <td>1296335.0</td>\n",
       "    </tr>\n",
       "    <tr>\n",
       "      <th>69</th>\n",
       "      <td>British Airways Plc</td>\n",
       "      <td>1088215.0</td>\n",
       "    </tr>\n",
       "    <tr>\n",
       "      <th>314</th>\n",
       "      <td>Virgin Atlantic Airways</td>\n",
       "      <td>1034068.0</td>\n",
       "    </tr>\n",
       "  </tbody>\n",
       "</table>\n",
       "</div>"
      ],
      "text/plain": [
       "                 carrier_name  passengers\n",
       "265    Southwest Airlines Co.  24515608.0\n",
       "106      Delta Air Lines Inc.  23127754.0\n",
       "49     American Airlines Inc.  21103513.0\n",
       "306     United Air Lines Inc.  15794188.0\n",
       "172           JetBlue Airways   5946620.0\n",
       "261     SkyWest Airlines Inc.   5379248.0\n",
       "42       Alaska Airlines Inc.   4719794.0\n",
       "267          Spirit Air Lines   3846606.0\n",
       "155    Hawaiian Airlines Inc.   3137857.0\n",
       "128  ExpressJet Airlines Inc.   2372469.0\n",
       "121                 Envoy Air   2250063.0\n",
       "140    Frontier Airlines Inc.   2238312.0\n",
       "220         PSA Airlines Inc.   2106351.0\n",
       "200        Mesa Airlines Inc.   1989755.0\n",
       "120         Endeavor Air Inc.   1968660.0\n",
       "237          Republic Airline   1768069.0\n",
       "47              Allegiant Air   1533586.0\n",
       "158               Horizon Air   1296335.0\n",
       "69        British Airways Plc   1088215.0\n",
       "314   Virgin Atlantic Airways   1034068.0"
      ]
     },
     "execution_count": 68,
     "metadata": {},
     "output_type": "execute_result"
    }
   ],
   "source": [
    "t10_passengers.sort_values(by=['passengers'], ascending=False).head(20)"
   ]
  },
  {
   "cell_type": "code",
   "execution_count": 69,
   "metadata": {},
   "outputs": [
    {
     "data": {
      "text/html": [
       "<div>\n",
       "<style scoped>\n",
       "    .dataframe tbody tr th:only-of-type {\n",
       "        vertical-align: middle;\n",
       "    }\n",
       "\n",
       "    .dataframe tbody tr th {\n",
       "        vertical-align: top;\n",
       "    }\n",
       "\n",
       "    .dataframe thead th {\n",
       "        text-align: right;\n",
       "    }\n",
       "</style>\n",
       "<table border=\"1\" class=\"dataframe\">\n",
       "  <thead>\n",
       "    <tr style=\"text-align: right;\">\n",
       "      <th></th>\n",
       "      <th>carrier_name</th>\n",
       "      <th>total_gallons</th>\n",
       "      <th>total_cost</th>\n",
       "    </tr>\n",
       "  </thead>\n",
       "  <tbody>\n",
       "    <tr>\n",
       "      <th>5</th>\n",
       "      <td>American Airlines Inc.</td>\n",
       "      <td>3.644229e+09</td>\n",
       "      <td>7.664752e+09</td>\n",
       "    </tr>\n",
       "    <tr>\n",
       "      <th>12</th>\n",
       "      <td>Delta Air Lines Inc.</td>\n",
       "      <td>3.532291e+09</td>\n",
       "      <td>7.804773e+09</td>\n",
       "    </tr>\n",
       "    <tr>\n",
       "      <th>47</th>\n",
       "      <td>United Air Lines Inc.</td>\n",
       "      <td>3.445675e+09</td>\n",
       "      <td>7.349735e+09</td>\n",
       "    </tr>\n",
       "    <tr>\n",
       "      <th>41</th>\n",
       "      <td>Southwest Airlines Co.</td>\n",
       "      <td>2.097334e+09</td>\n",
       "      <td>4.401933e+09</td>\n",
       "    </tr>\n",
       "    <tr>\n",
       "      <th>18</th>\n",
       "      <td>Federal Express Corporation</td>\n",
       "      <td>1.191254e+09</td>\n",
       "      <td>2.520032e+09</td>\n",
       "    </tr>\n",
       "    <tr>\n",
       "      <th>48</th>\n",
       "      <td>United Parcel Service</td>\n",
       "      <td>8.710680e+08</td>\n",
       "      <td>1.833157e+09</td>\n",
       "    </tr>\n",
       "    <tr>\n",
       "      <th>25</th>\n",
       "      <td>JetBlue Airways</td>\n",
       "      <td>8.491668e+08</td>\n",
       "      <td>1.899236e+09</td>\n",
       "    </tr>\n",
       "    <tr>\n",
       "      <th>2</th>\n",
       "      <td>Alaska Airlines Inc.</td>\n",
       "      <td>7.268123e+08</td>\n",
       "      <td>1.677872e+09</td>\n",
       "    </tr>\n",
       "    <tr>\n",
       "      <th>8</th>\n",
       "      <td>Atlas Air Inc.</td>\n",
       "      <td>5.385347e+08</td>\n",
       "      <td>1.183040e+09</td>\n",
       "    </tr>\n",
       "    <tr>\n",
       "      <th>42</th>\n",
       "      <td>Spirit Air Lines</td>\n",
       "      <td>4.123464e+08</td>\n",
       "      <td>9.393240e+08</td>\n",
       "    </tr>\n",
       "    <tr>\n",
       "      <th>22</th>\n",
       "      <td>Hawaiian Airlines Inc.</td>\n",
       "      <td>2.737826e+08</td>\n",
       "      <td>5.776729e+08</td>\n",
       "    </tr>\n",
       "    <tr>\n",
       "      <th>19</th>\n",
       "      <td>Frontier Airlines Inc.</td>\n",
       "      <td>2.610978e+08</td>\n",
       "      <td>5.344925e+08</td>\n",
       "    </tr>\n",
       "    <tr>\n",
       "      <th>3</th>\n",
       "      <td>Allegiant Air</td>\n",
       "      <td>1.914712e+08</td>\n",
       "      <td>4.449544e+08</td>\n",
       "    </tr>\n",
       "    <tr>\n",
       "      <th>35</th>\n",
       "      <td>Polar Air Cargo Airways</td>\n",
       "      <td>1.908495e+08</td>\n",
       "      <td>4.027558e+08</td>\n",
       "    </tr>\n",
       "    <tr>\n",
       "      <th>39</th>\n",
       "      <td>SkyWest Airlines Inc.</td>\n",
       "      <td>9.766412e+07</td>\n",
       "      <td>2.427984e+08</td>\n",
       "    </tr>\n",
       "    <tr>\n",
       "      <th>40</th>\n",
       "      <td>Southern Air Inc.</td>\n",
       "      <td>8.456668e+07</td>\n",
       "      <td>1.924394e+08</td>\n",
       "    </tr>\n",
       "    <tr>\n",
       "      <th>26</th>\n",
       "      <td>Kalitta Air LLC</td>\n",
       "      <td>7.297070e+07</td>\n",
       "      <td>1.728958e+08</td>\n",
       "    </tr>\n",
       "    <tr>\n",
       "      <th>33</th>\n",
       "      <td>Omni Air International LLC</td>\n",
       "      <td>4.376291e+07</td>\n",
       "      <td>1.043721e+08</td>\n",
       "    </tr>\n",
       "    <tr>\n",
       "      <th>43</th>\n",
       "      <td>Sun Country Airlines d/b/a MN Airlines</td>\n",
       "      <td>4.237183e+07</td>\n",
       "      <td>1.502310e+08</td>\n",
       "    </tr>\n",
       "    <tr>\n",
       "      <th>49</th>\n",
       "      <td>Western Global</td>\n",
       "      <td>2.923297e+07</td>\n",
       "      <td>6.189962e+07</td>\n",
       "    </tr>\n",
       "  </tbody>\n",
       "</table>\n",
       "</div>"
      ],
      "text/plain": [
       "                              carrier_name  total_gallons    total_cost\n",
       "5                   American Airlines Inc.   3.644229e+09  7.664752e+09\n",
       "12                    Delta Air Lines Inc.   3.532291e+09  7.804773e+09\n",
       "47                   United Air Lines Inc.   3.445675e+09  7.349735e+09\n",
       "41                  Southwest Airlines Co.   2.097334e+09  4.401933e+09\n",
       "18             Federal Express Corporation   1.191254e+09  2.520032e+09\n",
       "48                   United Parcel Service   8.710680e+08  1.833157e+09\n",
       "25                         JetBlue Airways   8.491668e+08  1.899236e+09\n",
       "2                     Alaska Airlines Inc.   7.268123e+08  1.677872e+09\n",
       "8                           Atlas Air Inc.   5.385347e+08  1.183040e+09\n",
       "42                        Spirit Air Lines   4.123464e+08  9.393240e+08\n",
       "22                  Hawaiian Airlines Inc.   2.737826e+08  5.776729e+08\n",
       "19                  Frontier Airlines Inc.   2.610978e+08  5.344925e+08\n",
       "3                            Allegiant Air   1.914712e+08  4.449544e+08\n",
       "35                 Polar Air Cargo Airways   1.908495e+08  4.027558e+08\n",
       "39                   SkyWest Airlines Inc.   9.766412e+07  2.427984e+08\n",
       "40                       Southern Air Inc.   8.456668e+07  1.924394e+08\n",
       "26                         Kalitta Air LLC   7.297070e+07  1.728958e+08\n",
       "33              Omni Air International LLC   4.376291e+07  1.043721e+08\n",
       "43  Sun Country Airlines d/b/a MN Airlines   4.237183e+07  1.502310e+08\n",
       "49                          Western Global   2.923297e+07  6.189962e+07"
      ]
     },
     "execution_count": 69,
     "metadata": {},
     "output_type": "execute_result"
    }
   ],
   "source": [
    "t10_fuel.sort_values(by=['total_gallons'], ascending=False).head(20)"
   ]
  },
  {
   "cell_type": "code",
   "execution_count": 70,
   "metadata": {},
   "outputs": [],
   "source": [
    "# 1 - get fuel per passenger\n",
    "# 2 - merge fuel per passenger to delay times\n",
    "# 3 - find a way to plot it."
   ]
  },
  {
   "cell_type": "code",
   "execution_count": 71,
   "metadata": {},
   "outputs": [],
   "source": [
    "fuel_per_passenger = t10_fuel.merge(t10_passengers, how='left', on='carrier_name')"
   ]
  },
  {
   "cell_type": "code",
   "execution_count": 72,
   "metadata": {},
   "outputs": [],
   "source": [
    "fuel_per_passenger = fuel_per_passenger[fuel_per_passenger['passengers'] >0]"
   ]
  },
  {
   "cell_type": "code",
   "execution_count": 73,
   "metadata": {},
   "outputs": [],
   "source": [
    "fuel_per_passenger[\"fuel_per_passenger\"] = fuel_per_passenger.total_gallons / fuel_per_passenger.passengers"
   ]
  },
  {
   "cell_type": "code",
   "execution_count": 74,
   "metadata": {},
   "outputs": [],
   "source": [
    "fuel_per_passenger = fuel_per_passenger.filter(items=[\"carrier_name\",\"fuel_per_passenger\"]).sort_values(by=['fuel_per_passenger'], ascending=False)"
   ]
  },
  {
   "cell_type": "code",
   "execution_count": 75,
   "metadata": {},
   "outputs": [
    {
     "data": {
      "text/html": [
       "<div>\n",
       "<style scoped>\n",
       "    .dataframe tbody tr th:only-of-type {\n",
       "        vertical-align: middle;\n",
       "    }\n",
       "\n",
       "    .dataframe tbody tr th {\n",
       "        vertical-align: top;\n",
       "    }\n",
       "\n",
       "    .dataframe thead th {\n",
       "        text-align: right;\n",
       "    }\n",
       "</style>\n",
       "<table border=\"1\" class=\"dataframe\">\n",
       "  <thead>\n",
       "    <tr style=\"text-align: right;\">\n",
       "      <th></th>\n",
       "      <th>carrier_name</th>\n",
       "      <th>fuel_per_passenger</th>\n",
       "    </tr>\n",
       "  </thead>\n",
       "  <tbody>\n",
       "    <tr>\n",
       "      <th>8</th>\n",
       "      <td>Atlas Air Inc.</td>\n",
       "      <td>86706.596522</td>\n",
       "    </tr>\n",
       "    <tr>\n",
       "      <th>31</th>\n",
       "      <td>National Air Cargo Group Inc d/ba National Air...</td>\n",
       "      <td>18834.305136</td>\n",
       "    </tr>\n",
       "    <tr>\n",
       "      <th>45</th>\n",
       "      <td>Tatonduk Outfitters Limited d/b/a Everts Air A...</td>\n",
       "      <td>4786.296182</td>\n",
       "    </tr>\n",
       "    <tr>\n",
       "      <th>33</th>\n",
       "      <td>Omni Air International LLC</td>\n",
       "      <td>2468.158141</td>\n",
       "    </tr>\n",
       "    <tr>\n",
       "      <th>44</th>\n",
       "      <td>Swift Air, LLC d/b/a Eastern Air Lines d/b/a E...</td>\n",
       "      <td>846.153422</td>\n",
       "    </tr>\n",
       "    <tr>\n",
       "      <th>30</th>\n",
       "      <td>Miami Air International</td>\n",
       "      <td>425.424678</td>\n",
       "    </tr>\n",
       "    <tr>\n",
       "      <th>14</th>\n",
       "      <td>Elite Airways LLC</td>\n",
       "      <td>311.800315</td>\n",
       "    </tr>\n",
       "    <tr>\n",
       "      <th>47</th>\n",
       "      <td>United Air Lines Inc.</td>\n",
       "      <td>218.160963</td>\n",
       "    </tr>\n",
       "    <tr>\n",
       "      <th>9</th>\n",
       "      <td>Avjet Corporation</td>\n",
       "      <td>193.997881</td>\n",
       "    </tr>\n",
       "    <tr>\n",
       "      <th>5</th>\n",
       "      <td>American Airlines Inc.</td>\n",
       "      <td>172.683535</td>\n",
       "    </tr>\n",
       "    <tr>\n",
       "      <th>2</th>\n",
       "      <td>Alaska Airlines Inc.</td>\n",
       "      <td>153.992378</td>\n",
       "    </tr>\n",
       "    <tr>\n",
       "      <th>12</th>\n",
       "      <td>Delta Air Lines Inc.</td>\n",
       "      <td>152.729512</td>\n",
       "    </tr>\n",
       "    <tr>\n",
       "      <th>25</th>\n",
       "      <td>JetBlue Airways</td>\n",
       "      <td>142.798234</td>\n",
       "    </tr>\n",
       "    <tr>\n",
       "      <th>10</th>\n",
       "      <td>Caribbean Sun Airlines, Inc. d/b/a World Atlan...</td>\n",
       "      <td>133.311185</td>\n",
       "    </tr>\n",
       "    <tr>\n",
       "      <th>13</th>\n",
       "      <td>Eastern Airlines f/k/a Dynamic Airways, LLC</td>\n",
       "      <td>129.482123</td>\n",
       "    </tr>\n",
       "    <tr>\n",
       "      <th>3</th>\n",
       "      <td>Allegiant Air</td>\n",
       "      <td>124.851974</td>\n",
       "    </tr>\n",
       "    <tr>\n",
       "      <th>19</th>\n",
       "      <td>Frontier Airlines Inc.</td>\n",
       "      <td>116.649421</td>\n",
       "    </tr>\n",
       "    <tr>\n",
       "      <th>42</th>\n",
       "      <td>Spirit Air Lines</td>\n",
       "      <td>107.197470</td>\n",
       "    </tr>\n",
       "    <tr>\n",
       "      <th>22</th>\n",
       "      <td>Hawaiian Airlines Inc.</td>\n",
       "      <td>87.251457</td>\n",
       "    </tr>\n",
       "    <tr>\n",
       "      <th>50</th>\n",
       "      <td>XTRA Airways</td>\n",
       "      <td>87.092672</td>\n",
       "    </tr>\n",
       "    <tr>\n",
       "      <th>43</th>\n",
       "      <td>Sun Country Airlines d/b/a MN Airlines</td>\n",
       "      <td>87.045853</td>\n",
       "    </tr>\n",
       "    <tr>\n",
       "      <th>41</th>\n",
       "      <td>Southwest Airlines Co.</td>\n",
       "      <td>85.550958</td>\n",
       "    </tr>\n",
       "    <tr>\n",
       "      <th>39</th>\n",
       "      <td>SkyWest Airlines Inc.</td>\n",
       "      <td>18.155720</td>\n",
       "    </tr>\n",
       "    <tr>\n",
       "      <th>36</th>\n",
       "      <td>Republic Airline</td>\n",
       "      <td>0.184799</td>\n",
       "    </tr>\n",
       "    <tr>\n",
       "      <th>29</th>\n",
       "      <td>Mesa Airlines Inc.</td>\n",
       "      <td>0.000000</td>\n",
       "    </tr>\n",
       "    <tr>\n",
       "      <th>23</th>\n",
       "      <td>Horizon Air</td>\n",
       "      <td>0.000000</td>\n",
       "    </tr>\n",
       "    <tr>\n",
       "      <th>20</th>\n",
       "      <td>GoJet Airlines LLC d/b/a United Express</td>\n",
       "      <td>0.000000</td>\n",
       "    </tr>\n",
       "    <tr>\n",
       "      <th>34</th>\n",
       "      <td>PSA Airlines Inc.</td>\n",
       "      <td>0.000000</td>\n",
       "    </tr>\n",
       "    <tr>\n",
       "      <th>37</th>\n",
       "      <td>Scott Aviation, LLC  d/b/a  Silver Air</td>\n",
       "      <td>0.000000</td>\n",
       "    </tr>\n",
       "    <tr>\n",
       "      <th>17</th>\n",
       "      <td>ExpressJet Airlines Inc.</td>\n",
       "      <td>0.000000</td>\n",
       "    </tr>\n",
       "    <tr>\n",
       "      <th>16</th>\n",
       "      <td>Envoy Air</td>\n",
       "      <td>0.000000</td>\n",
       "    </tr>\n",
       "    <tr>\n",
       "      <th>15</th>\n",
       "      <td>Endeavor Air Inc.</td>\n",
       "      <td>0.000000</td>\n",
       "    </tr>\n",
       "    <tr>\n",
       "      <th>11</th>\n",
       "      <td>Compass Airlines</td>\n",
       "      <td>0.000000</td>\n",
       "    </tr>\n",
       "    <tr>\n",
       "      <th>24</th>\n",
       "      <td>Jet Aviation Flight Services, Inc.</td>\n",
       "      <td>0.000000</td>\n",
       "    </tr>\n",
       "  </tbody>\n",
       "</table>\n",
       "</div>"
      ],
      "text/plain": [
       "                                         carrier_name  fuel_per_passenger\n",
       "8                                      Atlas Air Inc.        86706.596522\n",
       "31  National Air Cargo Group Inc d/ba National Air...        18834.305136\n",
       "45  Tatonduk Outfitters Limited d/b/a Everts Air A...         4786.296182\n",
       "33                         Omni Air International LLC         2468.158141\n",
       "44  Swift Air, LLC d/b/a Eastern Air Lines d/b/a E...          846.153422\n",
       "30                            Miami Air International          425.424678\n",
       "14                                  Elite Airways LLC          311.800315\n",
       "47                              United Air Lines Inc.          218.160963\n",
       "9                                   Avjet Corporation          193.997881\n",
       "5                              American Airlines Inc.          172.683535\n",
       "2                                Alaska Airlines Inc.          153.992378\n",
       "12                               Delta Air Lines Inc.          152.729512\n",
       "25                                    JetBlue Airways          142.798234\n",
       "10  Caribbean Sun Airlines, Inc. d/b/a World Atlan...          133.311185\n",
       "13        Eastern Airlines f/k/a Dynamic Airways, LLC          129.482123\n",
       "3                                       Allegiant Air          124.851974\n",
       "19                             Frontier Airlines Inc.          116.649421\n",
       "42                                   Spirit Air Lines          107.197470\n",
       "22                             Hawaiian Airlines Inc.           87.251457\n",
       "50                                       XTRA Airways           87.092672\n",
       "43             Sun Country Airlines d/b/a MN Airlines           87.045853\n",
       "41                             Southwest Airlines Co.           85.550958\n",
       "39                              SkyWest Airlines Inc.           18.155720\n",
       "36                                   Republic Airline            0.184799\n",
       "29                                 Mesa Airlines Inc.            0.000000\n",
       "23                                        Horizon Air            0.000000\n",
       "20            GoJet Airlines LLC d/b/a United Express            0.000000\n",
       "34                                  PSA Airlines Inc.            0.000000\n",
       "37             Scott Aviation, LLC  d/b/a  Silver Air            0.000000\n",
       "17                           ExpressJet Airlines Inc.            0.000000\n",
       "16                                          Envoy Air            0.000000\n",
       "15                                  Endeavor Air Inc.            0.000000\n",
       "11                                   Compass Airlines            0.000000\n",
       "24                 Jet Aviation Flight Services, Inc.            0.000000"
      ]
     },
     "execution_count": 75,
     "metadata": {},
     "output_type": "execute_result"
    }
   ],
   "source": [
    "fuel_per_passenger"
   ]
  },
  {
   "cell_type": "code",
   "execution_count": 76,
   "metadata": {},
   "outputs": [
    {
     "data": {
      "text/html": [
       "<div>\n",
       "<style scoped>\n",
       "    .dataframe tbody tr th:only-of-type {\n",
       "        vertical-align: middle;\n",
       "    }\n",
       "\n",
       "    .dataframe tbody tr th {\n",
       "        vertical-align: top;\n",
       "    }\n",
       "\n",
       "    .dataframe thead th {\n",
       "        text-align: right;\n",
       "    }\n",
       "</style>\n",
       "<table border=\"1\" class=\"dataframe\">\n",
       "  <thead>\n",
       "    <tr style=\"text-align: right;\">\n",
       "      <th></th>\n",
       "      <th>mkt_unique_carrier</th>\n",
       "      <th>fl_date</th>\n",
       "      <th>arr_delay</th>\n",
       "    </tr>\n",
       "  </thead>\n",
       "  <tbody>\n",
       "    <tr>\n",
       "      <th>0</th>\n",
       "      <td>AA</td>\n",
       "      <td>1</td>\n",
       "      <td>4.071241</td>\n",
       "    </tr>\n",
       "    <tr>\n",
       "      <th>1</th>\n",
       "      <td>AA</td>\n",
       "      <td>2</td>\n",
       "      <td>7.541176</td>\n",
       "    </tr>\n",
       "    <tr>\n",
       "      <th>2</th>\n",
       "      <td>AA</td>\n",
       "      <td>3</td>\n",
       "      <td>2.613284</td>\n",
       "    </tr>\n",
       "    <tr>\n",
       "      <th>3</th>\n",
       "      <td>AA</td>\n",
       "      <td>4</td>\n",
       "      <td>5.403794</td>\n",
       "    </tr>\n",
       "    <tr>\n",
       "      <th>4</th>\n",
       "      <td>AA</td>\n",
       "      <td>5</td>\n",
       "      <td>9.590708</td>\n",
       "    </tr>\n",
       "  </tbody>\n",
       "</table>\n",
       "</div>"
      ],
      "text/plain": [
       "  mkt_unique_carrier  fl_date  arr_delay\n",
       "0                 AA        1   4.071241\n",
       "1                 AA        2   7.541176\n",
       "2                 AA        3   2.613284\n",
       "3                 AA        4   5.403794\n",
       "4                 AA        5   9.590708"
      ]
     },
     "execution_count": 76,
     "metadata": {},
     "output_type": "execute_result"
    }
   ],
   "source": [
    "t10_delay_mean.head() # let's bring in the dictionary ..."
   ]
  },
  {
   "cell_type": "code",
   "execution_count": 77,
   "metadata": {},
   "outputs": [],
   "source": [
    "# Mapping file for airline names\n",
    "import json\n",
    "with open('data/airline_names_dict.txt') as f: # my map\n",
    "    data2 = f.read()\n",
    "airline_names_dict = json.loads(data2)"
   ]
  },
  {
   "cell_type": "code",
   "execution_count": 78,
   "metadata": {},
   "outputs": [],
   "source": [
    "t10_delay_mean[\"mkt_unique_carrier\"] = t10_delay_mean['mkt_unique_carrier'].map(airline_names_dict) "
   ]
  },
  {
   "cell_type": "code",
   "execution_count": 79,
   "metadata": {},
   "outputs": [],
   "source": [
    "t10_delay_mean = t10_delay_mean.sort_values(by=['arr_delay'], ascending=False)"
   ]
  },
  {
   "cell_type": "code",
   "execution_count": 80,
   "metadata": {},
   "outputs": [],
   "source": [
    "# carrier names are too different from all tables, giving up here. Can probably eyeball"
   ]
  },
  {
   "cell_type": "code",
   "execution_count": 81,
   "metadata": {},
   "outputs": [
    {
     "data": {
      "text/html": [
       "<div>\n",
       "<style scoped>\n",
       "    .dataframe tbody tr th:only-of-type {\n",
       "        vertical-align: middle;\n",
       "    }\n",
       "\n",
       "    .dataframe tbody tr th {\n",
       "        vertical-align: top;\n",
       "    }\n",
       "\n",
       "    .dataframe thead th {\n",
       "        text-align: right;\n",
       "    }\n",
       "</style>\n",
       "<table border=\"1\" class=\"dataframe\">\n",
       "  <thead>\n",
       "    <tr style=\"text-align: right;\">\n",
       "      <th></th>\n",
       "      <th>mkt_unique_carrier</th>\n",
       "      <th>fl_date</th>\n",
       "      <th>arr_delay</th>\n",
       "    </tr>\n",
       "  </thead>\n",
       "  <tbody>\n",
       "    <tr>\n",
       "      <th>54</th>\n",
       "      <td>F9: Frontier Airlines Inc.</td>\n",
       "      <td>7</td>\n",
       "      <td>23.627193</td>\n",
       "    </tr>\n",
       "    <tr>\n",
       "      <th>65</th>\n",
       "      <td>G4: Allegiant Air</td>\n",
       "      <td>6</td>\n",
       "      <td>19.378840</td>\n",
       "    </tr>\n",
       "    <tr>\n",
       "      <th>53</th>\n",
       "      <td>F9: Frontier Airlines Inc.</td>\n",
       "      <td>6</td>\n",
       "      <td>18.456107</td>\n",
       "    </tr>\n",
       "    <tr>\n",
       "      <th>24</th>\n",
       "      <td>B6: jetBlue Airways</td>\n",
       "      <td>1</td>\n",
       "      <td>17.698039</td>\n",
       "    </tr>\n",
       "    <tr>\n",
       "      <th>101</th>\n",
       "      <td>UA: United Air Lines Inc.</td>\n",
       "      <td>6</td>\n",
       "      <td>16.905304</td>\n",
       "    </tr>\n",
       "    <tr>\n",
       "      <th>26</th>\n",
       "      <td>B6: jetBlue Airways</td>\n",
       "      <td>3</td>\n",
       "      <td>16.169096</td>\n",
       "    </tr>\n",
       "    <tr>\n",
       "      <th>35</th>\n",
       "      <td>B6: jetBlue Airways</td>\n",
       "      <td>12</td>\n",
       "      <td>16.036187</td>\n",
       "    </tr>\n",
       "    <tr>\n",
       "      <th>55</th>\n",
       "      <td>F9: Frontier Airlines Inc.</td>\n",
       "      <td>8</td>\n",
       "      <td>15.612245</td>\n",
       "    </tr>\n",
       "    <tr>\n",
       "      <th>31</th>\n",
       "      <td>B6: jetBlue Airways</td>\n",
       "      <td>8</td>\n",
       "      <td>15.370189</td>\n",
       "    </tr>\n",
       "    <tr>\n",
       "      <th>52</th>\n",
       "      <td>F9: Frontier Airlines Inc.</td>\n",
       "      <td>5</td>\n",
       "      <td>15.052392</td>\n",
       "    </tr>\n",
       "    <tr>\n",
       "      <th>102</th>\n",
       "      <td>UA: United Air Lines Inc.</td>\n",
       "      <td>7</td>\n",
       "      <td>14.477929</td>\n",
       "    </tr>\n",
       "    <tr>\n",
       "      <th>51</th>\n",
       "      <td>F9: Frontier Airlines Inc.</td>\n",
       "      <td>4</td>\n",
       "      <td>14.115646</td>\n",
       "    </tr>\n",
       "    <tr>\n",
       "      <th>91</th>\n",
       "      <td>NK: Spirit Air Lines</td>\n",
       "      <td>8</td>\n",
       "      <td>14.005671</td>\n",
       "    </tr>\n",
       "    <tr>\n",
       "      <th>50</th>\n",
       "      <td>F9: Frontier Airlines Inc.</td>\n",
       "      <td>3</td>\n",
       "      <td>13.965909</td>\n",
       "    </tr>\n",
       "    <tr>\n",
       "      <th>62</th>\n",
       "      <td>G4: Allegiant Air</td>\n",
       "      <td>3</td>\n",
       "      <td>12.711297</td>\n",
       "    </tr>\n",
       "  </tbody>\n",
       "</table>\n",
       "</div>"
      ],
      "text/plain": [
       "             mkt_unique_carrier  fl_date  arr_delay\n",
       "54   F9: Frontier Airlines Inc.        7  23.627193\n",
       "65            G4: Allegiant Air        6  19.378840\n",
       "53   F9: Frontier Airlines Inc.        6  18.456107\n",
       "24          B6: jetBlue Airways        1  17.698039\n",
       "101   UA: United Air Lines Inc.        6  16.905304\n",
       "26          B6: jetBlue Airways        3  16.169096\n",
       "35          B6: jetBlue Airways       12  16.036187\n",
       "55   F9: Frontier Airlines Inc.        8  15.612245\n",
       "31          B6: jetBlue Airways        8  15.370189\n",
       "52   F9: Frontier Airlines Inc.        5  15.052392\n",
       "102   UA: United Air Lines Inc.        7  14.477929\n",
       "51   F9: Frontier Airlines Inc.        4  14.115646\n",
       "91         NK: Spirit Air Lines        8  14.005671\n",
       "50   F9: Frontier Airlines Inc.        3  13.965909\n",
       "62            G4: Allegiant Air        3  12.711297"
      ]
     },
     "execution_count": 81,
     "metadata": {},
     "output_type": "execute_result"
    }
   ],
   "source": [
    "t10_delay_mean.head(15) # seems we have tons of outliers - private jet airlines?"
   ]
  },
  {
   "cell_type": "code",
   "execution_count": 82,
   "metadata": {},
   "outputs": [
    {
     "data": {
      "text/html": [
       "<div>\n",
       "<style scoped>\n",
       "    .dataframe tbody tr th:only-of-type {\n",
       "        vertical-align: middle;\n",
       "    }\n",
       "\n",
       "    .dataframe tbody tr th {\n",
       "        vertical-align: top;\n",
       "    }\n",
       "\n",
       "    .dataframe thead th {\n",
       "        text-align: right;\n",
       "    }\n",
       "</style>\n",
       "<table border=\"1\" class=\"dataframe\">\n",
       "  <thead>\n",
       "    <tr style=\"text-align: right;\">\n",
       "      <th></th>\n",
       "      <th>carrier_name</th>\n",
       "      <th>fuel_per_passenger</th>\n",
       "    </tr>\n",
       "  </thead>\n",
       "  <tbody>\n",
       "    <tr>\n",
       "      <th>8</th>\n",
       "      <td>Atlas Air Inc.</td>\n",
       "      <td>86706.596522</td>\n",
       "    </tr>\n",
       "    <tr>\n",
       "      <th>31</th>\n",
       "      <td>National Air Cargo Group Inc d/ba National Air...</td>\n",
       "      <td>18834.305136</td>\n",
       "    </tr>\n",
       "    <tr>\n",
       "      <th>45</th>\n",
       "      <td>Tatonduk Outfitters Limited d/b/a Everts Air A...</td>\n",
       "      <td>4786.296182</td>\n",
       "    </tr>\n",
       "    <tr>\n",
       "      <th>33</th>\n",
       "      <td>Omni Air International LLC</td>\n",
       "      <td>2468.158141</td>\n",
       "    </tr>\n",
       "    <tr>\n",
       "      <th>44</th>\n",
       "      <td>Swift Air, LLC d/b/a Eastern Air Lines d/b/a E...</td>\n",
       "      <td>846.153422</td>\n",
       "    </tr>\n",
       "    <tr>\n",
       "      <th>30</th>\n",
       "      <td>Miami Air International</td>\n",
       "      <td>425.424678</td>\n",
       "    </tr>\n",
       "    <tr>\n",
       "      <th>14</th>\n",
       "      <td>Elite Airways LLC</td>\n",
       "      <td>311.800315</td>\n",
       "    </tr>\n",
       "    <tr>\n",
       "      <th>47</th>\n",
       "      <td>United Air Lines Inc.</td>\n",
       "      <td>218.160963</td>\n",
       "    </tr>\n",
       "    <tr>\n",
       "      <th>9</th>\n",
       "      <td>Avjet Corporation</td>\n",
       "      <td>193.997881</td>\n",
       "    </tr>\n",
       "    <tr>\n",
       "      <th>5</th>\n",
       "      <td>American Airlines Inc.</td>\n",
       "      <td>172.683535</td>\n",
       "    </tr>\n",
       "    <tr>\n",
       "      <th>2</th>\n",
       "      <td>Alaska Airlines Inc.</td>\n",
       "      <td>153.992378</td>\n",
       "    </tr>\n",
       "    <tr>\n",
       "      <th>12</th>\n",
       "      <td>Delta Air Lines Inc.</td>\n",
       "      <td>152.729512</td>\n",
       "    </tr>\n",
       "    <tr>\n",
       "      <th>25</th>\n",
       "      <td>JetBlue Airways</td>\n",
       "      <td>142.798234</td>\n",
       "    </tr>\n",
       "    <tr>\n",
       "      <th>10</th>\n",
       "      <td>Caribbean Sun Airlines, Inc. d/b/a World Atlan...</td>\n",
       "      <td>133.311185</td>\n",
       "    </tr>\n",
       "    <tr>\n",
       "      <th>13</th>\n",
       "      <td>Eastern Airlines f/k/a Dynamic Airways, LLC</td>\n",
       "      <td>129.482123</td>\n",
       "    </tr>\n",
       "  </tbody>\n",
       "</table>\n",
       "</div>"
      ],
      "text/plain": [
       "                                         carrier_name  fuel_per_passenger\n",
       "8                                      Atlas Air Inc.        86706.596522\n",
       "31  National Air Cargo Group Inc d/ba National Air...        18834.305136\n",
       "45  Tatonduk Outfitters Limited d/b/a Everts Air A...         4786.296182\n",
       "33                         Omni Air International LLC         2468.158141\n",
       "44  Swift Air, LLC d/b/a Eastern Air Lines d/b/a E...          846.153422\n",
       "30                            Miami Air International          425.424678\n",
       "14                                  Elite Airways LLC          311.800315\n",
       "47                              United Air Lines Inc.          218.160963\n",
       "9                                   Avjet Corporation          193.997881\n",
       "5                              American Airlines Inc.          172.683535\n",
       "2                                Alaska Airlines Inc.          153.992378\n",
       "12                               Delta Air Lines Inc.          152.729512\n",
       "25                                    JetBlue Airways          142.798234\n",
       "10  Caribbean Sun Airlines, Inc. d/b/a World Atlan...          133.311185\n",
       "13        Eastern Airlines f/k/a Dynamic Airways, LLC          129.482123"
      ]
     },
     "execution_count": 82,
     "metadata": {},
     "output_type": "execute_result"
    }
   ],
   "source": [
    "fuel_per_passenger.head(15) # seems we have tons of outliers - private jet airlines?"
   ]
  },
  {
   "cell_type": "code",
   "execution_count": null,
   "metadata": {},
   "outputs": [],
   "source": []
  }
 ],
 "metadata": {
  "kernelspec": {
   "display_name": "Python 3 (ipykernel)",
   "language": "python",
   "name": "python3"
  },
  "language_info": {
   "codemirror_mode": {
    "name": "ipython",
    "version": 3
   },
   "file_extension": ".py",
   "mimetype": "text/x-python",
   "name": "python",
   "nbconvert_exporter": "python",
   "pygments_lexer": "ipython3",
   "version": "3.8.12"
  },
  "toc": {
   "base_numbering": 1,
   "nav_menu": {},
   "number_sections": true,
   "sideBar": true,
   "skip_h1_title": false,
   "title_cell": "Table of Contents",
   "title_sidebar": "Contents",
   "toc_cell": false,
   "toc_position": {},
   "toc_section_display": true,
   "toc_window_display": false
  },
  "varInspector": {
   "cols": {
    "lenName": 16,
    "lenType": 16,
    "lenVar": 40
   },
   "kernels_config": {
    "python": {
     "delete_cmd_postfix": "",
     "delete_cmd_prefix": "del ",
     "library": "var_list.py",
     "varRefreshCmd": "print(var_dic_list())"
    },
    "r": {
     "delete_cmd_postfix": ") ",
     "delete_cmd_prefix": "rm(",
     "library": "var_list.r",
     "varRefreshCmd": "cat(var_dic_list()) "
    }
   },
   "types_to_exclude": [
    "module",
    "function",
    "builtin_function_or_method",
    "instance",
    "_Feature"
   ],
   "window_display": false
  }
 },
 "nbformat": 4,
 "nbformat_minor": 4
}

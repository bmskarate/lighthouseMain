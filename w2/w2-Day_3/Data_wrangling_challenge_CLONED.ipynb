{
 "cells": [
  {
   "cell_type": "markdown",
   "metadata": {},
   "source": [
    "# Data Wrangling Challenge\n",
    "### Pull and manipulate the API data\n",
    "\n",
    "The point of this exercise is to try data enrichment with data from external APIs. We are going to take data about car crashes in Monroe County, Indiana from 2003 to 2015 and try to figure out the weather during the accident and how many bars there are in the area. We will work with two different APIs during this challenge:\n",
    "\n",
    "- Foursquare API\n",
    "- Visual Crossing API\n",
    "\n",
    "We will try to find correlations between the severity of crash and weather/number of bars in the area. To indicate the severity of a crash, we will use column `Injury Type`."
   ]
  },
  {
   "cell_type": "markdown",
   "metadata": {},
   "source": [
    "## Data\n",
    "\n",
    "The data for this exercise can be found [here](https://drive.google.com/file/d/1_KF9oIJV8cB8i3ngA4JPOLWIE_ETE6CJ/view?usp=sharing).\n",
    "\n",
    "Just run the cells below to get your data ready. Little help from us.\n"
   ]
  },
  {
   "cell_type": "code",
   "execution_count": 14,
   "metadata": {},
   "outputs": [],
   "source": [
    "import pandas as pd\n",
    "from pandas import json_normalize\n",
    "import json\n",
    "import os\n",
    "import config"
   ]
  },
  {
   "cell_type": "code",
   "execution_count": null,
   "metadata": {},
   "outputs": [],
   "source": [
    "data = pd.read_csv(\"monroe-county-crash-data2003-to-2015.csv\", encoding=\"unicode_escape\")\n",
    "# ========================\n",
    "# preparing data\n",
    "data.dropna(subset=['Latitude', 'Longitude'], inplace=True)\n",
    "# creation of variable with lon and lat together\n",
    "data['ll'] = data['Latitude'].astype(str) + ',' + data['Longitude'].astype(str)\n",
    "data = data[data['ll'] != '0.0,0.0']\n",
    "print(data.shape)\n",
    "data.head()"
   ]
  },
  {
   "cell_type": "code",
   "execution_count": null,
   "metadata": {},
   "outputs": [],
   "source": [
    "data.keys() # Now we need WEATHER and BARS IN AREA for that date"
   ]
  },
  {
   "cell_type": "code",
   "execution_count": null,
   "metadata": {},
   "outputs": [],
   "source": [
    "# params = dict(client_id = foursquare_id\n",
    "#               client_secret=foursquare_secret\n",
    "#               v=\"20180323\"\n",
    "#               ll = ll\n",
    "#               query=\"bar\"\n",
    "#               limit=50, radius=5000)\n",
    "\n",
    "# return requests.get"
   ]
  },
  {
   "cell_type": "markdown",
   "metadata": {},
   "source": [
    "# Foursquare API\n",
    "\n",
    "Foursquare API documentation is [here](https://developer.foursquare.com/)\n",
    "\n",
    "1. Start a foursquare application and get your keys.\n",
    "2. For each crash, create the function **get_venues** that will pull bars in the radius of 5km around the crash\n",
    "\n",
    "#### example\n",
    "`get_venues('48.146394, 17.107969')`\n",
    "\n",
    "3. Find a relationship (if there is any) between number of bars in the area and severity of the crash.\n",
    "\n",
    "HINTs: \n",
    "- check out python package \"foursquare\" (no need to send HTTP requests directly with library `requests`)\n",
    "- **categoryId** for bars and nightlife needs to be found in the [foursquare API documentation](https://developer.foursquare.com/docs/api-reference/venues/search/)"
   ]
  },
  {
   "cell_type": "code",
   "execution_count": 2,
   "metadata": {},
   "outputs": [],
   "source": [
    "#set the keys\n",
    "foursquare_id = config.FOURSQUARE_CLIENT_ID\n",
    "foursquare_secret = config.FOURSQUARE_CLIENT_SECRET"
   ]
  },
  {
   "cell_type": "code",
   "execution_count": 3,
   "metadata": {},
   "outputs": [],
   "source": [
    "lat_long = \"39.16144,-86.534848\""
   ]
  },
  {
   "cell_type": "code",
   "execution_count": 4,
   "metadata": {},
   "outputs": [],
   "source": [
    "url_venues = \"https://api.foursquare.com/v2/venues/search?near=39.122352,-86.5712&client_id=\"+foursquare_id+\"&client_secret=\"+foursquare_secret+\"&v=20200731\""
   ]
  },
  {
   "cell_type": "code",
   "execution_count": 5,
   "metadata": {},
   "outputs": [
    {
     "data": {
      "text/plain": [
       "<Response [200]>"
      ]
     },
     "execution_count": 5,
     "metadata": {},
     "output_type": "execute_result"
    }
   ],
   "source": [
    "import requests as re\n",
    "res = re.get(url_venues)\n",
    "res"
   ]
  },
  {
   "cell_type": "code",
   "execution_count": 6,
   "metadata": {},
   "outputs": [
    {
     "data": {
      "text/plain": [
       "dict"
      ]
     },
     "execution_count": 6,
     "metadata": {},
     "output_type": "execute_result"
    }
   ],
   "source": [
    "venues_json = res.json()\n",
    "type(venues_json) # VENUES DONE"
   ]
  },
  {
   "cell_type": "code",
   "execution_count": 7,
   "metadata": {},
   "outputs": [
    {
     "data": {
      "text/plain": [
       "dict_keys(['meta', 'response'])"
      ]
     },
     "execution_count": 7,
     "metadata": {},
     "output_type": "execute_result"
    }
   ],
   "source": [
    "venues_json.keys()"
   ]
  },
  {
   "cell_type": "code",
   "execution_count": 15,
   "metadata": {},
   "outputs": [],
   "source": [
    "with open('venues_json.txt', 'w') as file:\n",
    "     file.write(json.dumps(venues_json))"
   ]
  },
  {
   "cell_type": "code",
   "execution_count": null,
   "metadata": {},
   "outputs": [],
   "source": []
  },
  {
   "cell_type": "code",
   "execution_count": null,
   "metadata": {},
   "outputs": [],
   "source": [
    "# venues.to_csv(\"venues_normalized.csv\")"
   ]
  },
  {
   "cell_type": "code",
   "execution_count": null,
   "metadata": {},
   "outputs": [],
   "source": [
    "# venues_json.to_csv(\"venues_json.csv\")"
   ]
  },
  {
   "cell_type": "code",
   "execution_count": null,
   "metadata": {},
   "outputs": [],
   "source": [
    "# need to use ll, this median ll doesn't work. Need to correlate"
   ]
  },
  {
   "cell_type": "code",
   "execution_count": null,
   "metadata": {},
   "outputs": [],
   "source": [
    "# questions for mentor\n",
    "# conclude this portion and make a function that is reusable for tomorrow's project\n",
    "# understand how to limit searches to not exceed foursquare limits\n",
    "\n",
    "# understand general API workflow from scratch"
   ]
  },
  {
   "cell_type": "markdown",
   "metadata": {},
   "source": [
    "# Visual Crossing API\n",
    "\n",
    "Virtual Crossing API documentation is [here](https://www.visualcrossing.com/resources/documentation/)\n",
    "\n",
    "1. Sign up for FREE api key if you haven't done that before.\n",
    "2. For each crush, get the weather for the location and date.\n",
    "3. Find a relationship between the weather and severity of the crash.\n",
    "\n",
    "Hints:\n",
    "\n",
    "* randomly sample only 250 or so (due to API limits), or pull weather only for smaller sample of crashes\n",
    "* for sending HTTP requests check out \"requests\" library [here](http://docs.python-requests.org/en/master/)\n"
   ]
  },
  {
   "cell_type": "code",
   "execution_count": null,
   "metadata": {},
   "outputs": [],
   "source": [
    "# import requests\n",
    "# import time\n",
    "# api_key = os.environ[]"
   ]
  },
  {
   "cell_type": "code",
   "execution_count": null,
   "metadata": {},
   "outputs": [],
   "source": []
  },
  {
   "cell_type": "code",
   "execution_count": null,
   "metadata": {},
   "outputs": [],
   "source": []
  }
 ],
 "metadata": {
  "kernelspec": {
   "display_name": "Python 3 (ipykernel)",
   "language": "python",
   "name": "python3"
  },
  "language_info": {
   "codemirror_mode": {
    "name": "ipython",
    "version": 3
   },
   "file_extension": ".py",
   "mimetype": "text/x-python",
   "name": "python",
   "nbconvert_exporter": "python",
   "pygments_lexer": "ipython3",
   "version": "3.8.12"
  }
 },
 "nbformat": 4,
 "nbformat_minor": 4
}
